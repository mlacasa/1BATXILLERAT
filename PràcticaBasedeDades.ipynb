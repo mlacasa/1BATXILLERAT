{
  "nbformat": 4,
  "nbformat_minor": 0,
  "metadata": {
    "colab": {
      "provenance": [],
      "mount_file_id": "1N7pln5czcGlc9QCv5G02EJl29hUHVuo4",
      "authorship_tag": "ABX9TyOvrT1m0sogDOPDGEV2imAJ",
      "include_colab_link": true
    },
    "kernelspec": {
      "name": "python3",
      "display_name": "Python 3"
    },
    "language_info": {
      "name": "python"
    }
  },
  "cells": [
    {
      "cell_type": "markdown",
      "metadata": {
        "id": "view-in-github",
        "colab_type": "text"
      },
      "source": [
        "<a href=\"https://colab.research.google.com/github/mlacasa/1BATXILLERAT/blob/main/Pr%C3%A0cticaBasedeDades.ipynb\" target=\"_parent\"><img src=\"https://colab.research.google.com/assets/colab-badge.svg\" alt=\"Open In Colab\"/></a>"
      ]
    },
    {
      "cell_type": "markdown",
      "source": [
        "# PRÀCTICA ASSIGNATURA MATEMÀTIQUES APLICADA 1 BAT\n",
        "## Marcos Lacasa\n",
        "\n",
        "1- Carreguem l'arxiu \"Distrubución Salarios\" de open-acces de l'agència tributària.\n",
        "\n"
      ],
      "metadata": {
        "id": "GPvuJUwifMqh"
      }
    },
    {
      "cell_type": "code",
      "execution_count": 1,
      "metadata": {
        "id": "uXVnh-r2fMLC"
      },
      "outputs": [],
      "source": [
        "# Importem llibreria pandas\n",
        "import pandas as pd"
      ]
    },
    {
      "cell_type": "code",
      "source": [
        "# definim el path des del nostre drive i carreguem el format csv.\n",
        "path = '/content/drive/MyDrive/Colab Notebooks/BAT/data2.csv'\n",
        "data = pd.read_csv(path)"
      ],
      "metadata": {
        "id": "dVSRt4RnfbX9"
      },
      "execution_count": 2,
      "outputs": []
    },
    {
      "cell_type": "code",
      "source": [
        "data.head()"
      ],
      "metadata": {
        "colab": {
          "base_uri": "https://localhost:8080/",
          "height": 255
        },
        "id": "CQlheGojfuvl",
        "outputId": "c2b37fd8-dc60-439c-fc3d-a73d0e9ad7b7"
      },
      "execution_count": 3,
      "outputs": [
        {
          "output_type": "execute_result",
          "data": {
            "text/plain": [
              "   ID         2001         2002         2003         2004         2005  \\\n",
              "0   1   29,541,615   27,645,802   29,437,929   27,855,280   31,801,465   \n",
              "1   2   72,965,628   81,467,945   87,340,372   68,217,591   71,854,670   \n",
              "2   3  118,397,894  117,964,368  113,769,342  102,460,947  109,068,935   \n",
              "3   4  149,288,420  145,505,890  153,889,058  144,327,889  154,811,651   \n",
              "4   5  187,829,221  179,214,060  177,103,986  164,526,172  179,556,090   \n",
              "\n",
              "          2006         2007         2008         2009  ... 2013.4 2014.4  \\\n",
              "0   31,584,347   25,499,488   27,306,225   28,879,391  ...     93     94   \n",
              "1   72,813,778   59,420,277   62,227,592   67,221,958  ...    296    295   \n",
              "2  108,110,010   88,723,845   89,901,678   99,150,785  ...    498    497   \n",
              "3  154,349,596  130,103,812  129,261,037  140,721,048  ...    702    701   \n",
              "4  174,609,190  143,789,890  140,636,251  159,501,515  ...    896    898   \n",
              "\n",
              "  2015.4 2016.4 2017.4 2018.4 2019.4 2020.4 2021.4 2022.4  \n",
              "0     95     96     97     98     98    100     99     98  \n",
              "1    296    296    296    296    295    296    297    292  \n",
              "2    498    500    498    499    498    499    498    497  \n",
              "3    700    699    697    697    700    700    699    699  \n",
              "4    897    895    897    896    898    900    899    899  \n",
              "\n",
              "[5 rows x 111 columns]"
            ],
            "text/html": [
              "\n",
              "  <div id=\"df-a727ccf2-5767-462c-8839-002019a0f251\" class=\"colab-df-container\">\n",
              "    <div>\n",
              "<style scoped>\n",
              "    .dataframe tbody tr th:only-of-type {\n",
              "        vertical-align: middle;\n",
              "    }\n",
              "\n",
              "    .dataframe tbody tr th {\n",
              "        vertical-align: top;\n",
              "    }\n",
              "\n",
              "    .dataframe thead th {\n",
              "        text-align: right;\n",
              "    }\n",
              "</style>\n",
              "<table border=\"1\" class=\"dataframe\">\n",
              "  <thead>\n",
              "    <tr style=\"text-align: right;\">\n",
              "      <th></th>\n",
              "      <th>ID</th>\n",
              "      <th>2001</th>\n",
              "      <th>2002</th>\n",
              "      <th>2003</th>\n",
              "      <th>2004</th>\n",
              "      <th>2005</th>\n",
              "      <th>2006</th>\n",
              "      <th>2007</th>\n",
              "      <th>2008</th>\n",
              "      <th>2009</th>\n",
              "      <th>...</th>\n",
              "      <th>2013.4</th>\n",
              "      <th>2014.4</th>\n",
              "      <th>2015.4</th>\n",
              "      <th>2016.4</th>\n",
              "      <th>2017.4</th>\n",
              "      <th>2018.4</th>\n",
              "      <th>2019.4</th>\n",
              "      <th>2020.4</th>\n",
              "      <th>2021.4</th>\n",
              "      <th>2022.4</th>\n",
              "    </tr>\n",
              "  </thead>\n",
              "  <tbody>\n",
              "    <tr>\n",
              "      <th>0</th>\n",
              "      <td>1</td>\n",
              "      <td>29,541,615</td>\n",
              "      <td>27,645,802</td>\n",
              "      <td>29,437,929</td>\n",
              "      <td>27,855,280</td>\n",
              "      <td>31,801,465</td>\n",
              "      <td>31,584,347</td>\n",
              "      <td>25,499,488</td>\n",
              "      <td>27,306,225</td>\n",
              "      <td>28,879,391</td>\n",
              "      <td>...</td>\n",
              "      <td>93</td>\n",
              "      <td>94</td>\n",
              "      <td>95</td>\n",
              "      <td>96</td>\n",
              "      <td>97</td>\n",
              "      <td>98</td>\n",
              "      <td>98</td>\n",
              "      <td>100</td>\n",
              "      <td>99</td>\n",
              "      <td>98</td>\n",
              "    </tr>\n",
              "    <tr>\n",
              "      <th>1</th>\n",
              "      <td>2</td>\n",
              "      <td>72,965,628</td>\n",
              "      <td>81,467,945</td>\n",
              "      <td>87,340,372</td>\n",
              "      <td>68,217,591</td>\n",
              "      <td>71,854,670</td>\n",
              "      <td>72,813,778</td>\n",
              "      <td>59,420,277</td>\n",
              "      <td>62,227,592</td>\n",
              "      <td>67,221,958</td>\n",
              "      <td>...</td>\n",
              "      <td>296</td>\n",
              "      <td>295</td>\n",
              "      <td>296</td>\n",
              "      <td>296</td>\n",
              "      <td>296</td>\n",
              "      <td>296</td>\n",
              "      <td>295</td>\n",
              "      <td>296</td>\n",
              "      <td>297</td>\n",
              "      <td>292</td>\n",
              "    </tr>\n",
              "    <tr>\n",
              "      <th>2</th>\n",
              "      <td>3</td>\n",
              "      <td>118,397,894</td>\n",
              "      <td>117,964,368</td>\n",
              "      <td>113,769,342</td>\n",
              "      <td>102,460,947</td>\n",
              "      <td>109,068,935</td>\n",
              "      <td>108,110,010</td>\n",
              "      <td>88,723,845</td>\n",
              "      <td>89,901,678</td>\n",
              "      <td>99,150,785</td>\n",
              "      <td>...</td>\n",
              "      <td>498</td>\n",
              "      <td>497</td>\n",
              "      <td>498</td>\n",
              "      <td>500</td>\n",
              "      <td>498</td>\n",
              "      <td>499</td>\n",
              "      <td>498</td>\n",
              "      <td>499</td>\n",
              "      <td>498</td>\n",
              "      <td>497</td>\n",
              "    </tr>\n",
              "    <tr>\n",
              "      <th>3</th>\n",
              "      <td>4</td>\n",
              "      <td>149,288,420</td>\n",
              "      <td>145,505,890</td>\n",
              "      <td>153,889,058</td>\n",
              "      <td>144,327,889</td>\n",
              "      <td>154,811,651</td>\n",
              "      <td>154,349,596</td>\n",
              "      <td>130,103,812</td>\n",
              "      <td>129,261,037</td>\n",
              "      <td>140,721,048</td>\n",
              "      <td>...</td>\n",
              "      <td>702</td>\n",
              "      <td>701</td>\n",
              "      <td>700</td>\n",
              "      <td>699</td>\n",
              "      <td>697</td>\n",
              "      <td>697</td>\n",
              "      <td>700</td>\n",
              "      <td>700</td>\n",
              "      <td>699</td>\n",
              "      <td>699</td>\n",
              "    </tr>\n",
              "    <tr>\n",
              "      <th>4</th>\n",
              "      <td>5</td>\n",
              "      <td>187,829,221</td>\n",
              "      <td>179,214,060</td>\n",
              "      <td>177,103,986</td>\n",
              "      <td>164,526,172</td>\n",
              "      <td>179,556,090</td>\n",
              "      <td>174,609,190</td>\n",
              "      <td>143,789,890</td>\n",
              "      <td>140,636,251</td>\n",
              "      <td>159,501,515</td>\n",
              "      <td>...</td>\n",
              "      <td>896</td>\n",
              "      <td>898</td>\n",
              "      <td>897</td>\n",
              "      <td>895</td>\n",
              "      <td>897</td>\n",
              "      <td>896</td>\n",
              "      <td>898</td>\n",
              "      <td>900</td>\n",
              "      <td>899</td>\n",
              "      <td>899</td>\n",
              "    </tr>\n",
              "  </tbody>\n",
              "</table>\n",
              "<p>5 rows × 111 columns</p>\n",
              "</div>\n",
              "    <div class=\"colab-df-buttons\">\n",
              "\n",
              "  <div class=\"colab-df-container\">\n",
              "    <button class=\"colab-df-convert\" onclick=\"convertToInteractive('df-a727ccf2-5767-462c-8839-002019a0f251')\"\n",
              "            title=\"Convert this dataframe to an interactive table.\"\n",
              "            style=\"display:none;\">\n",
              "\n",
              "  <svg xmlns=\"http://www.w3.org/2000/svg\" height=\"24px\" viewBox=\"0 -960 960 960\">\n",
              "    <path d=\"M120-120v-720h720v720H120Zm60-500h600v-160H180v160Zm220 220h160v-160H400v160Zm0 220h160v-160H400v160ZM180-400h160v-160H180v160Zm440 0h160v-160H620v160ZM180-180h160v-160H180v160Zm440 0h160v-160H620v160Z\"/>\n",
              "  </svg>\n",
              "    </button>\n",
              "\n",
              "  <style>\n",
              "    .colab-df-container {\n",
              "      display:flex;\n",
              "      gap: 12px;\n",
              "    }\n",
              "\n",
              "    .colab-df-convert {\n",
              "      background-color: #E8F0FE;\n",
              "      border: none;\n",
              "      border-radius: 50%;\n",
              "      cursor: pointer;\n",
              "      display: none;\n",
              "      fill: #1967D2;\n",
              "      height: 32px;\n",
              "      padding: 0 0 0 0;\n",
              "      width: 32px;\n",
              "    }\n",
              "\n",
              "    .colab-df-convert:hover {\n",
              "      background-color: #E2EBFA;\n",
              "      box-shadow: 0px 1px 2px rgba(60, 64, 67, 0.3), 0px 1px 3px 1px rgba(60, 64, 67, 0.15);\n",
              "      fill: #174EA6;\n",
              "    }\n",
              "\n",
              "    .colab-df-buttons div {\n",
              "      margin-bottom: 4px;\n",
              "    }\n",
              "\n",
              "    [theme=dark] .colab-df-convert {\n",
              "      background-color: #3B4455;\n",
              "      fill: #D2E3FC;\n",
              "    }\n",
              "\n",
              "    [theme=dark] .colab-df-convert:hover {\n",
              "      background-color: #434B5C;\n",
              "      box-shadow: 0px 1px 3px 1px rgba(0, 0, 0, 0.15);\n",
              "      filter: drop-shadow(0px 1px 2px rgba(0, 0, 0, 0.3));\n",
              "      fill: #FFFFFF;\n",
              "    }\n",
              "  </style>\n",
              "\n",
              "    <script>\n",
              "      const buttonEl =\n",
              "        document.querySelector('#df-a727ccf2-5767-462c-8839-002019a0f251 button.colab-df-convert');\n",
              "      buttonEl.style.display =\n",
              "        google.colab.kernel.accessAllowed ? 'block' : 'none';\n",
              "\n",
              "      async function convertToInteractive(key) {\n",
              "        const element = document.querySelector('#df-a727ccf2-5767-462c-8839-002019a0f251');\n",
              "        const dataTable =\n",
              "          await google.colab.kernel.invokeFunction('convertToInteractive',\n",
              "                                                    [key], {});\n",
              "        if (!dataTable) return;\n",
              "\n",
              "        const docLinkHtml = 'Like what you see? Visit the ' +\n",
              "          '<a target=\"_blank\" href=https://colab.research.google.com/notebooks/data_table.ipynb>data table notebook</a>'\n",
              "          + ' to learn more about interactive tables.';\n",
              "        element.innerHTML = '';\n",
              "        dataTable['output_type'] = 'display_data';\n",
              "        await google.colab.output.renderOutput(dataTable, element);\n",
              "        const docLink = document.createElement('div');\n",
              "        docLink.innerHTML = docLinkHtml;\n",
              "        element.appendChild(docLink);\n",
              "      }\n",
              "    </script>\n",
              "  </div>\n",
              "\n",
              "\n",
              "<div id=\"df-ee60ecf3-e321-4198-90a9-26fee43cfcd0\">\n",
              "  <button class=\"colab-df-quickchart\" onclick=\"quickchart('df-ee60ecf3-e321-4198-90a9-26fee43cfcd0')\"\n",
              "            title=\"Suggest charts\"\n",
              "            style=\"display:none;\">\n",
              "\n",
              "<svg xmlns=\"http://www.w3.org/2000/svg\" height=\"24px\"viewBox=\"0 0 24 24\"\n",
              "     width=\"24px\">\n",
              "    <g>\n",
              "        <path d=\"M19 3H5c-1.1 0-2 .9-2 2v14c0 1.1.9 2 2 2h14c1.1 0 2-.9 2-2V5c0-1.1-.9-2-2-2zM9 17H7v-7h2v7zm4 0h-2V7h2v10zm4 0h-2v-4h2v4z\"/>\n",
              "    </g>\n",
              "</svg>\n",
              "  </button>\n",
              "\n",
              "<style>\n",
              "  .colab-df-quickchart {\n",
              "      --bg-color: #E8F0FE;\n",
              "      --fill-color: #1967D2;\n",
              "      --hover-bg-color: #E2EBFA;\n",
              "      --hover-fill-color: #174EA6;\n",
              "      --disabled-fill-color: #AAA;\n",
              "      --disabled-bg-color: #DDD;\n",
              "  }\n",
              "\n",
              "  [theme=dark] .colab-df-quickchart {\n",
              "      --bg-color: #3B4455;\n",
              "      --fill-color: #D2E3FC;\n",
              "      --hover-bg-color: #434B5C;\n",
              "      --hover-fill-color: #FFFFFF;\n",
              "      --disabled-bg-color: #3B4455;\n",
              "      --disabled-fill-color: #666;\n",
              "  }\n",
              "\n",
              "  .colab-df-quickchart {\n",
              "    background-color: var(--bg-color);\n",
              "    border: none;\n",
              "    border-radius: 50%;\n",
              "    cursor: pointer;\n",
              "    display: none;\n",
              "    fill: var(--fill-color);\n",
              "    height: 32px;\n",
              "    padding: 0;\n",
              "    width: 32px;\n",
              "  }\n",
              "\n",
              "  .colab-df-quickchart:hover {\n",
              "    background-color: var(--hover-bg-color);\n",
              "    box-shadow: 0 1px 2px rgba(60, 64, 67, 0.3), 0 1px 3px 1px rgba(60, 64, 67, 0.15);\n",
              "    fill: var(--button-hover-fill-color);\n",
              "  }\n",
              "\n",
              "  .colab-df-quickchart-complete:disabled,\n",
              "  .colab-df-quickchart-complete:disabled:hover {\n",
              "    background-color: var(--disabled-bg-color);\n",
              "    fill: var(--disabled-fill-color);\n",
              "    box-shadow: none;\n",
              "  }\n",
              "\n",
              "  .colab-df-spinner {\n",
              "    border: 2px solid var(--fill-color);\n",
              "    border-color: transparent;\n",
              "    border-bottom-color: var(--fill-color);\n",
              "    animation:\n",
              "      spin 1s steps(1) infinite;\n",
              "  }\n",
              "\n",
              "  @keyframes spin {\n",
              "    0% {\n",
              "      border-color: transparent;\n",
              "      border-bottom-color: var(--fill-color);\n",
              "      border-left-color: var(--fill-color);\n",
              "    }\n",
              "    20% {\n",
              "      border-color: transparent;\n",
              "      border-left-color: var(--fill-color);\n",
              "      border-top-color: var(--fill-color);\n",
              "    }\n",
              "    30% {\n",
              "      border-color: transparent;\n",
              "      border-left-color: var(--fill-color);\n",
              "      border-top-color: var(--fill-color);\n",
              "      border-right-color: var(--fill-color);\n",
              "    }\n",
              "    40% {\n",
              "      border-color: transparent;\n",
              "      border-right-color: var(--fill-color);\n",
              "      border-top-color: var(--fill-color);\n",
              "    }\n",
              "    60% {\n",
              "      border-color: transparent;\n",
              "      border-right-color: var(--fill-color);\n",
              "    }\n",
              "    80% {\n",
              "      border-color: transparent;\n",
              "      border-right-color: var(--fill-color);\n",
              "      border-bottom-color: var(--fill-color);\n",
              "    }\n",
              "    90% {\n",
              "      border-color: transparent;\n",
              "      border-bottom-color: var(--fill-color);\n",
              "    }\n",
              "  }\n",
              "</style>\n",
              "\n",
              "  <script>\n",
              "    async function quickchart(key) {\n",
              "      const quickchartButtonEl =\n",
              "        document.querySelector('#' + key + ' button');\n",
              "      quickchartButtonEl.disabled = true;  // To prevent multiple clicks.\n",
              "      quickchartButtonEl.classList.add('colab-df-spinner');\n",
              "      try {\n",
              "        const charts = await google.colab.kernel.invokeFunction(\n",
              "            'suggestCharts', [key], {});\n",
              "      } catch (error) {\n",
              "        console.error('Error during call to suggestCharts:', error);\n",
              "      }\n",
              "      quickchartButtonEl.classList.remove('colab-df-spinner');\n",
              "      quickchartButtonEl.classList.add('colab-df-quickchart-complete');\n",
              "    }\n",
              "    (() => {\n",
              "      let quickchartButtonEl =\n",
              "        document.querySelector('#df-ee60ecf3-e321-4198-90a9-26fee43cfcd0 button');\n",
              "      quickchartButtonEl.style.display =\n",
              "        google.colab.kernel.accessAllowed ? 'block' : 'none';\n",
              "    })();\n",
              "  </script>\n",
              "</div>\n",
              "    </div>\n",
              "  </div>\n"
            ]
          },
          "metadata": {},
          "execution_count": 3
        }
      ]
    },
    {
      "cell_type": "code",
      "source": [
        "data.shape"
      ],
      "metadata": {
        "colab": {
          "base_uri": "https://localhost:8080/"
        },
        "id": "0mFaneV4iffk",
        "outputId": "75320240-1efb-4930-dc8d-7f47d0f284ec"
      },
      "execution_count": 4,
      "outputs": [
        {
          "output_type": "execute_result",
          "data": {
            "text/plain": [
              "(400, 111)"
            ]
          },
          "metadata": {},
          "execution_count": 4
        }
      ]
    },
    {
      "cell_type": "markdown",
      "source": [
        "### OBSERVACIONS\n",
        "\n",
        "1- Comprobem que les dades son 'objectes' i els nombres tenen 2 commes.\n",
        "2- Hem de suprimir les commes de totes les columnes.\n",
        "\n",
        "Hi ha 400 files (una per cada tram) i 111 columnes (que son 5 categoríes per cada 22 anys analitzats."
      ],
      "metadata": {
        "id": "EYQ6aq78Y7C5"
      }
    },
    {
      "cell_type": "code",
      "source": [
        "# Convertim totes les columnes en \"string\" per poder utilitzar el mètode \"replace\"\n",
        "data = data.astype(str)"
      ],
      "metadata": {
        "id": "Rgm6xPFjgvh4"
      },
      "execution_count": 5,
      "outputs": []
    },
    {
      "cell_type": "code",
      "source": [
        "# Treiem les commes però ho fem amb un loop utilitzant 'iloc' de pandas\n",
        "for i in range(1,111):\n",
        "  data.iloc[:,i]=data.iloc[:,i].str.replace(',','')"
      ],
      "metadata": {
        "id": "aEjs_U4FhyrE"
      },
      "execution_count": 6,
      "outputs": []
    },
    {
      "cell_type": "markdown",
      "source": [
        "### documentació iloc de pandas\n",
        "\n",
        "https://pandas.pydata.org/docs/reference/api/pandas.DataFrame.iloc.html\n",
        "\n",
        "Visualitzar!!"
      ],
      "metadata": {
        "id": "bdYuGnkqZkQi"
      }
    },
    {
      "cell_type": "code",
      "source": [
        "# Seleccionem només les 3 primeres categoríes\n",
        "# Les altres dues, son vectors LD, 22x3+1 = 67 colummes\n",
        "data1 = data.iloc[:,0:67]"
      ],
      "metadata": {
        "id": "PmgjKyXilUMI"
      },
      "execution_count": 7,
      "outputs": []
    },
    {
      "cell_type": "code",
      "source": [
        "# Convertim totes les columnes com nombres naturals (enters)\n",
        "data1 = data1.astype(int)"
      ],
      "metadata": {
        "id": "3twcmecwkOoH"
      },
      "execution_count": 8,
      "outputs": []
    },
    {
      "cell_type": "code",
      "source": [
        "# comprobem i visualitzem les 5 primers registres\n",
        "data1.head()"
      ],
      "metadata": {
        "colab": {
          "base_uri": "https://localhost:8080/",
          "height": 255
        },
        "id": "Zj837w4HjzEb",
        "outputId": "c0bb9c8d-938e-4fd3-f917-420419cbe2df"
      },
      "execution_count": 9,
      "outputs": [
        {
          "output_type": "execute_result",
          "data": {
            "text/plain": [
              "   ID       2001       2002       2003       2004       2005       2006  \\\n",
              "0   1   29541615   27645802   29437929   27855280   31801465   31584347   \n",
              "1   2   72965628   81467945   87340372   68217591   71854670   72813778   \n",
              "2   3  118397894  117964368  113769342  102460947  109068935  108110010   \n",
              "3   4  149288420  145505890  153889058  144327889  154811651  154349596   \n",
              "4   5  187829221  179214060  177103986  164526172  179556090  174609190   \n",
              "\n",
              "        2007       2008       2009  ...  2013.2  2014.2  2015.2  2016.2  \\\n",
              "0   25499488   27306225   28879391  ...  384262  369837  360424  359341   \n",
              "1   59420277   62227592   67221958  ...  267525  263879  269745  270013   \n",
              "2   88723845   89901678   99150785  ...  227742  230155  235644  242355   \n",
              "3  130103812  129261037  140721048  ...  219984  217609  228211  242164   \n",
              "4  143789890  140636251  159501515  ...  204015  202091  214043  214446   \n",
              "\n",
              "   2017.2  2018.2  2019.2  2020.2  2021.2  2022.2  \n",
              "0  336325  328778  310946  270572  276001  244376  \n",
              "1  248893  233521  210956  194006  200752  186871  \n",
              "2  226109  210252  180277  170422  164307  155482  \n",
              "3  208225  192375  172495  164014  157221  149360  \n",
              "4  191359  186405  164155  164394  146657  139655  \n",
              "\n",
              "[5 rows x 67 columns]"
            ],
            "text/html": [
              "\n",
              "  <div id=\"df-119b3aea-b657-4894-a5dc-99dde236854b\" class=\"colab-df-container\">\n",
              "    <div>\n",
              "<style scoped>\n",
              "    .dataframe tbody tr th:only-of-type {\n",
              "        vertical-align: middle;\n",
              "    }\n",
              "\n",
              "    .dataframe tbody tr th {\n",
              "        vertical-align: top;\n",
              "    }\n",
              "\n",
              "    .dataframe thead th {\n",
              "        text-align: right;\n",
              "    }\n",
              "</style>\n",
              "<table border=\"1\" class=\"dataframe\">\n",
              "  <thead>\n",
              "    <tr style=\"text-align: right;\">\n",
              "      <th></th>\n",
              "      <th>ID</th>\n",
              "      <th>2001</th>\n",
              "      <th>2002</th>\n",
              "      <th>2003</th>\n",
              "      <th>2004</th>\n",
              "      <th>2005</th>\n",
              "      <th>2006</th>\n",
              "      <th>2007</th>\n",
              "      <th>2008</th>\n",
              "      <th>2009</th>\n",
              "      <th>...</th>\n",
              "      <th>2013.2</th>\n",
              "      <th>2014.2</th>\n",
              "      <th>2015.2</th>\n",
              "      <th>2016.2</th>\n",
              "      <th>2017.2</th>\n",
              "      <th>2018.2</th>\n",
              "      <th>2019.2</th>\n",
              "      <th>2020.2</th>\n",
              "      <th>2021.2</th>\n",
              "      <th>2022.2</th>\n",
              "    </tr>\n",
              "  </thead>\n",
              "  <tbody>\n",
              "    <tr>\n",
              "      <th>0</th>\n",
              "      <td>1</td>\n",
              "      <td>29541615</td>\n",
              "      <td>27645802</td>\n",
              "      <td>29437929</td>\n",
              "      <td>27855280</td>\n",
              "      <td>31801465</td>\n",
              "      <td>31584347</td>\n",
              "      <td>25499488</td>\n",
              "      <td>27306225</td>\n",
              "      <td>28879391</td>\n",
              "      <td>...</td>\n",
              "      <td>384262</td>\n",
              "      <td>369837</td>\n",
              "      <td>360424</td>\n",
              "      <td>359341</td>\n",
              "      <td>336325</td>\n",
              "      <td>328778</td>\n",
              "      <td>310946</td>\n",
              "      <td>270572</td>\n",
              "      <td>276001</td>\n",
              "      <td>244376</td>\n",
              "    </tr>\n",
              "    <tr>\n",
              "      <th>1</th>\n",
              "      <td>2</td>\n",
              "      <td>72965628</td>\n",
              "      <td>81467945</td>\n",
              "      <td>87340372</td>\n",
              "      <td>68217591</td>\n",
              "      <td>71854670</td>\n",
              "      <td>72813778</td>\n",
              "      <td>59420277</td>\n",
              "      <td>62227592</td>\n",
              "      <td>67221958</td>\n",
              "      <td>...</td>\n",
              "      <td>267525</td>\n",
              "      <td>263879</td>\n",
              "      <td>269745</td>\n",
              "      <td>270013</td>\n",
              "      <td>248893</td>\n",
              "      <td>233521</td>\n",
              "      <td>210956</td>\n",
              "      <td>194006</td>\n",
              "      <td>200752</td>\n",
              "      <td>186871</td>\n",
              "    </tr>\n",
              "    <tr>\n",
              "      <th>2</th>\n",
              "      <td>3</td>\n",
              "      <td>118397894</td>\n",
              "      <td>117964368</td>\n",
              "      <td>113769342</td>\n",
              "      <td>102460947</td>\n",
              "      <td>109068935</td>\n",
              "      <td>108110010</td>\n",
              "      <td>88723845</td>\n",
              "      <td>89901678</td>\n",
              "      <td>99150785</td>\n",
              "      <td>...</td>\n",
              "      <td>227742</td>\n",
              "      <td>230155</td>\n",
              "      <td>235644</td>\n",
              "      <td>242355</td>\n",
              "      <td>226109</td>\n",
              "      <td>210252</td>\n",
              "      <td>180277</td>\n",
              "      <td>170422</td>\n",
              "      <td>164307</td>\n",
              "      <td>155482</td>\n",
              "    </tr>\n",
              "    <tr>\n",
              "      <th>3</th>\n",
              "      <td>4</td>\n",
              "      <td>149288420</td>\n",
              "      <td>145505890</td>\n",
              "      <td>153889058</td>\n",
              "      <td>144327889</td>\n",
              "      <td>154811651</td>\n",
              "      <td>154349596</td>\n",
              "      <td>130103812</td>\n",
              "      <td>129261037</td>\n",
              "      <td>140721048</td>\n",
              "      <td>...</td>\n",
              "      <td>219984</td>\n",
              "      <td>217609</td>\n",
              "      <td>228211</td>\n",
              "      <td>242164</td>\n",
              "      <td>208225</td>\n",
              "      <td>192375</td>\n",
              "      <td>172495</td>\n",
              "      <td>164014</td>\n",
              "      <td>157221</td>\n",
              "      <td>149360</td>\n",
              "    </tr>\n",
              "    <tr>\n",
              "      <th>4</th>\n",
              "      <td>5</td>\n",
              "      <td>187829221</td>\n",
              "      <td>179214060</td>\n",
              "      <td>177103986</td>\n",
              "      <td>164526172</td>\n",
              "      <td>179556090</td>\n",
              "      <td>174609190</td>\n",
              "      <td>143789890</td>\n",
              "      <td>140636251</td>\n",
              "      <td>159501515</td>\n",
              "      <td>...</td>\n",
              "      <td>204015</td>\n",
              "      <td>202091</td>\n",
              "      <td>214043</td>\n",
              "      <td>214446</td>\n",
              "      <td>191359</td>\n",
              "      <td>186405</td>\n",
              "      <td>164155</td>\n",
              "      <td>164394</td>\n",
              "      <td>146657</td>\n",
              "      <td>139655</td>\n",
              "    </tr>\n",
              "  </tbody>\n",
              "</table>\n",
              "<p>5 rows × 67 columns</p>\n",
              "</div>\n",
              "    <div class=\"colab-df-buttons\">\n",
              "\n",
              "  <div class=\"colab-df-container\">\n",
              "    <button class=\"colab-df-convert\" onclick=\"convertToInteractive('df-119b3aea-b657-4894-a5dc-99dde236854b')\"\n",
              "            title=\"Convert this dataframe to an interactive table.\"\n",
              "            style=\"display:none;\">\n",
              "\n",
              "  <svg xmlns=\"http://www.w3.org/2000/svg\" height=\"24px\" viewBox=\"0 -960 960 960\">\n",
              "    <path d=\"M120-120v-720h720v720H120Zm60-500h600v-160H180v160Zm220 220h160v-160H400v160Zm0 220h160v-160H400v160ZM180-400h160v-160H180v160Zm440 0h160v-160H620v160ZM180-180h160v-160H180v160Zm440 0h160v-160H620v160Z\"/>\n",
              "  </svg>\n",
              "    </button>\n",
              "\n",
              "  <style>\n",
              "    .colab-df-container {\n",
              "      display:flex;\n",
              "      gap: 12px;\n",
              "    }\n",
              "\n",
              "    .colab-df-convert {\n",
              "      background-color: #E8F0FE;\n",
              "      border: none;\n",
              "      border-radius: 50%;\n",
              "      cursor: pointer;\n",
              "      display: none;\n",
              "      fill: #1967D2;\n",
              "      height: 32px;\n",
              "      padding: 0 0 0 0;\n",
              "      width: 32px;\n",
              "    }\n",
              "\n",
              "    .colab-df-convert:hover {\n",
              "      background-color: #E2EBFA;\n",
              "      box-shadow: 0px 1px 2px rgba(60, 64, 67, 0.3), 0px 1px 3px 1px rgba(60, 64, 67, 0.15);\n",
              "      fill: #174EA6;\n",
              "    }\n",
              "\n",
              "    .colab-df-buttons div {\n",
              "      margin-bottom: 4px;\n",
              "    }\n",
              "\n",
              "    [theme=dark] .colab-df-convert {\n",
              "      background-color: #3B4455;\n",
              "      fill: #D2E3FC;\n",
              "    }\n",
              "\n",
              "    [theme=dark] .colab-df-convert:hover {\n",
              "      background-color: #434B5C;\n",
              "      box-shadow: 0px 1px 3px 1px rgba(0, 0, 0, 0.15);\n",
              "      filter: drop-shadow(0px 1px 2px rgba(0, 0, 0, 0.3));\n",
              "      fill: #FFFFFF;\n",
              "    }\n",
              "  </style>\n",
              "\n",
              "    <script>\n",
              "      const buttonEl =\n",
              "        document.querySelector('#df-119b3aea-b657-4894-a5dc-99dde236854b button.colab-df-convert');\n",
              "      buttonEl.style.display =\n",
              "        google.colab.kernel.accessAllowed ? 'block' : 'none';\n",
              "\n",
              "      async function convertToInteractive(key) {\n",
              "        const element = document.querySelector('#df-119b3aea-b657-4894-a5dc-99dde236854b');\n",
              "        const dataTable =\n",
              "          await google.colab.kernel.invokeFunction('convertToInteractive',\n",
              "                                                    [key], {});\n",
              "        if (!dataTable) return;\n",
              "\n",
              "        const docLinkHtml = 'Like what you see? Visit the ' +\n",
              "          '<a target=\"_blank\" href=https://colab.research.google.com/notebooks/data_table.ipynb>data table notebook</a>'\n",
              "          + ' to learn more about interactive tables.';\n",
              "        element.innerHTML = '';\n",
              "        dataTable['output_type'] = 'display_data';\n",
              "        await google.colab.output.renderOutput(dataTable, element);\n",
              "        const docLink = document.createElement('div');\n",
              "        docLink.innerHTML = docLinkHtml;\n",
              "        element.appendChild(docLink);\n",
              "      }\n",
              "    </script>\n",
              "  </div>\n",
              "\n",
              "\n",
              "<div id=\"df-4a0d9ead-6087-4847-aca5-3111548cb757\">\n",
              "  <button class=\"colab-df-quickchart\" onclick=\"quickchart('df-4a0d9ead-6087-4847-aca5-3111548cb757')\"\n",
              "            title=\"Suggest charts\"\n",
              "            style=\"display:none;\">\n",
              "\n",
              "<svg xmlns=\"http://www.w3.org/2000/svg\" height=\"24px\"viewBox=\"0 0 24 24\"\n",
              "     width=\"24px\">\n",
              "    <g>\n",
              "        <path d=\"M19 3H5c-1.1 0-2 .9-2 2v14c0 1.1.9 2 2 2h14c1.1 0 2-.9 2-2V5c0-1.1-.9-2-2-2zM9 17H7v-7h2v7zm4 0h-2V7h2v10zm4 0h-2v-4h2v4z\"/>\n",
              "    </g>\n",
              "</svg>\n",
              "  </button>\n",
              "\n",
              "<style>\n",
              "  .colab-df-quickchart {\n",
              "      --bg-color: #E8F0FE;\n",
              "      --fill-color: #1967D2;\n",
              "      --hover-bg-color: #E2EBFA;\n",
              "      --hover-fill-color: #174EA6;\n",
              "      --disabled-fill-color: #AAA;\n",
              "      --disabled-bg-color: #DDD;\n",
              "  }\n",
              "\n",
              "  [theme=dark] .colab-df-quickchart {\n",
              "      --bg-color: #3B4455;\n",
              "      --fill-color: #D2E3FC;\n",
              "      --hover-bg-color: #434B5C;\n",
              "      --hover-fill-color: #FFFFFF;\n",
              "      --disabled-bg-color: #3B4455;\n",
              "      --disabled-fill-color: #666;\n",
              "  }\n",
              "\n",
              "  .colab-df-quickchart {\n",
              "    background-color: var(--bg-color);\n",
              "    border: none;\n",
              "    border-radius: 50%;\n",
              "    cursor: pointer;\n",
              "    display: none;\n",
              "    fill: var(--fill-color);\n",
              "    height: 32px;\n",
              "    padding: 0;\n",
              "    width: 32px;\n",
              "  }\n",
              "\n",
              "  .colab-df-quickchart:hover {\n",
              "    background-color: var(--hover-bg-color);\n",
              "    box-shadow: 0 1px 2px rgba(60, 64, 67, 0.3), 0 1px 3px 1px rgba(60, 64, 67, 0.15);\n",
              "    fill: var(--button-hover-fill-color);\n",
              "  }\n",
              "\n",
              "  .colab-df-quickchart-complete:disabled,\n",
              "  .colab-df-quickchart-complete:disabled:hover {\n",
              "    background-color: var(--disabled-bg-color);\n",
              "    fill: var(--disabled-fill-color);\n",
              "    box-shadow: none;\n",
              "  }\n",
              "\n",
              "  .colab-df-spinner {\n",
              "    border: 2px solid var(--fill-color);\n",
              "    border-color: transparent;\n",
              "    border-bottom-color: var(--fill-color);\n",
              "    animation:\n",
              "      spin 1s steps(1) infinite;\n",
              "  }\n",
              "\n",
              "  @keyframes spin {\n",
              "    0% {\n",
              "      border-color: transparent;\n",
              "      border-bottom-color: var(--fill-color);\n",
              "      border-left-color: var(--fill-color);\n",
              "    }\n",
              "    20% {\n",
              "      border-color: transparent;\n",
              "      border-left-color: var(--fill-color);\n",
              "      border-top-color: var(--fill-color);\n",
              "    }\n",
              "    30% {\n",
              "      border-color: transparent;\n",
              "      border-left-color: var(--fill-color);\n",
              "      border-top-color: var(--fill-color);\n",
              "      border-right-color: var(--fill-color);\n",
              "    }\n",
              "    40% {\n",
              "      border-color: transparent;\n",
              "      border-right-color: var(--fill-color);\n",
              "      border-top-color: var(--fill-color);\n",
              "    }\n",
              "    60% {\n",
              "      border-color: transparent;\n",
              "      border-right-color: var(--fill-color);\n",
              "    }\n",
              "    80% {\n",
              "      border-color: transparent;\n",
              "      border-right-color: var(--fill-color);\n",
              "      border-bottom-color: var(--fill-color);\n",
              "    }\n",
              "    90% {\n",
              "      border-color: transparent;\n",
              "      border-bottom-color: var(--fill-color);\n",
              "    }\n",
              "  }\n",
              "</style>\n",
              "\n",
              "  <script>\n",
              "    async function quickchart(key) {\n",
              "      const quickchartButtonEl =\n",
              "        document.querySelector('#' + key + ' button');\n",
              "      quickchartButtonEl.disabled = true;  // To prevent multiple clicks.\n",
              "      quickchartButtonEl.classList.add('colab-df-spinner');\n",
              "      try {\n",
              "        const charts = await google.colab.kernel.invokeFunction(\n",
              "            'suggestCharts', [key], {});\n",
              "      } catch (error) {\n",
              "        console.error('Error during call to suggestCharts:', error);\n",
              "      }\n",
              "      quickchartButtonEl.classList.remove('colab-df-spinner');\n",
              "      quickchartButtonEl.classList.add('colab-df-quickchart-complete');\n",
              "    }\n",
              "    (() => {\n",
              "      let quickchartButtonEl =\n",
              "        document.querySelector('#df-4a0d9ead-6087-4847-aca5-3111548cb757 button');\n",
              "      quickchartButtonEl.style.display =\n",
              "        google.colab.kernel.accessAllowed ? 'block' : 'none';\n",
              "    })();\n",
              "  </script>\n",
              "</div>\n",
              "    </div>\n",
              "  </div>\n"
            ]
          },
          "metadata": {},
          "execution_count": 9
        }
      ]
    },
    {
      "cell_type": "markdown",
      "source": [
        "## Construcció de vectors\n",
        "\n",
        "Volem construir v4 vectors, amb una dimensió de 22 * 400 * 3 = 26.400 registres.\n",
        "Però pot ser útil construir-los per parts.\n",
        "\n",
        "Exemple\n",
        "\n",
        "Diferències en l'ús dels mètodes 'append' i 'extend'\n",
        "\n",
        "volem construir un vector que sigui:\n",
        "\n",
        "\n",
        "\n",
        "```\n",
        "vectorFinal = [1,2,3,1,2,3,1,2,3]\n",
        "```\n",
        "\n",
        "Observar que es repeteixen 3 cops els valors '1,2,3'"
      ],
      "metadata": {
        "id": "rfTIBZ3_sGmi"
      }
    },
    {
      "cell_type": "code",
      "source": [
        "# Mètode 'append'\n",
        "# Creem un vector inicial\n",
        "\n",
        "v1 = [1,2,3]\n",
        "# creem el vector final\n",
        "vectorFinal = [] # Un vector buit\n",
        "# utilitzem el mètode 'append'\n",
        "\n",
        "vectorFinal.append([v1]*3)"
      ],
      "metadata": {
        "id": "4KIpzHdwpdZ8"
      },
      "execution_count": 10,
      "outputs": []
    },
    {
      "cell_type": "code",
      "source": [
        "# No és exactament el que volem.\n",
        "vectorFinal"
      ],
      "metadata": {
        "colab": {
          "base_uri": "https://localhost:8080/"
        },
        "id": "Pm9k1htPtZ0Z",
        "outputId": "6c2dcdf6-d80d-437d-99d0-cdbfc1769b09"
      },
      "execution_count": 11,
      "outputs": [
        {
          "output_type": "execute_result",
          "data": {
            "text/plain": [
              "[[[1, 2, 3], [1, 2, 3], [1, 2, 3]]]"
            ]
          },
          "metadata": {},
          "execution_count": 11
        }
      ]
    },
    {
      "cell_type": "code",
      "source": [
        "#Hem creat un vector composat per altre vector que conté 3 vectors.\n",
        "len(vectorFinal)"
      ],
      "metadata": {
        "colab": {
          "base_uri": "https://localhost:8080/"
        },
        "id": "CSxdctHWtmZP",
        "outputId": "8df80b4b-0f01-446a-d9a6-750b2e34bb88"
      },
      "execution_count": 12,
      "outputs": [
        {
          "output_type": "execute_result",
          "data": {
            "text/plain": [
              "1"
            ]
          },
          "metadata": {},
          "execution_count": 12
        }
      ]
    },
    {
      "cell_type": "code",
      "source": [
        "len(vectorFinal[0])"
      ],
      "metadata": {
        "colab": {
          "base_uri": "https://localhost:8080/"
        },
        "id": "p-QLZJl8tyeO",
        "outputId": "4a9ec70e-afd1-4475-8a1a-66bbf5d42808"
      },
      "execution_count": 13,
      "outputs": [
        {
          "output_type": "execute_result",
          "data": {
            "text/plain": [
              "3"
            ]
          },
          "metadata": {},
          "execution_count": 13
        }
      ]
    },
    {
      "cell_type": "code",
      "source": [
        "vectorFinal[0][0] # Observar que hi ha 2 nivells."
      ],
      "metadata": {
        "colab": {
          "base_uri": "https://localhost:8080/"
        },
        "id": "bxAqXJbdt1hD",
        "outputId": "9343a96c-10b8-42dd-a7d7-c71668909830"
      },
      "execution_count": 14,
      "outputs": [
        {
          "output_type": "execute_result",
          "data": {
            "text/plain": [
              "[1, 2, 3]"
            ]
          },
          "metadata": {},
          "execution_count": 14
        }
      ]
    },
    {
      "cell_type": "code",
      "source": [
        "# Mètode 'extend'\n",
        "v1 = [1,2,3]\n",
        "# creem el vector final\n",
        "vectorFinal = [] # Un vector buit\n",
        "# utilitzem el mètode 'append'\n",
        "\n",
        "vectorFinal.extend(v1)\n",
        "vectorFinal.extend(v1)\n",
        "vectorFinal.extend(v1)"
      ],
      "metadata": {
        "id": "NcqBy6oJpwEN"
      },
      "execution_count": 15,
      "outputs": []
    },
    {
      "cell_type": "code",
      "source": [
        "# Ara sí que és el que volem.\n",
        "vectorFinal"
      ],
      "metadata": {
        "colab": {
          "base_uri": "https://localhost:8080/"
        },
        "id": "YyCLgI22uIGj",
        "outputId": "139ed7cd-cc58-4ac8-8da6-444a87208897"
      },
      "execution_count": 16,
      "outputs": [
        {
          "output_type": "execute_result",
          "data": {
            "text/plain": [
              "[1, 2, 3, 1, 2, 3, 1, 2, 3]"
            ]
          },
          "metadata": {},
          "execution_count": 16
        }
      ]
    },
    {
      "cell_type": "code",
      "source": [
        "v1 = [1,2,3] # creo dos vectors diferents\n",
        "v2 = [4,5,6]\n",
        "\n",
        "v3 = []\n",
        "v3.extend(v1) # afegir els vectos a altre general v3\n",
        "v3.extend(v2)\n",
        "v3 # Observar el resultat, un sol vector.\n"
      ],
      "metadata": {
        "id": "Vf2wgaOqqyxX",
        "colab": {
          "base_uri": "https://localhost:8080/"
        },
        "outputId": "6b009372-820d-4d85-f7ab-fd1652146968"
      },
      "execution_count": 17,
      "outputs": [
        {
          "output_type": "execute_result",
          "data": {
            "text/plain": [
              "[1, 2, 3, 4, 5, 6]"
            ]
          },
          "metadata": {},
          "execution_count": 17
        }
      ]
    },
    {
      "cell_type": "code",
      "source": [
        "v1 = [1,2,3]\n",
        "v2 = [4,5,6]\n",
        "\n",
        "v3 = []\n",
        "v3.append(v1) # ara utilitzo el mètode append\n",
        "v3.append(v2)\n",
        "v3            # El resultat és 2 vectors."
      ],
      "metadata": {
        "id": "wRxzI6cWrlER",
        "colab": {
          "base_uri": "https://localhost:8080/"
        },
        "outputId": "b0cde441-a12f-4932-b409-17688321bf51"
      },
      "execution_count": 18,
      "outputs": [
        {
          "output_type": "execute_result",
          "data": {
            "text/plain": [
              "[[1, 2, 3], [4, 5, 6]]"
            ]
          },
          "metadata": {},
          "execution_count": 18
        }
      ]
    },
    {
      "cell_type": "markdown",
      "source": [
        "## Convertir un vector de vectors en un de sol\n",
        "\n",
        "Ara hem vist la diferència entre els mètodes 'append' i 'extend'.\\\n",
        "Però ens pot ser molt útil crear un vector de vectors, mitjançant un 'for'.\\\n",
        "\n",
        "### Mètode 'flatten'\n",
        "\n",
        "Aquest mètode pertany a una llibreria específica per treballar amb vectors, que és numpy. Anem a estudiar-ho."
      ],
      "metadata": {
        "id": "Soe7gefkuyrG"
      }
    },
    {
      "cell_type": "code",
      "source": [
        "import numpy as np    # Importem la llibreria numpy\n",
        "\n",
        "myarray = np.array([[1,2,3],[4,5,6]])  # creem un vector de vectors, i array = vector\n",
        "\n",
        "# Convertim a un sol vector\n",
        "myarray.flatten('A')"
      ],
      "metadata": {
        "colab": {
          "base_uri": "https://localhost:8080/"
        },
        "id": "PmbticYLvSIe",
        "outputId": "e1404980-a44b-43dd-d784-bcc5c661961e"
      },
      "execution_count": 19,
      "outputs": [
        {
          "output_type": "execute_result",
          "data": {
            "text/plain": [
              "array([1, 2, 3, 4, 5, 6])"
            ]
          },
          "metadata": {},
          "execution_count": 19
        }
      ]
    },
    {
      "cell_type": "markdown",
      "source": [
        "Els paràmetres de flatten són:\n",
        "\n",
        "\"C\" significa aplanar en ordre de fila principal (estil C). \\\n",
        "\"F\" significa aplanar en ordre de columna major (estil Fortran). \\\n",
        "\"A\" significa aplanar en l'ordre principal de la columna si a és Fortran contigu a la memòria, en cas contrari. \\\n",
        "\"K\" significa aplanar a en l'ordre en què apareixen els elements a la memòria.\n",
        "\n",
        "El valor predeterminat és \"C\"."
      ],
      "metadata": {
        "id": "BATsRhvGv9dG"
      }
    },
    {
      "cell_type": "code",
      "source": [
        "myarray.flatten('C') # Escollim C per defecte"
      ],
      "metadata": {
        "colab": {
          "base_uri": "https://localhost:8080/"
        },
        "id": "F0XRU06awKaG",
        "outputId": "59a56191-a8a4-4f1a-9603-9fff3394d759"
      },
      "execution_count": 20,
      "outputs": [
        {
          "output_type": "execute_result",
          "data": {
            "text/plain": [
              "array([1, 2, 3, 4, 5, 6])"
            ]
          },
          "metadata": {},
          "execution_count": 20
        }
      ]
    },
    {
      "cell_type": "code",
      "source": [
        "myarray.flatten() # Escollim C per defecte"
      ],
      "metadata": {
        "colab": {
          "base_uri": "https://localhost:8080/"
        },
        "id": "owpA1o0jwR8p",
        "outputId": "c1c08549-6bd1-44ae-ef6f-d34b5c1ca48f"
      },
      "execution_count": 21,
      "outputs": [
        {
          "output_type": "execute_result",
          "data": {
            "text/plain": [
              "array([1, 2, 3, 4, 5, 6])"
            ]
          },
          "metadata": {},
          "execution_count": 21
        }
      ]
    },
    {
      "cell_type": "code",
      "source": [
        "# Recordem\n",
        "v3"
      ],
      "metadata": {
        "colab": {
          "base_uri": "https://localhost:8080/"
        },
        "id": "XotCuBS5wiFx",
        "outputId": "ce35a269-cfde-48ab-c4e3-0828a0caf0c1"
      },
      "execution_count": 22,
      "outputs": [
        {
          "output_type": "execute_result",
          "data": {
            "text/plain": [
              "[[1, 2, 3], [4, 5, 6]]"
            ]
          },
          "metadata": {},
          "execution_count": 22
        }
      ]
    },
    {
      "cell_type": "code",
      "source": [
        "# Treballem amb numpy, convertim a array i utilitzem el mètode flatten\n",
        "np.array(v3).flatten()"
      ],
      "metadata": {
        "colab": {
          "base_uri": "https://localhost:8080/"
        },
        "id": "6hF4XYV-wkbR",
        "outputId": "27b6eeeb-7dd3-4baa-f50b-8b35f7173ae1"
      },
      "execution_count": 23,
      "outputs": [
        {
          "output_type": "execute_result",
          "data": {
            "text/plain": [
              "array([1, 2, 3, 4, 5, 6])"
            ]
          },
          "metadata": {},
          "execution_count": 23
        }
      ]
    },
    {
      "cell_type": "code",
      "source": [
        "# Així podem fer:\n",
        "vF = np.array(v3).flatten()\n",
        "vF"
      ],
      "metadata": {
        "colab": {
          "base_uri": "https://localhost:8080/"
        },
        "id": "-wGmeJIyw1ze",
        "outputId": "3f68a7fc-df70-43da-c3b3-56333a80cd0e"
      },
      "execution_count": 24,
      "outputs": [
        {
          "output_type": "execute_result",
          "data": {
            "text/plain": [
              "array([1, 2, 3, 4, 5, 6])"
            ]
          },
          "metadata": {},
          "execution_count": 24
        }
      ]
    },
    {
      "cell_type": "code",
      "source": [
        "data1.dtypes # Avaluem el tipus de cada columna"
      ],
      "metadata": {
        "colab": {
          "base_uri": "https://localhost:8080/"
        },
        "id": "dnnnCipGaNQ1",
        "outputId": "c2c6ba7a-101a-4990-a309-fca35868a915"
      },
      "execution_count": 25,
      "outputs": [
        {
          "output_type": "execute_result",
          "data": {
            "text/plain": [
              "ID        int64\n",
              "2001      int64\n",
              "2002      int64\n",
              "2003      int64\n",
              "2004      int64\n",
              "          ...  \n",
              "2018.2    int64\n",
              "2019.2    int64\n",
              "2020.2    int64\n",
              "2021.2    int64\n",
              "2022.2    int64\n",
              "Length: 67, dtype: object"
            ]
          },
          "metadata": {},
          "execution_count": 25
        }
      ]
    },
    {
      "cell_type": "markdown",
      "source": [
        "## Preparem el format per analitzar i visualitzar\n",
        "\n",
        "Hem de crear la dataframe amb el disseny que ens interessa"
      ],
      "metadata": {
        "id": "8vB6aDSQaR1Y"
      }
    },
    {
      "cell_type": "code",
      "source": [
        "# Vector amb els anys, del 2001-2022\n",
        "years = list(range(2001,2023))\n",
        "print(\"el primer any és: \",years[0],\" i l'últim és \", years[21])"
      ],
      "metadata": {
        "colab": {
          "base_uri": "https://localhost:8080/"
        },
        "id": "mG52iBBSakBg",
        "outputId": "142de812-1089-4157-acf1-e5d20671c717"
      },
      "execution_count": 26,
      "outputs": [
        {
          "output_type": "stream",
          "name": "stdout",
          "text": [
            "el primer any és:  2001  i l'últim és  2022\n"
          ]
        }
      ]
    },
    {
      "cell_type": "code",
      "source": [
        "# Els noms de les columnes de la nostre DataFrame\n",
        "nomsCol = ['rank', 'value', 'year', 'category']"
      ],
      "metadata": {
        "id": "OziXQaMWpyVK"
      },
      "execution_count": 27,
      "outputs": []
    },
    {
      "cell_type": "code",
      "source": [
        "data2 = pd.DataFrame(columns = nomsCol)"
      ],
      "metadata": {
        "id": "N2u8ECtfm-Bu"
      },
      "execution_count": 28,
      "outputs": []
    },
    {
      "cell_type": "code",
      "source": [
        "data2"
      ],
      "metadata": {
        "colab": {
          "base_uri": "https://localhost:8080/",
          "height": 53
        },
        "id": "qjvbroLDnVvl",
        "outputId": "229ef70b-9726-4941-ecae-ac464ead4587"
      },
      "execution_count": 29,
      "outputs": [
        {
          "output_type": "execute_result",
          "data": {
            "text/plain": [
              "Empty DataFrame\n",
              "Columns: [rank, value, year, category]\n",
              "Index: []"
            ],
            "text/html": [
              "\n",
              "  <div id=\"df-2937daa9-5f20-4d35-991e-6a9d9a439ca3\" class=\"colab-df-container\">\n",
              "    <div>\n",
              "<style scoped>\n",
              "    .dataframe tbody tr th:only-of-type {\n",
              "        vertical-align: middle;\n",
              "    }\n",
              "\n",
              "    .dataframe tbody tr th {\n",
              "        vertical-align: top;\n",
              "    }\n",
              "\n",
              "    .dataframe thead th {\n",
              "        text-align: right;\n",
              "    }\n",
              "</style>\n",
              "<table border=\"1\" class=\"dataframe\">\n",
              "  <thead>\n",
              "    <tr style=\"text-align: right;\">\n",
              "      <th></th>\n",
              "      <th>rank</th>\n",
              "      <th>value</th>\n",
              "      <th>year</th>\n",
              "      <th>category</th>\n",
              "    </tr>\n",
              "  </thead>\n",
              "  <tbody>\n",
              "  </tbody>\n",
              "</table>\n",
              "</div>\n",
              "    <div class=\"colab-df-buttons\">\n",
              "\n",
              "  <div class=\"colab-df-container\">\n",
              "    <button class=\"colab-df-convert\" onclick=\"convertToInteractive('df-2937daa9-5f20-4d35-991e-6a9d9a439ca3')\"\n",
              "            title=\"Convert this dataframe to an interactive table.\"\n",
              "            style=\"display:none;\">\n",
              "\n",
              "  <svg xmlns=\"http://www.w3.org/2000/svg\" height=\"24px\" viewBox=\"0 -960 960 960\">\n",
              "    <path d=\"M120-120v-720h720v720H120Zm60-500h600v-160H180v160Zm220 220h160v-160H400v160Zm0 220h160v-160H400v160ZM180-400h160v-160H180v160Zm440 0h160v-160H620v160ZM180-180h160v-160H180v160Zm440 0h160v-160H620v160Z\"/>\n",
              "  </svg>\n",
              "    </button>\n",
              "\n",
              "  <style>\n",
              "    .colab-df-container {\n",
              "      display:flex;\n",
              "      gap: 12px;\n",
              "    }\n",
              "\n",
              "    .colab-df-convert {\n",
              "      background-color: #E8F0FE;\n",
              "      border: none;\n",
              "      border-radius: 50%;\n",
              "      cursor: pointer;\n",
              "      display: none;\n",
              "      fill: #1967D2;\n",
              "      height: 32px;\n",
              "      padding: 0 0 0 0;\n",
              "      width: 32px;\n",
              "    }\n",
              "\n",
              "    .colab-df-convert:hover {\n",
              "      background-color: #E2EBFA;\n",
              "      box-shadow: 0px 1px 2px rgba(60, 64, 67, 0.3), 0px 1px 3px 1px rgba(60, 64, 67, 0.15);\n",
              "      fill: #174EA6;\n",
              "    }\n",
              "\n",
              "    .colab-df-buttons div {\n",
              "      margin-bottom: 4px;\n",
              "    }\n",
              "\n",
              "    [theme=dark] .colab-df-convert {\n",
              "      background-color: #3B4455;\n",
              "      fill: #D2E3FC;\n",
              "    }\n",
              "\n",
              "    [theme=dark] .colab-df-convert:hover {\n",
              "      background-color: #434B5C;\n",
              "      box-shadow: 0px 1px 3px 1px rgba(0, 0, 0, 0.15);\n",
              "      filter: drop-shadow(0px 1px 2px rgba(0, 0, 0, 0.3));\n",
              "      fill: #FFFFFF;\n",
              "    }\n",
              "  </style>\n",
              "\n",
              "    <script>\n",
              "      const buttonEl =\n",
              "        document.querySelector('#df-2937daa9-5f20-4d35-991e-6a9d9a439ca3 button.colab-df-convert');\n",
              "      buttonEl.style.display =\n",
              "        google.colab.kernel.accessAllowed ? 'block' : 'none';\n",
              "\n",
              "      async function convertToInteractive(key) {\n",
              "        const element = document.querySelector('#df-2937daa9-5f20-4d35-991e-6a9d9a439ca3');\n",
              "        const dataTable =\n",
              "          await google.colab.kernel.invokeFunction('convertToInteractive',\n",
              "                                                    [key], {});\n",
              "        if (!dataTable) return;\n",
              "\n",
              "        const docLinkHtml = 'Like what you see? Visit the ' +\n",
              "          '<a target=\"_blank\" href=https://colab.research.google.com/notebooks/data_table.ipynb>data table notebook</a>'\n",
              "          + ' to learn more about interactive tables.';\n",
              "        element.innerHTML = '';\n",
              "        dataTable['output_type'] = 'display_data';\n",
              "        await google.colab.output.renderOutput(dataTable, element);\n",
              "        const docLink = document.createElement('div');\n",
              "        docLink.innerHTML = docLinkHtml;\n",
              "        element.appendChild(docLink);\n",
              "      }\n",
              "    </script>\n",
              "  </div>\n",
              "\n",
              "    </div>\n",
              "  </div>\n"
            ]
          },
          "metadata": {},
          "execution_count": 29
        }
      ]
    },
    {
      "cell_type": "code",
      "source": [
        "# Les 3 categories son:\n",
        "cat = ['Salary', 'tax', 'employees']"
      ],
      "metadata": {
        "id": "Lr2C8WXHcHcX"
      },
      "execution_count": 30,
      "outputs": []
    },
    {
      "cell_type": "code",
      "source": [
        "v4=[[cat[0]]*10]    # deu cops la paraula 'Salary'\n",
        "v5 = [[cat[1]]*10]\n",
        "v6 = [[cat[2]]*10]"
      ],
      "metadata": {
        "id": "GG90_CW1rnk7"
      },
      "execution_count": 31,
      "outputs": []
    },
    {
      "cell_type": "code",
      "source": [
        "v4 # Ull viu, es un vector amb altre vector."
      ],
      "metadata": {
        "colab": {
          "base_uri": "https://localhost:8080/"
        },
        "id": "wXS9Afd-xGyL",
        "outputId": "c545e802-915a-436b-8785-40e0597e26ca"
      },
      "execution_count": 32,
      "outputs": [
        {
          "output_type": "execute_result",
          "data": {
            "text/plain": [
              "[['Salary',\n",
              "  'Salary',\n",
              "  'Salary',\n",
              "  'Salary',\n",
              "  'Salary',\n",
              "  'Salary',\n",
              "  'Salary',\n",
              "  'Salary',\n",
              "  'Salary',\n",
              "  'Salary']]"
            ]
          },
          "metadata": {},
          "execution_count": 32
        }
      ]
    },
    {
      "cell_type": "code",
      "source": [
        "v7=[]\n",
        "v7.extend(v4)\n",
        "v7.extend(v5)\n",
        "v7.extend(v6)\n",
        "len(v7)"
      ],
      "metadata": {
        "colab": {
          "base_uri": "https://localhost:8080/"
        },
        "id": "h18no_r5r7Zi",
        "outputId": "3f3ca2aa-5ccd-4429-9bc4-e028afaa4b51"
      },
      "execution_count": 33,
      "outputs": [
        {
          "output_type": "execute_result",
          "data": {
            "text/plain": [
              "3"
            ]
          },
          "metadata": {},
          "execution_count": 33
        }
      ]
    },
    {
      "cell_type": "code",
      "source": [
        "v7[2] # Una mica llarg"
      ],
      "metadata": {
        "colab": {
          "base_uri": "https://localhost:8080/"
        },
        "id": "Oc8mKIrCsdPG",
        "outputId": "b377dea0-18a3-4778-dd7b-542e10430d99"
      },
      "execution_count": 34,
      "outputs": [
        {
          "output_type": "execute_result",
          "data": {
            "text/plain": [
              "['employees',\n",
              " 'employees',\n",
              " 'employees',\n",
              " 'employees',\n",
              " 'employees',\n",
              " 'employees',\n",
              " 'employees',\n",
              " 'employees',\n",
              " 'employees',\n",
              " 'employees']"
            ]
          },
          "metadata": {},
          "execution_count": 34
        }
      ]
    },
    {
      "cell_type": "code",
      "source": [
        "np.array(cat) # Convertim a array mitjançant np.array()"
      ],
      "metadata": {
        "colab": {
          "base_uri": "https://localhost:8080/"
        },
        "id": "uBJom42AxSEx",
        "outputId": "c0c99ade-ebce-49ba-cbf7-f9c30d0e0a48"
      },
      "execution_count": 35,
      "outputs": [
        {
          "output_type": "execute_result",
          "data": {
            "text/plain": [
              "array(['Salary', 'tax', 'employees'], dtype='<U9')"
            ]
          },
          "metadata": {},
          "execution_count": 35
        }
      ]
    },
    {
      "cell_type": "code",
      "source": [
        "# Volem crear un vector que repeteixi 10 cops les categories, que tingui una llargada de 30 en un sol vector.\n",
        "[[x]*2 for x in cat]  # utilitzem la \"list comprehension\"\n",
        "\n",
        "# Llegir https://ellibrodepython.com/list-comprehension-python\n"
      ],
      "metadata": {
        "colab": {
          "base_uri": "https://localhost:8080/"
        },
        "id": "zYfMYCZ0xaGC",
        "outputId": "1e867dd6-8da9-4fa6-ca50-8bd77d1efa48"
      },
      "execution_count": 36,
      "outputs": [
        {
          "output_type": "execute_result",
          "data": {
            "text/plain": [
              "[['Salary', 'Salary'], ['tax', 'tax'], ['employees', 'employees']]"
            ]
          },
          "metadata": {},
          "execution_count": 36
        }
      ]
    },
    {
      "cell_type": "code",
      "source": [
        "#Convertim en un sol vector en una sola línea de codi\n",
        "np.array([[x]*10 for x in cat]).flatten()"
      ],
      "metadata": {
        "colab": {
          "base_uri": "https://localhost:8080/"
        },
        "id": "_oFvUNZQx5gX",
        "outputId": "51339cf9-9607-4373-ff1e-6925d951400a"
      },
      "execution_count": 37,
      "outputs": [
        {
          "output_type": "execute_result",
          "data": {
            "text/plain": [
              "array(['Salary', 'Salary', 'Salary', 'Salary', 'Salary', 'Salary',\n",
              "       'Salary', 'Salary', 'Salary', 'Salary', 'tax', 'tax', 'tax', 'tax',\n",
              "       'tax', 'tax', 'tax', 'tax', 'tax', 'tax', 'employees', 'employees',\n",
              "       'employees', 'employees', 'employees', 'employees', 'employees',\n",
              "       'employees', 'employees', 'employees'], dtype='<U9')"
            ]
          },
          "metadata": {},
          "execution_count": 37
        }
      ]
    },
    {
      "cell_type": "markdown",
      "source": [
        "## Exercici\n",
        "\n",
        "1- Configurar la 'data2' de la següent manera:\n",
        "\n",
        "- Ha de tenir tots els valors de 'data1' disposats en 4 columnes.\n",
        "- Heu de dissenyar una funció per tal de recòrrer les columnes i els valors.\n",
        "- cada valor ha d'estar definit per un rank, value, year i category.\n",
        "- Les 3 categoríes son al vector 'cat'.\n",
        "- Els anys són al vector 'years'.\n",
        "\n",
        "Exemple del 1er registre:\n",
        "\n",
        "rank | value | year | category  \n",
        "--- | --- |--- |--- |\n",
        "1|29541615|2001|Salary\n",
        "\n",
        "\n",
        "### Notes\n",
        "\n",
        "- Les columnes amb els anys pertànyen:\\\n",
        "1- 2001 -> Salary\\\n",
        "2- 2001.1 -> tax\\\n",
        "3- 2001.2 -> employees\n",
        "\n",
        "### Indicacions\n",
        "\n",
        "Realitzar els loops amb diferents \"for\" per recòrrer les columnes. Utilitzar adequadament el mètode 'iloc' de pandas.\n",
        "\n",
        "Recordar:\n",
        "\n",
        "\n",
        "```\n",
        "df.iloc[1:3, 0:3]\n",
        "```\n",
        "vol dir, escull les files 1,2 i les columnes 0,1,2.\n",
        "\n",
        "\n",
        "```\n",
        "df.iloc[:, 1]\n",
        "```\n",
        "vol dir, escull totes les files de la columna 2.\n"
      ],
      "metadata": {
        "id": "CjMkstDlbtG_"
      }
    },
    {
      "cell_type": "code",
      "source": [
        "# El primer valor del vector years és:\n",
        "years[0]"
      ],
      "metadata": {
        "colab": {
          "base_uri": "https://localhost:8080/"
        },
        "id": "ixY83hUeoSLn",
        "outputId": "7214300c-5ba0-4a7f-801c-c8cb6660557c"
      },
      "execution_count": 38,
      "outputs": [
        {
          "output_type": "execute_result",
          "data": {
            "text/plain": [
              "2001"
            ]
          },
          "metadata": {},
          "execution_count": 38
        }
      ]
    },
    {
      "cell_type": "code",
      "source": [
        "# Un vector que 400 registres de cada any:\n",
        "len(years) # Mida del vector"
      ],
      "metadata": {
        "colab": {
          "base_uri": "https://localhost:8080/"
        },
        "id": "7uutR6ESodof",
        "outputId": "26721527-899e-4f29-ece8-8efdfd06a19b"
      },
      "execution_count": 39,
      "outputs": [
        {
          "output_type": "execute_result",
          "data": {
            "text/plain": [
              "22"
            ]
          },
          "metadata": {},
          "execution_count": 39
        }
      ]
    },
    {
      "cell_type": "code",
      "source": [
        "AllYF = []                    # Creo el vector amb 22 vectors amb 400 per cada any\n",
        "for i in range(len(years)):   # Recorrer els 22 anys\n",
        "  AllYF.append([years[i]]*400)# Afegeix un vector de cada any amb 400 repeticions\n",
        "# Ordre: append - afegir vector a AllYF\n",
        "# [years[i]]*400, fes un vector amb 400 cops el valor years[i]"
      ],
      "metadata": {
        "id": "TJe6l2q6onrJ"
      },
      "execution_count": 40,
      "outputs": []
    },
    {
      "cell_type": "code",
      "source": [
        "print(\"El vector medeix (té nombre de vectors): \", len(AllYF), \" i cada vector té una mida de \",len(AllYF[0]))"
      ],
      "metadata": {
        "colab": {
          "base_uri": "https://localhost:8080/"
        },
        "id": "GSQO97wPovDW",
        "outputId": "158c3e0e-efda-4662-c019-b88632162831"
      },
      "execution_count": 41,
      "outputs": [
        {
          "output_type": "stream",
          "name": "stdout",
          "text": [
            "El vector medeix (té nombre de vectors):  22  i cada vector té una mida de  400\n"
          ]
        }
      ]
    },
    {
      "cell_type": "code",
      "source": [],
      "metadata": {
        "id": "sZySZfGhqrob"
      },
      "execution_count": 41,
      "outputs": []
    },
    {
      "cell_type": "markdown",
      "source": [
        "### Calcular el nombre de files\n",
        "\n",
        "400 registres de cada any i categoria\\\n",
        "22 anys\\\n",
        "3 categories\\\n",
        "Total = 400·22·3 = 26400 registres\n"
      ],
      "metadata": {
        "id": "qEcT1HCAyWMR"
      }
    },
    {
      "cell_type": "code",
      "source": [
        "# Càlcul del vector Categories\n",
        "import numpy as np\n",
        "data2 = pd.DataFrame(columns = nomsCol)"
      ],
      "metadata": {
        "id": "Efe2w5V-VfXT"
      },
      "execution_count": 42,
      "outputs": []
    },
    {
      "cell_type": "code",
      "source": [
        "data2['category'] = np.array([[x]*8800 for x in cat]).flatten()\n",
        "data2['rank'] = np.array([np.arange(1,401,1,dtype=int)]*66).flatten()\n",
        "data2['year'] = np.array([np.array([[x]*400 for x in np.array([np.arange(2001,2023,1,dtype=int)]).flatten()]).flatten()]*3).flatten()"
      ],
      "metadata": {
        "id": "7B7YdZMzVcp1"
      },
      "execution_count": 43,
      "outputs": []
    },
    {
      "cell_type": "code",
      "source": [
        "data2.shape"
      ],
      "metadata": {
        "id": "YYRO_bRUWDi5",
        "outputId": "de64b9d2-2873-4806-b704-2ce670733022",
        "colab": {
          "base_uri": "https://localhost:8080/"
        }
      },
      "execution_count": 44,
      "outputs": [
        {
          "output_type": "execute_result",
          "data": {
            "text/plain": [
              "(26400, 4)"
            ]
          },
          "metadata": {},
          "execution_count": 44
        }
      ]
    },
    {
      "cell_type": "code",
      "source": [
        "data2.iloc[10000,:]"
      ],
      "metadata": {
        "colab": {
          "base_uri": "https://localhost:8080/"
        },
        "id": "DvZu5HkY1Mzj",
        "outputId": "b8e0b481-333a-42d0-caa8-d9d3fe310b4e"
      },
      "execution_count": 45,
      "outputs": [
        {
          "output_type": "execute_result",
          "data": {
            "text/plain": [
              "rank           1\n",
              "value        NaN\n",
              "year        2004\n",
              "category     tax\n",
              "Name: 10000, dtype: object"
            ]
          },
          "metadata": {},
          "execution_count": 45
        }
      ]
    },
    {
      "cell_type": "markdown",
      "source": [
        "### Columna Valors"
      ],
      "metadata": {
        "id": "BQSr4dPPUt6P"
      }
    },
    {
      "cell_type": "code",
      "source": [
        "data1.columns"
      ],
      "metadata": {
        "colab": {
          "base_uri": "https://localhost:8080/"
        },
        "id": "ews855TmUyl9",
        "outputId": "d7020fef-42ce-410a-ac8f-cc8c24f39d10"
      },
      "execution_count": 47,
      "outputs": [
        {
          "output_type": "execute_result",
          "data": {
            "text/plain": [
              "Index(['ID', '2001', '2002', '2003', '2004', '2005', '2006', '2007', '2008',\n",
              "       '2009', '2010', '2011', '2012', '2013', '2014', '2015', '2016', '2017',\n",
              "       '2018', '2019', '2020', '2021', '2022', '2001.1', '2002.1', '2003.1',\n",
              "       '2004.1', '2005.1', '2006.1', '2007.1', '2008.1', '2009.1', '2010.1',\n",
              "       '2011.1', '2012.1', '2013.1', '2014.1', '2015.1', '2016.1', '2017.1',\n",
              "       '2018.1', '2019.1', '2020.1', '2021.1', '2022.1', '2001.2', '2002.2',\n",
              "       '2003.2', '2004.2', '2005.2', '2006.2', '2007.2', '2008.2', '2009.2',\n",
              "       '2010.2', '2011.2', '2012.2', '2013.2', '2014.2', '2015.2', '2016.2',\n",
              "       '2017.2', '2018.2', '2019.2', '2020.2', '2021.2', '2022.2'],\n",
              "      dtype='object')"
            ]
          },
          "metadata": {},
          "execution_count": 47
        }
      ]
    },
    {
      "cell_type": "code",
      "source": [
        "data1.head()"
      ],
      "metadata": {
        "colab": {
          "base_uri": "https://localhost:8080/",
          "height": 255
        },
        "id": "b8LlSKpzU6a9",
        "outputId": "473065ee-ce03-4f8d-89b9-903582e3cb51"
      },
      "execution_count": 48,
      "outputs": [
        {
          "output_type": "execute_result",
          "data": {
            "text/plain": [
              "   ID       2001       2002       2003       2004       2005       2006  \\\n",
              "0   1   29541615   27645802   29437929   27855280   31801465   31584347   \n",
              "1   2   72965628   81467945   87340372   68217591   71854670   72813778   \n",
              "2   3  118397894  117964368  113769342  102460947  109068935  108110010   \n",
              "3   4  149288420  145505890  153889058  144327889  154811651  154349596   \n",
              "4   5  187829221  179214060  177103986  164526172  179556090  174609190   \n",
              "\n",
              "        2007       2008       2009  ...  2013.2  2014.2  2015.2  2016.2  \\\n",
              "0   25499488   27306225   28879391  ...  384262  369837  360424  359341   \n",
              "1   59420277   62227592   67221958  ...  267525  263879  269745  270013   \n",
              "2   88723845   89901678   99150785  ...  227742  230155  235644  242355   \n",
              "3  130103812  129261037  140721048  ...  219984  217609  228211  242164   \n",
              "4  143789890  140636251  159501515  ...  204015  202091  214043  214446   \n",
              "\n",
              "   2017.2  2018.2  2019.2  2020.2  2021.2  2022.2  \n",
              "0  336325  328778  310946  270572  276001  244376  \n",
              "1  248893  233521  210956  194006  200752  186871  \n",
              "2  226109  210252  180277  170422  164307  155482  \n",
              "3  208225  192375  172495  164014  157221  149360  \n",
              "4  191359  186405  164155  164394  146657  139655  \n",
              "\n",
              "[5 rows x 67 columns]"
            ],
            "text/html": [
              "\n",
              "  <div id=\"df-fe36259a-6c2b-406b-8941-365abe6c158c\" class=\"colab-df-container\">\n",
              "    <div>\n",
              "<style scoped>\n",
              "    .dataframe tbody tr th:only-of-type {\n",
              "        vertical-align: middle;\n",
              "    }\n",
              "\n",
              "    .dataframe tbody tr th {\n",
              "        vertical-align: top;\n",
              "    }\n",
              "\n",
              "    .dataframe thead th {\n",
              "        text-align: right;\n",
              "    }\n",
              "</style>\n",
              "<table border=\"1\" class=\"dataframe\">\n",
              "  <thead>\n",
              "    <tr style=\"text-align: right;\">\n",
              "      <th></th>\n",
              "      <th>ID</th>\n",
              "      <th>2001</th>\n",
              "      <th>2002</th>\n",
              "      <th>2003</th>\n",
              "      <th>2004</th>\n",
              "      <th>2005</th>\n",
              "      <th>2006</th>\n",
              "      <th>2007</th>\n",
              "      <th>2008</th>\n",
              "      <th>2009</th>\n",
              "      <th>...</th>\n",
              "      <th>2013.2</th>\n",
              "      <th>2014.2</th>\n",
              "      <th>2015.2</th>\n",
              "      <th>2016.2</th>\n",
              "      <th>2017.2</th>\n",
              "      <th>2018.2</th>\n",
              "      <th>2019.2</th>\n",
              "      <th>2020.2</th>\n",
              "      <th>2021.2</th>\n",
              "      <th>2022.2</th>\n",
              "    </tr>\n",
              "  </thead>\n",
              "  <tbody>\n",
              "    <tr>\n",
              "      <th>0</th>\n",
              "      <td>1</td>\n",
              "      <td>29541615</td>\n",
              "      <td>27645802</td>\n",
              "      <td>29437929</td>\n",
              "      <td>27855280</td>\n",
              "      <td>31801465</td>\n",
              "      <td>31584347</td>\n",
              "      <td>25499488</td>\n",
              "      <td>27306225</td>\n",
              "      <td>28879391</td>\n",
              "      <td>...</td>\n",
              "      <td>384262</td>\n",
              "      <td>369837</td>\n",
              "      <td>360424</td>\n",
              "      <td>359341</td>\n",
              "      <td>336325</td>\n",
              "      <td>328778</td>\n",
              "      <td>310946</td>\n",
              "      <td>270572</td>\n",
              "      <td>276001</td>\n",
              "      <td>244376</td>\n",
              "    </tr>\n",
              "    <tr>\n",
              "      <th>1</th>\n",
              "      <td>2</td>\n",
              "      <td>72965628</td>\n",
              "      <td>81467945</td>\n",
              "      <td>87340372</td>\n",
              "      <td>68217591</td>\n",
              "      <td>71854670</td>\n",
              "      <td>72813778</td>\n",
              "      <td>59420277</td>\n",
              "      <td>62227592</td>\n",
              "      <td>67221958</td>\n",
              "      <td>...</td>\n",
              "      <td>267525</td>\n",
              "      <td>263879</td>\n",
              "      <td>269745</td>\n",
              "      <td>270013</td>\n",
              "      <td>248893</td>\n",
              "      <td>233521</td>\n",
              "      <td>210956</td>\n",
              "      <td>194006</td>\n",
              "      <td>200752</td>\n",
              "      <td>186871</td>\n",
              "    </tr>\n",
              "    <tr>\n",
              "      <th>2</th>\n",
              "      <td>3</td>\n",
              "      <td>118397894</td>\n",
              "      <td>117964368</td>\n",
              "      <td>113769342</td>\n",
              "      <td>102460947</td>\n",
              "      <td>109068935</td>\n",
              "      <td>108110010</td>\n",
              "      <td>88723845</td>\n",
              "      <td>89901678</td>\n",
              "      <td>99150785</td>\n",
              "      <td>...</td>\n",
              "      <td>227742</td>\n",
              "      <td>230155</td>\n",
              "      <td>235644</td>\n",
              "      <td>242355</td>\n",
              "      <td>226109</td>\n",
              "      <td>210252</td>\n",
              "      <td>180277</td>\n",
              "      <td>170422</td>\n",
              "      <td>164307</td>\n",
              "      <td>155482</td>\n",
              "    </tr>\n",
              "    <tr>\n",
              "      <th>3</th>\n",
              "      <td>4</td>\n",
              "      <td>149288420</td>\n",
              "      <td>145505890</td>\n",
              "      <td>153889058</td>\n",
              "      <td>144327889</td>\n",
              "      <td>154811651</td>\n",
              "      <td>154349596</td>\n",
              "      <td>130103812</td>\n",
              "      <td>129261037</td>\n",
              "      <td>140721048</td>\n",
              "      <td>...</td>\n",
              "      <td>219984</td>\n",
              "      <td>217609</td>\n",
              "      <td>228211</td>\n",
              "      <td>242164</td>\n",
              "      <td>208225</td>\n",
              "      <td>192375</td>\n",
              "      <td>172495</td>\n",
              "      <td>164014</td>\n",
              "      <td>157221</td>\n",
              "      <td>149360</td>\n",
              "    </tr>\n",
              "    <tr>\n",
              "      <th>4</th>\n",
              "      <td>5</td>\n",
              "      <td>187829221</td>\n",
              "      <td>179214060</td>\n",
              "      <td>177103986</td>\n",
              "      <td>164526172</td>\n",
              "      <td>179556090</td>\n",
              "      <td>174609190</td>\n",
              "      <td>143789890</td>\n",
              "      <td>140636251</td>\n",
              "      <td>159501515</td>\n",
              "      <td>...</td>\n",
              "      <td>204015</td>\n",
              "      <td>202091</td>\n",
              "      <td>214043</td>\n",
              "      <td>214446</td>\n",
              "      <td>191359</td>\n",
              "      <td>186405</td>\n",
              "      <td>164155</td>\n",
              "      <td>164394</td>\n",
              "      <td>146657</td>\n",
              "      <td>139655</td>\n",
              "    </tr>\n",
              "  </tbody>\n",
              "</table>\n",
              "<p>5 rows × 67 columns</p>\n",
              "</div>\n",
              "    <div class=\"colab-df-buttons\">\n",
              "\n",
              "  <div class=\"colab-df-container\">\n",
              "    <button class=\"colab-df-convert\" onclick=\"convertToInteractive('df-fe36259a-6c2b-406b-8941-365abe6c158c')\"\n",
              "            title=\"Convert this dataframe to an interactive table.\"\n",
              "            style=\"display:none;\">\n",
              "\n",
              "  <svg xmlns=\"http://www.w3.org/2000/svg\" height=\"24px\" viewBox=\"0 -960 960 960\">\n",
              "    <path d=\"M120-120v-720h720v720H120Zm60-500h600v-160H180v160Zm220 220h160v-160H400v160Zm0 220h160v-160H400v160ZM180-400h160v-160H180v160Zm440 0h160v-160H620v160ZM180-180h160v-160H180v160Zm440 0h160v-160H620v160Z\"/>\n",
              "  </svg>\n",
              "    </button>\n",
              "\n",
              "  <style>\n",
              "    .colab-df-container {\n",
              "      display:flex;\n",
              "      gap: 12px;\n",
              "    }\n",
              "\n",
              "    .colab-df-convert {\n",
              "      background-color: #E8F0FE;\n",
              "      border: none;\n",
              "      border-radius: 50%;\n",
              "      cursor: pointer;\n",
              "      display: none;\n",
              "      fill: #1967D2;\n",
              "      height: 32px;\n",
              "      padding: 0 0 0 0;\n",
              "      width: 32px;\n",
              "    }\n",
              "\n",
              "    .colab-df-convert:hover {\n",
              "      background-color: #E2EBFA;\n",
              "      box-shadow: 0px 1px 2px rgba(60, 64, 67, 0.3), 0px 1px 3px 1px rgba(60, 64, 67, 0.15);\n",
              "      fill: #174EA6;\n",
              "    }\n",
              "\n",
              "    .colab-df-buttons div {\n",
              "      margin-bottom: 4px;\n",
              "    }\n",
              "\n",
              "    [theme=dark] .colab-df-convert {\n",
              "      background-color: #3B4455;\n",
              "      fill: #D2E3FC;\n",
              "    }\n",
              "\n",
              "    [theme=dark] .colab-df-convert:hover {\n",
              "      background-color: #434B5C;\n",
              "      box-shadow: 0px 1px 3px 1px rgba(0, 0, 0, 0.15);\n",
              "      filter: drop-shadow(0px 1px 2px rgba(0, 0, 0, 0.3));\n",
              "      fill: #FFFFFF;\n",
              "    }\n",
              "  </style>\n",
              "\n",
              "    <script>\n",
              "      const buttonEl =\n",
              "        document.querySelector('#df-fe36259a-6c2b-406b-8941-365abe6c158c button.colab-df-convert');\n",
              "      buttonEl.style.display =\n",
              "        google.colab.kernel.accessAllowed ? 'block' : 'none';\n",
              "\n",
              "      async function convertToInteractive(key) {\n",
              "        const element = document.querySelector('#df-fe36259a-6c2b-406b-8941-365abe6c158c');\n",
              "        const dataTable =\n",
              "          await google.colab.kernel.invokeFunction('convertToInteractive',\n",
              "                                                    [key], {});\n",
              "        if (!dataTable) return;\n",
              "\n",
              "        const docLinkHtml = 'Like what you see? Visit the ' +\n",
              "          '<a target=\"_blank\" href=https://colab.research.google.com/notebooks/data_table.ipynb>data table notebook</a>'\n",
              "          + ' to learn more about interactive tables.';\n",
              "        element.innerHTML = '';\n",
              "        dataTable['output_type'] = 'display_data';\n",
              "        await google.colab.output.renderOutput(dataTable, element);\n",
              "        const docLink = document.createElement('div');\n",
              "        docLink.innerHTML = docLinkHtml;\n",
              "        element.appendChild(docLink);\n",
              "      }\n",
              "    </script>\n",
              "  </div>\n",
              "\n",
              "\n",
              "<div id=\"df-b0313d3a-f0d2-4d5e-bf83-8b07c172ba82\">\n",
              "  <button class=\"colab-df-quickchart\" onclick=\"quickchart('df-b0313d3a-f0d2-4d5e-bf83-8b07c172ba82')\"\n",
              "            title=\"Suggest charts\"\n",
              "            style=\"display:none;\">\n",
              "\n",
              "<svg xmlns=\"http://www.w3.org/2000/svg\" height=\"24px\"viewBox=\"0 0 24 24\"\n",
              "     width=\"24px\">\n",
              "    <g>\n",
              "        <path d=\"M19 3H5c-1.1 0-2 .9-2 2v14c0 1.1.9 2 2 2h14c1.1 0 2-.9 2-2V5c0-1.1-.9-2-2-2zM9 17H7v-7h2v7zm4 0h-2V7h2v10zm4 0h-2v-4h2v4z\"/>\n",
              "    </g>\n",
              "</svg>\n",
              "  </button>\n",
              "\n",
              "<style>\n",
              "  .colab-df-quickchart {\n",
              "      --bg-color: #E8F0FE;\n",
              "      --fill-color: #1967D2;\n",
              "      --hover-bg-color: #E2EBFA;\n",
              "      --hover-fill-color: #174EA6;\n",
              "      --disabled-fill-color: #AAA;\n",
              "      --disabled-bg-color: #DDD;\n",
              "  }\n",
              "\n",
              "  [theme=dark] .colab-df-quickchart {\n",
              "      --bg-color: #3B4455;\n",
              "      --fill-color: #D2E3FC;\n",
              "      --hover-bg-color: #434B5C;\n",
              "      --hover-fill-color: #FFFFFF;\n",
              "      --disabled-bg-color: #3B4455;\n",
              "      --disabled-fill-color: #666;\n",
              "  }\n",
              "\n",
              "  .colab-df-quickchart {\n",
              "    background-color: var(--bg-color);\n",
              "    border: none;\n",
              "    border-radius: 50%;\n",
              "    cursor: pointer;\n",
              "    display: none;\n",
              "    fill: var(--fill-color);\n",
              "    height: 32px;\n",
              "    padding: 0;\n",
              "    width: 32px;\n",
              "  }\n",
              "\n",
              "  .colab-df-quickchart:hover {\n",
              "    background-color: var(--hover-bg-color);\n",
              "    box-shadow: 0 1px 2px rgba(60, 64, 67, 0.3), 0 1px 3px 1px rgba(60, 64, 67, 0.15);\n",
              "    fill: var(--button-hover-fill-color);\n",
              "  }\n",
              "\n",
              "  .colab-df-quickchart-complete:disabled,\n",
              "  .colab-df-quickchart-complete:disabled:hover {\n",
              "    background-color: var(--disabled-bg-color);\n",
              "    fill: var(--disabled-fill-color);\n",
              "    box-shadow: none;\n",
              "  }\n",
              "\n",
              "  .colab-df-spinner {\n",
              "    border: 2px solid var(--fill-color);\n",
              "    border-color: transparent;\n",
              "    border-bottom-color: var(--fill-color);\n",
              "    animation:\n",
              "      spin 1s steps(1) infinite;\n",
              "  }\n",
              "\n",
              "  @keyframes spin {\n",
              "    0% {\n",
              "      border-color: transparent;\n",
              "      border-bottom-color: var(--fill-color);\n",
              "      border-left-color: var(--fill-color);\n",
              "    }\n",
              "    20% {\n",
              "      border-color: transparent;\n",
              "      border-left-color: var(--fill-color);\n",
              "      border-top-color: var(--fill-color);\n",
              "    }\n",
              "    30% {\n",
              "      border-color: transparent;\n",
              "      border-left-color: var(--fill-color);\n",
              "      border-top-color: var(--fill-color);\n",
              "      border-right-color: var(--fill-color);\n",
              "    }\n",
              "    40% {\n",
              "      border-color: transparent;\n",
              "      border-right-color: var(--fill-color);\n",
              "      border-top-color: var(--fill-color);\n",
              "    }\n",
              "    60% {\n",
              "      border-color: transparent;\n",
              "      border-right-color: var(--fill-color);\n",
              "    }\n",
              "    80% {\n",
              "      border-color: transparent;\n",
              "      border-right-color: var(--fill-color);\n",
              "      border-bottom-color: var(--fill-color);\n",
              "    }\n",
              "    90% {\n",
              "      border-color: transparent;\n",
              "      border-bottom-color: var(--fill-color);\n",
              "    }\n",
              "  }\n",
              "</style>\n",
              "\n",
              "  <script>\n",
              "    async function quickchart(key) {\n",
              "      const quickchartButtonEl =\n",
              "        document.querySelector('#' + key + ' button');\n",
              "      quickchartButtonEl.disabled = true;  // To prevent multiple clicks.\n",
              "      quickchartButtonEl.classList.add('colab-df-spinner');\n",
              "      try {\n",
              "        const charts = await google.colab.kernel.invokeFunction(\n",
              "            'suggestCharts', [key], {});\n",
              "      } catch (error) {\n",
              "        console.error('Error during call to suggestCharts:', error);\n",
              "      }\n",
              "      quickchartButtonEl.classList.remove('colab-df-spinner');\n",
              "      quickchartButtonEl.classList.add('colab-df-quickchart-complete');\n",
              "    }\n",
              "    (() => {\n",
              "      let quickchartButtonEl =\n",
              "        document.querySelector('#df-b0313d3a-f0d2-4d5e-bf83-8b07c172ba82 button');\n",
              "      quickchartButtonEl.style.display =\n",
              "        google.colab.kernel.accessAllowed ? 'block' : 'none';\n",
              "    })();\n",
              "  </script>\n",
              "</div>\n",
              "    </div>\n",
              "  </div>\n"
            ]
          },
          "metadata": {},
          "execution_count": 48
        }
      ]
    },
    {
      "cell_type": "code",
      "source": [
        "# Tenim 66 columnas que contenen els valors demanats.\n",
        "# Una columna es pot cridar com\n",
        "vValues=[]\n",
        "for i in range(1,67):\n",
        "  vValues.append(np.array(data1.iloc[:,i]))"
      ],
      "metadata": {
        "id": "SNPrza1LU1n9"
      },
      "execution_count": 53,
      "outputs": []
    },
    {
      "cell_type": "code",
      "source": [
        "len(np.array(vValues).flatten())"
      ],
      "metadata": {
        "colab": {
          "base_uri": "https://localhost:8080/"
        },
        "id": "pzCxKDxEeXeT",
        "outputId": "518ca14b-913a-4181-845d-45a1bbea6683"
      },
      "execution_count": 56,
      "outputs": [
        {
          "output_type": "execute_result",
          "data": {
            "text/plain": [
              "26400"
            ]
          },
          "metadata": {},
          "execution_count": 56
        }
      ]
    },
    {
      "cell_type": "code",
      "source": [
        "data2['value'] = np.array(vValues).flatten()"
      ],
      "metadata": {
        "id": "u6KGb7Jzet3-"
      },
      "execution_count": 59,
      "outputs": []
    },
    {
      "cell_type": "code",
      "source": [
        "data2"
      ],
      "metadata": {
        "colab": {
          "base_uri": "https://localhost:8080/",
          "height": 423
        },
        "id": "tyZYyzD3fA7-",
        "outputId": "3bf4ec16-e0d8-43b9-f7ff-3866fe5fd018"
      },
      "execution_count": 60,
      "outputs": [
        {
          "output_type": "execute_result",
          "data": {
            "text/plain": [
              "       rank      value  year   category     values\n",
              "0         1   29541615  2001     Salary   29541615\n",
              "1         2   72965628  2001     Salary   72965628\n",
              "2         3  118397894  2001     Salary  118397894\n",
              "3         4  149288420  2001     Salary  149288420\n",
              "4         5  187829221  2001     Salary  187829221\n",
              "...     ...        ...   ...        ...        ...\n",
              "26395   396       2959  2022  employees       2959\n",
              "26396   397       3151  2022  employees       3151\n",
              "26397   398       3090  2022  employees       3090\n",
              "26398   399       2951  2022  employees       2951\n",
              "26399   400       3013  2022  employees       3013\n",
              "\n",
              "[26400 rows x 5 columns]"
            ],
            "text/html": [
              "\n",
              "  <div id=\"df-893b92c6-bcc1-4aa9-9bbc-08ea7c11e711\" class=\"colab-df-container\">\n",
              "    <div>\n",
              "<style scoped>\n",
              "    .dataframe tbody tr th:only-of-type {\n",
              "        vertical-align: middle;\n",
              "    }\n",
              "\n",
              "    .dataframe tbody tr th {\n",
              "        vertical-align: top;\n",
              "    }\n",
              "\n",
              "    .dataframe thead th {\n",
              "        text-align: right;\n",
              "    }\n",
              "</style>\n",
              "<table border=\"1\" class=\"dataframe\">\n",
              "  <thead>\n",
              "    <tr style=\"text-align: right;\">\n",
              "      <th></th>\n",
              "      <th>rank</th>\n",
              "      <th>value</th>\n",
              "      <th>year</th>\n",
              "      <th>category</th>\n",
              "      <th>values</th>\n",
              "    </tr>\n",
              "  </thead>\n",
              "  <tbody>\n",
              "    <tr>\n",
              "      <th>0</th>\n",
              "      <td>1</td>\n",
              "      <td>29541615</td>\n",
              "      <td>2001</td>\n",
              "      <td>Salary</td>\n",
              "      <td>29541615</td>\n",
              "    </tr>\n",
              "    <tr>\n",
              "      <th>1</th>\n",
              "      <td>2</td>\n",
              "      <td>72965628</td>\n",
              "      <td>2001</td>\n",
              "      <td>Salary</td>\n",
              "      <td>72965628</td>\n",
              "    </tr>\n",
              "    <tr>\n",
              "      <th>2</th>\n",
              "      <td>3</td>\n",
              "      <td>118397894</td>\n",
              "      <td>2001</td>\n",
              "      <td>Salary</td>\n",
              "      <td>118397894</td>\n",
              "    </tr>\n",
              "    <tr>\n",
              "      <th>3</th>\n",
              "      <td>4</td>\n",
              "      <td>149288420</td>\n",
              "      <td>2001</td>\n",
              "      <td>Salary</td>\n",
              "      <td>149288420</td>\n",
              "    </tr>\n",
              "    <tr>\n",
              "      <th>4</th>\n",
              "      <td>5</td>\n",
              "      <td>187829221</td>\n",
              "      <td>2001</td>\n",
              "      <td>Salary</td>\n",
              "      <td>187829221</td>\n",
              "    </tr>\n",
              "    <tr>\n",
              "      <th>...</th>\n",
              "      <td>...</td>\n",
              "      <td>...</td>\n",
              "      <td>...</td>\n",
              "      <td>...</td>\n",
              "      <td>...</td>\n",
              "    </tr>\n",
              "    <tr>\n",
              "      <th>26395</th>\n",
              "      <td>396</td>\n",
              "      <td>2959</td>\n",
              "      <td>2022</td>\n",
              "      <td>employees</td>\n",
              "      <td>2959</td>\n",
              "    </tr>\n",
              "    <tr>\n",
              "      <th>26396</th>\n",
              "      <td>397</td>\n",
              "      <td>3151</td>\n",
              "      <td>2022</td>\n",
              "      <td>employees</td>\n",
              "      <td>3151</td>\n",
              "    </tr>\n",
              "    <tr>\n",
              "      <th>26397</th>\n",
              "      <td>398</td>\n",
              "      <td>3090</td>\n",
              "      <td>2022</td>\n",
              "      <td>employees</td>\n",
              "      <td>3090</td>\n",
              "    </tr>\n",
              "    <tr>\n",
              "      <th>26398</th>\n",
              "      <td>399</td>\n",
              "      <td>2951</td>\n",
              "      <td>2022</td>\n",
              "      <td>employees</td>\n",
              "      <td>2951</td>\n",
              "    </tr>\n",
              "    <tr>\n",
              "      <th>26399</th>\n",
              "      <td>400</td>\n",
              "      <td>3013</td>\n",
              "      <td>2022</td>\n",
              "      <td>employees</td>\n",
              "      <td>3013</td>\n",
              "    </tr>\n",
              "  </tbody>\n",
              "</table>\n",
              "<p>26400 rows × 5 columns</p>\n",
              "</div>\n",
              "    <div class=\"colab-df-buttons\">\n",
              "\n",
              "  <div class=\"colab-df-container\">\n",
              "    <button class=\"colab-df-convert\" onclick=\"convertToInteractive('df-893b92c6-bcc1-4aa9-9bbc-08ea7c11e711')\"\n",
              "            title=\"Convert this dataframe to an interactive table.\"\n",
              "            style=\"display:none;\">\n",
              "\n",
              "  <svg xmlns=\"http://www.w3.org/2000/svg\" height=\"24px\" viewBox=\"0 -960 960 960\">\n",
              "    <path d=\"M120-120v-720h720v720H120Zm60-500h600v-160H180v160Zm220 220h160v-160H400v160Zm0 220h160v-160H400v160ZM180-400h160v-160H180v160Zm440 0h160v-160H620v160ZM180-180h160v-160H180v160Zm440 0h160v-160H620v160Z\"/>\n",
              "  </svg>\n",
              "    </button>\n",
              "\n",
              "  <style>\n",
              "    .colab-df-container {\n",
              "      display:flex;\n",
              "      gap: 12px;\n",
              "    }\n",
              "\n",
              "    .colab-df-convert {\n",
              "      background-color: #E8F0FE;\n",
              "      border: none;\n",
              "      border-radius: 50%;\n",
              "      cursor: pointer;\n",
              "      display: none;\n",
              "      fill: #1967D2;\n",
              "      height: 32px;\n",
              "      padding: 0 0 0 0;\n",
              "      width: 32px;\n",
              "    }\n",
              "\n",
              "    .colab-df-convert:hover {\n",
              "      background-color: #E2EBFA;\n",
              "      box-shadow: 0px 1px 2px rgba(60, 64, 67, 0.3), 0px 1px 3px 1px rgba(60, 64, 67, 0.15);\n",
              "      fill: #174EA6;\n",
              "    }\n",
              "\n",
              "    .colab-df-buttons div {\n",
              "      margin-bottom: 4px;\n",
              "    }\n",
              "\n",
              "    [theme=dark] .colab-df-convert {\n",
              "      background-color: #3B4455;\n",
              "      fill: #D2E3FC;\n",
              "    }\n",
              "\n",
              "    [theme=dark] .colab-df-convert:hover {\n",
              "      background-color: #434B5C;\n",
              "      box-shadow: 0px 1px 3px 1px rgba(0, 0, 0, 0.15);\n",
              "      filter: drop-shadow(0px 1px 2px rgba(0, 0, 0, 0.3));\n",
              "      fill: #FFFFFF;\n",
              "    }\n",
              "  </style>\n",
              "\n",
              "    <script>\n",
              "      const buttonEl =\n",
              "        document.querySelector('#df-893b92c6-bcc1-4aa9-9bbc-08ea7c11e711 button.colab-df-convert');\n",
              "      buttonEl.style.display =\n",
              "        google.colab.kernel.accessAllowed ? 'block' : 'none';\n",
              "\n",
              "      async function convertToInteractive(key) {\n",
              "        const element = document.querySelector('#df-893b92c6-bcc1-4aa9-9bbc-08ea7c11e711');\n",
              "        const dataTable =\n",
              "          await google.colab.kernel.invokeFunction('convertToInteractive',\n",
              "                                                    [key], {});\n",
              "        if (!dataTable) return;\n",
              "\n",
              "        const docLinkHtml = 'Like what you see? Visit the ' +\n",
              "          '<a target=\"_blank\" href=https://colab.research.google.com/notebooks/data_table.ipynb>data table notebook</a>'\n",
              "          + ' to learn more about interactive tables.';\n",
              "        element.innerHTML = '';\n",
              "        dataTable['output_type'] = 'display_data';\n",
              "        await google.colab.output.renderOutput(dataTable, element);\n",
              "        const docLink = document.createElement('div');\n",
              "        docLink.innerHTML = docLinkHtml;\n",
              "        element.appendChild(docLink);\n",
              "      }\n",
              "    </script>\n",
              "  </div>\n",
              "\n",
              "\n",
              "<div id=\"df-f95efd41-da4e-4ef3-9d33-82c9e1fd9493\">\n",
              "  <button class=\"colab-df-quickchart\" onclick=\"quickchart('df-f95efd41-da4e-4ef3-9d33-82c9e1fd9493')\"\n",
              "            title=\"Suggest charts\"\n",
              "            style=\"display:none;\">\n",
              "\n",
              "<svg xmlns=\"http://www.w3.org/2000/svg\" height=\"24px\"viewBox=\"0 0 24 24\"\n",
              "     width=\"24px\">\n",
              "    <g>\n",
              "        <path d=\"M19 3H5c-1.1 0-2 .9-2 2v14c0 1.1.9 2 2 2h14c1.1 0 2-.9 2-2V5c0-1.1-.9-2-2-2zM9 17H7v-7h2v7zm4 0h-2V7h2v10zm4 0h-2v-4h2v4z\"/>\n",
              "    </g>\n",
              "</svg>\n",
              "  </button>\n",
              "\n",
              "<style>\n",
              "  .colab-df-quickchart {\n",
              "      --bg-color: #E8F0FE;\n",
              "      --fill-color: #1967D2;\n",
              "      --hover-bg-color: #E2EBFA;\n",
              "      --hover-fill-color: #174EA6;\n",
              "      --disabled-fill-color: #AAA;\n",
              "      --disabled-bg-color: #DDD;\n",
              "  }\n",
              "\n",
              "  [theme=dark] .colab-df-quickchart {\n",
              "      --bg-color: #3B4455;\n",
              "      --fill-color: #D2E3FC;\n",
              "      --hover-bg-color: #434B5C;\n",
              "      --hover-fill-color: #FFFFFF;\n",
              "      --disabled-bg-color: #3B4455;\n",
              "      --disabled-fill-color: #666;\n",
              "  }\n",
              "\n",
              "  .colab-df-quickchart {\n",
              "    background-color: var(--bg-color);\n",
              "    border: none;\n",
              "    border-radius: 50%;\n",
              "    cursor: pointer;\n",
              "    display: none;\n",
              "    fill: var(--fill-color);\n",
              "    height: 32px;\n",
              "    padding: 0;\n",
              "    width: 32px;\n",
              "  }\n",
              "\n",
              "  .colab-df-quickchart:hover {\n",
              "    background-color: var(--hover-bg-color);\n",
              "    box-shadow: 0 1px 2px rgba(60, 64, 67, 0.3), 0 1px 3px 1px rgba(60, 64, 67, 0.15);\n",
              "    fill: var(--button-hover-fill-color);\n",
              "  }\n",
              "\n",
              "  .colab-df-quickchart-complete:disabled,\n",
              "  .colab-df-quickchart-complete:disabled:hover {\n",
              "    background-color: var(--disabled-bg-color);\n",
              "    fill: var(--disabled-fill-color);\n",
              "    box-shadow: none;\n",
              "  }\n",
              "\n",
              "  .colab-df-spinner {\n",
              "    border: 2px solid var(--fill-color);\n",
              "    border-color: transparent;\n",
              "    border-bottom-color: var(--fill-color);\n",
              "    animation:\n",
              "      spin 1s steps(1) infinite;\n",
              "  }\n",
              "\n",
              "  @keyframes spin {\n",
              "    0% {\n",
              "      border-color: transparent;\n",
              "      border-bottom-color: var(--fill-color);\n",
              "      border-left-color: var(--fill-color);\n",
              "    }\n",
              "    20% {\n",
              "      border-color: transparent;\n",
              "      border-left-color: var(--fill-color);\n",
              "      border-top-color: var(--fill-color);\n",
              "    }\n",
              "    30% {\n",
              "      border-color: transparent;\n",
              "      border-left-color: var(--fill-color);\n",
              "      border-top-color: var(--fill-color);\n",
              "      border-right-color: var(--fill-color);\n",
              "    }\n",
              "    40% {\n",
              "      border-color: transparent;\n",
              "      border-right-color: var(--fill-color);\n",
              "      border-top-color: var(--fill-color);\n",
              "    }\n",
              "    60% {\n",
              "      border-color: transparent;\n",
              "      border-right-color: var(--fill-color);\n",
              "    }\n",
              "    80% {\n",
              "      border-color: transparent;\n",
              "      border-right-color: var(--fill-color);\n",
              "      border-bottom-color: var(--fill-color);\n",
              "    }\n",
              "    90% {\n",
              "      border-color: transparent;\n",
              "      border-bottom-color: var(--fill-color);\n",
              "    }\n",
              "  }\n",
              "</style>\n",
              "\n",
              "  <script>\n",
              "    async function quickchart(key) {\n",
              "      const quickchartButtonEl =\n",
              "        document.querySelector('#' + key + ' button');\n",
              "      quickchartButtonEl.disabled = true;  // To prevent multiple clicks.\n",
              "      quickchartButtonEl.classList.add('colab-df-spinner');\n",
              "      try {\n",
              "        const charts = await google.colab.kernel.invokeFunction(\n",
              "            'suggestCharts', [key], {});\n",
              "      } catch (error) {\n",
              "        console.error('Error during call to suggestCharts:', error);\n",
              "      }\n",
              "      quickchartButtonEl.classList.remove('colab-df-spinner');\n",
              "      quickchartButtonEl.classList.add('colab-df-quickchart-complete');\n",
              "    }\n",
              "    (() => {\n",
              "      let quickchartButtonEl =\n",
              "        document.querySelector('#df-f95efd41-da4e-4ef3-9d33-82c9e1fd9493 button');\n",
              "      quickchartButtonEl.style.display =\n",
              "        google.colab.kernel.accessAllowed ? 'block' : 'none';\n",
              "    })();\n",
              "  </script>\n",
              "</div>\n",
              "    </div>\n",
              "  </div>\n"
            ]
          },
          "metadata": {},
          "execution_count": 60
        }
      ]
    },
    {
      "cell_type": "code",
      "source": [],
      "metadata": {
        "id": "-Jhs22fAfBaL"
      },
      "execution_count": null,
      "outputs": []
    }
  ]
}