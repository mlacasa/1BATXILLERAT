{
  "nbformat": 4,
  "nbformat_minor": 0,
  "metadata": {
    "colab": {
      "provenance": [],
      "mount_file_id": "1N7pln5czcGlc9QCv5G02EJl29hUHVuo4",
      "authorship_tag": "ABX9TyNqf9JiKxWSNszEa9AIvXMD",
      "include_colab_link": true
    },
    "kernelspec": {
      "name": "python3",
      "display_name": "Python 3"
    },
    "language_info": {
      "name": "python"
    }
  },
  "cells": [
    {
      "cell_type": "markdown",
      "metadata": {
        "id": "view-in-github",
        "colab_type": "text"
      },
      "source": [
        "<a href=\"https://colab.research.google.com/github/mlacasa/1BATXILLERAT/blob/main/Pr%C3%A0cticaBasedeDades.ipynb\" target=\"_parent\"><img src=\"https://colab.research.google.com/assets/colab-badge.svg\" alt=\"Open In Colab\"/></a>"
      ]
    },
    {
      "cell_type": "markdown",
      "source": [
        "# PRÀCTICA ASSIGNATURA MATEMÀTIQUES APLICADA 1 BAT\n",
        "## Marcos Lacasa\n",
        "\n",
        "1- Carreguem l'arxiu \"Distrubución Salarios\" de open-acces de l'agència tributària.\n",
        "\n"
      ],
      "metadata": {
        "id": "GPvuJUwifMqh"
      }
    },
    {
      "cell_type": "code",
      "execution_count": 1,
      "metadata": {
        "id": "uXVnh-r2fMLC"
      },
      "outputs": [],
      "source": [
        "# Importem llibreria pandas\n",
        "import pandas as pd"
      ]
    },
    {
      "cell_type": "code",
      "source": [
        "# definim el path des del nostre drive i carreguem el format csv.\n",
        "path = '/content/drive/MyDrive/Colab Notebooks/BAT/data2.csv'\n",
        "data = pd.read_csv(path)"
      ],
      "metadata": {
        "id": "dVSRt4RnfbX9"
      },
      "execution_count": 2,
      "outputs": []
    },
    {
      "cell_type": "code",
      "source": [
        "data.head()"
      ],
      "metadata": {
        "colab": {
          "base_uri": "https://localhost:8080/",
          "height": 255
        },
        "id": "CQlheGojfuvl",
        "outputId": "f376736d-2832-4e4a-e04d-0cac3073cdfe"
      },
      "execution_count": 3,
      "outputs": [
        {
          "output_type": "execute_result",
          "data": {
            "text/plain": [
              "   ID         2001         2002         2003         2004         2005  \\\n",
              "0   1   29,541,615   27,645,802   29,437,929   27,855,280   31,801,465   \n",
              "1   2   72,965,628   81,467,945   87,340,372   68,217,591   71,854,670   \n",
              "2   3  118,397,894  117,964,368  113,769,342  102,460,947  109,068,935   \n",
              "3   4  149,288,420  145,505,890  153,889,058  144,327,889  154,811,651   \n",
              "4   5  187,829,221  179,214,060  177,103,986  164,526,172  179,556,090   \n",
              "\n",
              "          2006         2007         2008         2009  ... 2013.4 2014.4  \\\n",
              "0   31,584,347   25,499,488   27,306,225   28,879,391  ...     93     94   \n",
              "1   72,813,778   59,420,277   62,227,592   67,221,958  ...    296    295   \n",
              "2  108,110,010   88,723,845   89,901,678   99,150,785  ...    498    497   \n",
              "3  154,349,596  130,103,812  129,261,037  140,721,048  ...    702    701   \n",
              "4  174,609,190  143,789,890  140,636,251  159,501,515  ...    896    898   \n",
              "\n",
              "  2015.4 2016.4 2017.4 2018.4 2019.4 2020.4 2021.4 2022.4  \n",
              "0     95     96     97     98     98    100     99     98  \n",
              "1    296    296    296    296    295    296    297    292  \n",
              "2    498    500    498    499    498    499    498    497  \n",
              "3    700    699    697    697    700    700    699    699  \n",
              "4    897    895    897    896    898    900    899    899  \n",
              "\n",
              "[5 rows x 111 columns]"
            ],
            "text/html": [
              "\n",
              "  <div id=\"df-36988d2a-613a-42a2-ab2c-fe60494d9424\" class=\"colab-df-container\">\n",
              "    <div>\n",
              "<style scoped>\n",
              "    .dataframe tbody tr th:only-of-type {\n",
              "        vertical-align: middle;\n",
              "    }\n",
              "\n",
              "    .dataframe tbody tr th {\n",
              "        vertical-align: top;\n",
              "    }\n",
              "\n",
              "    .dataframe thead th {\n",
              "        text-align: right;\n",
              "    }\n",
              "</style>\n",
              "<table border=\"1\" class=\"dataframe\">\n",
              "  <thead>\n",
              "    <tr style=\"text-align: right;\">\n",
              "      <th></th>\n",
              "      <th>ID</th>\n",
              "      <th>2001</th>\n",
              "      <th>2002</th>\n",
              "      <th>2003</th>\n",
              "      <th>2004</th>\n",
              "      <th>2005</th>\n",
              "      <th>2006</th>\n",
              "      <th>2007</th>\n",
              "      <th>2008</th>\n",
              "      <th>2009</th>\n",
              "      <th>...</th>\n",
              "      <th>2013.4</th>\n",
              "      <th>2014.4</th>\n",
              "      <th>2015.4</th>\n",
              "      <th>2016.4</th>\n",
              "      <th>2017.4</th>\n",
              "      <th>2018.4</th>\n",
              "      <th>2019.4</th>\n",
              "      <th>2020.4</th>\n",
              "      <th>2021.4</th>\n",
              "      <th>2022.4</th>\n",
              "    </tr>\n",
              "  </thead>\n",
              "  <tbody>\n",
              "    <tr>\n",
              "      <th>0</th>\n",
              "      <td>1</td>\n",
              "      <td>29,541,615</td>\n",
              "      <td>27,645,802</td>\n",
              "      <td>29,437,929</td>\n",
              "      <td>27,855,280</td>\n",
              "      <td>31,801,465</td>\n",
              "      <td>31,584,347</td>\n",
              "      <td>25,499,488</td>\n",
              "      <td>27,306,225</td>\n",
              "      <td>28,879,391</td>\n",
              "      <td>...</td>\n",
              "      <td>93</td>\n",
              "      <td>94</td>\n",
              "      <td>95</td>\n",
              "      <td>96</td>\n",
              "      <td>97</td>\n",
              "      <td>98</td>\n",
              "      <td>98</td>\n",
              "      <td>100</td>\n",
              "      <td>99</td>\n",
              "      <td>98</td>\n",
              "    </tr>\n",
              "    <tr>\n",
              "      <th>1</th>\n",
              "      <td>2</td>\n",
              "      <td>72,965,628</td>\n",
              "      <td>81,467,945</td>\n",
              "      <td>87,340,372</td>\n",
              "      <td>68,217,591</td>\n",
              "      <td>71,854,670</td>\n",
              "      <td>72,813,778</td>\n",
              "      <td>59,420,277</td>\n",
              "      <td>62,227,592</td>\n",
              "      <td>67,221,958</td>\n",
              "      <td>...</td>\n",
              "      <td>296</td>\n",
              "      <td>295</td>\n",
              "      <td>296</td>\n",
              "      <td>296</td>\n",
              "      <td>296</td>\n",
              "      <td>296</td>\n",
              "      <td>295</td>\n",
              "      <td>296</td>\n",
              "      <td>297</td>\n",
              "      <td>292</td>\n",
              "    </tr>\n",
              "    <tr>\n",
              "      <th>2</th>\n",
              "      <td>3</td>\n",
              "      <td>118,397,894</td>\n",
              "      <td>117,964,368</td>\n",
              "      <td>113,769,342</td>\n",
              "      <td>102,460,947</td>\n",
              "      <td>109,068,935</td>\n",
              "      <td>108,110,010</td>\n",
              "      <td>88,723,845</td>\n",
              "      <td>89,901,678</td>\n",
              "      <td>99,150,785</td>\n",
              "      <td>...</td>\n",
              "      <td>498</td>\n",
              "      <td>497</td>\n",
              "      <td>498</td>\n",
              "      <td>500</td>\n",
              "      <td>498</td>\n",
              "      <td>499</td>\n",
              "      <td>498</td>\n",
              "      <td>499</td>\n",
              "      <td>498</td>\n",
              "      <td>497</td>\n",
              "    </tr>\n",
              "    <tr>\n",
              "      <th>3</th>\n",
              "      <td>4</td>\n",
              "      <td>149,288,420</td>\n",
              "      <td>145,505,890</td>\n",
              "      <td>153,889,058</td>\n",
              "      <td>144,327,889</td>\n",
              "      <td>154,811,651</td>\n",
              "      <td>154,349,596</td>\n",
              "      <td>130,103,812</td>\n",
              "      <td>129,261,037</td>\n",
              "      <td>140,721,048</td>\n",
              "      <td>...</td>\n",
              "      <td>702</td>\n",
              "      <td>701</td>\n",
              "      <td>700</td>\n",
              "      <td>699</td>\n",
              "      <td>697</td>\n",
              "      <td>697</td>\n",
              "      <td>700</td>\n",
              "      <td>700</td>\n",
              "      <td>699</td>\n",
              "      <td>699</td>\n",
              "    </tr>\n",
              "    <tr>\n",
              "      <th>4</th>\n",
              "      <td>5</td>\n",
              "      <td>187,829,221</td>\n",
              "      <td>179,214,060</td>\n",
              "      <td>177,103,986</td>\n",
              "      <td>164,526,172</td>\n",
              "      <td>179,556,090</td>\n",
              "      <td>174,609,190</td>\n",
              "      <td>143,789,890</td>\n",
              "      <td>140,636,251</td>\n",
              "      <td>159,501,515</td>\n",
              "      <td>...</td>\n",
              "      <td>896</td>\n",
              "      <td>898</td>\n",
              "      <td>897</td>\n",
              "      <td>895</td>\n",
              "      <td>897</td>\n",
              "      <td>896</td>\n",
              "      <td>898</td>\n",
              "      <td>900</td>\n",
              "      <td>899</td>\n",
              "      <td>899</td>\n",
              "    </tr>\n",
              "  </tbody>\n",
              "</table>\n",
              "<p>5 rows × 111 columns</p>\n",
              "</div>\n",
              "    <div class=\"colab-df-buttons\">\n",
              "\n",
              "  <div class=\"colab-df-container\">\n",
              "    <button class=\"colab-df-convert\" onclick=\"convertToInteractive('df-36988d2a-613a-42a2-ab2c-fe60494d9424')\"\n",
              "            title=\"Convert this dataframe to an interactive table.\"\n",
              "            style=\"display:none;\">\n",
              "\n",
              "  <svg xmlns=\"http://www.w3.org/2000/svg\" height=\"24px\" viewBox=\"0 -960 960 960\">\n",
              "    <path d=\"M120-120v-720h720v720H120Zm60-500h600v-160H180v160Zm220 220h160v-160H400v160Zm0 220h160v-160H400v160ZM180-400h160v-160H180v160Zm440 0h160v-160H620v160ZM180-180h160v-160H180v160Zm440 0h160v-160H620v160Z\"/>\n",
              "  </svg>\n",
              "    </button>\n",
              "\n",
              "  <style>\n",
              "    .colab-df-container {\n",
              "      display:flex;\n",
              "      gap: 12px;\n",
              "    }\n",
              "\n",
              "    .colab-df-convert {\n",
              "      background-color: #E8F0FE;\n",
              "      border: none;\n",
              "      border-radius: 50%;\n",
              "      cursor: pointer;\n",
              "      display: none;\n",
              "      fill: #1967D2;\n",
              "      height: 32px;\n",
              "      padding: 0 0 0 0;\n",
              "      width: 32px;\n",
              "    }\n",
              "\n",
              "    .colab-df-convert:hover {\n",
              "      background-color: #E2EBFA;\n",
              "      box-shadow: 0px 1px 2px rgba(60, 64, 67, 0.3), 0px 1px 3px 1px rgba(60, 64, 67, 0.15);\n",
              "      fill: #174EA6;\n",
              "    }\n",
              "\n",
              "    .colab-df-buttons div {\n",
              "      margin-bottom: 4px;\n",
              "    }\n",
              "\n",
              "    [theme=dark] .colab-df-convert {\n",
              "      background-color: #3B4455;\n",
              "      fill: #D2E3FC;\n",
              "    }\n",
              "\n",
              "    [theme=dark] .colab-df-convert:hover {\n",
              "      background-color: #434B5C;\n",
              "      box-shadow: 0px 1px 3px 1px rgba(0, 0, 0, 0.15);\n",
              "      filter: drop-shadow(0px 1px 2px rgba(0, 0, 0, 0.3));\n",
              "      fill: #FFFFFF;\n",
              "    }\n",
              "  </style>\n",
              "\n",
              "    <script>\n",
              "      const buttonEl =\n",
              "        document.querySelector('#df-36988d2a-613a-42a2-ab2c-fe60494d9424 button.colab-df-convert');\n",
              "      buttonEl.style.display =\n",
              "        google.colab.kernel.accessAllowed ? 'block' : 'none';\n",
              "\n",
              "      async function convertToInteractive(key) {\n",
              "        const element = document.querySelector('#df-36988d2a-613a-42a2-ab2c-fe60494d9424');\n",
              "        const dataTable =\n",
              "          await google.colab.kernel.invokeFunction('convertToInteractive',\n",
              "                                                    [key], {});\n",
              "        if (!dataTable) return;\n",
              "\n",
              "        const docLinkHtml = 'Like what you see? Visit the ' +\n",
              "          '<a target=\"_blank\" href=https://colab.research.google.com/notebooks/data_table.ipynb>data table notebook</a>'\n",
              "          + ' to learn more about interactive tables.';\n",
              "        element.innerHTML = '';\n",
              "        dataTable['output_type'] = 'display_data';\n",
              "        await google.colab.output.renderOutput(dataTable, element);\n",
              "        const docLink = document.createElement('div');\n",
              "        docLink.innerHTML = docLinkHtml;\n",
              "        element.appendChild(docLink);\n",
              "      }\n",
              "    </script>\n",
              "  </div>\n",
              "\n",
              "\n",
              "<div id=\"df-06db8fae-460a-4a19-a9cd-bb29b8a7e770\">\n",
              "  <button class=\"colab-df-quickchart\" onclick=\"quickchart('df-06db8fae-460a-4a19-a9cd-bb29b8a7e770')\"\n",
              "            title=\"Suggest charts\"\n",
              "            style=\"display:none;\">\n",
              "\n",
              "<svg xmlns=\"http://www.w3.org/2000/svg\" height=\"24px\"viewBox=\"0 0 24 24\"\n",
              "     width=\"24px\">\n",
              "    <g>\n",
              "        <path d=\"M19 3H5c-1.1 0-2 .9-2 2v14c0 1.1.9 2 2 2h14c1.1 0 2-.9 2-2V5c0-1.1-.9-2-2-2zM9 17H7v-7h2v7zm4 0h-2V7h2v10zm4 0h-2v-4h2v4z\"/>\n",
              "    </g>\n",
              "</svg>\n",
              "  </button>\n",
              "\n",
              "<style>\n",
              "  .colab-df-quickchart {\n",
              "      --bg-color: #E8F0FE;\n",
              "      --fill-color: #1967D2;\n",
              "      --hover-bg-color: #E2EBFA;\n",
              "      --hover-fill-color: #174EA6;\n",
              "      --disabled-fill-color: #AAA;\n",
              "      --disabled-bg-color: #DDD;\n",
              "  }\n",
              "\n",
              "  [theme=dark] .colab-df-quickchart {\n",
              "      --bg-color: #3B4455;\n",
              "      --fill-color: #D2E3FC;\n",
              "      --hover-bg-color: #434B5C;\n",
              "      --hover-fill-color: #FFFFFF;\n",
              "      --disabled-bg-color: #3B4455;\n",
              "      --disabled-fill-color: #666;\n",
              "  }\n",
              "\n",
              "  .colab-df-quickchart {\n",
              "    background-color: var(--bg-color);\n",
              "    border: none;\n",
              "    border-radius: 50%;\n",
              "    cursor: pointer;\n",
              "    display: none;\n",
              "    fill: var(--fill-color);\n",
              "    height: 32px;\n",
              "    padding: 0;\n",
              "    width: 32px;\n",
              "  }\n",
              "\n",
              "  .colab-df-quickchart:hover {\n",
              "    background-color: var(--hover-bg-color);\n",
              "    box-shadow: 0 1px 2px rgba(60, 64, 67, 0.3), 0 1px 3px 1px rgba(60, 64, 67, 0.15);\n",
              "    fill: var(--button-hover-fill-color);\n",
              "  }\n",
              "\n",
              "  .colab-df-quickchart-complete:disabled,\n",
              "  .colab-df-quickchart-complete:disabled:hover {\n",
              "    background-color: var(--disabled-bg-color);\n",
              "    fill: var(--disabled-fill-color);\n",
              "    box-shadow: none;\n",
              "  }\n",
              "\n",
              "  .colab-df-spinner {\n",
              "    border: 2px solid var(--fill-color);\n",
              "    border-color: transparent;\n",
              "    border-bottom-color: var(--fill-color);\n",
              "    animation:\n",
              "      spin 1s steps(1) infinite;\n",
              "  }\n",
              "\n",
              "  @keyframes spin {\n",
              "    0% {\n",
              "      border-color: transparent;\n",
              "      border-bottom-color: var(--fill-color);\n",
              "      border-left-color: var(--fill-color);\n",
              "    }\n",
              "    20% {\n",
              "      border-color: transparent;\n",
              "      border-left-color: var(--fill-color);\n",
              "      border-top-color: var(--fill-color);\n",
              "    }\n",
              "    30% {\n",
              "      border-color: transparent;\n",
              "      border-left-color: var(--fill-color);\n",
              "      border-top-color: var(--fill-color);\n",
              "      border-right-color: var(--fill-color);\n",
              "    }\n",
              "    40% {\n",
              "      border-color: transparent;\n",
              "      border-right-color: var(--fill-color);\n",
              "      border-top-color: var(--fill-color);\n",
              "    }\n",
              "    60% {\n",
              "      border-color: transparent;\n",
              "      border-right-color: var(--fill-color);\n",
              "    }\n",
              "    80% {\n",
              "      border-color: transparent;\n",
              "      border-right-color: var(--fill-color);\n",
              "      border-bottom-color: var(--fill-color);\n",
              "    }\n",
              "    90% {\n",
              "      border-color: transparent;\n",
              "      border-bottom-color: var(--fill-color);\n",
              "    }\n",
              "  }\n",
              "</style>\n",
              "\n",
              "  <script>\n",
              "    async function quickchart(key) {\n",
              "      const quickchartButtonEl =\n",
              "        document.querySelector('#' + key + ' button');\n",
              "      quickchartButtonEl.disabled = true;  // To prevent multiple clicks.\n",
              "      quickchartButtonEl.classList.add('colab-df-spinner');\n",
              "      try {\n",
              "        const charts = await google.colab.kernel.invokeFunction(\n",
              "            'suggestCharts', [key], {});\n",
              "      } catch (error) {\n",
              "        console.error('Error during call to suggestCharts:', error);\n",
              "      }\n",
              "      quickchartButtonEl.classList.remove('colab-df-spinner');\n",
              "      quickchartButtonEl.classList.add('colab-df-quickchart-complete');\n",
              "    }\n",
              "    (() => {\n",
              "      let quickchartButtonEl =\n",
              "        document.querySelector('#df-06db8fae-460a-4a19-a9cd-bb29b8a7e770 button');\n",
              "      quickchartButtonEl.style.display =\n",
              "        google.colab.kernel.accessAllowed ? 'block' : 'none';\n",
              "    })();\n",
              "  </script>\n",
              "</div>\n",
              "    </div>\n",
              "  </div>\n"
            ]
          },
          "metadata": {},
          "execution_count": 3
        }
      ]
    },
    {
      "cell_type": "code",
      "source": [
        "data.shape"
      ],
      "metadata": {
        "colab": {
          "base_uri": "https://localhost:8080/"
        },
        "id": "0mFaneV4iffk",
        "outputId": "77a96a78-80db-436c-c60b-8aa39cbc7ab6"
      },
      "execution_count": 4,
      "outputs": [
        {
          "output_type": "execute_result",
          "data": {
            "text/plain": [
              "(400, 111)"
            ]
          },
          "metadata": {},
          "execution_count": 4
        }
      ]
    },
    {
      "cell_type": "markdown",
      "source": [
        "### OBSERVACIONS\n",
        "\n",
        "1- Comprobem que les dades son 'objectes' i els nombres tenen 2 commes.\n",
        "2- Hem de suprimir les commes de totes les columnes.\n",
        "\n",
        "Hi ha 400 files (una per cada tram) i 111 columnes (que son 5 categoríes per cada 22 anys analitzats."
      ],
      "metadata": {
        "id": "EYQ6aq78Y7C5"
      }
    },
    {
      "cell_type": "code",
      "source": [
        "# Convertim totes les columnes en \"string\" per poder utilitzar el mètode \"replace\"\n",
        "data = data.astype(str)"
      ],
      "metadata": {
        "id": "Rgm6xPFjgvh4"
      },
      "execution_count": 5,
      "outputs": []
    },
    {
      "cell_type": "code",
      "source": [
        "# Treiem les commes però ho fem amb un loop utilitzant 'iloc' de pandas\n",
        "for i in range(1,111):\n",
        "  data.iloc[:,i]=data.iloc[:,i].str.replace(',','')"
      ],
      "metadata": {
        "id": "aEjs_U4FhyrE"
      },
      "execution_count": 6,
      "outputs": []
    },
    {
      "cell_type": "markdown",
      "source": [
        "### documentació iloc de pandas\n",
        "\n",
        "https://pandas.pydata.org/docs/reference/api/pandas.DataFrame.iloc.html\n",
        "\n",
        "Visualitzar!!"
      ],
      "metadata": {
        "id": "bdYuGnkqZkQi"
      }
    },
    {
      "cell_type": "code",
      "source": [
        "# Seleccionem només les 3 primeres categoríes\n",
        "# Les altres dues, son vectors LD, 22x3+1 = 67 colummes\n",
        "data1 = data.iloc[:,0:67]"
      ],
      "metadata": {
        "id": "PmgjKyXilUMI"
      },
      "execution_count": 7,
      "outputs": []
    },
    {
      "cell_type": "code",
      "source": [
        "# Convertim totes les columnes com nombres naturals (enters)\n",
        "data1 = data1.astype(int)"
      ],
      "metadata": {
        "id": "3twcmecwkOoH"
      },
      "execution_count": 8,
      "outputs": []
    },
    {
      "cell_type": "code",
      "source": [
        "# comprobem i visualitzem les 5 primers registres\n",
        "data1.head()"
      ],
      "metadata": {
        "colab": {
          "base_uri": "https://localhost:8080/",
          "height": 255
        },
        "id": "Zj837w4HjzEb",
        "outputId": "3f4fb720-cd70-478f-8d83-6a224e6e77ae"
      },
      "execution_count": 9,
      "outputs": [
        {
          "output_type": "execute_result",
          "data": {
            "text/plain": [
              "   ID       2001       2002       2003       2004       2005       2006  \\\n",
              "0   1   29541615   27645802   29437929   27855280   31801465   31584347   \n",
              "1   2   72965628   81467945   87340372   68217591   71854670   72813778   \n",
              "2   3  118397894  117964368  113769342  102460947  109068935  108110010   \n",
              "3   4  149288420  145505890  153889058  144327889  154811651  154349596   \n",
              "4   5  187829221  179214060  177103986  164526172  179556090  174609190   \n",
              "\n",
              "        2007       2008       2009  ...  2013.2  2014.2  2015.2  2016.2  \\\n",
              "0   25499488   27306225   28879391  ...  384262  369837  360424  359341   \n",
              "1   59420277   62227592   67221958  ...  267525  263879  269745  270013   \n",
              "2   88723845   89901678   99150785  ...  227742  230155  235644  242355   \n",
              "3  130103812  129261037  140721048  ...  219984  217609  228211  242164   \n",
              "4  143789890  140636251  159501515  ...  204015  202091  214043  214446   \n",
              "\n",
              "   2017.2  2018.2  2019.2  2020.2  2021.2  2022.2  \n",
              "0  336325  328778  310946  270572  276001  244376  \n",
              "1  248893  233521  210956  194006  200752  186871  \n",
              "2  226109  210252  180277  170422  164307  155482  \n",
              "3  208225  192375  172495  164014  157221  149360  \n",
              "4  191359  186405  164155  164394  146657  139655  \n",
              "\n",
              "[5 rows x 67 columns]"
            ],
            "text/html": [
              "\n",
              "  <div id=\"df-df39478f-d63b-406a-b0e6-01697aee5691\" class=\"colab-df-container\">\n",
              "    <div>\n",
              "<style scoped>\n",
              "    .dataframe tbody tr th:only-of-type {\n",
              "        vertical-align: middle;\n",
              "    }\n",
              "\n",
              "    .dataframe tbody tr th {\n",
              "        vertical-align: top;\n",
              "    }\n",
              "\n",
              "    .dataframe thead th {\n",
              "        text-align: right;\n",
              "    }\n",
              "</style>\n",
              "<table border=\"1\" class=\"dataframe\">\n",
              "  <thead>\n",
              "    <tr style=\"text-align: right;\">\n",
              "      <th></th>\n",
              "      <th>ID</th>\n",
              "      <th>2001</th>\n",
              "      <th>2002</th>\n",
              "      <th>2003</th>\n",
              "      <th>2004</th>\n",
              "      <th>2005</th>\n",
              "      <th>2006</th>\n",
              "      <th>2007</th>\n",
              "      <th>2008</th>\n",
              "      <th>2009</th>\n",
              "      <th>...</th>\n",
              "      <th>2013.2</th>\n",
              "      <th>2014.2</th>\n",
              "      <th>2015.2</th>\n",
              "      <th>2016.2</th>\n",
              "      <th>2017.2</th>\n",
              "      <th>2018.2</th>\n",
              "      <th>2019.2</th>\n",
              "      <th>2020.2</th>\n",
              "      <th>2021.2</th>\n",
              "      <th>2022.2</th>\n",
              "    </tr>\n",
              "  </thead>\n",
              "  <tbody>\n",
              "    <tr>\n",
              "      <th>0</th>\n",
              "      <td>1</td>\n",
              "      <td>29541615</td>\n",
              "      <td>27645802</td>\n",
              "      <td>29437929</td>\n",
              "      <td>27855280</td>\n",
              "      <td>31801465</td>\n",
              "      <td>31584347</td>\n",
              "      <td>25499488</td>\n",
              "      <td>27306225</td>\n",
              "      <td>28879391</td>\n",
              "      <td>...</td>\n",
              "      <td>384262</td>\n",
              "      <td>369837</td>\n",
              "      <td>360424</td>\n",
              "      <td>359341</td>\n",
              "      <td>336325</td>\n",
              "      <td>328778</td>\n",
              "      <td>310946</td>\n",
              "      <td>270572</td>\n",
              "      <td>276001</td>\n",
              "      <td>244376</td>\n",
              "    </tr>\n",
              "    <tr>\n",
              "      <th>1</th>\n",
              "      <td>2</td>\n",
              "      <td>72965628</td>\n",
              "      <td>81467945</td>\n",
              "      <td>87340372</td>\n",
              "      <td>68217591</td>\n",
              "      <td>71854670</td>\n",
              "      <td>72813778</td>\n",
              "      <td>59420277</td>\n",
              "      <td>62227592</td>\n",
              "      <td>67221958</td>\n",
              "      <td>...</td>\n",
              "      <td>267525</td>\n",
              "      <td>263879</td>\n",
              "      <td>269745</td>\n",
              "      <td>270013</td>\n",
              "      <td>248893</td>\n",
              "      <td>233521</td>\n",
              "      <td>210956</td>\n",
              "      <td>194006</td>\n",
              "      <td>200752</td>\n",
              "      <td>186871</td>\n",
              "    </tr>\n",
              "    <tr>\n",
              "      <th>2</th>\n",
              "      <td>3</td>\n",
              "      <td>118397894</td>\n",
              "      <td>117964368</td>\n",
              "      <td>113769342</td>\n",
              "      <td>102460947</td>\n",
              "      <td>109068935</td>\n",
              "      <td>108110010</td>\n",
              "      <td>88723845</td>\n",
              "      <td>89901678</td>\n",
              "      <td>99150785</td>\n",
              "      <td>...</td>\n",
              "      <td>227742</td>\n",
              "      <td>230155</td>\n",
              "      <td>235644</td>\n",
              "      <td>242355</td>\n",
              "      <td>226109</td>\n",
              "      <td>210252</td>\n",
              "      <td>180277</td>\n",
              "      <td>170422</td>\n",
              "      <td>164307</td>\n",
              "      <td>155482</td>\n",
              "    </tr>\n",
              "    <tr>\n",
              "      <th>3</th>\n",
              "      <td>4</td>\n",
              "      <td>149288420</td>\n",
              "      <td>145505890</td>\n",
              "      <td>153889058</td>\n",
              "      <td>144327889</td>\n",
              "      <td>154811651</td>\n",
              "      <td>154349596</td>\n",
              "      <td>130103812</td>\n",
              "      <td>129261037</td>\n",
              "      <td>140721048</td>\n",
              "      <td>...</td>\n",
              "      <td>219984</td>\n",
              "      <td>217609</td>\n",
              "      <td>228211</td>\n",
              "      <td>242164</td>\n",
              "      <td>208225</td>\n",
              "      <td>192375</td>\n",
              "      <td>172495</td>\n",
              "      <td>164014</td>\n",
              "      <td>157221</td>\n",
              "      <td>149360</td>\n",
              "    </tr>\n",
              "    <tr>\n",
              "      <th>4</th>\n",
              "      <td>5</td>\n",
              "      <td>187829221</td>\n",
              "      <td>179214060</td>\n",
              "      <td>177103986</td>\n",
              "      <td>164526172</td>\n",
              "      <td>179556090</td>\n",
              "      <td>174609190</td>\n",
              "      <td>143789890</td>\n",
              "      <td>140636251</td>\n",
              "      <td>159501515</td>\n",
              "      <td>...</td>\n",
              "      <td>204015</td>\n",
              "      <td>202091</td>\n",
              "      <td>214043</td>\n",
              "      <td>214446</td>\n",
              "      <td>191359</td>\n",
              "      <td>186405</td>\n",
              "      <td>164155</td>\n",
              "      <td>164394</td>\n",
              "      <td>146657</td>\n",
              "      <td>139655</td>\n",
              "    </tr>\n",
              "  </tbody>\n",
              "</table>\n",
              "<p>5 rows × 67 columns</p>\n",
              "</div>\n",
              "    <div class=\"colab-df-buttons\">\n",
              "\n",
              "  <div class=\"colab-df-container\">\n",
              "    <button class=\"colab-df-convert\" onclick=\"convertToInteractive('df-df39478f-d63b-406a-b0e6-01697aee5691')\"\n",
              "            title=\"Convert this dataframe to an interactive table.\"\n",
              "            style=\"display:none;\">\n",
              "\n",
              "  <svg xmlns=\"http://www.w3.org/2000/svg\" height=\"24px\" viewBox=\"0 -960 960 960\">\n",
              "    <path d=\"M120-120v-720h720v720H120Zm60-500h600v-160H180v160Zm220 220h160v-160H400v160Zm0 220h160v-160H400v160ZM180-400h160v-160H180v160Zm440 0h160v-160H620v160ZM180-180h160v-160H180v160Zm440 0h160v-160H620v160Z\"/>\n",
              "  </svg>\n",
              "    </button>\n",
              "\n",
              "  <style>\n",
              "    .colab-df-container {\n",
              "      display:flex;\n",
              "      gap: 12px;\n",
              "    }\n",
              "\n",
              "    .colab-df-convert {\n",
              "      background-color: #E8F0FE;\n",
              "      border: none;\n",
              "      border-radius: 50%;\n",
              "      cursor: pointer;\n",
              "      display: none;\n",
              "      fill: #1967D2;\n",
              "      height: 32px;\n",
              "      padding: 0 0 0 0;\n",
              "      width: 32px;\n",
              "    }\n",
              "\n",
              "    .colab-df-convert:hover {\n",
              "      background-color: #E2EBFA;\n",
              "      box-shadow: 0px 1px 2px rgba(60, 64, 67, 0.3), 0px 1px 3px 1px rgba(60, 64, 67, 0.15);\n",
              "      fill: #174EA6;\n",
              "    }\n",
              "\n",
              "    .colab-df-buttons div {\n",
              "      margin-bottom: 4px;\n",
              "    }\n",
              "\n",
              "    [theme=dark] .colab-df-convert {\n",
              "      background-color: #3B4455;\n",
              "      fill: #D2E3FC;\n",
              "    }\n",
              "\n",
              "    [theme=dark] .colab-df-convert:hover {\n",
              "      background-color: #434B5C;\n",
              "      box-shadow: 0px 1px 3px 1px rgba(0, 0, 0, 0.15);\n",
              "      filter: drop-shadow(0px 1px 2px rgba(0, 0, 0, 0.3));\n",
              "      fill: #FFFFFF;\n",
              "    }\n",
              "  </style>\n",
              "\n",
              "    <script>\n",
              "      const buttonEl =\n",
              "        document.querySelector('#df-df39478f-d63b-406a-b0e6-01697aee5691 button.colab-df-convert');\n",
              "      buttonEl.style.display =\n",
              "        google.colab.kernel.accessAllowed ? 'block' : 'none';\n",
              "\n",
              "      async function convertToInteractive(key) {\n",
              "        const element = document.querySelector('#df-df39478f-d63b-406a-b0e6-01697aee5691');\n",
              "        const dataTable =\n",
              "          await google.colab.kernel.invokeFunction('convertToInteractive',\n",
              "                                                    [key], {});\n",
              "        if (!dataTable) return;\n",
              "\n",
              "        const docLinkHtml = 'Like what you see? Visit the ' +\n",
              "          '<a target=\"_blank\" href=https://colab.research.google.com/notebooks/data_table.ipynb>data table notebook</a>'\n",
              "          + ' to learn more about interactive tables.';\n",
              "        element.innerHTML = '';\n",
              "        dataTable['output_type'] = 'display_data';\n",
              "        await google.colab.output.renderOutput(dataTable, element);\n",
              "        const docLink = document.createElement('div');\n",
              "        docLink.innerHTML = docLinkHtml;\n",
              "        element.appendChild(docLink);\n",
              "      }\n",
              "    </script>\n",
              "  </div>\n",
              "\n",
              "\n",
              "<div id=\"df-e6582df5-8397-47c3-b194-3676146cf4f7\">\n",
              "  <button class=\"colab-df-quickchart\" onclick=\"quickchart('df-e6582df5-8397-47c3-b194-3676146cf4f7')\"\n",
              "            title=\"Suggest charts\"\n",
              "            style=\"display:none;\">\n",
              "\n",
              "<svg xmlns=\"http://www.w3.org/2000/svg\" height=\"24px\"viewBox=\"0 0 24 24\"\n",
              "     width=\"24px\">\n",
              "    <g>\n",
              "        <path d=\"M19 3H5c-1.1 0-2 .9-2 2v14c0 1.1.9 2 2 2h14c1.1 0 2-.9 2-2V5c0-1.1-.9-2-2-2zM9 17H7v-7h2v7zm4 0h-2V7h2v10zm4 0h-2v-4h2v4z\"/>\n",
              "    </g>\n",
              "</svg>\n",
              "  </button>\n",
              "\n",
              "<style>\n",
              "  .colab-df-quickchart {\n",
              "      --bg-color: #E8F0FE;\n",
              "      --fill-color: #1967D2;\n",
              "      --hover-bg-color: #E2EBFA;\n",
              "      --hover-fill-color: #174EA6;\n",
              "      --disabled-fill-color: #AAA;\n",
              "      --disabled-bg-color: #DDD;\n",
              "  }\n",
              "\n",
              "  [theme=dark] .colab-df-quickchart {\n",
              "      --bg-color: #3B4455;\n",
              "      --fill-color: #D2E3FC;\n",
              "      --hover-bg-color: #434B5C;\n",
              "      --hover-fill-color: #FFFFFF;\n",
              "      --disabled-bg-color: #3B4455;\n",
              "      --disabled-fill-color: #666;\n",
              "  }\n",
              "\n",
              "  .colab-df-quickchart {\n",
              "    background-color: var(--bg-color);\n",
              "    border: none;\n",
              "    border-radius: 50%;\n",
              "    cursor: pointer;\n",
              "    display: none;\n",
              "    fill: var(--fill-color);\n",
              "    height: 32px;\n",
              "    padding: 0;\n",
              "    width: 32px;\n",
              "  }\n",
              "\n",
              "  .colab-df-quickchart:hover {\n",
              "    background-color: var(--hover-bg-color);\n",
              "    box-shadow: 0 1px 2px rgba(60, 64, 67, 0.3), 0 1px 3px 1px rgba(60, 64, 67, 0.15);\n",
              "    fill: var(--button-hover-fill-color);\n",
              "  }\n",
              "\n",
              "  .colab-df-quickchart-complete:disabled,\n",
              "  .colab-df-quickchart-complete:disabled:hover {\n",
              "    background-color: var(--disabled-bg-color);\n",
              "    fill: var(--disabled-fill-color);\n",
              "    box-shadow: none;\n",
              "  }\n",
              "\n",
              "  .colab-df-spinner {\n",
              "    border: 2px solid var(--fill-color);\n",
              "    border-color: transparent;\n",
              "    border-bottom-color: var(--fill-color);\n",
              "    animation:\n",
              "      spin 1s steps(1) infinite;\n",
              "  }\n",
              "\n",
              "  @keyframes spin {\n",
              "    0% {\n",
              "      border-color: transparent;\n",
              "      border-bottom-color: var(--fill-color);\n",
              "      border-left-color: var(--fill-color);\n",
              "    }\n",
              "    20% {\n",
              "      border-color: transparent;\n",
              "      border-left-color: var(--fill-color);\n",
              "      border-top-color: var(--fill-color);\n",
              "    }\n",
              "    30% {\n",
              "      border-color: transparent;\n",
              "      border-left-color: var(--fill-color);\n",
              "      border-top-color: var(--fill-color);\n",
              "      border-right-color: var(--fill-color);\n",
              "    }\n",
              "    40% {\n",
              "      border-color: transparent;\n",
              "      border-right-color: var(--fill-color);\n",
              "      border-top-color: var(--fill-color);\n",
              "    }\n",
              "    60% {\n",
              "      border-color: transparent;\n",
              "      border-right-color: var(--fill-color);\n",
              "    }\n",
              "    80% {\n",
              "      border-color: transparent;\n",
              "      border-right-color: var(--fill-color);\n",
              "      border-bottom-color: var(--fill-color);\n",
              "    }\n",
              "    90% {\n",
              "      border-color: transparent;\n",
              "      border-bottom-color: var(--fill-color);\n",
              "    }\n",
              "  }\n",
              "</style>\n",
              "\n",
              "  <script>\n",
              "    async function quickchart(key) {\n",
              "      const quickchartButtonEl =\n",
              "        document.querySelector('#' + key + ' button');\n",
              "      quickchartButtonEl.disabled = true;  // To prevent multiple clicks.\n",
              "      quickchartButtonEl.classList.add('colab-df-spinner');\n",
              "      try {\n",
              "        const charts = await google.colab.kernel.invokeFunction(\n",
              "            'suggestCharts', [key], {});\n",
              "      } catch (error) {\n",
              "        console.error('Error during call to suggestCharts:', error);\n",
              "      }\n",
              "      quickchartButtonEl.classList.remove('colab-df-spinner');\n",
              "      quickchartButtonEl.classList.add('colab-df-quickchart-complete');\n",
              "    }\n",
              "    (() => {\n",
              "      let quickchartButtonEl =\n",
              "        document.querySelector('#df-e6582df5-8397-47c3-b194-3676146cf4f7 button');\n",
              "      quickchartButtonEl.style.display =\n",
              "        google.colab.kernel.accessAllowed ? 'block' : 'none';\n",
              "    })();\n",
              "  </script>\n",
              "</div>\n",
              "    </div>\n",
              "  </div>\n"
            ]
          },
          "metadata": {},
          "execution_count": 9
        }
      ]
    },
    {
      "cell_type": "markdown",
      "source": [
        "## Construcció de vectors\n",
        "\n",
        "Volem construir v4 vectors, amb una dimensió de 22 * 400 * 3 = 26.400 registres.\n",
        "Però pot ser útil construir-los per parts.\n",
        "\n",
        "Exemple\n",
        "\n",
        "Diferències en l'ús dels mètodes 'append' i 'extend'\n",
        "\n",
        "volem construir un vector que sigui:\n",
        "\n",
        "\n",
        "\n",
        "```\n",
        "vectorFinal = [1,2,3,1,2,3,1,2,3]\n",
        "```\n",
        "\n",
        "Observar que es repeteixen 3 cops els valors '1,2,3'"
      ],
      "metadata": {
        "id": "rfTIBZ3_sGmi"
      }
    },
    {
      "cell_type": "code",
      "source": [
        "# Mètode 'append'\n",
        "# Creem un vector inicial\n",
        "\n",
        "v1 = [1,2,3]\n",
        "# creem el vector final\n",
        "vectorFinal = [] # Un vector buit\n",
        "# utilitzem el mètode 'append'\n",
        "\n",
        "vectorFinal.append([v1]*3)"
      ],
      "metadata": {
        "id": "4KIpzHdwpdZ8"
      },
      "execution_count": 10,
      "outputs": []
    },
    {
      "cell_type": "code",
      "source": [
        "# No és exactament el que volem.\n",
        "vectorFinal"
      ],
      "metadata": {
        "colab": {
          "base_uri": "https://localhost:8080/"
        },
        "id": "Pm9k1htPtZ0Z",
        "outputId": "6f34ade7-5a65-44ec-bace-14e3685bccda"
      },
      "execution_count": 11,
      "outputs": [
        {
          "output_type": "execute_result",
          "data": {
            "text/plain": [
              "[[[1, 2, 3], [1, 2, 3], [1, 2, 3]]]"
            ]
          },
          "metadata": {},
          "execution_count": 11
        }
      ]
    },
    {
      "cell_type": "code",
      "source": [
        "#Hem creat un vector composat per altre vector que conté 3 vectors.\n",
        "len(vectorFinal)"
      ],
      "metadata": {
        "colab": {
          "base_uri": "https://localhost:8080/"
        },
        "id": "CSxdctHWtmZP",
        "outputId": "ded7e9cc-d4d6-42fc-cbaa-d0a18252995f"
      },
      "execution_count": 12,
      "outputs": [
        {
          "output_type": "execute_result",
          "data": {
            "text/plain": [
              "1"
            ]
          },
          "metadata": {},
          "execution_count": 12
        }
      ]
    },
    {
      "cell_type": "code",
      "source": [
        "len(vectorFinal[0])"
      ],
      "metadata": {
        "colab": {
          "base_uri": "https://localhost:8080/"
        },
        "id": "p-QLZJl8tyeO",
        "outputId": "0ba146b0-6adb-4249-a7b4-37fcc95c1dc0"
      },
      "execution_count": 13,
      "outputs": [
        {
          "output_type": "execute_result",
          "data": {
            "text/plain": [
              "3"
            ]
          },
          "metadata": {},
          "execution_count": 13
        }
      ]
    },
    {
      "cell_type": "code",
      "source": [
        "vectorFinal[0][0] # Observar que hi ha 2 nivells."
      ],
      "metadata": {
        "colab": {
          "base_uri": "https://localhost:8080/"
        },
        "id": "bxAqXJbdt1hD",
        "outputId": "d20a6bf1-62e8-45d8-8d39-2c7253b778cc"
      },
      "execution_count": 14,
      "outputs": [
        {
          "output_type": "execute_result",
          "data": {
            "text/plain": [
              "[1, 2, 3]"
            ]
          },
          "metadata": {},
          "execution_count": 14
        }
      ]
    },
    {
      "cell_type": "code",
      "source": [
        "# Mètode 'extend'\n",
        "v1 = [1,2,3]\n",
        "# creem el vector final\n",
        "vectorFinal = [] # Un vector buit\n",
        "# utilitzem el mètode 'append'\n",
        "\n",
        "vectorFinal.extend(v1)\n",
        "vectorFinal.extend(v1)\n",
        "vectorFinal.extend(v1)"
      ],
      "metadata": {
        "id": "NcqBy6oJpwEN"
      },
      "execution_count": 15,
      "outputs": []
    },
    {
      "cell_type": "code",
      "source": [
        "# Ara sí que és el que volem.\n",
        "vectorFinal"
      ],
      "metadata": {
        "colab": {
          "base_uri": "https://localhost:8080/"
        },
        "id": "YyCLgI22uIGj",
        "outputId": "2d7fb6c5-e6c6-424c-a5fe-59193127c05d"
      },
      "execution_count": 16,
      "outputs": [
        {
          "output_type": "execute_result",
          "data": {
            "text/plain": [
              "[1, 2, 3, 1, 2, 3, 1, 2, 3]"
            ]
          },
          "metadata": {},
          "execution_count": 16
        }
      ]
    },
    {
      "cell_type": "code",
      "source": [
        "v1 = [1,2,3] # creo dos vectors diferents\n",
        "v2 = [4,5,6]\n",
        "\n",
        "v3 = []\n",
        "v3.extend(v1) # afegir els vectos a altre general v3\n",
        "v3.extend(v2)\n",
        "v3 # Observar el resultat, un sol vector.\n"
      ],
      "metadata": {
        "id": "Vf2wgaOqqyxX",
        "colab": {
          "base_uri": "https://localhost:8080/"
        },
        "outputId": "1efbd43a-b442-4e0d-cd5a-9b92c9f5cfae"
      },
      "execution_count": 17,
      "outputs": [
        {
          "output_type": "execute_result",
          "data": {
            "text/plain": [
              "[1, 2, 3, 4, 5, 6]"
            ]
          },
          "metadata": {},
          "execution_count": 17
        }
      ]
    },
    {
      "cell_type": "code",
      "source": [
        "v1 = [1,2,3]\n",
        "v2 = [4,5,6]\n",
        "\n",
        "v3 = []\n",
        "v3.append(v1) # ara utilitzo el mètode append\n",
        "v3.append(v2)\n",
        "v3            # El resultat és 2 vectors."
      ],
      "metadata": {
        "id": "wRxzI6cWrlER",
        "colab": {
          "base_uri": "https://localhost:8080/"
        },
        "outputId": "3f6c412e-f933-4bcf-fc85-71cb236e6c0e"
      },
      "execution_count": 18,
      "outputs": [
        {
          "output_type": "execute_result",
          "data": {
            "text/plain": [
              "[[1, 2, 3], [4, 5, 6]]"
            ]
          },
          "metadata": {},
          "execution_count": 18
        }
      ]
    },
    {
      "cell_type": "markdown",
      "source": [
        "## Convertir un vector de vectors en un de sol\n",
        "\n",
        "Ara hem vist la diferència entre els mètodes 'append' i 'extend'.\\\n",
        "Però ens pot ser molt útil crear un vector de vectors, mitjançant un 'for'.\\\n",
        "\n",
        "### Mètode 'flatten'\n",
        "\n",
        "Aquest mètode pertany a una llibreria específica per treballar amb vectors, que és numpy. Anem a estudiar-ho."
      ],
      "metadata": {
        "id": "Soe7gefkuyrG"
      }
    },
    {
      "cell_type": "code",
      "source": [
        "import numpy as np    # Importem la llibreria numpy\n",
        "\n",
        "myarray = np.array([[1,2,3],[4,5,6]])  # creem un vector de vectors, i array = vector\n",
        "\n",
        "# Convertim a un sol vector\n",
        "myarray.flatten('A')"
      ],
      "metadata": {
        "colab": {
          "base_uri": "https://localhost:8080/"
        },
        "id": "PmbticYLvSIe",
        "outputId": "bf5fefc2-ae5c-4748-8443-8830aaf42655"
      },
      "execution_count": 19,
      "outputs": [
        {
          "output_type": "execute_result",
          "data": {
            "text/plain": [
              "array([1, 2, 3, 4, 5, 6])"
            ]
          },
          "metadata": {},
          "execution_count": 19
        }
      ]
    },
    {
      "cell_type": "markdown",
      "source": [
        "Els paràmetres de flatten són:\n",
        "\n",
        "\"C\" significa aplanar en ordre de fila principal (estil C). \\\n",
        "\"F\" significa aplanar en ordre de columna major (estil Fortran). \\\n",
        "\"A\" significa aplanar en l'ordre principal de la columna si a és Fortran contigu a la memòria, en cas contrari. \\\n",
        "\"K\" significa aplanar a en l'ordre en què apareixen els elements a la memòria.\n",
        "\n",
        "El valor predeterminat és \"C\"."
      ],
      "metadata": {
        "id": "BATsRhvGv9dG"
      }
    },
    {
      "cell_type": "code",
      "source": [
        "myarray.flatten('C') # Escollim C per defecte"
      ],
      "metadata": {
        "colab": {
          "base_uri": "https://localhost:8080/"
        },
        "id": "F0XRU06awKaG",
        "outputId": "f5ba70ae-2547-4f38-8334-b1b83a065fd0"
      },
      "execution_count": 20,
      "outputs": [
        {
          "output_type": "execute_result",
          "data": {
            "text/plain": [
              "array([1, 2, 3, 4, 5, 6])"
            ]
          },
          "metadata": {},
          "execution_count": 20
        }
      ]
    },
    {
      "cell_type": "code",
      "source": [
        "myarray.flatten() # Escollim C per defecte"
      ],
      "metadata": {
        "colab": {
          "base_uri": "https://localhost:8080/"
        },
        "id": "owpA1o0jwR8p",
        "outputId": "89b26e23-c31c-4057-919c-7fd1b1061cbf"
      },
      "execution_count": 21,
      "outputs": [
        {
          "output_type": "execute_result",
          "data": {
            "text/plain": [
              "array([1, 2, 3, 4, 5, 6])"
            ]
          },
          "metadata": {},
          "execution_count": 21
        }
      ]
    },
    {
      "cell_type": "code",
      "source": [
        "# Recordem\n",
        "v3"
      ],
      "metadata": {
        "colab": {
          "base_uri": "https://localhost:8080/"
        },
        "id": "XotCuBS5wiFx",
        "outputId": "ae3a54d1-aad6-41f5-c079-a245fbbea8a1"
      },
      "execution_count": 22,
      "outputs": [
        {
          "output_type": "execute_result",
          "data": {
            "text/plain": [
              "[[1, 2, 3], [4, 5, 6]]"
            ]
          },
          "metadata": {},
          "execution_count": 22
        }
      ]
    },
    {
      "cell_type": "code",
      "source": [
        "# Treballem amb numpy, convertim a array i utilitzem el mètode flatten\n",
        "np.array(v3).flatten()"
      ],
      "metadata": {
        "colab": {
          "base_uri": "https://localhost:8080/"
        },
        "id": "6hF4XYV-wkbR",
        "outputId": "e91114a0-9b7c-4e02-9031-8d25ac15194d"
      },
      "execution_count": 23,
      "outputs": [
        {
          "output_type": "execute_result",
          "data": {
            "text/plain": [
              "array([1, 2, 3, 4, 5, 6])"
            ]
          },
          "metadata": {},
          "execution_count": 23
        }
      ]
    },
    {
      "cell_type": "code",
      "source": [
        "# Així podem fer:\n",
        "vF = np.array(v3).flatten()\n",
        "vF"
      ],
      "metadata": {
        "colab": {
          "base_uri": "https://localhost:8080/"
        },
        "id": "-wGmeJIyw1ze",
        "outputId": "c98a9c9b-dbb2-44d3-813a-2bd56dfc9c1c"
      },
      "execution_count": 24,
      "outputs": [
        {
          "output_type": "execute_result",
          "data": {
            "text/plain": [
              "array([1, 2, 3, 4, 5, 6])"
            ]
          },
          "metadata": {},
          "execution_count": 24
        }
      ]
    },
    {
      "cell_type": "code",
      "source": [
        "data1.dtypes # Avaluem el tipus de cada columna"
      ],
      "metadata": {
        "colab": {
          "base_uri": "https://localhost:8080/"
        },
        "id": "dnnnCipGaNQ1",
        "outputId": "9e59716d-0d21-4cbd-f527-8219012d8af2"
      },
      "execution_count": 25,
      "outputs": [
        {
          "output_type": "execute_result",
          "data": {
            "text/plain": [
              "ID        int64\n",
              "2001      int64\n",
              "2002      int64\n",
              "2003      int64\n",
              "2004      int64\n",
              "          ...  \n",
              "2018.2    int64\n",
              "2019.2    int64\n",
              "2020.2    int64\n",
              "2021.2    int64\n",
              "2022.2    int64\n",
              "Length: 67, dtype: object"
            ]
          },
          "metadata": {},
          "execution_count": 25
        }
      ]
    },
    {
      "cell_type": "markdown",
      "source": [
        "## Preparem el format per analitzar i visualitzar\n",
        "\n",
        "Hem de crear la dataframe amb el disseny que ens interessa"
      ],
      "metadata": {
        "id": "8vB6aDSQaR1Y"
      }
    },
    {
      "cell_type": "code",
      "source": [
        "# Vector amb els anys, del 2001-2022\n",
        "years = list(range(2001,2023))\n",
        "print(\"el primer any és: \",years[0],\" i l'últim és \", years[21])"
      ],
      "metadata": {
        "colab": {
          "base_uri": "https://localhost:8080/"
        },
        "id": "mG52iBBSakBg",
        "outputId": "f8872673-572b-4613-c86d-093281521c2b"
      },
      "execution_count": 26,
      "outputs": [
        {
          "output_type": "stream",
          "name": "stdout",
          "text": [
            "el primer any és:  2001  i l'últim és  2022\n"
          ]
        }
      ]
    },
    {
      "cell_type": "code",
      "source": [
        "# Els noms de les columnes de la nostre DataFrame\n",
        "nomsCol = ['rank', 'value', 'year', 'category']"
      ],
      "metadata": {
        "id": "OziXQaMWpyVK"
      },
      "execution_count": 27,
      "outputs": []
    },
    {
      "cell_type": "code",
      "source": [
        "data2 = pd.DataFrame(columns = nomsCol)"
      ],
      "metadata": {
        "id": "N2u8ECtfm-Bu"
      },
      "execution_count": 28,
      "outputs": []
    },
    {
      "cell_type": "code",
      "source": [
        "data2"
      ],
      "metadata": {
        "colab": {
          "base_uri": "https://localhost:8080/",
          "height": 53
        },
        "id": "qjvbroLDnVvl",
        "outputId": "81dd4e95-61de-404c-99cd-b8ab48467b76"
      },
      "execution_count": 29,
      "outputs": [
        {
          "output_type": "execute_result",
          "data": {
            "text/plain": [
              "Empty DataFrame\n",
              "Columns: [rank, value, year, category]\n",
              "Index: []"
            ],
            "text/html": [
              "\n",
              "  <div id=\"df-dab74f25-f3e3-42a5-bb18-f35fc8877e2b\" class=\"colab-df-container\">\n",
              "    <div>\n",
              "<style scoped>\n",
              "    .dataframe tbody tr th:only-of-type {\n",
              "        vertical-align: middle;\n",
              "    }\n",
              "\n",
              "    .dataframe tbody tr th {\n",
              "        vertical-align: top;\n",
              "    }\n",
              "\n",
              "    .dataframe thead th {\n",
              "        text-align: right;\n",
              "    }\n",
              "</style>\n",
              "<table border=\"1\" class=\"dataframe\">\n",
              "  <thead>\n",
              "    <tr style=\"text-align: right;\">\n",
              "      <th></th>\n",
              "      <th>rank</th>\n",
              "      <th>value</th>\n",
              "      <th>year</th>\n",
              "      <th>category</th>\n",
              "    </tr>\n",
              "  </thead>\n",
              "  <tbody>\n",
              "  </tbody>\n",
              "</table>\n",
              "</div>\n",
              "    <div class=\"colab-df-buttons\">\n",
              "\n",
              "  <div class=\"colab-df-container\">\n",
              "    <button class=\"colab-df-convert\" onclick=\"convertToInteractive('df-dab74f25-f3e3-42a5-bb18-f35fc8877e2b')\"\n",
              "            title=\"Convert this dataframe to an interactive table.\"\n",
              "            style=\"display:none;\">\n",
              "\n",
              "  <svg xmlns=\"http://www.w3.org/2000/svg\" height=\"24px\" viewBox=\"0 -960 960 960\">\n",
              "    <path d=\"M120-120v-720h720v720H120Zm60-500h600v-160H180v160Zm220 220h160v-160H400v160Zm0 220h160v-160H400v160ZM180-400h160v-160H180v160Zm440 0h160v-160H620v160ZM180-180h160v-160H180v160Zm440 0h160v-160H620v160Z\"/>\n",
              "  </svg>\n",
              "    </button>\n",
              "\n",
              "  <style>\n",
              "    .colab-df-container {\n",
              "      display:flex;\n",
              "      gap: 12px;\n",
              "    }\n",
              "\n",
              "    .colab-df-convert {\n",
              "      background-color: #E8F0FE;\n",
              "      border: none;\n",
              "      border-radius: 50%;\n",
              "      cursor: pointer;\n",
              "      display: none;\n",
              "      fill: #1967D2;\n",
              "      height: 32px;\n",
              "      padding: 0 0 0 0;\n",
              "      width: 32px;\n",
              "    }\n",
              "\n",
              "    .colab-df-convert:hover {\n",
              "      background-color: #E2EBFA;\n",
              "      box-shadow: 0px 1px 2px rgba(60, 64, 67, 0.3), 0px 1px 3px 1px rgba(60, 64, 67, 0.15);\n",
              "      fill: #174EA6;\n",
              "    }\n",
              "\n",
              "    .colab-df-buttons div {\n",
              "      margin-bottom: 4px;\n",
              "    }\n",
              "\n",
              "    [theme=dark] .colab-df-convert {\n",
              "      background-color: #3B4455;\n",
              "      fill: #D2E3FC;\n",
              "    }\n",
              "\n",
              "    [theme=dark] .colab-df-convert:hover {\n",
              "      background-color: #434B5C;\n",
              "      box-shadow: 0px 1px 3px 1px rgba(0, 0, 0, 0.15);\n",
              "      filter: drop-shadow(0px 1px 2px rgba(0, 0, 0, 0.3));\n",
              "      fill: #FFFFFF;\n",
              "    }\n",
              "  </style>\n",
              "\n",
              "    <script>\n",
              "      const buttonEl =\n",
              "        document.querySelector('#df-dab74f25-f3e3-42a5-bb18-f35fc8877e2b button.colab-df-convert');\n",
              "      buttonEl.style.display =\n",
              "        google.colab.kernel.accessAllowed ? 'block' : 'none';\n",
              "\n",
              "      async function convertToInteractive(key) {\n",
              "        const element = document.querySelector('#df-dab74f25-f3e3-42a5-bb18-f35fc8877e2b');\n",
              "        const dataTable =\n",
              "          await google.colab.kernel.invokeFunction('convertToInteractive',\n",
              "                                                    [key], {});\n",
              "        if (!dataTable) return;\n",
              "\n",
              "        const docLinkHtml = 'Like what you see? Visit the ' +\n",
              "          '<a target=\"_blank\" href=https://colab.research.google.com/notebooks/data_table.ipynb>data table notebook</a>'\n",
              "          + ' to learn more about interactive tables.';\n",
              "        element.innerHTML = '';\n",
              "        dataTable['output_type'] = 'display_data';\n",
              "        await google.colab.output.renderOutput(dataTable, element);\n",
              "        const docLink = document.createElement('div');\n",
              "        docLink.innerHTML = docLinkHtml;\n",
              "        element.appendChild(docLink);\n",
              "      }\n",
              "    </script>\n",
              "  </div>\n",
              "\n",
              "    </div>\n",
              "  </div>\n"
            ]
          },
          "metadata": {},
          "execution_count": 29
        }
      ]
    },
    {
      "cell_type": "code",
      "source": [
        "# Les 3 categories son:\n",
        "cat = ['Salary', 'tax', 'employees']"
      ],
      "metadata": {
        "id": "Lr2C8WXHcHcX"
      },
      "execution_count": 30,
      "outputs": []
    },
    {
      "cell_type": "code",
      "source": [
        "v4=[[cat[0]]*10]    # deu cops la paraula 'Salary'\n",
        "v5 = [[cat[1]]*10]\n",
        "v6 = [[cat[2]]*10]"
      ],
      "metadata": {
        "id": "GG90_CW1rnk7"
      },
      "execution_count": 31,
      "outputs": []
    },
    {
      "cell_type": "code",
      "source": [
        "v4 # Ull viu, es un vector amb altre vector."
      ],
      "metadata": {
        "colab": {
          "base_uri": "https://localhost:8080/"
        },
        "id": "wXS9Afd-xGyL",
        "outputId": "89de64dd-5824-4fed-bf3b-57a7327cd6e9"
      },
      "execution_count": 32,
      "outputs": [
        {
          "output_type": "execute_result",
          "data": {
            "text/plain": [
              "[['Salary',\n",
              "  'Salary',\n",
              "  'Salary',\n",
              "  'Salary',\n",
              "  'Salary',\n",
              "  'Salary',\n",
              "  'Salary',\n",
              "  'Salary',\n",
              "  'Salary',\n",
              "  'Salary']]"
            ]
          },
          "metadata": {},
          "execution_count": 32
        }
      ]
    },
    {
      "cell_type": "code",
      "source": [
        "v7=[]\n",
        "v7.extend(v4)\n",
        "v7.extend(v5)\n",
        "v7.extend(v6)\n",
        "len(v7)"
      ],
      "metadata": {
        "colab": {
          "base_uri": "https://localhost:8080/"
        },
        "id": "h18no_r5r7Zi",
        "outputId": "abfa74dd-48b6-44ab-dc7a-d36d73c45bca"
      },
      "execution_count": 33,
      "outputs": [
        {
          "output_type": "execute_result",
          "data": {
            "text/plain": [
              "3"
            ]
          },
          "metadata": {},
          "execution_count": 33
        }
      ]
    },
    {
      "cell_type": "code",
      "source": [
        "v7[2] # Una mica llarg"
      ],
      "metadata": {
        "colab": {
          "base_uri": "https://localhost:8080/"
        },
        "id": "Oc8mKIrCsdPG",
        "outputId": "a1a49330-f63c-4036-a491-9e3fca9ee570"
      },
      "execution_count": 34,
      "outputs": [
        {
          "output_type": "execute_result",
          "data": {
            "text/plain": [
              "['employees',\n",
              " 'employees',\n",
              " 'employees',\n",
              " 'employees',\n",
              " 'employees',\n",
              " 'employees',\n",
              " 'employees',\n",
              " 'employees',\n",
              " 'employees',\n",
              " 'employees']"
            ]
          },
          "metadata": {},
          "execution_count": 34
        }
      ]
    },
    {
      "cell_type": "code",
      "source": [
        "np.array(cat) # Convertim a array mitjançant np.array()"
      ],
      "metadata": {
        "colab": {
          "base_uri": "https://localhost:8080/"
        },
        "id": "uBJom42AxSEx",
        "outputId": "9e78e869-3f74-419e-a56c-856981d957de"
      },
      "execution_count": 35,
      "outputs": [
        {
          "output_type": "execute_result",
          "data": {
            "text/plain": [
              "array(['Salary', 'tax', 'employees'], dtype='<U9')"
            ]
          },
          "metadata": {},
          "execution_count": 35
        }
      ]
    },
    {
      "cell_type": "code",
      "source": [
        "# Volem crear un vector que repeteixi 10 cops les categories, que tingui una llargada de 30 en un sol vector.\n",
        "[[x]*2 for x in cat]  # utilitzem la \"list comprehension\"\n",
        "\n",
        "# Llegir https://ellibrodepython.com/list-comprehension-python\n"
      ],
      "metadata": {
        "colab": {
          "base_uri": "https://localhost:8080/"
        },
        "id": "zYfMYCZ0xaGC",
        "outputId": "a00fd9c6-e2d4-44e6-eaf4-775ea0255c7e"
      },
      "execution_count": 36,
      "outputs": [
        {
          "output_type": "execute_result",
          "data": {
            "text/plain": [
              "[['Salary', 'Salary'], ['tax', 'tax'], ['employees', 'employees']]"
            ]
          },
          "metadata": {},
          "execution_count": 36
        }
      ]
    },
    {
      "cell_type": "code",
      "source": [
        "#Convertim en un sol vector en una sola línea de codi\n",
        "np.array([[x]*10 for x in cat]).flatten()"
      ],
      "metadata": {
        "colab": {
          "base_uri": "https://localhost:8080/"
        },
        "id": "_oFvUNZQx5gX",
        "outputId": "393e8182-5b4b-4c0f-bd31-8999d44398d9"
      },
      "execution_count": 37,
      "outputs": [
        {
          "output_type": "execute_result",
          "data": {
            "text/plain": [
              "array(['Salary', 'Salary', 'Salary', 'Salary', 'Salary', 'Salary',\n",
              "       'Salary', 'Salary', 'Salary', 'Salary', 'tax', 'tax', 'tax', 'tax',\n",
              "       'tax', 'tax', 'tax', 'tax', 'tax', 'tax', 'employees', 'employees',\n",
              "       'employees', 'employees', 'employees', 'employees', 'employees',\n",
              "       'employees', 'employees', 'employees'], dtype='<U9')"
            ]
          },
          "metadata": {},
          "execution_count": 37
        }
      ]
    },
    {
      "cell_type": "markdown",
      "source": [
        "## Exercici\n",
        "\n",
        "1- Configurar la 'data2' de la següent manera:\n",
        "\n",
        "- Ha de tenir tots els valors de 'data1' disposats en 4 columnes.\n",
        "- Heu de dissenyar una funció per tal de recòrrer les columnes i els valors.\n",
        "- cada valor ha d'estar definit per un rank, value, year i category.\n",
        "- Les 3 categoríes son al vector 'cat'.\n",
        "- Els anys són al vector 'years'.\n",
        "\n",
        "Exemple del 1er registre:\n",
        "\n",
        "rank | value | year | category  \n",
        "--- | --- |--- |--- |\n",
        "1|29541615|2001|Salary\n",
        "\n",
        "\n",
        "### Notes\n",
        "\n",
        "- Les columnes amb els anys pertànyen:\\\n",
        "1- 2001 -> Salary\\\n",
        "2- 2001.1 -> tax\\\n",
        "3- 2001.2 -> employees\n",
        "\n",
        "### Indicacions\n",
        "\n",
        "Realitzar els loops amb diferents \"for\" per recòrrer les columnes. Utilitzar adequadament el mètode 'iloc' de pandas.\n",
        "\n",
        "Recordar:\n",
        "\n",
        "\n",
        "```\n",
        "df.iloc[1:3, 0:3]\n",
        "```\n",
        "vol dir, escull les files 1,2 i les columnes 0,1,2.\n",
        "\n",
        "\n",
        "```\n",
        "df.iloc[:, 1]\n",
        "```\n",
        "vol dir, escull totes les files de la columna 2.\n"
      ],
      "metadata": {
        "id": "CjMkstDlbtG_"
      }
    },
    {
      "cell_type": "code",
      "source": [
        "# El primer valor del vector years és:\n",
        "years[0]"
      ],
      "metadata": {
        "colab": {
          "base_uri": "https://localhost:8080/"
        },
        "id": "ixY83hUeoSLn",
        "outputId": "5dfefc1e-7fb1-45fd-dbdf-15f86d6308c8"
      },
      "execution_count": 38,
      "outputs": [
        {
          "output_type": "execute_result",
          "data": {
            "text/plain": [
              "2001"
            ]
          },
          "metadata": {},
          "execution_count": 38
        }
      ]
    },
    {
      "cell_type": "code",
      "source": [
        "# Un vector que 400 registres de cada any:\n",
        "len(years) # Mida del vector"
      ],
      "metadata": {
        "colab": {
          "base_uri": "https://localhost:8080/"
        },
        "id": "7uutR6ESodof",
        "outputId": "79cab07f-f7b2-4420-eaf8-9b3863559930"
      },
      "execution_count": 39,
      "outputs": [
        {
          "output_type": "execute_result",
          "data": {
            "text/plain": [
              "22"
            ]
          },
          "metadata": {},
          "execution_count": 39
        }
      ]
    },
    {
      "cell_type": "code",
      "source": [
        "AllYF = []                    # Creo el vector amb 22 vectors amb 400 per cada any\n",
        "for i in range(len(years)):   # Recorrer els 22 anys\n",
        "  AllYF.append([years[i]]*400)# Afegeix un vector de cada any amb 400 repeticions\n",
        "# Ordre: append - afegir vector a AllYF\n",
        "# [years[i]]*400, fes un vector amb 400 cops el valor years[i]"
      ],
      "metadata": {
        "id": "TJe6l2q6onrJ"
      },
      "execution_count": 40,
      "outputs": []
    },
    {
      "cell_type": "code",
      "source": [
        "print(\"El vector medeix (té nombre de vectors): \", len(AllYF), \" i cada vector té una mida de \",len(AllYF[0]))"
      ],
      "metadata": {
        "colab": {
          "base_uri": "https://localhost:8080/"
        },
        "id": "GSQO97wPovDW",
        "outputId": "cd20a088-96ac-4274-95c4-ba7c75cd4cf7"
      },
      "execution_count": 41,
      "outputs": [
        {
          "output_type": "stream",
          "name": "stdout",
          "text": [
            "El vector medeix (té nombre de vectors):  22  i cada vector té una mida de  400\n"
          ]
        }
      ]
    },
    {
      "cell_type": "code",
      "source": [],
      "metadata": {
        "id": "sZySZfGhqrob"
      },
      "execution_count": 41,
      "outputs": []
    },
    {
      "cell_type": "markdown",
      "source": [
        "### Calcular el nombre de files\n",
        "\n",
        "400 registres de cada any i categoria\\\n",
        "22 anys\\\n",
        "3 categories\\\n",
        "Total = 400·22·3 = 26400 registres\n"
      ],
      "metadata": {
        "id": "qEcT1HCAyWMR"
      }
    },
    {
      "cell_type": "code",
      "source": [
        "# Càlcul del vector Categories\n",
        "import numpy as np\n",
        "data2 = pd.DataFrame(columns = nomsCol)"
      ],
      "metadata": {
        "id": "Efe2w5V-VfXT"
      },
      "execution_count": 42,
      "outputs": []
    },
    {
      "cell_type": "code",
      "source": [
        "data2['category'] = np.array([[x]*8800 for x in cat]).flatten()\n",
        "data2['rank'] = np.array([np.arange(1,401,1,dtype=int)]*66).flatten()\n",
        "data2['year'] = np.array([np.array([[x]*400 for x in np.array([np.arange(2001,2023,1,dtype=int)]).flatten()]).flatten()]*3).flatten()"
      ],
      "metadata": {
        "id": "7B7YdZMzVcp1"
      },
      "execution_count": 43,
      "outputs": []
    },
    {
      "cell_type": "code",
      "source": [
        "data2.shape"
      ],
      "metadata": {
        "id": "YYRO_bRUWDi5",
        "outputId": "d503cdc7-9a03-44c8-ccb2-224350874201",
        "colab": {
          "base_uri": "https://localhost:8080/"
        }
      },
      "execution_count": 44,
      "outputs": [
        {
          "output_type": "execute_result",
          "data": {
            "text/plain": [
              "(26400, 4)"
            ]
          },
          "metadata": {},
          "execution_count": 44
        }
      ]
    },
    {
      "cell_type": "code",
      "source": [
        "data2.iloc[10000,:]"
      ],
      "metadata": {
        "colab": {
          "base_uri": "https://localhost:8080/"
        },
        "id": "DvZu5HkY1Mzj",
        "outputId": "1573752b-ee1f-4727-f1e1-3e9a8a25e0d7"
      },
      "execution_count": 45,
      "outputs": [
        {
          "output_type": "execute_result",
          "data": {
            "text/plain": [
              "rank           1\n",
              "value        NaN\n",
              "year        2004\n",
              "category     tax\n",
              "Name: 10000, dtype: object"
            ]
          },
          "metadata": {},
          "execution_count": 45
        }
      ]
    },
    {
      "cell_type": "markdown",
      "source": [
        "### Columna Valors"
      ],
      "metadata": {
        "id": "BQSr4dPPUt6P"
      }
    },
    {
      "cell_type": "code",
      "source": [
        "data1.columns"
      ],
      "metadata": {
        "colab": {
          "base_uri": "https://localhost:8080/"
        },
        "id": "ews855TmUyl9",
        "outputId": "d8fe213e-6eba-4359-8460-4eb3ccc7542e"
      },
      "execution_count": 46,
      "outputs": [
        {
          "output_type": "execute_result",
          "data": {
            "text/plain": [
              "Index(['ID', '2001', '2002', '2003', '2004', '2005', '2006', '2007', '2008',\n",
              "       '2009', '2010', '2011', '2012', '2013', '2014', '2015', '2016', '2017',\n",
              "       '2018', '2019', '2020', '2021', '2022', '2001.1', '2002.1', '2003.1',\n",
              "       '2004.1', '2005.1', '2006.1', '2007.1', '2008.1', '2009.1', '2010.1',\n",
              "       '2011.1', '2012.1', '2013.1', '2014.1', '2015.1', '2016.1', '2017.1',\n",
              "       '2018.1', '2019.1', '2020.1', '2021.1', '2022.1', '2001.2', '2002.2',\n",
              "       '2003.2', '2004.2', '2005.2', '2006.2', '2007.2', '2008.2', '2009.2',\n",
              "       '2010.2', '2011.2', '2012.2', '2013.2', '2014.2', '2015.2', '2016.2',\n",
              "       '2017.2', '2018.2', '2019.2', '2020.2', '2021.2', '2022.2'],\n",
              "      dtype='object')"
            ]
          },
          "metadata": {},
          "execution_count": 46
        }
      ]
    },
    {
      "cell_type": "code",
      "source": [
        "data1.head()"
      ],
      "metadata": {
        "colab": {
          "base_uri": "https://localhost:8080/",
          "height": 255
        },
        "id": "b8LlSKpzU6a9",
        "outputId": "20e589d5-a4d4-4675-8667-0deb8b73e6f6"
      },
      "execution_count": 47,
      "outputs": [
        {
          "output_type": "execute_result",
          "data": {
            "text/plain": [
              "   ID       2001       2002       2003       2004       2005       2006  \\\n",
              "0   1   29541615   27645802   29437929   27855280   31801465   31584347   \n",
              "1   2   72965628   81467945   87340372   68217591   71854670   72813778   \n",
              "2   3  118397894  117964368  113769342  102460947  109068935  108110010   \n",
              "3   4  149288420  145505890  153889058  144327889  154811651  154349596   \n",
              "4   5  187829221  179214060  177103986  164526172  179556090  174609190   \n",
              "\n",
              "        2007       2008       2009  ...  2013.2  2014.2  2015.2  2016.2  \\\n",
              "0   25499488   27306225   28879391  ...  384262  369837  360424  359341   \n",
              "1   59420277   62227592   67221958  ...  267525  263879  269745  270013   \n",
              "2   88723845   89901678   99150785  ...  227742  230155  235644  242355   \n",
              "3  130103812  129261037  140721048  ...  219984  217609  228211  242164   \n",
              "4  143789890  140636251  159501515  ...  204015  202091  214043  214446   \n",
              "\n",
              "   2017.2  2018.2  2019.2  2020.2  2021.2  2022.2  \n",
              "0  336325  328778  310946  270572  276001  244376  \n",
              "1  248893  233521  210956  194006  200752  186871  \n",
              "2  226109  210252  180277  170422  164307  155482  \n",
              "3  208225  192375  172495  164014  157221  149360  \n",
              "4  191359  186405  164155  164394  146657  139655  \n",
              "\n",
              "[5 rows x 67 columns]"
            ],
            "text/html": [
              "\n",
              "  <div id=\"df-94335c06-1871-44b2-9c9b-919e6c301c96\" class=\"colab-df-container\">\n",
              "    <div>\n",
              "<style scoped>\n",
              "    .dataframe tbody tr th:only-of-type {\n",
              "        vertical-align: middle;\n",
              "    }\n",
              "\n",
              "    .dataframe tbody tr th {\n",
              "        vertical-align: top;\n",
              "    }\n",
              "\n",
              "    .dataframe thead th {\n",
              "        text-align: right;\n",
              "    }\n",
              "</style>\n",
              "<table border=\"1\" class=\"dataframe\">\n",
              "  <thead>\n",
              "    <tr style=\"text-align: right;\">\n",
              "      <th></th>\n",
              "      <th>ID</th>\n",
              "      <th>2001</th>\n",
              "      <th>2002</th>\n",
              "      <th>2003</th>\n",
              "      <th>2004</th>\n",
              "      <th>2005</th>\n",
              "      <th>2006</th>\n",
              "      <th>2007</th>\n",
              "      <th>2008</th>\n",
              "      <th>2009</th>\n",
              "      <th>...</th>\n",
              "      <th>2013.2</th>\n",
              "      <th>2014.2</th>\n",
              "      <th>2015.2</th>\n",
              "      <th>2016.2</th>\n",
              "      <th>2017.2</th>\n",
              "      <th>2018.2</th>\n",
              "      <th>2019.2</th>\n",
              "      <th>2020.2</th>\n",
              "      <th>2021.2</th>\n",
              "      <th>2022.2</th>\n",
              "    </tr>\n",
              "  </thead>\n",
              "  <tbody>\n",
              "    <tr>\n",
              "      <th>0</th>\n",
              "      <td>1</td>\n",
              "      <td>29541615</td>\n",
              "      <td>27645802</td>\n",
              "      <td>29437929</td>\n",
              "      <td>27855280</td>\n",
              "      <td>31801465</td>\n",
              "      <td>31584347</td>\n",
              "      <td>25499488</td>\n",
              "      <td>27306225</td>\n",
              "      <td>28879391</td>\n",
              "      <td>...</td>\n",
              "      <td>384262</td>\n",
              "      <td>369837</td>\n",
              "      <td>360424</td>\n",
              "      <td>359341</td>\n",
              "      <td>336325</td>\n",
              "      <td>328778</td>\n",
              "      <td>310946</td>\n",
              "      <td>270572</td>\n",
              "      <td>276001</td>\n",
              "      <td>244376</td>\n",
              "    </tr>\n",
              "    <tr>\n",
              "      <th>1</th>\n",
              "      <td>2</td>\n",
              "      <td>72965628</td>\n",
              "      <td>81467945</td>\n",
              "      <td>87340372</td>\n",
              "      <td>68217591</td>\n",
              "      <td>71854670</td>\n",
              "      <td>72813778</td>\n",
              "      <td>59420277</td>\n",
              "      <td>62227592</td>\n",
              "      <td>67221958</td>\n",
              "      <td>...</td>\n",
              "      <td>267525</td>\n",
              "      <td>263879</td>\n",
              "      <td>269745</td>\n",
              "      <td>270013</td>\n",
              "      <td>248893</td>\n",
              "      <td>233521</td>\n",
              "      <td>210956</td>\n",
              "      <td>194006</td>\n",
              "      <td>200752</td>\n",
              "      <td>186871</td>\n",
              "    </tr>\n",
              "    <tr>\n",
              "      <th>2</th>\n",
              "      <td>3</td>\n",
              "      <td>118397894</td>\n",
              "      <td>117964368</td>\n",
              "      <td>113769342</td>\n",
              "      <td>102460947</td>\n",
              "      <td>109068935</td>\n",
              "      <td>108110010</td>\n",
              "      <td>88723845</td>\n",
              "      <td>89901678</td>\n",
              "      <td>99150785</td>\n",
              "      <td>...</td>\n",
              "      <td>227742</td>\n",
              "      <td>230155</td>\n",
              "      <td>235644</td>\n",
              "      <td>242355</td>\n",
              "      <td>226109</td>\n",
              "      <td>210252</td>\n",
              "      <td>180277</td>\n",
              "      <td>170422</td>\n",
              "      <td>164307</td>\n",
              "      <td>155482</td>\n",
              "    </tr>\n",
              "    <tr>\n",
              "      <th>3</th>\n",
              "      <td>4</td>\n",
              "      <td>149288420</td>\n",
              "      <td>145505890</td>\n",
              "      <td>153889058</td>\n",
              "      <td>144327889</td>\n",
              "      <td>154811651</td>\n",
              "      <td>154349596</td>\n",
              "      <td>130103812</td>\n",
              "      <td>129261037</td>\n",
              "      <td>140721048</td>\n",
              "      <td>...</td>\n",
              "      <td>219984</td>\n",
              "      <td>217609</td>\n",
              "      <td>228211</td>\n",
              "      <td>242164</td>\n",
              "      <td>208225</td>\n",
              "      <td>192375</td>\n",
              "      <td>172495</td>\n",
              "      <td>164014</td>\n",
              "      <td>157221</td>\n",
              "      <td>149360</td>\n",
              "    </tr>\n",
              "    <tr>\n",
              "      <th>4</th>\n",
              "      <td>5</td>\n",
              "      <td>187829221</td>\n",
              "      <td>179214060</td>\n",
              "      <td>177103986</td>\n",
              "      <td>164526172</td>\n",
              "      <td>179556090</td>\n",
              "      <td>174609190</td>\n",
              "      <td>143789890</td>\n",
              "      <td>140636251</td>\n",
              "      <td>159501515</td>\n",
              "      <td>...</td>\n",
              "      <td>204015</td>\n",
              "      <td>202091</td>\n",
              "      <td>214043</td>\n",
              "      <td>214446</td>\n",
              "      <td>191359</td>\n",
              "      <td>186405</td>\n",
              "      <td>164155</td>\n",
              "      <td>164394</td>\n",
              "      <td>146657</td>\n",
              "      <td>139655</td>\n",
              "    </tr>\n",
              "  </tbody>\n",
              "</table>\n",
              "<p>5 rows × 67 columns</p>\n",
              "</div>\n",
              "    <div class=\"colab-df-buttons\">\n",
              "\n",
              "  <div class=\"colab-df-container\">\n",
              "    <button class=\"colab-df-convert\" onclick=\"convertToInteractive('df-94335c06-1871-44b2-9c9b-919e6c301c96')\"\n",
              "            title=\"Convert this dataframe to an interactive table.\"\n",
              "            style=\"display:none;\">\n",
              "\n",
              "  <svg xmlns=\"http://www.w3.org/2000/svg\" height=\"24px\" viewBox=\"0 -960 960 960\">\n",
              "    <path d=\"M120-120v-720h720v720H120Zm60-500h600v-160H180v160Zm220 220h160v-160H400v160Zm0 220h160v-160H400v160ZM180-400h160v-160H180v160Zm440 0h160v-160H620v160ZM180-180h160v-160H180v160Zm440 0h160v-160H620v160Z\"/>\n",
              "  </svg>\n",
              "    </button>\n",
              "\n",
              "  <style>\n",
              "    .colab-df-container {\n",
              "      display:flex;\n",
              "      gap: 12px;\n",
              "    }\n",
              "\n",
              "    .colab-df-convert {\n",
              "      background-color: #E8F0FE;\n",
              "      border: none;\n",
              "      border-radius: 50%;\n",
              "      cursor: pointer;\n",
              "      display: none;\n",
              "      fill: #1967D2;\n",
              "      height: 32px;\n",
              "      padding: 0 0 0 0;\n",
              "      width: 32px;\n",
              "    }\n",
              "\n",
              "    .colab-df-convert:hover {\n",
              "      background-color: #E2EBFA;\n",
              "      box-shadow: 0px 1px 2px rgba(60, 64, 67, 0.3), 0px 1px 3px 1px rgba(60, 64, 67, 0.15);\n",
              "      fill: #174EA6;\n",
              "    }\n",
              "\n",
              "    .colab-df-buttons div {\n",
              "      margin-bottom: 4px;\n",
              "    }\n",
              "\n",
              "    [theme=dark] .colab-df-convert {\n",
              "      background-color: #3B4455;\n",
              "      fill: #D2E3FC;\n",
              "    }\n",
              "\n",
              "    [theme=dark] .colab-df-convert:hover {\n",
              "      background-color: #434B5C;\n",
              "      box-shadow: 0px 1px 3px 1px rgba(0, 0, 0, 0.15);\n",
              "      filter: drop-shadow(0px 1px 2px rgba(0, 0, 0, 0.3));\n",
              "      fill: #FFFFFF;\n",
              "    }\n",
              "  </style>\n",
              "\n",
              "    <script>\n",
              "      const buttonEl =\n",
              "        document.querySelector('#df-94335c06-1871-44b2-9c9b-919e6c301c96 button.colab-df-convert');\n",
              "      buttonEl.style.display =\n",
              "        google.colab.kernel.accessAllowed ? 'block' : 'none';\n",
              "\n",
              "      async function convertToInteractive(key) {\n",
              "        const element = document.querySelector('#df-94335c06-1871-44b2-9c9b-919e6c301c96');\n",
              "        const dataTable =\n",
              "          await google.colab.kernel.invokeFunction('convertToInteractive',\n",
              "                                                    [key], {});\n",
              "        if (!dataTable) return;\n",
              "\n",
              "        const docLinkHtml = 'Like what you see? Visit the ' +\n",
              "          '<a target=\"_blank\" href=https://colab.research.google.com/notebooks/data_table.ipynb>data table notebook</a>'\n",
              "          + ' to learn more about interactive tables.';\n",
              "        element.innerHTML = '';\n",
              "        dataTable['output_type'] = 'display_data';\n",
              "        await google.colab.output.renderOutput(dataTable, element);\n",
              "        const docLink = document.createElement('div');\n",
              "        docLink.innerHTML = docLinkHtml;\n",
              "        element.appendChild(docLink);\n",
              "      }\n",
              "    </script>\n",
              "  </div>\n",
              "\n",
              "\n",
              "<div id=\"df-f7db26f2-6f47-446b-919a-5d39ed283bf5\">\n",
              "  <button class=\"colab-df-quickchart\" onclick=\"quickchart('df-f7db26f2-6f47-446b-919a-5d39ed283bf5')\"\n",
              "            title=\"Suggest charts\"\n",
              "            style=\"display:none;\">\n",
              "\n",
              "<svg xmlns=\"http://www.w3.org/2000/svg\" height=\"24px\"viewBox=\"0 0 24 24\"\n",
              "     width=\"24px\">\n",
              "    <g>\n",
              "        <path d=\"M19 3H5c-1.1 0-2 .9-2 2v14c0 1.1.9 2 2 2h14c1.1 0 2-.9 2-2V5c0-1.1-.9-2-2-2zM9 17H7v-7h2v7zm4 0h-2V7h2v10zm4 0h-2v-4h2v4z\"/>\n",
              "    </g>\n",
              "</svg>\n",
              "  </button>\n",
              "\n",
              "<style>\n",
              "  .colab-df-quickchart {\n",
              "      --bg-color: #E8F0FE;\n",
              "      --fill-color: #1967D2;\n",
              "      --hover-bg-color: #E2EBFA;\n",
              "      --hover-fill-color: #174EA6;\n",
              "      --disabled-fill-color: #AAA;\n",
              "      --disabled-bg-color: #DDD;\n",
              "  }\n",
              "\n",
              "  [theme=dark] .colab-df-quickchart {\n",
              "      --bg-color: #3B4455;\n",
              "      --fill-color: #D2E3FC;\n",
              "      --hover-bg-color: #434B5C;\n",
              "      --hover-fill-color: #FFFFFF;\n",
              "      --disabled-bg-color: #3B4455;\n",
              "      --disabled-fill-color: #666;\n",
              "  }\n",
              "\n",
              "  .colab-df-quickchart {\n",
              "    background-color: var(--bg-color);\n",
              "    border: none;\n",
              "    border-radius: 50%;\n",
              "    cursor: pointer;\n",
              "    display: none;\n",
              "    fill: var(--fill-color);\n",
              "    height: 32px;\n",
              "    padding: 0;\n",
              "    width: 32px;\n",
              "  }\n",
              "\n",
              "  .colab-df-quickchart:hover {\n",
              "    background-color: var(--hover-bg-color);\n",
              "    box-shadow: 0 1px 2px rgba(60, 64, 67, 0.3), 0 1px 3px 1px rgba(60, 64, 67, 0.15);\n",
              "    fill: var(--button-hover-fill-color);\n",
              "  }\n",
              "\n",
              "  .colab-df-quickchart-complete:disabled,\n",
              "  .colab-df-quickchart-complete:disabled:hover {\n",
              "    background-color: var(--disabled-bg-color);\n",
              "    fill: var(--disabled-fill-color);\n",
              "    box-shadow: none;\n",
              "  }\n",
              "\n",
              "  .colab-df-spinner {\n",
              "    border: 2px solid var(--fill-color);\n",
              "    border-color: transparent;\n",
              "    border-bottom-color: var(--fill-color);\n",
              "    animation:\n",
              "      spin 1s steps(1) infinite;\n",
              "  }\n",
              "\n",
              "  @keyframes spin {\n",
              "    0% {\n",
              "      border-color: transparent;\n",
              "      border-bottom-color: var(--fill-color);\n",
              "      border-left-color: var(--fill-color);\n",
              "    }\n",
              "    20% {\n",
              "      border-color: transparent;\n",
              "      border-left-color: var(--fill-color);\n",
              "      border-top-color: var(--fill-color);\n",
              "    }\n",
              "    30% {\n",
              "      border-color: transparent;\n",
              "      border-left-color: var(--fill-color);\n",
              "      border-top-color: var(--fill-color);\n",
              "      border-right-color: var(--fill-color);\n",
              "    }\n",
              "    40% {\n",
              "      border-color: transparent;\n",
              "      border-right-color: var(--fill-color);\n",
              "      border-top-color: var(--fill-color);\n",
              "    }\n",
              "    60% {\n",
              "      border-color: transparent;\n",
              "      border-right-color: var(--fill-color);\n",
              "    }\n",
              "    80% {\n",
              "      border-color: transparent;\n",
              "      border-right-color: var(--fill-color);\n",
              "      border-bottom-color: var(--fill-color);\n",
              "    }\n",
              "    90% {\n",
              "      border-color: transparent;\n",
              "      border-bottom-color: var(--fill-color);\n",
              "    }\n",
              "  }\n",
              "</style>\n",
              "\n",
              "  <script>\n",
              "    async function quickchart(key) {\n",
              "      const quickchartButtonEl =\n",
              "        document.querySelector('#' + key + ' button');\n",
              "      quickchartButtonEl.disabled = true;  // To prevent multiple clicks.\n",
              "      quickchartButtonEl.classList.add('colab-df-spinner');\n",
              "      try {\n",
              "        const charts = await google.colab.kernel.invokeFunction(\n",
              "            'suggestCharts', [key], {});\n",
              "      } catch (error) {\n",
              "        console.error('Error during call to suggestCharts:', error);\n",
              "      }\n",
              "      quickchartButtonEl.classList.remove('colab-df-spinner');\n",
              "      quickchartButtonEl.classList.add('colab-df-quickchart-complete');\n",
              "    }\n",
              "    (() => {\n",
              "      let quickchartButtonEl =\n",
              "        document.querySelector('#df-f7db26f2-6f47-446b-919a-5d39ed283bf5 button');\n",
              "      quickchartButtonEl.style.display =\n",
              "        google.colab.kernel.accessAllowed ? 'block' : 'none';\n",
              "    })();\n",
              "  </script>\n",
              "</div>\n",
              "    </div>\n",
              "  </div>\n"
            ]
          },
          "metadata": {},
          "execution_count": 47
        }
      ]
    },
    {
      "cell_type": "code",
      "source": [
        "# Tenim 66 columnas que contenen els valors demanats.\n",
        "# Una columna es pot cridar com\n",
        "vValues=[]\n",
        "for i in range(1,67):\n",
        "  vValues.append(np.array(data1.iloc[:,i]))"
      ],
      "metadata": {
        "id": "SNPrza1LU1n9"
      },
      "execution_count": 48,
      "outputs": []
    },
    {
      "cell_type": "code",
      "source": [
        "len(np.array(vValues).flatten())"
      ],
      "metadata": {
        "colab": {
          "base_uri": "https://localhost:8080/"
        },
        "id": "pzCxKDxEeXeT",
        "outputId": "ad998fa8-3fe8-477f-935a-cf36b3f02df5"
      },
      "execution_count": 49,
      "outputs": [
        {
          "output_type": "execute_result",
          "data": {
            "text/plain": [
              "26400"
            ]
          },
          "metadata": {},
          "execution_count": 49
        }
      ]
    },
    {
      "cell_type": "code",
      "source": [
        "data2['value'] = np.array(vValues).flatten()"
      ],
      "metadata": {
        "id": "u6KGb7Jzet3-"
      },
      "execution_count": 50,
      "outputs": []
    },
    {
      "cell_type": "code",
      "source": [
        "data2"
      ],
      "metadata": {
        "id": "tyZYyzD3fA7-",
        "outputId": "dba1391f-fbd2-4176-d4d6-c6bc15195a18",
        "colab": {
          "base_uri": "https://localhost:8080/",
          "height": 423
        }
      },
      "execution_count": 51,
      "outputs": [
        {
          "output_type": "execute_result",
          "data": {
            "text/plain": [
              "       rank      value  year   category\n",
              "0         1   29541615  2001     Salary\n",
              "1         2   72965628  2001     Salary\n",
              "2         3  118397894  2001     Salary\n",
              "3         4  149288420  2001     Salary\n",
              "4         5  187829221  2001     Salary\n",
              "...     ...        ...   ...        ...\n",
              "26395   396       2959  2022  employees\n",
              "26396   397       3151  2022  employees\n",
              "26397   398       3090  2022  employees\n",
              "26398   399       2951  2022  employees\n",
              "26399   400       3013  2022  employees\n",
              "\n",
              "[26400 rows x 4 columns]"
            ],
            "text/html": [
              "\n",
              "  <div id=\"df-ba57e7aa-3a15-49d5-9862-90463781b854\" class=\"colab-df-container\">\n",
              "    <div>\n",
              "<style scoped>\n",
              "    .dataframe tbody tr th:only-of-type {\n",
              "        vertical-align: middle;\n",
              "    }\n",
              "\n",
              "    .dataframe tbody tr th {\n",
              "        vertical-align: top;\n",
              "    }\n",
              "\n",
              "    .dataframe thead th {\n",
              "        text-align: right;\n",
              "    }\n",
              "</style>\n",
              "<table border=\"1\" class=\"dataframe\">\n",
              "  <thead>\n",
              "    <tr style=\"text-align: right;\">\n",
              "      <th></th>\n",
              "      <th>rank</th>\n",
              "      <th>value</th>\n",
              "      <th>year</th>\n",
              "      <th>category</th>\n",
              "    </tr>\n",
              "  </thead>\n",
              "  <tbody>\n",
              "    <tr>\n",
              "      <th>0</th>\n",
              "      <td>1</td>\n",
              "      <td>29541615</td>\n",
              "      <td>2001</td>\n",
              "      <td>Salary</td>\n",
              "    </tr>\n",
              "    <tr>\n",
              "      <th>1</th>\n",
              "      <td>2</td>\n",
              "      <td>72965628</td>\n",
              "      <td>2001</td>\n",
              "      <td>Salary</td>\n",
              "    </tr>\n",
              "    <tr>\n",
              "      <th>2</th>\n",
              "      <td>3</td>\n",
              "      <td>118397894</td>\n",
              "      <td>2001</td>\n",
              "      <td>Salary</td>\n",
              "    </tr>\n",
              "    <tr>\n",
              "      <th>3</th>\n",
              "      <td>4</td>\n",
              "      <td>149288420</td>\n",
              "      <td>2001</td>\n",
              "      <td>Salary</td>\n",
              "    </tr>\n",
              "    <tr>\n",
              "      <th>4</th>\n",
              "      <td>5</td>\n",
              "      <td>187829221</td>\n",
              "      <td>2001</td>\n",
              "      <td>Salary</td>\n",
              "    </tr>\n",
              "    <tr>\n",
              "      <th>...</th>\n",
              "      <td>...</td>\n",
              "      <td>...</td>\n",
              "      <td>...</td>\n",
              "      <td>...</td>\n",
              "    </tr>\n",
              "    <tr>\n",
              "      <th>26395</th>\n",
              "      <td>396</td>\n",
              "      <td>2959</td>\n",
              "      <td>2022</td>\n",
              "      <td>employees</td>\n",
              "    </tr>\n",
              "    <tr>\n",
              "      <th>26396</th>\n",
              "      <td>397</td>\n",
              "      <td>3151</td>\n",
              "      <td>2022</td>\n",
              "      <td>employees</td>\n",
              "    </tr>\n",
              "    <tr>\n",
              "      <th>26397</th>\n",
              "      <td>398</td>\n",
              "      <td>3090</td>\n",
              "      <td>2022</td>\n",
              "      <td>employees</td>\n",
              "    </tr>\n",
              "    <tr>\n",
              "      <th>26398</th>\n",
              "      <td>399</td>\n",
              "      <td>2951</td>\n",
              "      <td>2022</td>\n",
              "      <td>employees</td>\n",
              "    </tr>\n",
              "    <tr>\n",
              "      <th>26399</th>\n",
              "      <td>400</td>\n",
              "      <td>3013</td>\n",
              "      <td>2022</td>\n",
              "      <td>employees</td>\n",
              "    </tr>\n",
              "  </tbody>\n",
              "</table>\n",
              "<p>26400 rows × 4 columns</p>\n",
              "</div>\n",
              "    <div class=\"colab-df-buttons\">\n",
              "\n",
              "  <div class=\"colab-df-container\">\n",
              "    <button class=\"colab-df-convert\" onclick=\"convertToInteractive('df-ba57e7aa-3a15-49d5-9862-90463781b854')\"\n",
              "            title=\"Convert this dataframe to an interactive table.\"\n",
              "            style=\"display:none;\">\n",
              "\n",
              "  <svg xmlns=\"http://www.w3.org/2000/svg\" height=\"24px\" viewBox=\"0 -960 960 960\">\n",
              "    <path d=\"M120-120v-720h720v720H120Zm60-500h600v-160H180v160Zm220 220h160v-160H400v160Zm0 220h160v-160H400v160ZM180-400h160v-160H180v160Zm440 0h160v-160H620v160ZM180-180h160v-160H180v160Zm440 0h160v-160H620v160Z\"/>\n",
              "  </svg>\n",
              "    </button>\n",
              "\n",
              "  <style>\n",
              "    .colab-df-container {\n",
              "      display:flex;\n",
              "      gap: 12px;\n",
              "    }\n",
              "\n",
              "    .colab-df-convert {\n",
              "      background-color: #E8F0FE;\n",
              "      border: none;\n",
              "      border-radius: 50%;\n",
              "      cursor: pointer;\n",
              "      display: none;\n",
              "      fill: #1967D2;\n",
              "      height: 32px;\n",
              "      padding: 0 0 0 0;\n",
              "      width: 32px;\n",
              "    }\n",
              "\n",
              "    .colab-df-convert:hover {\n",
              "      background-color: #E2EBFA;\n",
              "      box-shadow: 0px 1px 2px rgba(60, 64, 67, 0.3), 0px 1px 3px 1px rgba(60, 64, 67, 0.15);\n",
              "      fill: #174EA6;\n",
              "    }\n",
              "\n",
              "    .colab-df-buttons div {\n",
              "      margin-bottom: 4px;\n",
              "    }\n",
              "\n",
              "    [theme=dark] .colab-df-convert {\n",
              "      background-color: #3B4455;\n",
              "      fill: #D2E3FC;\n",
              "    }\n",
              "\n",
              "    [theme=dark] .colab-df-convert:hover {\n",
              "      background-color: #434B5C;\n",
              "      box-shadow: 0px 1px 3px 1px rgba(0, 0, 0, 0.15);\n",
              "      filter: drop-shadow(0px 1px 2px rgba(0, 0, 0, 0.3));\n",
              "      fill: #FFFFFF;\n",
              "    }\n",
              "  </style>\n",
              "\n",
              "    <script>\n",
              "      const buttonEl =\n",
              "        document.querySelector('#df-ba57e7aa-3a15-49d5-9862-90463781b854 button.colab-df-convert');\n",
              "      buttonEl.style.display =\n",
              "        google.colab.kernel.accessAllowed ? 'block' : 'none';\n",
              "\n",
              "      async function convertToInteractive(key) {\n",
              "        const element = document.querySelector('#df-ba57e7aa-3a15-49d5-9862-90463781b854');\n",
              "        const dataTable =\n",
              "          await google.colab.kernel.invokeFunction('convertToInteractive',\n",
              "                                                    [key], {});\n",
              "        if (!dataTable) return;\n",
              "\n",
              "        const docLinkHtml = 'Like what you see? Visit the ' +\n",
              "          '<a target=\"_blank\" href=https://colab.research.google.com/notebooks/data_table.ipynb>data table notebook</a>'\n",
              "          + ' to learn more about interactive tables.';\n",
              "        element.innerHTML = '';\n",
              "        dataTable['output_type'] = 'display_data';\n",
              "        await google.colab.output.renderOutput(dataTable, element);\n",
              "        const docLink = document.createElement('div');\n",
              "        docLink.innerHTML = docLinkHtml;\n",
              "        element.appendChild(docLink);\n",
              "      }\n",
              "    </script>\n",
              "  </div>\n",
              "\n",
              "\n",
              "<div id=\"df-7d58c0f6-ee90-4036-bf63-f2be6a49a5f4\">\n",
              "  <button class=\"colab-df-quickchart\" onclick=\"quickchart('df-7d58c0f6-ee90-4036-bf63-f2be6a49a5f4')\"\n",
              "            title=\"Suggest charts\"\n",
              "            style=\"display:none;\">\n",
              "\n",
              "<svg xmlns=\"http://www.w3.org/2000/svg\" height=\"24px\"viewBox=\"0 0 24 24\"\n",
              "     width=\"24px\">\n",
              "    <g>\n",
              "        <path d=\"M19 3H5c-1.1 0-2 .9-2 2v14c0 1.1.9 2 2 2h14c1.1 0 2-.9 2-2V5c0-1.1-.9-2-2-2zM9 17H7v-7h2v7zm4 0h-2V7h2v10zm4 0h-2v-4h2v4z\"/>\n",
              "    </g>\n",
              "</svg>\n",
              "  </button>\n",
              "\n",
              "<style>\n",
              "  .colab-df-quickchart {\n",
              "      --bg-color: #E8F0FE;\n",
              "      --fill-color: #1967D2;\n",
              "      --hover-bg-color: #E2EBFA;\n",
              "      --hover-fill-color: #174EA6;\n",
              "      --disabled-fill-color: #AAA;\n",
              "      --disabled-bg-color: #DDD;\n",
              "  }\n",
              "\n",
              "  [theme=dark] .colab-df-quickchart {\n",
              "      --bg-color: #3B4455;\n",
              "      --fill-color: #D2E3FC;\n",
              "      --hover-bg-color: #434B5C;\n",
              "      --hover-fill-color: #FFFFFF;\n",
              "      --disabled-bg-color: #3B4455;\n",
              "      --disabled-fill-color: #666;\n",
              "  }\n",
              "\n",
              "  .colab-df-quickchart {\n",
              "    background-color: var(--bg-color);\n",
              "    border: none;\n",
              "    border-radius: 50%;\n",
              "    cursor: pointer;\n",
              "    display: none;\n",
              "    fill: var(--fill-color);\n",
              "    height: 32px;\n",
              "    padding: 0;\n",
              "    width: 32px;\n",
              "  }\n",
              "\n",
              "  .colab-df-quickchart:hover {\n",
              "    background-color: var(--hover-bg-color);\n",
              "    box-shadow: 0 1px 2px rgba(60, 64, 67, 0.3), 0 1px 3px 1px rgba(60, 64, 67, 0.15);\n",
              "    fill: var(--button-hover-fill-color);\n",
              "  }\n",
              "\n",
              "  .colab-df-quickchart-complete:disabled,\n",
              "  .colab-df-quickchart-complete:disabled:hover {\n",
              "    background-color: var(--disabled-bg-color);\n",
              "    fill: var(--disabled-fill-color);\n",
              "    box-shadow: none;\n",
              "  }\n",
              "\n",
              "  .colab-df-spinner {\n",
              "    border: 2px solid var(--fill-color);\n",
              "    border-color: transparent;\n",
              "    border-bottom-color: var(--fill-color);\n",
              "    animation:\n",
              "      spin 1s steps(1) infinite;\n",
              "  }\n",
              "\n",
              "  @keyframes spin {\n",
              "    0% {\n",
              "      border-color: transparent;\n",
              "      border-bottom-color: var(--fill-color);\n",
              "      border-left-color: var(--fill-color);\n",
              "    }\n",
              "    20% {\n",
              "      border-color: transparent;\n",
              "      border-left-color: var(--fill-color);\n",
              "      border-top-color: var(--fill-color);\n",
              "    }\n",
              "    30% {\n",
              "      border-color: transparent;\n",
              "      border-left-color: var(--fill-color);\n",
              "      border-top-color: var(--fill-color);\n",
              "      border-right-color: var(--fill-color);\n",
              "    }\n",
              "    40% {\n",
              "      border-color: transparent;\n",
              "      border-right-color: var(--fill-color);\n",
              "      border-top-color: var(--fill-color);\n",
              "    }\n",
              "    60% {\n",
              "      border-color: transparent;\n",
              "      border-right-color: var(--fill-color);\n",
              "    }\n",
              "    80% {\n",
              "      border-color: transparent;\n",
              "      border-right-color: var(--fill-color);\n",
              "      border-bottom-color: var(--fill-color);\n",
              "    }\n",
              "    90% {\n",
              "      border-color: transparent;\n",
              "      border-bottom-color: var(--fill-color);\n",
              "    }\n",
              "  }\n",
              "</style>\n",
              "\n",
              "  <script>\n",
              "    async function quickchart(key) {\n",
              "      const quickchartButtonEl =\n",
              "        document.querySelector('#' + key + ' button');\n",
              "      quickchartButtonEl.disabled = true;  // To prevent multiple clicks.\n",
              "      quickchartButtonEl.classList.add('colab-df-spinner');\n",
              "      try {\n",
              "        const charts = await google.colab.kernel.invokeFunction(\n",
              "            'suggestCharts', [key], {});\n",
              "      } catch (error) {\n",
              "        console.error('Error during call to suggestCharts:', error);\n",
              "      }\n",
              "      quickchartButtonEl.classList.remove('colab-df-spinner');\n",
              "      quickchartButtonEl.classList.add('colab-df-quickchart-complete');\n",
              "    }\n",
              "    (() => {\n",
              "      let quickchartButtonEl =\n",
              "        document.querySelector('#df-7d58c0f6-ee90-4036-bf63-f2be6a49a5f4 button');\n",
              "      quickchartButtonEl.style.display =\n",
              "        google.colab.kernel.accessAllowed ? 'block' : 'none';\n",
              "    })();\n",
              "  </script>\n",
              "</div>\n",
              "    </div>\n",
              "  </div>\n"
            ]
          },
          "metadata": {},
          "execution_count": 51
        }
      ]
    },
    {
      "cell_type": "code",
      "source": [
        "import plotly.express as px"
      ],
      "metadata": {
        "id": "-Jhs22fAfBaL"
      },
      "execution_count": 52,
      "outputs": []
    },
    {
      "cell_type": "markdown",
      "source": [
        "# Realitzar gràfic animat amb valors i anys\n",
        "\n",
        "1- Estudia la llibreria Plotly\\\n",
        "\n",
        "Omple els arguments:\n",
        "\n",
        "\n",
        "\n",
        "```\n",
        "(df, x=\"continent\", y=\"pop\", color=\"continent\",\n",
        "  animation_frame=\"year\", animation_group=\"country\", range_y=[0,4000000000])\n",
        "```\n",
        "\n",
        "\n",
        "\n",
        "x=\\\n",
        "y=\\\n",
        "color=\\\n",
        "animation_frame='year'\\\n",
        "range_y= Avaluar el rang"
      ],
      "metadata": {
        "id": "aAzUyHX56p-D"
      }
    },
    {
      "cell_type": "code",
      "source": [
        "data2.describe()"
      ],
      "metadata": {
        "colab": {
          "base_uri": "https://localhost:8080/",
          "height": 300
        },
        "id": "OsZjhzXC1bIS",
        "outputId": "1845460c-956c-4df3-928e-4e030e965d3f"
      },
      "execution_count": 58,
      "outputs": [
        {
          "output_type": "execute_result",
          "data": {
            "text/plain": [
              "              rank         value          year\n",
              "count  26400.00000  2.640000e+04  26400.000000\n",
              "mean     200.50000  3.168356e+08   2011.500000\n",
              "std      115.47188  9.204423e+08      6.344409\n",
              "min        1.00000  5.060000e+02   2001.000000\n",
              "25%      100.75000  8.569075e+04   2006.000000\n",
              "50%      200.50000  8.273692e+07   2011.500000\n",
              "75%      300.25000  2.649101e+08   2017.000000\n",
              "max      400.00000  4.172739e+10   2022.000000"
            ],
            "text/html": [
              "\n",
              "  <div id=\"df-ebb80842-a089-4af2-8ab7-e09953e90836\" class=\"colab-df-container\">\n",
              "    <div>\n",
              "<style scoped>\n",
              "    .dataframe tbody tr th:only-of-type {\n",
              "        vertical-align: middle;\n",
              "    }\n",
              "\n",
              "    .dataframe tbody tr th {\n",
              "        vertical-align: top;\n",
              "    }\n",
              "\n",
              "    .dataframe thead th {\n",
              "        text-align: right;\n",
              "    }\n",
              "</style>\n",
              "<table border=\"1\" class=\"dataframe\">\n",
              "  <thead>\n",
              "    <tr style=\"text-align: right;\">\n",
              "      <th></th>\n",
              "      <th>rank</th>\n",
              "      <th>value</th>\n",
              "      <th>year</th>\n",
              "    </tr>\n",
              "  </thead>\n",
              "  <tbody>\n",
              "    <tr>\n",
              "      <th>count</th>\n",
              "      <td>26400.00000</td>\n",
              "      <td>2.640000e+04</td>\n",
              "      <td>26400.000000</td>\n",
              "    </tr>\n",
              "    <tr>\n",
              "      <th>mean</th>\n",
              "      <td>200.50000</td>\n",
              "      <td>3.168356e+08</td>\n",
              "      <td>2011.500000</td>\n",
              "    </tr>\n",
              "    <tr>\n",
              "      <th>std</th>\n",
              "      <td>115.47188</td>\n",
              "      <td>9.204423e+08</td>\n",
              "      <td>6.344409</td>\n",
              "    </tr>\n",
              "    <tr>\n",
              "      <th>min</th>\n",
              "      <td>1.00000</td>\n",
              "      <td>5.060000e+02</td>\n",
              "      <td>2001.000000</td>\n",
              "    </tr>\n",
              "    <tr>\n",
              "      <th>25%</th>\n",
              "      <td>100.75000</td>\n",
              "      <td>8.569075e+04</td>\n",
              "      <td>2006.000000</td>\n",
              "    </tr>\n",
              "    <tr>\n",
              "      <th>50%</th>\n",
              "      <td>200.50000</td>\n",
              "      <td>8.273692e+07</td>\n",
              "      <td>2011.500000</td>\n",
              "    </tr>\n",
              "    <tr>\n",
              "      <th>75%</th>\n",
              "      <td>300.25000</td>\n",
              "      <td>2.649101e+08</td>\n",
              "      <td>2017.000000</td>\n",
              "    </tr>\n",
              "    <tr>\n",
              "      <th>max</th>\n",
              "      <td>400.00000</td>\n",
              "      <td>4.172739e+10</td>\n",
              "      <td>2022.000000</td>\n",
              "    </tr>\n",
              "  </tbody>\n",
              "</table>\n",
              "</div>\n",
              "    <div class=\"colab-df-buttons\">\n",
              "\n",
              "  <div class=\"colab-df-container\">\n",
              "    <button class=\"colab-df-convert\" onclick=\"convertToInteractive('df-ebb80842-a089-4af2-8ab7-e09953e90836')\"\n",
              "            title=\"Convert this dataframe to an interactive table.\"\n",
              "            style=\"display:none;\">\n",
              "\n",
              "  <svg xmlns=\"http://www.w3.org/2000/svg\" height=\"24px\" viewBox=\"0 -960 960 960\">\n",
              "    <path d=\"M120-120v-720h720v720H120Zm60-500h600v-160H180v160Zm220 220h160v-160H400v160Zm0 220h160v-160H400v160ZM180-400h160v-160H180v160Zm440 0h160v-160H620v160ZM180-180h160v-160H180v160Zm440 0h160v-160H620v160Z\"/>\n",
              "  </svg>\n",
              "    </button>\n",
              "\n",
              "  <style>\n",
              "    .colab-df-container {\n",
              "      display:flex;\n",
              "      gap: 12px;\n",
              "    }\n",
              "\n",
              "    .colab-df-convert {\n",
              "      background-color: #E8F0FE;\n",
              "      border: none;\n",
              "      border-radius: 50%;\n",
              "      cursor: pointer;\n",
              "      display: none;\n",
              "      fill: #1967D2;\n",
              "      height: 32px;\n",
              "      padding: 0 0 0 0;\n",
              "      width: 32px;\n",
              "    }\n",
              "\n",
              "    .colab-df-convert:hover {\n",
              "      background-color: #E2EBFA;\n",
              "      box-shadow: 0px 1px 2px rgba(60, 64, 67, 0.3), 0px 1px 3px 1px rgba(60, 64, 67, 0.15);\n",
              "      fill: #174EA6;\n",
              "    }\n",
              "\n",
              "    .colab-df-buttons div {\n",
              "      margin-bottom: 4px;\n",
              "    }\n",
              "\n",
              "    [theme=dark] .colab-df-convert {\n",
              "      background-color: #3B4455;\n",
              "      fill: #D2E3FC;\n",
              "    }\n",
              "\n",
              "    [theme=dark] .colab-df-convert:hover {\n",
              "      background-color: #434B5C;\n",
              "      box-shadow: 0px 1px 3px 1px rgba(0, 0, 0, 0.15);\n",
              "      filter: drop-shadow(0px 1px 2px rgba(0, 0, 0, 0.3));\n",
              "      fill: #FFFFFF;\n",
              "    }\n",
              "  </style>\n",
              "\n",
              "    <script>\n",
              "      const buttonEl =\n",
              "        document.querySelector('#df-ebb80842-a089-4af2-8ab7-e09953e90836 button.colab-df-convert');\n",
              "      buttonEl.style.display =\n",
              "        google.colab.kernel.accessAllowed ? 'block' : 'none';\n",
              "\n",
              "      async function convertToInteractive(key) {\n",
              "        const element = document.querySelector('#df-ebb80842-a089-4af2-8ab7-e09953e90836');\n",
              "        const dataTable =\n",
              "          await google.colab.kernel.invokeFunction('convertToInteractive',\n",
              "                                                    [key], {});\n",
              "        if (!dataTable) return;\n",
              "\n",
              "        const docLinkHtml = 'Like what you see? Visit the ' +\n",
              "          '<a target=\"_blank\" href=https://colab.research.google.com/notebooks/data_table.ipynb>data table notebook</a>'\n",
              "          + ' to learn more about interactive tables.';\n",
              "        element.innerHTML = '';\n",
              "        dataTable['output_type'] = 'display_data';\n",
              "        await google.colab.output.renderOutput(dataTable, element);\n",
              "        const docLink = document.createElement('div');\n",
              "        docLink.innerHTML = docLinkHtml;\n",
              "        element.appendChild(docLink);\n",
              "      }\n",
              "    </script>\n",
              "  </div>\n",
              "\n",
              "\n",
              "<div id=\"df-c1fbe847-9f08-4a40-860f-9227911f88e3\">\n",
              "  <button class=\"colab-df-quickchart\" onclick=\"quickchart('df-c1fbe847-9f08-4a40-860f-9227911f88e3')\"\n",
              "            title=\"Suggest charts\"\n",
              "            style=\"display:none;\">\n",
              "\n",
              "<svg xmlns=\"http://www.w3.org/2000/svg\" height=\"24px\"viewBox=\"0 0 24 24\"\n",
              "     width=\"24px\">\n",
              "    <g>\n",
              "        <path d=\"M19 3H5c-1.1 0-2 .9-2 2v14c0 1.1.9 2 2 2h14c1.1 0 2-.9 2-2V5c0-1.1-.9-2-2-2zM9 17H7v-7h2v7zm4 0h-2V7h2v10zm4 0h-2v-4h2v4z\"/>\n",
              "    </g>\n",
              "</svg>\n",
              "  </button>\n",
              "\n",
              "<style>\n",
              "  .colab-df-quickchart {\n",
              "      --bg-color: #E8F0FE;\n",
              "      --fill-color: #1967D2;\n",
              "      --hover-bg-color: #E2EBFA;\n",
              "      --hover-fill-color: #174EA6;\n",
              "      --disabled-fill-color: #AAA;\n",
              "      --disabled-bg-color: #DDD;\n",
              "  }\n",
              "\n",
              "  [theme=dark] .colab-df-quickchart {\n",
              "      --bg-color: #3B4455;\n",
              "      --fill-color: #D2E3FC;\n",
              "      --hover-bg-color: #434B5C;\n",
              "      --hover-fill-color: #FFFFFF;\n",
              "      --disabled-bg-color: #3B4455;\n",
              "      --disabled-fill-color: #666;\n",
              "  }\n",
              "\n",
              "  .colab-df-quickchart {\n",
              "    background-color: var(--bg-color);\n",
              "    border: none;\n",
              "    border-radius: 50%;\n",
              "    cursor: pointer;\n",
              "    display: none;\n",
              "    fill: var(--fill-color);\n",
              "    height: 32px;\n",
              "    padding: 0;\n",
              "    width: 32px;\n",
              "  }\n",
              "\n",
              "  .colab-df-quickchart:hover {\n",
              "    background-color: var(--hover-bg-color);\n",
              "    box-shadow: 0 1px 2px rgba(60, 64, 67, 0.3), 0 1px 3px 1px rgba(60, 64, 67, 0.15);\n",
              "    fill: var(--button-hover-fill-color);\n",
              "  }\n",
              "\n",
              "  .colab-df-quickchart-complete:disabled,\n",
              "  .colab-df-quickchart-complete:disabled:hover {\n",
              "    background-color: var(--disabled-bg-color);\n",
              "    fill: var(--disabled-fill-color);\n",
              "    box-shadow: none;\n",
              "  }\n",
              "\n",
              "  .colab-df-spinner {\n",
              "    border: 2px solid var(--fill-color);\n",
              "    border-color: transparent;\n",
              "    border-bottom-color: var(--fill-color);\n",
              "    animation:\n",
              "      spin 1s steps(1) infinite;\n",
              "  }\n",
              "\n",
              "  @keyframes spin {\n",
              "    0% {\n",
              "      border-color: transparent;\n",
              "      border-bottom-color: var(--fill-color);\n",
              "      border-left-color: var(--fill-color);\n",
              "    }\n",
              "    20% {\n",
              "      border-color: transparent;\n",
              "      border-left-color: var(--fill-color);\n",
              "      border-top-color: var(--fill-color);\n",
              "    }\n",
              "    30% {\n",
              "      border-color: transparent;\n",
              "      border-left-color: var(--fill-color);\n",
              "      border-top-color: var(--fill-color);\n",
              "      border-right-color: var(--fill-color);\n",
              "    }\n",
              "    40% {\n",
              "      border-color: transparent;\n",
              "      border-right-color: var(--fill-color);\n",
              "      border-top-color: var(--fill-color);\n",
              "    }\n",
              "    60% {\n",
              "      border-color: transparent;\n",
              "      border-right-color: var(--fill-color);\n",
              "    }\n",
              "    80% {\n",
              "      border-color: transparent;\n",
              "      border-right-color: var(--fill-color);\n",
              "      border-bottom-color: var(--fill-color);\n",
              "    }\n",
              "    90% {\n",
              "      border-color: transparent;\n",
              "      border-bottom-color: var(--fill-color);\n",
              "    }\n",
              "  }\n",
              "</style>\n",
              "\n",
              "  <script>\n",
              "    async function quickchart(key) {\n",
              "      const quickchartButtonEl =\n",
              "        document.querySelector('#' + key + ' button');\n",
              "      quickchartButtonEl.disabled = true;  // To prevent multiple clicks.\n",
              "      quickchartButtonEl.classList.add('colab-df-spinner');\n",
              "      try {\n",
              "        const charts = await google.colab.kernel.invokeFunction(\n",
              "            'suggestCharts', [key], {});\n",
              "      } catch (error) {\n",
              "        console.error('Error during call to suggestCharts:', error);\n",
              "      }\n",
              "      quickchartButtonEl.classList.remove('colab-df-spinner');\n",
              "      quickchartButtonEl.classList.add('colab-df-quickchart-complete');\n",
              "    }\n",
              "    (() => {\n",
              "      let quickchartButtonEl =\n",
              "        document.querySelector('#df-c1fbe847-9f08-4a40-860f-9227911f88e3 button');\n",
              "      quickchartButtonEl.style.display =\n",
              "        google.colab.kernel.accessAllowed ? 'block' : 'none';\n",
              "    })();\n",
              "  </script>\n",
              "</div>\n",
              "    </div>\n",
              "  </div>\n"
            ]
          },
          "metadata": {},
          "execution_count": 58
        }
      ]
    },
    {
      "cell_type": "code",
      "source": [
        "fig = px.bar(data2[data2['category']=='Salary'], x=\"rank\", y=\"value\", color=\"rank\",\n",
        "  animation_frame=\"year\", animation_group=\"rank\", range_y=[0,22e8])\n",
        "fig.show()"
      ],
      "metadata": {
        "colab": {
          "base_uri": "https://localhost:8080/",
          "height": 542
        },
        "id": "LSSevSkb7WML",
        "outputId": "8dd11dcd-1290-41eb-cfb7-9053aa1810ac"
      },
      "execution_count": 59,
      "outputs": [
        {
          "output_type": "display_data",
          "data": {
            "text/html": [
              "<html>\n",
              "<head><meta charset=\"utf-8\" /></head>\n",
              "<body>\n",
              "    <div>            <script src=\"https://cdnjs.cloudflare.com/ajax/libs/mathjax/2.7.5/MathJax.js?config=TeX-AMS-MML_SVG\"></script><script type=\"text/javascript\">if (window.MathJax && window.MathJax.Hub && window.MathJax.Hub.Config) {window.MathJax.Hub.Config({SVG: {font: \"STIX-Web\"}});}</script>                <script type=\"text/javascript\">window.PlotlyConfig = {MathJaxConfig: 'local'};</script>\n",
              "        <script charset=\"utf-8\" src=\"https://cdn.plot.ly/plotly-2.24.1.min.js\"></script>                <div id=\"2bb2e40d-5717-4930-bc5f-222a27937f66\" class=\"plotly-graph-div\" style=\"height:525px; width:100%;\"></div>            <script type=\"text/javascript\">                                    window.PLOTLYENV=window.PLOTLYENV || {};                                    if (document.getElementById(\"2bb2e40d-5717-4930-bc5f-222a27937f66\")) {                    Plotly.newPlot(                        \"2bb2e40d-5717-4930-bc5f-222a27937f66\",                        [{\"alignmentgroup\":\"True\",\"hovertemplate\":\"year=2001\\u003cbr\\u003erank=%{marker.color}\\u003cbr\\u003evalue=%{y}\\u003cextra\\u003e\\u003c\\u002fextra\\u003e\",\"ids\":[1,2,3,4,5,6,7,8,9,10,11,12,13,14,15,16,17,18,19,20,21,22,23,24,25,26,27,28,29,30,31,32,33,34,35,36,37,38,39,40,41,42,43,44,45,46,47,48,49,50,51,52,53,54,55,56,57,58,59,60,61,62,63,64,65,66,67,68,69,70,71,72,73,74,75,76,77,78,79,80,81,82,83,84,85,86,87,88,89,90,91,92,93,94,95,96,97,98,99,100,101,102,103,104,105,106,107,108,109,110,111,112,113,114,115,116,117,118,119,120,121,122,123,124,125,126,127,128,129,130,131,132,133,134,135,136,137,138,139,140,141,142,143,144,145,146,147,148,149,150,151,152,153,154,155,156,157,158,159,160,161,162,163,164,165,166,167,168,169,170,171,172,173,174,175,176,177,178,179,180,181,182,183,184,185,186,187,188,189,190,191,192,193,194,195,196,197,198,199,200,201,202,203,204,205,206,207,208,209,210,211,212,213,214,215,216,217,218,219,220,221,222,223,224,225,226,227,228,229,230,231,232,233,234,235,236,237,238,239,240,241,242,243,244,245,246,247,248,249,250,251,252,253,254,255,256,257,258,259,260,261,262,263,264,265,266,267,268,269,270,271,272,273,274,275,276,277,278,279,280,281,282,283,284,285,286,287,288,289,290,291,292,293,294,295,296,297,298,299,300,301,302,303,304,305,306,307,308,309,310,311,312,313,314,315,316,317,318,319,320,321,322,323,324,325,326,327,328,329,330,331,332,333,334,335,336,337,338,339,340,341,342,343,344,345,346,347,348,349,350,351,352,353,354,355,356,357,358,359,360,361,362,363,364,365,366,367,368,369,370,371,372,373,374,375,376,377,378,379,380,381,382,383,384,385,386,387,388,389,390,391,392,393,394,395,396,397,398,399,400],\"legendgroup\":\"\",\"marker\":{\"color\":[1,2,3,4,5,6,7,8,9,10,11,12,13,14,15,16,17,18,19,20,21,22,23,24,25,26,27,28,29,30,31,32,33,34,35,36,37,38,39,40,41,42,43,44,45,46,47,48,49,50,51,52,53,54,55,56,57,58,59,60,61,62,63,64,65,66,67,68,69,70,71,72,73,74,75,76,77,78,79,80,81,82,83,84,85,86,87,88,89,90,91,92,93,94,95,96,97,98,99,100,101,102,103,104,105,106,107,108,109,110,111,112,113,114,115,116,117,118,119,120,121,122,123,124,125,126,127,128,129,130,131,132,133,134,135,136,137,138,139,140,141,142,143,144,145,146,147,148,149,150,151,152,153,154,155,156,157,158,159,160,161,162,163,164,165,166,167,168,169,170,171,172,173,174,175,176,177,178,179,180,181,182,183,184,185,186,187,188,189,190,191,192,193,194,195,196,197,198,199,200,201,202,203,204,205,206,207,208,209,210,211,212,213,214,215,216,217,218,219,220,221,222,223,224,225,226,227,228,229,230,231,232,233,234,235,236,237,238,239,240,241,242,243,244,245,246,247,248,249,250,251,252,253,254,255,256,257,258,259,260,261,262,263,264,265,266,267,268,269,270,271,272,273,274,275,276,277,278,279,280,281,282,283,284,285,286,287,288,289,290,291,292,293,294,295,296,297,298,299,300,301,302,303,304,305,306,307,308,309,310,311,312,313,314,315,316,317,318,319,320,321,322,323,324,325,326,327,328,329,330,331,332,333,334,335,336,337,338,339,340,341,342,343,344,345,346,347,348,349,350,351,352,353,354,355,356,357,358,359,360,361,362,363,364,365,366,367,368,369,370,371,372,373,374,375,376,377,378,379,380,381,382,383,384,385,386,387,388,389,390,391,392,393,394,395,396,397,398,399,400],\"coloraxis\":\"coloraxis\",\"pattern\":{\"shape\":\"\"}},\"name\":\"\",\"offsetgroup\":\"\",\"orientation\":\"v\",\"showlegend\":false,\"textposition\":\"auto\",\"x\":[1,2,3,4,5,6,7,8,9,10,11,12,13,14,15,16,17,18,19,20,21,22,23,24,25,26,27,28,29,30,31,32,33,34,35,36,37,38,39,40,41,42,43,44,45,46,47,48,49,50,51,52,53,54,55,56,57,58,59,60,61,62,63,64,65,66,67,68,69,70,71,72,73,74,75,76,77,78,79,80,81,82,83,84,85,86,87,88,89,90,91,92,93,94,95,96,97,98,99,100,101,102,103,104,105,106,107,108,109,110,111,112,113,114,115,116,117,118,119,120,121,122,123,124,125,126,127,128,129,130,131,132,133,134,135,136,137,138,139,140,141,142,143,144,145,146,147,148,149,150,151,152,153,154,155,156,157,158,159,160,161,162,163,164,165,166,167,168,169,170,171,172,173,174,175,176,177,178,179,180,181,182,183,184,185,186,187,188,189,190,191,192,193,194,195,196,197,198,199,200,201,202,203,204,205,206,207,208,209,210,211,212,213,214,215,216,217,218,219,220,221,222,223,224,225,226,227,228,229,230,231,232,233,234,235,236,237,238,239,240,241,242,243,244,245,246,247,248,249,250,251,252,253,254,255,256,257,258,259,260,261,262,263,264,265,266,267,268,269,270,271,272,273,274,275,276,277,278,279,280,281,282,283,284,285,286,287,288,289,290,291,292,293,294,295,296,297,298,299,300,301,302,303,304,305,306,307,308,309,310,311,312,313,314,315,316,317,318,319,320,321,322,323,324,325,326,327,328,329,330,331,332,333,334,335,336,337,338,339,340,341,342,343,344,345,346,347,348,349,350,351,352,353,354,355,356,357,358,359,360,361,362,363,364,365,366,367,368,369,370,371,372,373,374,375,376,377,378,379,380,381,382,383,384,385,386,387,388,389,390,391,392,393,394,395,396,397,398,399,400],\"xaxis\":\"x\",\"y\":[29541615,72965628,118397894,149288420,187829221,229181912,234058818,257178699,268798682,289772864,315425375,328641008,340228866,352383786,365021054,393617416,398294201,404019667,440118414,442515942,457637223,494476915,525291859,526661012,556102648,577715659,602026490,637842941,644774140,664248165,789023304,733476814,766146154,785987491,767823624,793355427,925619849,874334265,854064396,922196875,976000675,1006877111,1154850847,1148831831,1154821589,1296648103,1289215521,1337651953,1405624355,1463638250,1557034871,1619380393,1685489866,1746667383,1974221913,1870461406,1894338284,1878670727,1928130302,1907759016,1904138036,1909823203,1870556438,1969852813,1897139430,1782493640,1741344316,1695146908,1662812603,1665717633,1641329161,1598306065,1695289942,1534198323,1484371507,1522695955,1434653898,1424885543,1396374466,1380378347,1346893048,1348045229,1303694611,1274336534,1399279278,1279097842,1258613042,1290575361,1227602808,1197358234,1360791945,1173973799,1167953159,1167962158,1176540448,1148623594,1173862737,1142610955,1134156649,1146210605,1217777689,1132890483,1161513473,1242160244,1150563380,1193310339,1083683875,1101463458,1152472806,1130616241,1048307679,1107939191,1078678595,1034407976,1054114086,1036072087,1129317157,1045672127,1070603603,1094742803,1179576081,1038671511,1033523809,1002742593,995462388,997020446,1040150407,1011584641,935452834,1019737519,1015968545,940055825,940021155,920037007,895393952,974970767,953868053,902701899,962116183,963114271,932603340,911624187,886861034,815100057,873226298,791850375,814981728,860832243,772838023,784590271,819159228,728788604,693896405,697832678,640066993,628106644,626510343,620413817,594368681,601781985,588752897,570644936,592041697,561545538,543909459,561564197,525397388,518203140,538415484,507777993,508482467,501490669,510781754,480556193,489535161,475338645,462804820,456341838,453740592,434957238,529479144,423250953,420610688,414760172,407275764,399596308,390822042,401287361,375717956,389124741,367577201,361959569,372864486,353100485,346483454,372559317,344978149,337098603,349660971,333593806,327320934,340252608,333008343,322542618,329198924,310134696,311067353,307719009,300490001,291327793,369182796,286209772,287408144,291035192,283864822,272952700,294342980,275022848,270159633,271564595,265926809,260922214,256849771,247995694,253327830,281808875,248421547,248838768,236532921,246622652,233731014,240427422,234973782,226632151,238995202,221274504,220655326,217166645,213979743,209366059,253567832,204458835,205778187,207944190,199803422,196149949,204448833,199942842,189655543,190955920,189526339,179315160,209319811,181858335,178969249,196264329,183451473,174477732,176866133,173448475,172509413,168301078,168432277,165741464,159011401,165085567,154196739,155310184,155192060,148063383,190479778,152798334,156586989,155178947,145097508,145683069,148365958,145362776,135457772,137294496,140584762,137032568,139045806,133757848,127741222,134528523,131791044,127246788,130050516,120718828,123232022,123421190,118587345,112234311,127694281,119322453,116344388,112515713,113665456,116384016,145627597,106370224,105932448,110107997,106143543,103989002,105863583,99628883,104578207,107389640,102521466,99054567,95687429,94238339,94405920,115349048,89817220,91690224,87844147,85878854,86277227,85516048,86753147,83391970,91511959,85803712,80643367,83252087,77787683,77827075,97236950,78699927,74146387,78909816,71048822,71391180,79212485,72225038,71828064,74693192,68986814,71578778,70284355,69526040,66628047,73937342,68326856,66924868,66144826,66964626,62174145,66366101,58796949,61505811,62602216,60293465,57753053,63063403,61446984,58670399,97634799,57481311,55895210,59830458,56205219,59500524,57686957,53506013,57926494,57642677,58465103,54238190,53711947,52065468,53627367,61205359,49622660,52172530,55038033,48955172,48475312,50204381,49113056,48320238,52907299,46570173,47770232,46035721,44519032,45570865,57250570,42281695,44510267,44779045,43471471,40023918,44883371,44602763,44950036,10916060745],\"yaxis\":\"y\",\"type\":\"bar\"}],                        {\"template\":{\"data\":{\"histogram2dcontour\":[{\"type\":\"histogram2dcontour\",\"colorbar\":{\"outlinewidth\":0,\"ticks\":\"\"},\"colorscale\":[[0.0,\"#0d0887\"],[0.1111111111111111,\"#46039f\"],[0.2222222222222222,\"#7201a8\"],[0.3333333333333333,\"#9c179e\"],[0.4444444444444444,\"#bd3786\"],[0.5555555555555556,\"#d8576b\"],[0.6666666666666666,\"#ed7953\"],[0.7777777777777778,\"#fb9f3a\"],[0.8888888888888888,\"#fdca26\"],[1.0,\"#f0f921\"]]}],\"choropleth\":[{\"type\":\"choropleth\",\"colorbar\":{\"outlinewidth\":0,\"ticks\":\"\"}}],\"histogram2d\":[{\"type\":\"histogram2d\",\"colorbar\":{\"outlinewidth\":0,\"ticks\":\"\"},\"colorscale\":[[0.0,\"#0d0887\"],[0.1111111111111111,\"#46039f\"],[0.2222222222222222,\"#7201a8\"],[0.3333333333333333,\"#9c179e\"],[0.4444444444444444,\"#bd3786\"],[0.5555555555555556,\"#d8576b\"],[0.6666666666666666,\"#ed7953\"],[0.7777777777777778,\"#fb9f3a\"],[0.8888888888888888,\"#fdca26\"],[1.0,\"#f0f921\"]]}],\"heatmap\":[{\"type\":\"heatmap\",\"colorbar\":{\"outlinewidth\":0,\"ticks\":\"\"},\"colorscale\":[[0.0,\"#0d0887\"],[0.1111111111111111,\"#46039f\"],[0.2222222222222222,\"#7201a8\"],[0.3333333333333333,\"#9c179e\"],[0.4444444444444444,\"#bd3786\"],[0.5555555555555556,\"#d8576b\"],[0.6666666666666666,\"#ed7953\"],[0.7777777777777778,\"#fb9f3a\"],[0.8888888888888888,\"#fdca26\"],[1.0,\"#f0f921\"]]}],\"heatmapgl\":[{\"type\":\"heatmapgl\",\"colorbar\":{\"outlinewidth\":0,\"ticks\":\"\"},\"colorscale\":[[0.0,\"#0d0887\"],[0.1111111111111111,\"#46039f\"],[0.2222222222222222,\"#7201a8\"],[0.3333333333333333,\"#9c179e\"],[0.4444444444444444,\"#bd3786\"],[0.5555555555555556,\"#d8576b\"],[0.6666666666666666,\"#ed7953\"],[0.7777777777777778,\"#fb9f3a\"],[0.8888888888888888,\"#fdca26\"],[1.0,\"#f0f921\"]]}],\"contourcarpet\":[{\"type\":\"contourcarpet\",\"colorbar\":{\"outlinewidth\":0,\"ticks\":\"\"}}],\"contour\":[{\"type\":\"contour\",\"colorbar\":{\"outlinewidth\":0,\"ticks\":\"\"},\"colorscale\":[[0.0,\"#0d0887\"],[0.1111111111111111,\"#46039f\"],[0.2222222222222222,\"#7201a8\"],[0.3333333333333333,\"#9c179e\"],[0.4444444444444444,\"#bd3786\"],[0.5555555555555556,\"#d8576b\"],[0.6666666666666666,\"#ed7953\"],[0.7777777777777778,\"#fb9f3a\"],[0.8888888888888888,\"#fdca26\"],[1.0,\"#f0f921\"]]}],\"surface\":[{\"type\":\"surface\",\"colorbar\":{\"outlinewidth\":0,\"ticks\":\"\"},\"colorscale\":[[0.0,\"#0d0887\"],[0.1111111111111111,\"#46039f\"],[0.2222222222222222,\"#7201a8\"],[0.3333333333333333,\"#9c179e\"],[0.4444444444444444,\"#bd3786\"],[0.5555555555555556,\"#d8576b\"],[0.6666666666666666,\"#ed7953\"],[0.7777777777777778,\"#fb9f3a\"],[0.8888888888888888,\"#fdca26\"],[1.0,\"#f0f921\"]]}],\"mesh3d\":[{\"type\":\"mesh3d\",\"colorbar\":{\"outlinewidth\":0,\"ticks\":\"\"}}],\"scatter\":[{\"fillpattern\":{\"fillmode\":\"overlay\",\"size\":10,\"solidity\":0.2},\"type\":\"scatter\"}],\"parcoords\":[{\"type\":\"parcoords\",\"line\":{\"colorbar\":{\"outlinewidth\":0,\"ticks\":\"\"}}}],\"scatterpolargl\":[{\"type\":\"scatterpolargl\",\"marker\":{\"colorbar\":{\"outlinewidth\":0,\"ticks\":\"\"}}}],\"bar\":[{\"error_x\":{\"color\":\"#2a3f5f\"},\"error_y\":{\"color\":\"#2a3f5f\"},\"marker\":{\"line\":{\"color\":\"#E5ECF6\",\"width\":0.5},\"pattern\":{\"fillmode\":\"overlay\",\"size\":10,\"solidity\":0.2}},\"type\":\"bar\"}],\"scattergeo\":[{\"type\":\"scattergeo\",\"marker\":{\"colorbar\":{\"outlinewidth\":0,\"ticks\":\"\"}}}],\"scatterpolar\":[{\"type\":\"scatterpolar\",\"marker\":{\"colorbar\":{\"outlinewidth\":0,\"ticks\":\"\"}}}],\"histogram\":[{\"marker\":{\"pattern\":{\"fillmode\":\"overlay\",\"size\":10,\"solidity\":0.2}},\"type\":\"histogram\"}],\"scattergl\":[{\"type\":\"scattergl\",\"marker\":{\"colorbar\":{\"outlinewidth\":0,\"ticks\":\"\"}}}],\"scatter3d\":[{\"type\":\"scatter3d\",\"line\":{\"colorbar\":{\"outlinewidth\":0,\"ticks\":\"\"}},\"marker\":{\"colorbar\":{\"outlinewidth\":0,\"ticks\":\"\"}}}],\"scattermapbox\":[{\"type\":\"scattermapbox\",\"marker\":{\"colorbar\":{\"outlinewidth\":0,\"ticks\":\"\"}}}],\"scatterternary\":[{\"type\":\"scatterternary\",\"marker\":{\"colorbar\":{\"outlinewidth\":0,\"ticks\":\"\"}}}],\"scattercarpet\":[{\"type\":\"scattercarpet\",\"marker\":{\"colorbar\":{\"outlinewidth\":0,\"ticks\":\"\"}}}],\"carpet\":[{\"aaxis\":{\"endlinecolor\":\"#2a3f5f\",\"gridcolor\":\"white\",\"linecolor\":\"white\",\"minorgridcolor\":\"white\",\"startlinecolor\":\"#2a3f5f\"},\"baxis\":{\"endlinecolor\":\"#2a3f5f\",\"gridcolor\":\"white\",\"linecolor\":\"white\",\"minorgridcolor\":\"white\",\"startlinecolor\":\"#2a3f5f\"},\"type\":\"carpet\"}],\"table\":[{\"cells\":{\"fill\":{\"color\":\"#EBF0F8\"},\"line\":{\"color\":\"white\"}},\"header\":{\"fill\":{\"color\":\"#C8D4E3\"},\"line\":{\"color\":\"white\"}},\"type\":\"table\"}],\"barpolar\":[{\"marker\":{\"line\":{\"color\":\"#E5ECF6\",\"width\":0.5},\"pattern\":{\"fillmode\":\"overlay\",\"size\":10,\"solidity\":0.2}},\"type\":\"barpolar\"}],\"pie\":[{\"automargin\":true,\"type\":\"pie\"}]},\"layout\":{\"autotypenumbers\":\"strict\",\"colorway\":[\"#636efa\",\"#EF553B\",\"#00cc96\",\"#ab63fa\",\"#FFA15A\",\"#19d3f3\",\"#FF6692\",\"#B6E880\",\"#FF97FF\",\"#FECB52\"],\"font\":{\"color\":\"#2a3f5f\"},\"hovermode\":\"closest\",\"hoverlabel\":{\"align\":\"left\"},\"paper_bgcolor\":\"white\",\"plot_bgcolor\":\"#E5ECF6\",\"polar\":{\"bgcolor\":\"#E5ECF6\",\"angularaxis\":{\"gridcolor\":\"white\",\"linecolor\":\"white\",\"ticks\":\"\"},\"radialaxis\":{\"gridcolor\":\"white\",\"linecolor\":\"white\",\"ticks\":\"\"}},\"ternary\":{\"bgcolor\":\"#E5ECF6\",\"aaxis\":{\"gridcolor\":\"white\",\"linecolor\":\"white\",\"ticks\":\"\"},\"baxis\":{\"gridcolor\":\"white\",\"linecolor\":\"white\",\"ticks\":\"\"},\"caxis\":{\"gridcolor\":\"white\",\"linecolor\":\"white\",\"ticks\":\"\"}},\"coloraxis\":{\"colorbar\":{\"outlinewidth\":0,\"ticks\":\"\"}},\"colorscale\":{\"sequential\":[[0.0,\"#0d0887\"],[0.1111111111111111,\"#46039f\"],[0.2222222222222222,\"#7201a8\"],[0.3333333333333333,\"#9c179e\"],[0.4444444444444444,\"#bd3786\"],[0.5555555555555556,\"#d8576b\"],[0.6666666666666666,\"#ed7953\"],[0.7777777777777778,\"#fb9f3a\"],[0.8888888888888888,\"#fdca26\"],[1.0,\"#f0f921\"]],\"sequentialminus\":[[0.0,\"#0d0887\"],[0.1111111111111111,\"#46039f\"],[0.2222222222222222,\"#7201a8\"],[0.3333333333333333,\"#9c179e\"],[0.4444444444444444,\"#bd3786\"],[0.5555555555555556,\"#d8576b\"],[0.6666666666666666,\"#ed7953\"],[0.7777777777777778,\"#fb9f3a\"],[0.8888888888888888,\"#fdca26\"],[1.0,\"#f0f921\"]],\"diverging\":[[0,\"#8e0152\"],[0.1,\"#c51b7d\"],[0.2,\"#de77ae\"],[0.3,\"#f1b6da\"],[0.4,\"#fde0ef\"],[0.5,\"#f7f7f7\"],[0.6,\"#e6f5d0\"],[0.7,\"#b8e186\"],[0.8,\"#7fbc41\"],[0.9,\"#4d9221\"],[1,\"#276419\"]]},\"xaxis\":{\"gridcolor\":\"white\",\"linecolor\":\"white\",\"ticks\":\"\",\"title\":{\"standoff\":15},\"zerolinecolor\":\"white\",\"automargin\":true,\"zerolinewidth\":2},\"yaxis\":{\"gridcolor\":\"white\",\"linecolor\":\"white\",\"ticks\":\"\",\"title\":{\"standoff\":15},\"zerolinecolor\":\"white\",\"automargin\":true,\"zerolinewidth\":2},\"scene\":{\"xaxis\":{\"backgroundcolor\":\"#E5ECF6\",\"gridcolor\":\"white\",\"linecolor\":\"white\",\"showbackground\":true,\"ticks\":\"\",\"zerolinecolor\":\"white\",\"gridwidth\":2},\"yaxis\":{\"backgroundcolor\":\"#E5ECF6\",\"gridcolor\":\"white\",\"linecolor\":\"white\",\"showbackground\":true,\"ticks\":\"\",\"zerolinecolor\":\"white\",\"gridwidth\":2},\"zaxis\":{\"backgroundcolor\":\"#E5ECF6\",\"gridcolor\":\"white\",\"linecolor\":\"white\",\"showbackground\":true,\"ticks\":\"\",\"zerolinecolor\":\"white\",\"gridwidth\":2}},\"shapedefaults\":{\"line\":{\"color\":\"#2a3f5f\"}},\"annotationdefaults\":{\"arrowcolor\":\"#2a3f5f\",\"arrowhead\":0,\"arrowwidth\":1},\"geo\":{\"bgcolor\":\"white\",\"landcolor\":\"#E5ECF6\",\"subunitcolor\":\"white\",\"showland\":true,\"showlakes\":true,\"lakecolor\":\"white\"},\"title\":{\"x\":0.05},\"mapbox\":{\"style\":\"light\"}}},\"xaxis\":{\"anchor\":\"y\",\"domain\":[0.0,1.0],\"title\":{\"text\":\"rank\"}},\"yaxis\":{\"anchor\":\"x\",\"domain\":[0.0,1.0],\"title\":{\"text\":\"value\"},\"range\":[0,2200000000.0]},\"coloraxis\":{\"colorbar\":{\"title\":{\"text\":\"rank\"}},\"colorscale\":[[0.0,\"#0d0887\"],[0.1111111111111111,\"#46039f\"],[0.2222222222222222,\"#7201a8\"],[0.3333333333333333,\"#9c179e\"],[0.4444444444444444,\"#bd3786\"],[0.5555555555555556,\"#d8576b\"],[0.6666666666666666,\"#ed7953\"],[0.7777777777777778,\"#fb9f3a\"],[0.8888888888888888,\"#fdca26\"],[1.0,\"#f0f921\"]]},\"legend\":{\"tracegroupgap\":0},\"margin\":{\"t\":60},\"barmode\":\"relative\",\"updatemenus\":[{\"buttons\":[{\"args\":[null,{\"frame\":{\"duration\":500,\"redraw\":true},\"mode\":\"immediate\",\"fromcurrent\":true,\"transition\":{\"duration\":500,\"easing\":\"linear\"}}],\"label\":\"&#9654;\",\"method\":\"animate\"},{\"args\":[[null],{\"frame\":{\"duration\":0,\"redraw\":true},\"mode\":\"immediate\",\"fromcurrent\":true,\"transition\":{\"duration\":0,\"easing\":\"linear\"}}],\"label\":\"&#9724;\",\"method\":\"animate\"}],\"direction\":\"left\",\"pad\":{\"r\":10,\"t\":70},\"showactive\":false,\"type\":\"buttons\",\"x\":0.1,\"xanchor\":\"right\",\"y\":0,\"yanchor\":\"top\"}],\"sliders\":[{\"active\":0,\"currentvalue\":{\"prefix\":\"year=\"},\"len\":0.9,\"pad\":{\"b\":10,\"t\":60},\"steps\":[{\"args\":[[\"2001\"],{\"frame\":{\"duration\":0,\"redraw\":true},\"mode\":\"immediate\",\"fromcurrent\":true,\"transition\":{\"duration\":0,\"easing\":\"linear\"}}],\"label\":\"2001\",\"method\":\"animate\"},{\"args\":[[\"2002\"],{\"frame\":{\"duration\":0,\"redraw\":true},\"mode\":\"immediate\",\"fromcurrent\":true,\"transition\":{\"duration\":0,\"easing\":\"linear\"}}],\"label\":\"2002\",\"method\":\"animate\"},{\"args\":[[\"2003\"],{\"frame\":{\"duration\":0,\"redraw\":true},\"mode\":\"immediate\",\"fromcurrent\":true,\"transition\":{\"duration\":0,\"easing\":\"linear\"}}],\"label\":\"2003\",\"method\":\"animate\"},{\"args\":[[\"2004\"],{\"frame\":{\"duration\":0,\"redraw\":true},\"mode\":\"immediate\",\"fromcurrent\":true,\"transition\":{\"duration\":0,\"easing\":\"linear\"}}],\"label\":\"2004\",\"method\":\"animate\"},{\"args\":[[\"2005\"],{\"frame\":{\"duration\":0,\"redraw\":true},\"mode\":\"immediate\",\"fromcurrent\":true,\"transition\":{\"duration\":0,\"easing\":\"linear\"}}],\"label\":\"2005\",\"method\":\"animate\"},{\"args\":[[\"2006\"],{\"frame\":{\"duration\":0,\"redraw\":true},\"mode\":\"immediate\",\"fromcurrent\":true,\"transition\":{\"duration\":0,\"easing\":\"linear\"}}],\"label\":\"2006\",\"method\":\"animate\"},{\"args\":[[\"2007\"],{\"frame\":{\"duration\":0,\"redraw\":true},\"mode\":\"immediate\",\"fromcurrent\":true,\"transition\":{\"duration\":0,\"easing\":\"linear\"}}],\"label\":\"2007\",\"method\":\"animate\"},{\"args\":[[\"2008\"],{\"frame\":{\"duration\":0,\"redraw\":true},\"mode\":\"immediate\",\"fromcurrent\":true,\"transition\":{\"duration\":0,\"easing\":\"linear\"}}],\"label\":\"2008\",\"method\":\"animate\"},{\"args\":[[\"2009\"],{\"frame\":{\"duration\":0,\"redraw\":true},\"mode\":\"immediate\",\"fromcurrent\":true,\"transition\":{\"duration\":0,\"easing\":\"linear\"}}],\"label\":\"2009\",\"method\":\"animate\"},{\"args\":[[\"2010\"],{\"frame\":{\"duration\":0,\"redraw\":true},\"mode\":\"immediate\",\"fromcurrent\":true,\"transition\":{\"duration\":0,\"easing\":\"linear\"}}],\"label\":\"2010\",\"method\":\"animate\"},{\"args\":[[\"2011\"],{\"frame\":{\"duration\":0,\"redraw\":true},\"mode\":\"immediate\",\"fromcurrent\":true,\"transition\":{\"duration\":0,\"easing\":\"linear\"}}],\"label\":\"2011\",\"method\":\"animate\"},{\"args\":[[\"2012\"],{\"frame\":{\"duration\":0,\"redraw\":true},\"mode\":\"immediate\",\"fromcurrent\":true,\"transition\":{\"duration\":0,\"easing\":\"linear\"}}],\"label\":\"2012\",\"method\":\"animate\"},{\"args\":[[\"2013\"],{\"frame\":{\"duration\":0,\"redraw\":true},\"mode\":\"immediate\",\"fromcurrent\":true,\"transition\":{\"duration\":0,\"easing\":\"linear\"}}],\"label\":\"2013\",\"method\":\"animate\"},{\"args\":[[\"2014\"],{\"frame\":{\"duration\":0,\"redraw\":true},\"mode\":\"immediate\",\"fromcurrent\":true,\"transition\":{\"duration\":0,\"easing\":\"linear\"}}],\"label\":\"2014\",\"method\":\"animate\"},{\"args\":[[\"2015\"],{\"frame\":{\"duration\":0,\"redraw\":true},\"mode\":\"immediate\",\"fromcurrent\":true,\"transition\":{\"duration\":0,\"easing\":\"linear\"}}],\"label\":\"2015\",\"method\":\"animate\"},{\"args\":[[\"2016\"],{\"frame\":{\"duration\":0,\"redraw\":true},\"mode\":\"immediate\",\"fromcurrent\":true,\"transition\":{\"duration\":0,\"easing\":\"linear\"}}],\"label\":\"2016\",\"method\":\"animate\"},{\"args\":[[\"2017\"],{\"frame\":{\"duration\":0,\"redraw\":true},\"mode\":\"immediate\",\"fromcurrent\":true,\"transition\":{\"duration\":0,\"easing\":\"linear\"}}],\"label\":\"2017\",\"method\":\"animate\"},{\"args\":[[\"2018\"],{\"frame\":{\"duration\":0,\"redraw\":true},\"mode\":\"immediate\",\"fromcurrent\":true,\"transition\":{\"duration\":0,\"easing\":\"linear\"}}],\"label\":\"2018\",\"method\":\"animate\"},{\"args\":[[\"2019\"],{\"frame\":{\"duration\":0,\"redraw\":true},\"mode\":\"immediate\",\"fromcurrent\":true,\"transition\":{\"duration\":0,\"easing\":\"linear\"}}],\"label\":\"2019\",\"method\":\"animate\"},{\"args\":[[\"2020\"],{\"frame\":{\"duration\":0,\"redraw\":true},\"mode\":\"immediate\",\"fromcurrent\":true,\"transition\":{\"duration\":0,\"easing\":\"linear\"}}],\"label\":\"2020\",\"method\":\"animate\"},{\"args\":[[\"2021\"],{\"frame\":{\"duration\":0,\"redraw\":true},\"mode\":\"immediate\",\"fromcurrent\":true,\"transition\":{\"duration\":0,\"easing\":\"linear\"}}],\"label\":\"2021\",\"method\":\"animate\"},{\"args\":[[\"2022\"],{\"frame\":{\"duration\":0,\"redraw\":true},\"mode\":\"immediate\",\"fromcurrent\":true,\"transition\":{\"duration\":0,\"easing\":\"linear\"}}],\"label\":\"2022\",\"method\":\"animate\"}],\"x\":0.1,\"xanchor\":\"left\",\"y\":0,\"yanchor\":\"top\"}]},                        {\"responsive\": true}                    ).then(function(){\n",
              "                            Plotly.addFrames('2bb2e40d-5717-4930-bc5f-222a27937f66', [{\"data\":[{\"alignmentgroup\":\"True\",\"hovertemplate\":\"year=2001\\u003cbr\\u003erank=%{marker.color}\\u003cbr\\u003evalue=%{y}\\u003cextra\\u003e\\u003c\\u002fextra\\u003e\",\"ids\":[1,2,3,4,5,6,7,8,9,10,11,12,13,14,15,16,17,18,19,20,21,22,23,24,25,26,27,28,29,30,31,32,33,34,35,36,37,38,39,40,41,42,43,44,45,46,47,48,49,50,51,52,53,54,55,56,57,58,59,60,61,62,63,64,65,66,67,68,69,70,71,72,73,74,75,76,77,78,79,80,81,82,83,84,85,86,87,88,89,90,91,92,93,94,95,96,97,98,99,100,101,102,103,104,105,106,107,108,109,110,111,112,113,114,115,116,117,118,119,120,121,122,123,124,125,126,127,128,129,130,131,132,133,134,135,136,137,138,139,140,141,142,143,144,145,146,147,148,149,150,151,152,153,154,155,156,157,158,159,160,161,162,163,164,165,166,167,168,169,170,171,172,173,174,175,176,177,178,179,180,181,182,183,184,185,186,187,188,189,190,191,192,193,194,195,196,197,198,199,200,201,202,203,204,205,206,207,208,209,210,211,212,213,214,215,216,217,218,219,220,221,222,223,224,225,226,227,228,229,230,231,232,233,234,235,236,237,238,239,240,241,242,243,244,245,246,247,248,249,250,251,252,253,254,255,256,257,258,259,260,261,262,263,264,265,266,267,268,269,270,271,272,273,274,275,276,277,278,279,280,281,282,283,284,285,286,287,288,289,290,291,292,293,294,295,296,297,298,299,300,301,302,303,304,305,306,307,308,309,310,311,312,313,314,315,316,317,318,319,320,321,322,323,324,325,326,327,328,329,330,331,332,333,334,335,336,337,338,339,340,341,342,343,344,345,346,347,348,349,350,351,352,353,354,355,356,357,358,359,360,361,362,363,364,365,366,367,368,369,370,371,372,373,374,375,376,377,378,379,380,381,382,383,384,385,386,387,388,389,390,391,392,393,394,395,396,397,398,399,400],\"legendgroup\":\"\",\"marker\":{\"color\":[1,2,3,4,5,6,7,8,9,10,11,12,13,14,15,16,17,18,19,20,21,22,23,24,25,26,27,28,29,30,31,32,33,34,35,36,37,38,39,40,41,42,43,44,45,46,47,48,49,50,51,52,53,54,55,56,57,58,59,60,61,62,63,64,65,66,67,68,69,70,71,72,73,74,75,76,77,78,79,80,81,82,83,84,85,86,87,88,89,90,91,92,93,94,95,96,97,98,99,100,101,102,103,104,105,106,107,108,109,110,111,112,113,114,115,116,117,118,119,120,121,122,123,124,125,126,127,128,129,130,131,132,133,134,135,136,137,138,139,140,141,142,143,144,145,146,147,148,149,150,151,152,153,154,155,156,157,158,159,160,161,162,163,164,165,166,167,168,169,170,171,172,173,174,175,176,177,178,179,180,181,182,183,184,185,186,187,188,189,190,191,192,193,194,195,196,197,198,199,200,201,202,203,204,205,206,207,208,209,210,211,212,213,214,215,216,217,218,219,220,221,222,223,224,225,226,227,228,229,230,231,232,233,234,235,236,237,238,239,240,241,242,243,244,245,246,247,248,249,250,251,252,253,254,255,256,257,258,259,260,261,262,263,264,265,266,267,268,269,270,271,272,273,274,275,276,277,278,279,280,281,282,283,284,285,286,287,288,289,290,291,292,293,294,295,296,297,298,299,300,301,302,303,304,305,306,307,308,309,310,311,312,313,314,315,316,317,318,319,320,321,322,323,324,325,326,327,328,329,330,331,332,333,334,335,336,337,338,339,340,341,342,343,344,345,346,347,348,349,350,351,352,353,354,355,356,357,358,359,360,361,362,363,364,365,366,367,368,369,370,371,372,373,374,375,376,377,378,379,380,381,382,383,384,385,386,387,388,389,390,391,392,393,394,395,396,397,398,399,400],\"coloraxis\":\"coloraxis\",\"pattern\":{\"shape\":\"\"}},\"name\":\"\",\"offsetgroup\":\"\",\"orientation\":\"v\",\"showlegend\":false,\"textposition\":\"auto\",\"x\":[1,2,3,4,5,6,7,8,9,10,11,12,13,14,15,16,17,18,19,20,21,22,23,24,25,26,27,28,29,30,31,32,33,34,35,36,37,38,39,40,41,42,43,44,45,46,47,48,49,50,51,52,53,54,55,56,57,58,59,60,61,62,63,64,65,66,67,68,69,70,71,72,73,74,75,76,77,78,79,80,81,82,83,84,85,86,87,88,89,90,91,92,93,94,95,96,97,98,99,100,101,102,103,104,105,106,107,108,109,110,111,112,113,114,115,116,117,118,119,120,121,122,123,124,125,126,127,128,129,130,131,132,133,134,135,136,137,138,139,140,141,142,143,144,145,146,147,148,149,150,151,152,153,154,155,156,157,158,159,160,161,162,163,164,165,166,167,168,169,170,171,172,173,174,175,176,177,178,179,180,181,182,183,184,185,186,187,188,189,190,191,192,193,194,195,196,197,198,199,200,201,202,203,204,205,206,207,208,209,210,211,212,213,214,215,216,217,218,219,220,221,222,223,224,225,226,227,228,229,230,231,232,233,234,235,236,237,238,239,240,241,242,243,244,245,246,247,248,249,250,251,252,253,254,255,256,257,258,259,260,261,262,263,264,265,266,267,268,269,270,271,272,273,274,275,276,277,278,279,280,281,282,283,284,285,286,287,288,289,290,291,292,293,294,295,296,297,298,299,300,301,302,303,304,305,306,307,308,309,310,311,312,313,314,315,316,317,318,319,320,321,322,323,324,325,326,327,328,329,330,331,332,333,334,335,336,337,338,339,340,341,342,343,344,345,346,347,348,349,350,351,352,353,354,355,356,357,358,359,360,361,362,363,364,365,366,367,368,369,370,371,372,373,374,375,376,377,378,379,380,381,382,383,384,385,386,387,388,389,390,391,392,393,394,395,396,397,398,399,400],\"xaxis\":\"x\",\"y\":[29541615,72965628,118397894,149288420,187829221,229181912,234058818,257178699,268798682,289772864,315425375,328641008,340228866,352383786,365021054,393617416,398294201,404019667,440118414,442515942,457637223,494476915,525291859,526661012,556102648,577715659,602026490,637842941,644774140,664248165,789023304,733476814,766146154,785987491,767823624,793355427,925619849,874334265,854064396,922196875,976000675,1006877111,1154850847,1148831831,1154821589,1296648103,1289215521,1337651953,1405624355,1463638250,1557034871,1619380393,1685489866,1746667383,1974221913,1870461406,1894338284,1878670727,1928130302,1907759016,1904138036,1909823203,1870556438,1969852813,1897139430,1782493640,1741344316,1695146908,1662812603,1665717633,1641329161,1598306065,1695289942,1534198323,1484371507,1522695955,1434653898,1424885543,1396374466,1380378347,1346893048,1348045229,1303694611,1274336534,1399279278,1279097842,1258613042,1290575361,1227602808,1197358234,1360791945,1173973799,1167953159,1167962158,1176540448,1148623594,1173862737,1142610955,1134156649,1146210605,1217777689,1132890483,1161513473,1242160244,1150563380,1193310339,1083683875,1101463458,1152472806,1130616241,1048307679,1107939191,1078678595,1034407976,1054114086,1036072087,1129317157,1045672127,1070603603,1094742803,1179576081,1038671511,1033523809,1002742593,995462388,997020446,1040150407,1011584641,935452834,1019737519,1015968545,940055825,940021155,920037007,895393952,974970767,953868053,902701899,962116183,963114271,932603340,911624187,886861034,815100057,873226298,791850375,814981728,860832243,772838023,784590271,819159228,728788604,693896405,697832678,640066993,628106644,626510343,620413817,594368681,601781985,588752897,570644936,592041697,561545538,543909459,561564197,525397388,518203140,538415484,507777993,508482467,501490669,510781754,480556193,489535161,475338645,462804820,456341838,453740592,434957238,529479144,423250953,420610688,414760172,407275764,399596308,390822042,401287361,375717956,389124741,367577201,361959569,372864486,353100485,346483454,372559317,344978149,337098603,349660971,333593806,327320934,340252608,333008343,322542618,329198924,310134696,311067353,307719009,300490001,291327793,369182796,286209772,287408144,291035192,283864822,272952700,294342980,275022848,270159633,271564595,265926809,260922214,256849771,247995694,253327830,281808875,248421547,248838768,236532921,246622652,233731014,240427422,234973782,226632151,238995202,221274504,220655326,217166645,213979743,209366059,253567832,204458835,205778187,207944190,199803422,196149949,204448833,199942842,189655543,190955920,189526339,179315160,209319811,181858335,178969249,196264329,183451473,174477732,176866133,173448475,172509413,168301078,168432277,165741464,159011401,165085567,154196739,155310184,155192060,148063383,190479778,152798334,156586989,155178947,145097508,145683069,148365958,145362776,135457772,137294496,140584762,137032568,139045806,133757848,127741222,134528523,131791044,127246788,130050516,120718828,123232022,123421190,118587345,112234311,127694281,119322453,116344388,112515713,113665456,116384016,145627597,106370224,105932448,110107997,106143543,103989002,105863583,99628883,104578207,107389640,102521466,99054567,95687429,94238339,94405920,115349048,89817220,91690224,87844147,85878854,86277227,85516048,86753147,83391970,91511959,85803712,80643367,83252087,77787683,77827075,97236950,78699927,74146387,78909816,71048822,71391180,79212485,72225038,71828064,74693192,68986814,71578778,70284355,69526040,66628047,73937342,68326856,66924868,66144826,66964626,62174145,66366101,58796949,61505811,62602216,60293465,57753053,63063403,61446984,58670399,97634799,57481311,55895210,59830458,56205219,59500524,57686957,53506013,57926494,57642677,58465103,54238190,53711947,52065468,53627367,61205359,49622660,52172530,55038033,48955172,48475312,50204381,49113056,48320238,52907299,46570173,47770232,46035721,44519032,45570865,57250570,42281695,44510267,44779045,43471471,40023918,44883371,44602763,44950036,10916060745],\"yaxis\":\"y\",\"type\":\"bar\"}],\"name\":\"2001\"},{\"data\":[{\"alignmentgroup\":\"True\",\"hovertemplate\":\"year=2002\\u003cbr\\u003erank=%{marker.color}\\u003cbr\\u003evalue=%{y}\\u003cextra\\u003e\\u003c\\u002fextra\\u003e\",\"ids\":[1,2,3,4,5,6,7,8,9,10,11,12,13,14,15,16,17,18,19,20,21,22,23,24,25,26,27,28,29,30,31,32,33,34,35,36,37,38,39,40,41,42,43,44,45,46,47,48,49,50,51,52,53,54,55,56,57,58,59,60,61,62,63,64,65,66,67,68,69,70,71,72,73,74,75,76,77,78,79,80,81,82,83,84,85,86,87,88,89,90,91,92,93,94,95,96,97,98,99,100,101,102,103,104,105,106,107,108,109,110,111,112,113,114,115,116,117,118,119,120,121,122,123,124,125,126,127,128,129,130,131,132,133,134,135,136,137,138,139,140,141,142,143,144,145,146,147,148,149,150,151,152,153,154,155,156,157,158,159,160,161,162,163,164,165,166,167,168,169,170,171,172,173,174,175,176,177,178,179,180,181,182,183,184,185,186,187,188,189,190,191,192,193,194,195,196,197,198,199,200,201,202,203,204,205,206,207,208,209,210,211,212,213,214,215,216,217,218,219,220,221,222,223,224,225,226,227,228,229,230,231,232,233,234,235,236,237,238,239,240,241,242,243,244,245,246,247,248,249,250,251,252,253,254,255,256,257,258,259,260,261,262,263,264,265,266,267,268,269,270,271,272,273,274,275,276,277,278,279,280,281,282,283,284,285,286,287,288,289,290,291,292,293,294,295,296,297,298,299,300,301,302,303,304,305,306,307,308,309,310,311,312,313,314,315,316,317,318,319,320,321,322,323,324,325,326,327,328,329,330,331,332,333,334,335,336,337,338,339,340,341,342,343,344,345,346,347,348,349,350,351,352,353,354,355,356,357,358,359,360,361,362,363,364,365,366,367,368,369,370,371,372,373,374,375,376,377,378,379,380,381,382,383,384,385,386,387,388,389,390,391,392,393,394,395,396,397,398,399,400],\"legendgroup\":\"\",\"marker\":{\"color\":[1,2,3,4,5,6,7,8,9,10,11,12,13,14,15,16,17,18,19,20,21,22,23,24,25,26,27,28,29,30,31,32,33,34,35,36,37,38,39,40,41,42,43,44,45,46,47,48,49,50,51,52,53,54,55,56,57,58,59,60,61,62,63,64,65,66,67,68,69,70,71,72,73,74,75,76,77,78,79,80,81,82,83,84,85,86,87,88,89,90,91,92,93,94,95,96,97,98,99,100,101,102,103,104,105,106,107,108,109,110,111,112,113,114,115,116,117,118,119,120,121,122,123,124,125,126,127,128,129,130,131,132,133,134,135,136,137,138,139,140,141,142,143,144,145,146,147,148,149,150,151,152,153,154,155,156,157,158,159,160,161,162,163,164,165,166,167,168,169,170,171,172,173,174,175,176,177,178,179,180,181,182,183,184,185,186,187,188,189,190,191,192,193,194,195,196,197,198,199,200,201,202,203,204,205,206,207,208,209,210,211,212,213,214,215,216,217,218,219,220,221,222,223,224,225,226,227,228,229,230,231,232,233,234,235,236,237,238,239,240,241,242,243,244,245,246,247,248,249,250,251,252,253,254,255,256,257,258,259,260,261,262,263,264,265,266,267,268,269,270,271,272,273,274,275,276,277,278,279,280,281,282,283,284,285,286,287,288,289,290,291,292,293,294,295,296,297,298,299,300,301,302,303,304,305,306,307,308,309,310,311,312,313,314,315,316,317,318,319,320,321,322,323,324,325,326,327,328,329,330,331,332,333,334,335,336,337,338,339,340,341,342,343,344,345,346,347,348,349,350,351,352,353,354,355,356,357,358,359,360,361,362,363,364,365,366,367,368,369,370,371,372,373,374,375,376,377,378,379,380,381,382,383,384,385,386,387,388,389,390,391,392,393,394,395,396,397,398,399,400],\"coloraxis\":\"coloraxis\",\"pattern\":{\"shape\":\"\"}},\"name\":\"\",\"offsetgroup\":\"\",\"orientation\":\"v\",\"showlegend\":false,\"textposition\":\"auto\",\"x\":[1,2,3,4,5,6,7,8,9,10,11,12,13,14,15,16,17,18,19,20,21,22,23,24,25,26,27,28,29,30,31,32,33,34,35,36,37,38,39,40,41,42,43,44,45,46,47,48,49,50,51,52,53,54,55,56,57,58,59,60,61,62,63,64,65,66,67,68,69,70,71,72,73,74,75,76,77,78,79,80,81,82,83,84,85,86,87,88,89,90,91,92,93,94,95,96,97,98,99,100,101,102,103,104,105,106,107,108,109,110,111,112,113,114,115,116,117,118,119,120,121,122,123,124,125,126,127,128,129,130,131,132,133,134,135,136,137,138,139,140,141,142,143,144,145,146,147,148,149,150,151,152,153,154,155,156,157,158,159,160,161,162,163,164,165,166,167,168,169,170,171,172,173,174,175,176,177,178,179,180,181,182,183,184,185,186,187,188,189,190,191,192,193,194,195,196,197,198,199,200,201,202,203,204,205,206,207,208,209,210,211,212,213,214,215,216,217,218,219,220,221,222,223,224,225,226,227,228,229,230,231,232,233,234,235,236,237,238,239,240,241,242,243,244,245,246,247,248,249,250,251,252,253,254,255,256,257,258,259,260,261,262,263,264,265,266,267,268,269,270,271,272,273,274,275,276,277,278,279,280,281,282,283,284,285,286,287,288,289,290,291,292,293,294,295,296,297,298,299,300,301,302,303,304,305,306,307,308,309,310,311,312,313,314,315,316,317,318,319,320,321,322,323,324,325,326,327,328,329,330,331,332,333,334,335,336,337,338,339,340,341,342,343,344,345,346,347,348,349,350,351,352,353,354,355,356,357,358,359,360,361,362,363,364,365,366,367,368,369,370,371,372,373,374,375,376,377,378,379,380,381,382,383,384,385,386,387,388,389,390,391,392,393,394,395,396,397,398,399,400],\"xaxis\":\"x\",\"y\":[27645802,81467945,117964368,145505890,179214060,219375962,232656826,254117830,266907500,290391016,314428518,328046409,342964354,357741113,381691191,399386214,403083020,415175194,445499754,451837104,466837197,500317428,528276773,540385671,566299520,579987273,605286553,649653108,654348896,665728198,781657160,740360702,765139926,795533587,794514318,813501828,929397988,865608755,870544920,910867328,948768921,966161503,1050481880,1128533299,1133460132,1266465416,1250471494,1281069979,1386833012,1393738048,1471929906,1523229053,1611208207,1693867587,1897095064,1862742990,1932636295,1994714944,1985779823,1960882532,2039069067,1994763261,1941262335,2039682821,1974997679,1965029807,1961785985,1870242779,1789480296,1774950024,1754611585,1733082981,1822595916,1665713341,1638069830,1647439234,1582756740,1560349543,1533678103,1517767601,1458974438,1476916309,1427260064,1399888471,1472514949,1370730808,1343120820,1318194305,1303633223,1300922237,1444110689,1268621296,1277468318,1261401705,1256375552,1220815149,1248895906,1231087591,1207356571,1254320333,1206714488,1196846175,1178826110,1162521584,1154707023,1311998709,1196052381,1312544926,1314760945,1174939899,1113423784,1145678711,1115251644,1111087126,1093038794,1117040611,1070085377,1101256667,1052099295,1044302485,1086689287,1103810618,1187153635,1224232322,1096274214,1095107995,1146098334,1073913496,1010332272,1016110376,1000324577,1011940886,989247110,1032792267,944091182,1030278534,973492238,926333031,976875342,940382014,965784715,916472947,1083859123,946058063,1068086487,926366638,897070576,862656205,907785243,833139339,954661716,854203639,826103045,840847512,837785499,771843805,776831825,738316136,689371896,710431504,652505317,641562374,645560890,622029331,620878680,647450403,595473383,589186720,613098026,580600329,576830023,562536040,551420905,549356102,544648792,531299297,527730922,514501844,504644728,497445208,592202532,493684006,488918372,477347405,472298597,478292683,451275265,447863907,437614906,459551780,417007072,404690794,413172081,392416405,400209862,421820866,391186880,386778488,389207393,374019358,378050390,374146102,369534414,356100618,355824438,347545786,345722857,347973710,338271532,342533553,403805107,324360592,322837632,329681924,319815200,315879853,324077025,319846194,308786447,302557354,299923122,295822461,289957542,289117311,278868726,316083668,267686893,266251430,278447443,266902860,258799992,271961544,263097375,255725326,264042827,251655698,254893324,250508694,245702062,247171812,278774240,240728098,235226534,235262598,225336831,222564295,230384319,219193679,219278480,210426377,218476685,208945866,234060306,203255547,199885036,222690876,197709648,193737761,197388128,195454597,188598681,187229873,194311946,185977190,191387635,185208014,175142904,183030762,174265313,181046373,203618815,177775363,165625944,175416681,166731329,167674518,164958554,167006487,164092792,157077561,156575880,155328484,155823444,151785998,146859448,150062068,146914195,148400104,149788208,139596855,137057373,136127854,146487997,133545777,145714239,133979096,135736242,126674000,127701245,127827092,166288102,126205591,130068631,122855278,119546670,122015533,118741594,113526974,113958104,115191285,118230705,110207021,108620019,112046638,107685649,129982019,103807771,106293446,103323520,98529066,100058628,100953045,106615731,95430252,106434865,97324119,98538603,94706520,95458327,83494757,109130578,88177497,87713333,90714198,80947302,87367285,91998091,83765878,82251891,82020349,77838882,82436055,81514418,78936532,75173029,81538864,76925028,75685189,79038584,73392444,73740983,71990046,69724562,70841671,68559411,74086983,67948600,67852398,70840662,69313327,102749078,64924334,63292894,66012725,65757253,62356941,60910537,62549070,66182591,61412285,64166491,61070549,61162516,57589676,60143373,68565303,59939212,58211264,60030025,52219236,59434173,57531450,52174389,52690498,57753724,52348276,58672047,56185449,55711227,52660603,62013802,53084909,51181647,50049826,48208886,45719353,49642311,52231656,45110099,11606172557],\"yaxis\":\"y\",\"type\":\"bar\"}],\"name\":\"2002\"},{\"data\":[{\"alignmentgroup\":\"True\",\"hovertemplate\":\"year=2003\\u003cbr\\u003erank=%{marker.color}\\u003cbr\\u003evalue=%{y}\\u003cextra\\u003e\\u003c\\u002fextra\\u003e\",\"ids\":[1,2,3,4,5,6,7,8,9,10,11,12,13,14,15,16,17,18,19,20,21,22,23,24,25,26,27,28,29,30,31,32,33,34,35,36,37,38,39,40,41,42,43,44,45,46,47,48,49,50,51,52,53,54,55,56,57,58,59,60,61,62,63,64,65,66,67,68,69,70,71,72,73,74,75,76,77,78,79,80,81,82,83,84,85,86,87,88,89,90,91,92,93,94,95,96,97,98,99,100,101,102,103,104,105,106,107,108,109,110,111,112,113,114,115,116,117,118,119,120,121,122,123,124,125,126,127,128,129,130,131,132,133,134,135,136,137,138,139,140,141,142,143,144,145,146,147,148,149,150,151,152,153,154,155,156,157,158,159,160,161,162,163,164,165,166,167,168,169,170,171,172,173,174,175,176,177,178,179,180,181,182,183,184,185,186,187,188,189,190,191,192,193,194,195,196,197,198,199,200,201,202,203,204,205,206,207,208,209,210,211,212,213,214,215,216,217,218,219,220,221,222,223,224,225,226,227,228,229,230,231,232,233,234,235,236,237,238,239,240,241,242,243,244,245,246,247,248,249,250,251,252,253,254,255,256,257,258,259,260,261,262,263,264,265,266,267,268,269,270,271,272,273,274,275,276,277,278,279,280,281,282,283,284,285,286,287,288,289,290,291,292,293,294,295,296,297,298,299,300,301,302,303,304,305,306,307,308,309,310,311,312,313,314,315,316,317,318,319,320,321,322,323,324,325,326,327,328,329,330,331,332,333,334,335,336,337,338,339,340,341,342,343,344,345,346,347,348,349,350,351,352,353,354,355,356,357,358,359,360,361,362,363,364,365,366,367,368,369,370,371,372,373,374,375,376,377,378,379,380,381,382,383,384,385,386,387,388,389,390,391,392,393,394,395,396,397,398,399,400],\"legendgroup\":\"\",\"marker\":{\"color\":[1,2,3,4,5,6,7,8,9,10,11,12,13,14,15,16,17,18,19,20,21,22,23,24,25,26,27,28,29,30,31,32,33,34,35,36,37,38,39,40,41,42,43,44,45,46,47,48,49,50,51,52,53,54,55,56,57,58,59,60,61,62,63,64,65,66,67,68,69,70,71,72,73,74,75,76,77,78,79,80,81,82,83,84,85,86,87,88,89,90,91,92,93,94,95,96,97,98,99,100,101,102,103,104,105,106,107,108,109,110,111,112,113,114,115,116,117,118,119,120,121,122,123,124,125,126,127,128,129,130,131,132,133,134,135,136,137,138,139,140,141,142,143,144,145,146,147,148,149,150,151,152,153,154,155,156,157,158,159,160,161,162,163,164,165,166,167,168,169,170,171,172,173,174,175,176,177,178,179,180,181,182,183,184,185,186,187,188,189,190,191,192,193,194,195,196,197,198,199,200,201,202,203,204,205,206,207,208,209,210,211,212,213,214,215,216,217,218,219,220,221,222,223,224,225,226,227,228,229,230,231,232,233,234,235,236,237,238,239,240,241,242,243,244,245,246,247,248,249,250,251,252,253,254,255,256,257,258,259,260,261,262,263,264,265,266,267,268,269,270,271,272,273,274,275,276,277,278,279,280,281,282,283,284,285,286,287,288,289,290,291,292,293,294,295,296,297,298,299,300,301,302,303,304,305,306,307,308,309,310,311,312,313,314,315,316,317,318,319,320,321,322,323,324,325,326,327,328,329,330,331,332,333,334,335,336,337,338,339,340,341,342,343,344,345,346,347,348,349,350,351,352,353,354,355,356,357,358,359,360,361,362,363,364,365,366,367,368,369,370,371,372,373,374,375,376,377,378,379,380,381,382,383,384,385,386,387,388,389,390,391,392,393,394,395,396,397,398,399,400],\"coloraxis\":\"coloraxis\",\"pattern\":{\"shape\":\"\"}},\"name\":\"\",\"offsetgroup\":\"\",\"orientation\":\"v\",\"showlegend\":false,\"textposition\":\"auto\",\"x\":[1,2,3,4,5,6,7,8,9,10,11,12,13,14,15,16,17,18,19,20,21,22,23,24,25,26,27,28,29,30,31,32,33,34,35,36,37,38,39,40,41,42,43,44,45,46,47,48,49,50,51,52,53,54,55,56,57,58,59,60,61,62,63,64,65,66,67,68,69,70,71,72,73,74,75,76,77,78,79,80,81,82,83,84,85,86,87,88,89,90,91,92,93,94,95,96,97,98,99,100,101,102,103,104,105,106,107,108,109,110,111,112,113,114,115,116,117,118,119,120,121,122,123,124,125,126,127,128,129,130,131,132,133,134,135,136,137,138,139,140,141,142,143,144,145,146,147,148,149,150,151,152,153,154,155,156,157,158,159,160,161,162,163,164,165,166,167,168,169,170,171,172,173,174,175,176,177,178,179,180,181,182,183,184,185,186,187,188,189,190,191,192,193,194,195,196,197,198,199,200,201,202,203,204,205,206,207,208,209,210,211,212,213,214,215,216,217,218,219,220,221,222,223,224,225,226,227,228,229,230,231,232,233,234,235,236,237,238,239,240,241,242,243,244,245,246,247,248,249,250,251,252,253,254,255,256,257,258,259,260,261,262,263,264,265,266,267,268,269,270,271,272,273,274,275,276,277,278,279,280,281,282,283,284,285,286,287,288,289,290,291,292,293,294,295,296,297,298,299,300,301,302,303,304,305,306,307,308,309,310,311,312,313,314,315,316,317,318,319,320,321,322,323,324,325,326,327,328,329,330,331,332,333,334,335,336,337,338,339,340,341,342,343,344,345,346,347,348,349,350,351,352,353,354,355,356,357,358,359,360,361,362,363,364,365,366,367,368,369,370,371,372,373,374,375,376,377,378,379,380,381,382,383,384,385,386,387,388,389,390,391,392,393,394,395,396,397,398,399,400],\"xaxis\":\"x\",\"y\":[29437929,87340372,113769342,153889058,177103986,208233626,240102978,255265043,263676148,287677399,315689871,324778286,353592991,356112502,371625057,403896202,399832877,408227636,441717331,445934578,464322964,494068837,507991721,541592712,553854229,577273565,591650216,638063197,661737704,663377365,706707851,786774982,744944122,789802396,772444937,806052172,932009357,859865600,883520766,912008127,905318315,944201922,1019422252,1049276232,1082170738,1181353711,1175216616,1212170325,1340730053,1351131707,1400495624,1414917153,1467327992,1517390690,1735649430,1695153866,1794172377,1892945082,1944213162,2058805464,2076173185,2037172552,2009408064,2159885551,2065981386,2018155632,2048767820,2061413149,2019640924,1989062777,1964339028,1875636783,1934477305,1832664135,1784954449,1835457729,1730513109,1702682341,1695605483,1643420442,1615116838,1623019433,1604188420,1550062595,1634001524,1523704929,1488849201,1466018351,1430416473,1435037888,1542456278,1398294719,1375025382,1344119797,1315300660,1307637181,1303969037,1277401658,1263506349,1283383016,1264934819,1232084801,1292827419,1265414434,1256328521,1349872462,1224161859,1229528543,1294356772,1247919593,1321096214,1419464469,1233567376,1234445868,1187744037,1185305991,1151233557,1192713816,1125495925,1110532157,1177396583,1113620001,1088201447,1070621219,1077008368,1103926778,1149129326,1178799363,1301811553,1213417425,1121565767,1075815206,1045398822,1024688376,1048835917,1091630397,1102964290,1070588053,1019232721,1031578107,1009610005,984528453,959985431,976739772,1020069440,1000960902,1050309332,1053263898,1089546145,1091787469,1058938230,967468416,901965860,900008910,878863831,992366350,896506471,955710541,861945549,874913636,851281953,782631727,799155062,728601555,718676875,727111201,685020401,651538611,728085784,651555823,684679267,662667826,652143464,635809638,628569152,609491581,573343620,586193391,585814112,581277221,672142750,565068658,570461410,549266115,535684215,531629600,509497062,514876661,487451936,524113530,514875974,487204427,498579869,481854649,468219996,479952335,456740990,448528826,451094916,443941145,426158609,423108244,422165590,412322919,403274960,405974878,396436721,396567097,391640745,380748872,442443787,384216325,383088864,376435913,367821342,369917661,379514367,357046874,363372404,351543508,344192453,336628710,337447725,325766600,326962091,354937615,323844879,307908326,318294472,307622907,301027505,311588736,294705728,297009215,299912299,282357136,290984045,275883847,274978723,268857075,315203738,274055437,262091149,274802543,266893677,259730997,260502988,261708321,247700705,252751096,262548604,247020105,258908530,232356592,229717355,250891239,238546642,229791394,230522161,233865465,224854718,221021402,214264486,210539438,220699488,216536071,207760284,201852076,206044571,200188050,224706945,199769110,198597870,193031494,192591021,197912454,196365235,189252760,185708205,184697082,185011765,178749774,179782641,175487785,173546013,179458873,173108666,170187735,179095752,167914571,166161941,161606582,171165790,158488598,167447088,153718636,154117076,150531804,144534287,151552999,186109117,147847441,144412738,143736802,142756084,141262213,140311044,140039331,143080577,141009842,136867821,131950433,136497509,128971034,128747918,140953866,121849772,128903571,121219838,125625698,120832667,120302274,122096167,113738052,119741752,116066509,109046412,112919792,116024131,110974330,125054518,110851187,106401646,101247729,104969587,100045032,105252212,101651910,101476635,94723036,102766099,98831126,99049550,95079329,97906055,101300287,91475443,90487773,96466485,92897895,94624079,86117920,85654818,83285426,82101598,83331455,84417298,81940816,76216990,81391269,117519083,74179817,76486044,73788419,77492337,76534553,74254020,70854445,70605124,76266956,71210549,72587690,68021382,68799732,70782679,78396491,70031985,71876030,70024782,58975718,65978258,66991764,67010904,67802244,62057267,64762527,63155243,60523178,62391757,58580586,73412556,64596616,60209792,58867599,59650303,57028793,59394872,58829756,59695275,13244397792],\"yaxis\":\"y\",\"type\":\"bar\"}],\"name\":\"2003\"},{\"data\":[{\"alignmentgroup\":\"True\",\"hovertemplate\":\"year=2004\\u003cbr\\u003erank=%{marker.color}\\u003cbr\\u003evalue=%{y}\\u003cextra\\u003e\\u003c\\u002fextra\\u003e\",\"ids\":[1,2,3,4,5,6,7,8,9,10,11,12,13,14,15,16,17,18,19,20,21,22,23,24,25,26,27,28,29,30,31,32,33,34,35,36,37,38,39,40,41,42,43,44,45,46,47,48,49,50,51,52,53,54,55,56,57,58,59,60,61,62,63,64,65,66,67,68,69,70,71,72,73,74,75,76,77,78,79,80,81,82,83,84,85,86,87,88,89,90,91,92,93,94,95,96,97,98,99,100,101,102,103,104,105,106,107,108,109,110,111,112,113,114,115,116,117,118,119,120,121,122,123,124,125,126,127,128,129,130,131,132,133,134,135,136,137,138,139,140,141,142,143,144,145,146,147,148,149,150,151,152,153,154,155,156,157,158,159,160,161,162,163,164,165,166,167,168,169,170,171,172,173,174,175,176,177,178,179,180,181,182,183,184,185,186,187,188,189,190,191,192,193,194,195,196,197,198,199,200,201,202,203,204,205,206,207,208,209,210,211,212,213,214,215,216,217,218,219,220,221,222,223,224,225,226,227,228,229,230,231,232,233,234,235,236,237,238,239,240,241,242,243,244,245,246,247,248,249,250,251,252,253,254,255,256,257,258,259,260,261,262,263,264,265,266,267,268,269,270,271,272,273,274,275,276,277,278,279,280,281,282,283,284,285,286,287,288,289,290,291,292,293,294,295,296,297,298,299,300,301,302,303,304,305,306,307,308,309,310,311,312,313,314,315,316,317,318,319,320,321,322,323,324,325,326,327,328,329,330,331,332,333,334,335,336,337,338,339,340,341,342,343,344,345,346,347,348,349,350,351,352,353,354,355,356,357,358,359,360,361,362,363,364,365,366,367,368,369,370,371,372,373,374,375,376,377,378,379,380,381,382,383,384,385,386,387,388,389,390,391,392,393,394,395,396,397,398,399,400],\"legendgroup\":\"\",\"marker\":{\"color\":[1,2,3,4,5,6,7,8,9,10,11,12,13,14,15,16,17,18,19,20,21,22,23,24,25,26,27,28,29,30,31,32,33,34,35,36,37,38,39,40,41,42,43,44,45,46,47,48,49,50,51,52,53,54,55,56,57,58,59,60,61,62,63,64,65,66,67,68,69,70,71,72,73,74,75,76,77,78,79,80,81,82,83,84,85,86,87,88,89,90,91,92,93,94,95,96,97,98,99,100,101,102,103,104,105,106,107,108,109,110,111,112,113,114,115,116,117,118,119,120,121,122,123,124,125,126,127,128,129,130,131,132,133,134,135,136,137,138,139,140,141,142,143,144,145,146,147,148,149,150,151,152,153,154,155,156,157,158,159,160,161,162,163,164,165,166,167,168,169,170,171,172,173,174,175,176,177,178,179,180,181,182,183,184,185,186,187,188,189,190,191,192,193,194,195,196,197,198,199,200,201,202,203,204,205,206,207,208,209,210,211,212,213,214,215,216,217,218,219,220,221,222,223,224,225,226,227,228,229,230,231,232,233,234,235,236,237,238,239,240,241,242,243,244,245,246,247,248,249,250,251,252,253,254,255,256,257,258,259,260,261,262,263,264,265,266,267,268,269,270,271,272,273,274,275,276,277,278,279,280,281,282,283,284,285,286,287,288,289,290,291,292,293,294,295,296,297,298,299,300,301,302,303,304,305,306,307,308,309,310,311,312,313,314,315,316,317,318,319,320,321,322,323,324,325,326,327,328,329,330,331,332,333,334,335,336,337,338,339,340,341,342,343,344,345,346,347,348,349,350,351,352,353,354,355,356,357,358,359,360,361,362,363,364,365,366,367,368,369,370,371,372,373,374,375,376,377,378,379,380,381,382,383,384,385,386,387,388,389,390,391,392,393,394,395,396,397,398,399,400],\"coloraxis\":\"coloraxis\",\"pattern\":{\"shape\":\"\"}},\"name\":\"\",\"offsetgroup\":\"\",\"orientation\":\"v\",\"showlegend\":false,\"textposition\":\"auto\",\"x\":[1,2,3,4,5,6,7,8,9,10,11,12,13,14,15,16,17,18,19,20,21,22,23,24,25,26,27,28,29,30,31,32,33,34,35,36,37,38,39,40,41,42,43,44,45,46,47,48,49,50,51,52,53,54,55,56,57,58,59,60,61,62,63,64,65,66,67,68,69,70,71,72,73,74,75,76,77,78,79,80,81,82,83,84,85,86,87,88,89,90,91,92,93,94,95,96,97,98,99,100,101,102,103,104,105,106,107,108,109,110,111,112,113,114,115,116,117,118,119,120,121,122,123,124,125,126,127,128,129,130,131,132,133,134,135,136,137,138,139,140,141,142,143,144,145,146,147,148,149,150,151,152,153,154,155,156,157,158,159,160,161,162,163,164,165,166,167,168,169,170,171,172,173,174,175,176,177,178,179,180,181,182,183,184,185,186,187,188,189,190,191,192,193,194,195,196,197,198,199,200,201,202,203,204,205,206,207,208,209,210,211,212,213,214,215,216,217,218,219,220,221,222,223,224,225,226,227,228,229,230,231,232,233,234,235,236,237,238,239,240,241,242,243,244,245,246,247,248,249,250,251,252,253,254,255,256,257,258,259,260,261,262,263,264,265,266,267,268,269,270,271,272,273,274,275,276,277,278,279,280,281,282,283,284,285,286,287,288,289,290,291,292,293,294,295,296,297,298,299,300,301,302,303,304,305,306,307,308,309,310,311,312,313,314,315,316,317,318,319,320,321,322,323,324,325,326,327,328,329,330,331,332,333,334,335,336,337,338,339,340,341,342,343,344,345,346,347,348,349,350,351,352,353,354,355,356,357,358,359,360,361,362,363,364,365,366,367,368,369,370,371,372,373,374,375,376,377,378,379,380,381,382,383,384,385,386,387,388,389,390,391,392,393,394,395,396,397,398,399,400],\"xaxis\":\"x\",\"y\":[27855280,68217591,102460947,144327889,164526172,202138631,229178378,242989235,262969673,279365949,302997140,324910933,333767132,355221937,438794985,384232343,404107436,406607266,434980481,443430293,452497176,485858962,503314898,516617850,554434072,565500826,589090309,619553455,640413126,658410611,701404967,703731891,739041883,817393842,783394012,807936228,904885904,862073491,879818094,895800086,908297772,928511460,993044754,1029174082,1014931664,1145979745,1124264944,1141937368,1240316410,1308973798,1359878251,1361355393,1447904459,1459142215,1675456877,1636223700,1681577816,1791408766,1884551601,1968675541,2130067247,2048332638,2065025868,2205440313,2089517171,2116466562,2151930574,2148081388,2043401952,2138938362,2108642256,2087449594,2164740642,1954466201,1919254573,1932169881,1875326480,1852106860,1846636688,1772118842,1745701859,1726526906,1720388483,1637292928,1706802245,1633344536,1608844280,1591947860,1602179745,1594208674,1689394930,1504581234,1495364966,1493882152,1489574507,1450477199,1427967180,1358791210,1351075915,1362608330,1344486753,1301498369,1334995433,1297374072,1282159340,1391233776,1274124021,1280241363,1350952830,1259377434,1239546873,1269490920,1274814207,1271023335,1322919124,1454683975,1378201093,1250977608,1254892838,1195091480,1299135428,1226193413,1242745972,1162539370,1171136319,1147675221,1186464788,1100988526,1085904202,1108605619,1122968137,1117513370,1247472980,1292167125,1257073628,1215290891,1135709119,1068065498,1074318148,1078940925,1096792040,1106866902,1095017735,1059708272,1048629232,1039443059,982819276,1002047329,997446343,992228934,1100868381,1037894482,1045617829,1079102675,1081261854,1112872476,1023116484,1017609407,931877210,980887185,933440960,923130594,959650327,887778720,899509351,867849189,887797339,799844031,842126375,768925656,736820708,715586023,688994660,701320753,662593931,728037711,700293418,670590970,667198335,680528089,748334129,614529016,615471376,597654548,599097328,601486177,586800145,576568498,562330120,596403622,559588909,547289312,543115847,538104272,526529717,540264757,529251023,498881654,491032470,495828511,492636300,466948939,467973269,466784629,461392661,452949045,437031090,440642582,430131680,419030065,479624557,404144641,404510328,406362364,409253533,403198503,410460605,385092855,383810983,378677336,377711814,386873867,367300330,370301502,367908969,405753490,362757641,355214969,358783544,351184583,344815619,348676134,344795810,339364917,344842609,336994793,332459288,320288148,317539914,311408244,358480514,304150322,302053075,304754274,293307208,300521737,290027580,288781167,272653869,291871192,298974735,276189230,297028269,269823010,262283822,277303368,261635867,259764522,258602110,248389654,252890170,253333881,249481540,245632523,236715203,242389997,230300083,235018600,227692365,225682320,248402293,219805398,216201276,217310464,217572112,217971697,214006329,211787189,210767844,207109203,213833254,196879424,198201412,195957976,197211358,204184012,194764680,186935988,196405554,181174646,187834977,180734350,191877193,176390719,183237570,181787837,170299696,173320066,168538320,172701433,221243242,171605128,168851991,168253479,158403063,162889181,162933084,154853300,161032919,161427898,149466832,150832980,157380638,152236274,144479709,156919863,139259305,146556431,138927365,138729566,141018281,139340198,133833092,139560051,129995247,140736766,131580717,124969891,121084847,124552161,139400471,124509994,121095721,123391452,115801302,116617642,119522055,123521512,119692242,118077547,118422799,110169406,110630929,108820136,105414523,111246686,108387385,99173563,102666162,104921137,114457506,103059883,100744456,101597775,97767385,98544017,92189527,96163179,94285600,91455129,131563498,95578973,100412442,89492598,87043176,92397106,84292150,89306298,83429274,87941290,84029916,85293873,81204625,80453371,80068669,86578603,74618213,81465422,85689681,78938256,80204621,76149231,77953691,76774174,74360949,78870464,77145448,72071421,68375427,68940544,80122667,74148924,73080670,70443478,72035115,72136315,68199257,66461437,65752336,15106127384],\"yaxis\":\"y\",\"type\":\"bar\"}],\"name\":\"2004\"},{\"data\":[{\"alignmentgroup\":\"True\",\"hovertemplate\":\"year=2005\\u003cbr\\u003erank=%{marker.color}\\u003cbr\\u003evalue=%{y}\\u003cextra\\u003e\\u003c\\u002fextra\\u003e\",\"ids\":[1,2,3,4,5,6,7,8,9,10,11,12,13,14,15,16,17,18,19,20,21,22,23,24,25,26,27,28,29,30,31,32,33,34,35,36,37,38,39,40,41,42,43,44,45,46,47,48,49,50,51,52,53,54,55,56,57,58,59,60,61,62,63,64,65,66,67,68,69,70,71,72,73,74,75,76,77,78,79,80,81,82,83,84,85,86,87,88,89,90,91,92,93,94,95,96,97,98,99,100,101,102,103,104,105,106,107,108,109,110,111,112,113,114,115,116,117,118,119,120,121,122,123,124,125,126,127,128,129,130,131,132,133,134,135,136,137,138,139,140,141,142,143,144,145,146,147,148,149,150,151,152,153,154,155,156,157,158,159,160,161,162,163,164,165,166,167,168,169,170,171,172,173,174,175,176,177,178,179,180,181,182,183,184,185,186,187,188,189,190,191,192,193,194,195,196,197,198,199,200,201,202,203,204,205,206,207,208,209,210,211,212,213,214,215,216,217,218,219,220,221,222,223,224,225,226,227,228,229,230,231,232,233,234,235,236,237,238,239,240,241,242,243,244,245,246,247,248,249,250,251,252,253,254,255,256,257,258,259,260,261,262,263,264,265,266,267,268,269,270,271,272,273,274,275,276,277,278,279,280,281,282,283,284,285,286,287,288,289,290,291,292,293,294,295,296,297,298,299,300,301,302,303,304,305,306,307,308,309,310,311,312,313,314,315,316,317,318,319,320,321,322,323,324,325,326,327,328,329,330,331,332,333,334,335,336,337,338,339,340,341,342,343,344,345,346,347,348,349,350,351,352,353,354,355,356,357,358,359,360,361,362,363,364,365,366,367,368,369,370,371,372,373,374,375,376,377,378,379,380,381,382,383,384,385,386,387,388,389,390,391,392,393,394,395,396,397,398,399,400],\"legendgroup\":\"\",\"marker\":{\"color\":[1,2,3,4,5,6,7,8,9,10,11,12,13,14,15,16,17,18,19,20,21,22,23,24,25,26,27,28,29,30,31,32,33,34,35,36,37,38,39,40,41,42,43,44,45,46,47,48,49,50,51,52,53,54,55,56,57,58,59,60,61,62,63,64,65,66,67,68,69,70,71,72,73,74,75,76,77,78,79,80,81,82,83,84,85,86,87,88,89,90,91,92,93,94,95,96,97,98,99,100,101,102,103,104,105,106,107,108,109,110,111,112,113,114,115,116,117,118,119,120,121,122,123,124,125,126,127,128,129,130,131,132,133,134,135,136,137,138,139,140,141,142,143,144,145,146,147,148,149,150,151,152,153,154,155,156,157,158,159,160,161,162,163,164,165,166,167,168,169,170,171,172,173,174,175,176,177,178,179,180,181,182,183,184,185,186,187,188,189,190,191,192,193,194,195,196,197,198,199,200,201,202,203,204,205,206,207,208,209,210,211,212,213,214,215,216,217,218,219,220,221,222,223,224,225,226,227,228,229,230,231,232,233,234,235,236,237,238,239,240,241,242,243,244,245,246,247,248,249,250,251,252,253,254,255,256,257,258,259,260,261,262,263,264,265,266,267,268,269,270,271,272,273,274,275,276,277,278,279,280,281,282,283,284,285,286,287,288,289,290,291,292,293,294,295,296,297,298,299,300,301,302,303,304,305,306,307,308,309,310,311,312,313,314,315,316,317,318,319,320,321,322,323,324,325,326,327,328,329,330,331,332,333,334,335,336,337,338,339,340,341,342,343,344,345,346,347,348,349,350,351,352,353,354,355,356,357,358,359,360,361,362,363,364,365,366,367,368,369,370,371,372,373,374,375,376,377,378,379,380,381,382,383,384,385,386,387,388,389,390,391,392,393,394,395,396,397,398,399,400],\"coloraxis\":\"coloraxis\",\"pattern\":{\"shape\":\"\"}},\"name\":\"\",\"offsetgroup\":\"\",\"orientation\":\"v\",\"showlegend\":false,\"textposition\":\"auto\",\"x\":[1,2,3,4,5,6,7,8,9,10,11,12,13,14,15,16,17,18,19,20,21,22,23,24,25,26,27,28,29,30,31,32,33,34,35,36,37,38,39,40,41,42,43,44,45,46,47,48,49,50,51,52,53,54,55,56,57,58,59,60,61,62,63,64,65,66,67,68,69,70,71,72,73,74,75,76,77,78,79,80,81,82,83,84,85,86,87,88,89,90,91,92,93,94,95,96,97,98,99,100,101,102,103,104,105,106,107,108,109,110,111,112,113,114,115,116,117,118,119,120,121,122,123,124,125,126,127,128,129,130,131,132,133,134,135,136,137,138,139,140,141,142,143,144,145,146,147,148,149,150,151,152,153,154,155,156,157,158,159,160,161,162,163,164,165,166,167,168,169,170,171,172,173,174,175,176,177,178,179,180,181,182,183,184,185,186,187,188,189,190,191,192,193,194,195,196,197,198,199,200,201,202,203,204,205,206,207,208,209,210,211,212,213,214,215,216,217,218,219,220,221,222,223,224,225,226,227,228,229,230,231,232,233,234,235,236,237,238,239,240,241,242,243,244,245,246,247,248,249,250,251,252,253,254,255,256,257,258,259,260,261,262,263,264,265,266,267,268,269,270,271,272,273,274,275,276,277,278,279,280,281,282,283,284,285,286,287,288,289,290,291,292,293,294,295,296,297,298,299,300,301,302,303,304,305,306,307,308,309,310,311,312,313,314,315,316,317,318,319,320,321,322,323,324,325,326,327,328,329,330,331,332,333,334,335,336,337,338,339,340,341,342,343,344,345,346,347,348,349,350,351,352,353,354,355,356,357,358,359,360,361,362,363,364,365,366,367,368,369,370,371,372,373,374,375,376,377,378,379,380,381,382,383,384,385,386,387,388,389,390,391,392,393,394,395,396,397,398,399,400],\"xaxis\":\"x\",\"y\":[31801465,71854670,109068935,154811651,179556090,212093484,238809133,258872826,274264746,303521210,321022689,348609551,359062570,387711847,473894697,415813696,425394146,447169986,466429855,474551413,491440166,513311601,535212447,547371119,576407874,605917477,629380823,651470927,671496315,687991325,746855560,745806098,763915704,778071425,803609733,908403109,945616734,908267278,918770655,935834935,942449286,964867356,1016488923,1022802765,1058932481,1134035429,1135048808,1128575183,1195986045,1258587714,1314609276,1326308152,1405648891,1418979968,1582596832,1540059838,1600655079,1684712221,1746163022,1805837502,2016292805,1987591283,2098498709,2248167047,2120008818,2192878105,2197252088,2197710316,2211913484,2194705889,2190521628,2172271521,2378816709,2239960884,2164143917,2212931144,2042662104,2006289756,1986505804,1936712808,1929309044,1943745029,1905285732,1802458871,1855653901,1786429529,1740190994,1709033974,1649251470,1704426163,1820421725,1649173985,1645800966,1644125837,1632510993,1585745193,1615199114,1603758089,1522754624,1524780764,1503207383,1434662089,1440255084,1399901491,1401372011,1490827047,1363493270,1367350265,1428578362,1323229199,1333693781,1339265044,1342389088,1308342925,1340483543,1334500129,1297359905,1311605234,1296572068,1487139447,1463171819,1348598795,1340048359,1300290285,1278042889,1257086867,1386019722,1244408310,1223532826,1171443194,1185178567,1127240287,1142714514,1147279597,1174301507,1188530137,1195976720,1336650495,1373008805,1226206498,1243660245,1155720646,1150776042,1101409656,1146698331,1113696567,1119936314,1145436304,1102981451,1077615272,1174853872,1026233496,1026904618,1063881656,1055007519,1011885316,1042598661,1061567228,1058488671,1086450194,1105294597,1029128105,1080373756,1045198715,966915881,1001166271,994437405,973066458,1002647025,989922235,933573359,900774191,894671780,841331516,826647164,840722015,763325288,735116662,713485687,711737286,848415899,715148421,734819203,728586114,703665051,717899665,673086642,649266222,631414823,631130866,631964501,609423910,610480178,591990286,597936546,609013132,590234994,581067362,589137103,576044843,556255621,550036330,536468748,521350859,518595973,519226834,501268970,503101477,481004145,490856413,549687364,471897617,454360530,451932739,442214918,445637286,461559793,436519825,426773864,418274241,422165033,414249452,420712774,400063099,411804725,428067410,393019938,395018843,392605235,388864976,393217503,375112184,386974715,370189129,381663608,375458853,371212709,356525646,366615768,357824781,401901325,349487659,345754599,356334622,349091308,348640191,343609522,332492389,331394354,326748008,336180949,314873469,338988179,313479875,300053505,319865756,300262541,309719401,296807464,289867549,290549999,280797011,288434433,278835476,272478069,275207046,268996614,265624006,259796257,259524848,289074577,248857276,250810908,262334215,253914851,251905538,247236003,249421621,234206837,237344754,245530984,232741299,226221300,229647531,220427581,226450889,222544695,223152879,221032481,210745045,210543882,210172904,209722661,208793618,209676566,202771945,208315962,205039702,201246729,204513906,245689594,193973738,191607582,192116406,197563187,185491131,187885546,179946002,181025392,195861065,187602162,180663368,177804464,173995798,174104939,190104292,167237909,167645648,169188700,162947630,161076402,161004241,160921726,156439765,157573920,165011091,156650557,153856462,145532213,142277325,160478489,147789498,145101572,139206010,144436474,142519034,145832846,142088170,140137818,138515897,138916864,132022176,129532036,129631153,127949893,133563146,126124937,126281302,124204096,123937277,135345409,120071813,117174427,117643281,121884512,115396300,111584748,112606646,116584323,114462846,151165748,109677613,114766241,109556929,111535455,104894838,104668020,103786583,99051317,105235324,103293327,106024647,103102684,105105290,101712596,111209156,95861514,97922495,95151581,90093625,89869317,94610973,95166207,85366261,88662939,91202898,85647894,87419633,87182656,85613622,102064893,85112912,83602733,85154585,79766443,83292023,80960460,83155442,80578397,17720072132],\"yaxis\":\"y\",\"type\":\"bar\"}],\"name\":\"2005\"},{\"data\":[{\"alignmentgroup\":\"True\",\"hovertemplate\":\"year=2006\\u003cbr\\u003erank=%{marker.color}\\u003cbr\\u003evalue=%{y}\\u003cextra\\u003e\\u003c\\u002fextra\\u003e\",\"ids\":[1,2,3,4,5,6,7,8,9,10,11,12,13,14,15,16,17,18,19,20,21,22,23,24,25,26,27,28,29,30,31,32,33,34,35,36,37,38,39,40,41,42,43,44,45,46,47,48,49,50,51,52,53,54,55,56,57,58,59,60,61,62,63,64,65,66,67,68,69,70,71,72,73,74,75,76,77,78,79,80,81,82,83,84,85,86,87,88,89,90,91,92,93,94,95,96,97,98,99,100,101,102,103,104,105,106,107,108,109,110,111,112,113,114,115,116,117,118,119,120,121,122,123,124,125,126,127,128,129,130,131,132,133,134,135,136,137,138,139,140,141,142,143,144,145,146,147,148,149,150,151,152,153,154,155,156,157,158,159,160,161,162,163,164,165,166,167,168,169,170,171,172,173,174,175,176,177,178,179,180,181,182,183,184,185,186,187,188,189,190,191,192,193,194,195,196,197,198,199,200,201,202,203,204,205,206,207,208,209,210,211,212,213,214,215,216,217,218,219,220,221,222,223,224,225,226,227,228,229,230,231,232,233,234,235,236,237,238,239,240,241,242,243,244,245,246,247,248,249,250,251,252,253,254,255,256,257,258,259,260,261,262,263,264,265,266,267,268,269,270,271,272,273,274,275,276,277,278,279,280,281,282,283,284,285,286,287,288,289,290,291,292,293,294,295,296,297,298,299,300,301,302,303,304,305,306,307,308,309,310,311,312,313,314,315,316,317,318,319,320,321,322,323,324,325,326,327,328,329,330,331,332,333,334,335,336,337,338,339,340,341,342,343,344,345,346,347,348,349,350,351,352,353,354,355,356,357,358,359,360,361,362,363,364,365,366,367,368,369,370,371,372,373,374,375,376,377,378,379,380,381,382,383,384,385,386,387,388,389,390,391,392,393,394,395,396,397,398,399,400],\"legendgroup\":\"\",\"marker\":{\"color\":[1,2,3,4,5,6,7,8,9,10,11,12,13,14,15,16,17,18,19,20,21,22,23,24,25,26,27,28,29,30,31,32,33,34,35,36,37,38,39,40,41,42,43,44,45,46,47,48,49,50,51,52,53,54,55,56,57,58,59,60,61,62,63,64,65,66,67,68,69,70,71,72,73,74,75,76,77,78,79,80,81,82,83,84,85,86,87,88,89,90,91,92,93,94,95,96,97,98,99,100,101,102,103,104,105,106,107,108,109,110,111,112,113,114,115,116,117,118,119,120,121,122,123,124,125,126,127,128,129,130,131,132,133,134,135,136,137,138,139,140,141,142,143,144,145,146,147,148,149,150,151,152,153,154,155,156,157,158,159,160,161,162,163,164,165,166,167,168,169,170,171,172,173,174,175,176,177,178,179,180,181,182,183,184,185,186,187,188,189,190,191,192,193,194,195,196,197,198,199,200,201,202,203,204,205,206,207,208,209,210,211,212,213,214,215,216,217,218,219,220,221,222,223,224,225,226,227,228,229,230,231,232,233,234,235,236,237,238,239,240,241,242,243,244,245,246,247,248,249,250,251,252,253,254,255,256,257,258,259,260,261,262,263,264,265,266,267,268,269,270,271,272,273,274,275,276,277,278,279,280,281,282,283,284,285,286,287,288,289,290,291,292,293,294,295,296,297,298,299,300,301,302,303,304,305,306,307,308,309,310,311,312,313,314,315,316,317,318,319,320,321,322,323,324,325,326,327,328,329,330,331,332,333,334,335,336,337,338,339,340,341,342,343,344,345,346,347,348,349,350,351,352,353,354,355,356,357,358,359,360,361,362,363,364,365,366,367,368,369,370,371,372,373,374,375,376,377,378,379,380,381,382,383,384,385,386,387,388,389,390,391,392,393,394,395,396,397,398,399,400],\"coloraxis\":\"coloraxis\",\"pattern\":{\"shape\":\"\"}},\"name\":\"\",\"offsetgroup\":\"\",\"orientation\":\"v\",\"showlegend\":false,\"textposition\":\"auto\",\"x\":[1,2,3,4,5,6,7,8,9,10,11,12,13,14,15,16,17,18,19,20,21,22,23,24,25,26,27,28,29,30,31,32,33,34,35,36,37,38,39,40,41,42,43,44,45,46,47,48,49,50,51,52,53,54,55,56,57,58,59,60,61,62,63,64,65,66,67,68,69,70,71,72,73,74,75,76,77,78,79,80,81,82,83,84,85,86,87,88,89,90,91,92,93,94,95,96,97,98,99,100,101,102,103,104,105,106,107,108,109,110,111,112,113,114,115,116,117,118,119,120,121,122,123,124,125,126,127,128,129,130,131,132,133,134,135,136,137,138,139,140,141,142,143,144,145,146,147,148,149,150,151,152,153,154,155,156,157,158,159,160,161,162,163,164,165,166,167,168,169,170,171,172,173,174,175,176,177,178,179,180,181,182,183,184,185,186,187,188,189,190,191,192,193,194,195,196,197,198,199,200,201,202,203,204,205,206,207,208,209,210,211,212,213,214,215,216,217,218,219,220,221,222,223,224,225,226,227,228,229,230,231,232,233,234,235,236,237,238,239,240,241,242,243,244,245,246,247,248,249,250,251,252,253,254,255,256,257,258,259,260,261,262,263,264,265,266,267,268,269,270,271,272,273,274,275,276,277,278,279,280,281,282,283,284,285,286,287,288,289,290,291,292,293,294,295,296,297,298,299,300,301,302,303,304,305,306,307,308,309,310,311,312,313,314,315,316,317,318,319,320,321,322,323,324,325,326,327,328,329,330,331,332,333,334,335,336,337,338,339,340,341,342,343,344,345,346,347,348,349,350,351,352,353,354,355,356,357,358,359,360,361,362,363,364,365,366,367,368,369,370,371,372,373,374,375,376,377,378,379,380,381,382,383,384,385,386,387,388,389,390,391,392,393,394,395,396,397,398,399,400],\"xaxis\":\"x\",\"y\":[31584347,72813778,108110010,154349596,174609190,210049957,230755232,256678012,265209306,294836006,307136637,336593025,345847290,363344674,490969588,402216803,413625146,420685820,458329208,456806500,479422109,497501117,514473607,533111244,550232417,575923100,596910811,628060822,656030952,663358482,707258815,731982290,753916804,770878132,776200311,811742337,883785060,962665797,898815856,915817308,941120229,934648781,1011759112,1013390314,1048587585,1122123334,1180959423,1167764991,1200284884,1222176959,1285758418,1297580078,1372462845,1396986498,1548537211,1507291528,1582795594,1613315516,1677349207,1733969543,1910615679,1845644343,1967365818,2109917751,2072412045,2134621171,2242901685,2281929176,2311958007,2286644692,2325831324,2344699320,2491472126,2284049209,2274173422,2412771919,2339415357,2327499566,2320356009,2153494314,2108443081,2090347706,2036691131,2078883285,2150164177,2014150450,1966226865,1940485029,1876355800,1885218903,2020184949,1802823953,1787331075,1790678789,1763389236,1746385646,1747390107,1707747475,1670845793,1670584529,1786712284,1690832693,1677487259,1615308039,1580743569,1682393401,1522078114,1492924960,1545279760,1458441092,1427472497,1449654570,1447102371,1406627023,1422172685,1425956267,1343547665,1366746715,1350850580,1361203413,1465302324,1342341931,1380233319,1355275596,1477401579,1502012185,1591822505,1441603405,1414422924,1351739258,1348287128,1344808457,1304797794,1375581518,1297295095,1319928560,1261428855,1233120999,1247346756,1236614120,1256406007,1252712301,1248331683,1296556815,1426586542,1319566063,1256441805,1230679251,1182553112,1150517324,1281944389,1127149239,1141919475,1130657018,1187420192,1146458067,1157719294,1179353838,1121152661,1094399071,1105712438,1065556878,1069398751,1060519499,1103565239,1102165476,1089566792,1094230379,1145818410,1088000731,1077368312,1025361481,1027052188,1034067765,1054368888,1039202954,1042790547,975873182,937484872,962379830,1057890794,898301194,864948162,822923901,803455313,788488941,799756282,778386528,748103172,774934110,775722386,750163936,737424767,741573656,718352278,707323030,678312018,661776508,658240487,661342550,662746838,631856322,626815879,620635474,631840425,608019343,605047319,599062499,566804313,561851144,644671688,547738702,551930340,546014022,534572330,531237811,538978956,519423263,503642746,498215502,505360330,487165470,480051379,473724987,485318444,510306242,447110629,447994160,445787347,439316201,454975641,441779525,433014845,417266789,427391259,409884461,411463836,403896027,393510604,407726929,448921187,404070893,385905255,400934982,393499975,394235292,385967983,383031674,384425050,381890691,396244274,378400002,377516629,359002409,360834466,370040713,352946376,350448700,352381384,342741926,345665348,331154368,333110577,325839456,323795385,317528860,322408032,316487330,308281928,305567298,336074752,302434825,302583368,296905807,298657182,296368600,290215913,279056153,278102968,278494140,303000967,269512693,265488467,278969667,262593167,265044278,256580817,261624141,265983812,256494626,241971843,245619307,240082138,241427994,239486769,246440841,240223030,235264089,231631758,241596070,284599346,220568015,225966260,225138667,218146234,219289791,221846247,215491390,218844226,209350787,212930522,208518715,210434375,204027842,198075091,217667946,202174006,193416795,193836432,193557072,190496123,207662885,194010585,187173815,191780088,191113138,184339183,178620648,173583297,177996446,198481351,181200387,176420795,166018049,164043115,171167558,172619005,170164636,161259442,164114994,163162995,155387146,159811274,160897838,151995027,162517893,152530721,148520335,150828139,148825203,160290743,146151486,146852435,144013433,137834393,142266601,136255071,139419958,135226091,130141621,181213145,136137770,129340751,131145062,127288006,127334309,129960384,125537771,123518345,122451437,125523769,116200666,121955242,117878849,125009601,128855650,115585033,116725319,117175013,114533570,114980234,113687775,108936726,106231938,106041692,117031548,102574944,107568844,105978050,99943416,114722325,101630809,96788808,98530159,97755744,98086757,91906273,95558922,89502126,20695557716],\"yaxis\":\"y\",\"type\":\"bar\"}],\"name\":\"2006\"},{\"data\":[{\"alignmentgroup\":\"True\",\"hovertemplate\":\"year=2007\\u003cbr\\u003erank=%{marker.color}\\u003cbr\\u003evalue=%{y}\\u003cextra\\u003e\\u003c\\u002fextra\\u003e\",\"ids\":[1,2,3,4,5,6,7,8,9,10,11,12,13,14,15,16,17,18,19,20,21,22,23,24,25,26,27,28,29,30,31,32,33,34,35,36,37,38,39,40,41,42,43,44,45,46,47,48,49,50,51,52,53,54,55,56,57,58,59,60,61,62,63,64,65,66,67,68,69,70,71,72,73,74,75,76,77,78,79,80,81,82,83,84,85,86,87,88,89,90,91,92,93,94,95,96,97,98,99,100,101,102,103,104,105,106,107,108,109,110,111,112,113,114,115,116,117,118,119,120,121,122,123,124,125,126,127,128,129,130,131,132,133,134,135,136,137,138,139,140,141,142,143,144,145,146,147,148,149,150,151,152,153,154,155,156,157,158,159,160,161,162,163,164,165,166,167,168,169,170,171,172,173,174,175,176,177,178,179,180,181,182,183,184,185,186,187,188,189,190,191,192,193,194,195,196,197,198,199,200,201,202,203,204,205,206,207,208,209,210,211,212,213,214,215,216,217,218,219,220,221,222,223,224,225,226,227,228,229,230,231,232,233,234,235,236,237,238,239,240,241,242,243,244,245,246,247,248,249,250,251,252,253,254,255,256,257,258,259,260,261,262,263,264,265,266,267,268,269,270,271,272,273,274,275,276,277,278,279,280,281,282,283,284,285,286,287,288,289,290,291,292,293,294,295,296,297,298,299,300,301,302,303,304,305,306,307,308,309,310,311,312,313,314,315,316,317,318,319,320,321,322,323,324,325,326,327,328,329,330,331,332,333,334,335,336,337,338,339,340,341,342,343,344,345,346,347,348,349,350,351,352,353,354,355,356,357,358,359,360,361,362,363,364,365,366,367,368,369,370,371,372,373,374,375,376,377,378,379,380,381,382,383,384,385,386,387,388,389,390,391,392,393,394,395,396,397,398,399,400],\"legendgroup\":\"\",\"marker\":{\"color\":[1,2,3,4,5,6,7,8,9,10,11,12,13,14,15,16,17,18,19,20,21,22,23,24,25,26,27,28,29,30,31,32,33,34,35,36,37,38,39,40,41,42,43,44,45,46,47,48,49,50,51,52,53,54,55,56,57,58,59,60,61,62,63,64,65,66,67,68,69,70,71,72,73,74,75,76,77,78,79,80,81,82,83,84,85,86,87,88,89,90,91,92,93,94,95,96,97,98,99,100,101,102,103,104,105,106,107,108,109,110,111,112,113,114,115,116,117,118,119,120,121,122,123,124,125,126,127,128,129,130,131,132,133,134,135,136,137,138,139,140,141,142,143,144,145,146,147,148,149,150,151,152,153,154,155,156,157,158,159,160,161,162,163,164,165,166,167,168,169,170,171,172,173,174,175,176,177,178,179,180,181,182,183,184,185,186,187,188,189,190,191,192,193,194,195,196,197,198,199,200,201,202,203,204,205,206,207,208,209,210,211,212,213,214,215,216,217,218,219,220,221,222,223,224,225,226,227,228,229,230,231,232,233,234,235,236,237,238,239,240,241,242,243,244,245,246,247,248,249,250,251,252,253,254,255,256,257,258,259,260,261,262,263,264,265,266,267,268,269,270,271,272,273,274,275,276,277,278,279,280,281,282,283,284,285,286,287,288,289,290,291,292,293,294,295,296,297,298,299,300,301,302,303,304,305,306,307,308,309,310,311,312,313,314,315,316,317,318,319,320,321,322,323,324,325,326,327,328,329,330,331,332,333,334,335,336,337,338,339,340,341,342,343,344,345,346,347,348,349,350,351,352,353,354,355,356,357,358,359,360,361,362,363,364,365,366,367,368,369,370,371,372,373,374,375,376,377,378,379,380,381,382,383,384,385,386,387,388,389,390,391,392,393,394,395,396,397,398,399,400],\"coloraxis\":\"coloraxis\",\"pattern\":{\"shape\":\"\"}},\"name\":\"\",\"offsetgroup\":\"\",\"orientation\":\"v\",\"showlegend\":false,\"textposition\":\"auto\",\"x\":[1,2,3,4,5,6,7,8,9,10,11,12,13,14,15,16,17,18,19,20,21,22,23,24,25,26,27,28,29,30,31,32,33,34,35,36,37,38,39,40,41,42,43,44,45,46,47,48,49,50,51,52,53,54,55,56,57,58,59,60,61,62,63,64,65,66,67,68,69,70,71,72,73,74,75,76,77,78,79,80,81,82,83,84,85,86,87,88,89,90,91,92,93,94,95,96,97,98,99,100,101,102,103,104,105,106,107,108,109,110,111,112,113,114,115,116,117,118,119,120,121,122,123,124,125,126,127,128,129,130,131,132,133,134,135,136,137,138,139,140,141,142,143,144,145,146,147,148,149,150,151,152,153,154,155,156,157,158,159,160,161,162,163,164,165,166,167,168,169,170,171,172,173,174,175,176,177,178,179,180,181,182,183,184,185,186,187,188,189,190,191,192,193,194,195,196,197,198,199,200,201,202,203,204,205,206,207,208,209,210,211,212,213,214,215,216,217,218,219,220,221,222,223,224,225,226,227,228,229,230,231,232,233,234,235,236,237,238,239,240,241,242,243,244,245,246,247,248,249,250,251,252,253,254,255,256,257,258,259,260,261,262,263,264,265,266,267,268,269,270,271,272,273,274,275,276,277,278,279,280,281,282,283,284,285,286,287,288,289,290,291,292,293,294,295,296,297,298,299,300,301,302,303,304,305,306,307,308,309,310,311,312,313,314,315,316,317,318,319,320,321,322,323,324,325,326,327,328,329,330,331,332,333,334,335,336,337,338,339,340,341,342,343,344,345,346,347,348,349,350,351,352,353,354,355,356,357,358,359,360,361,362,363,364,365,366,367,368,369,370,371,372,373,374,375,376,377,378,379,380,381,382,383,384,385,386,387,388,389,390,391,392,393,394,395,396,397,398,399,400],\"xaxis\":\"x\",\"y\":[25499488,59420277,88723845,130103812,143789890,173731488,211656714,233005200,242597490,259940426,278262742,307318113,315624650,337605569,438094642,368811002,382668167,389573609,415269754,433643374,448748105,468689672,488005005,499364258,539368663,550565081,565077901,602649871,622393235,651149613,684516518,689744668,724923346,746976290,768957948,782460991,868296187,831564135,850503614,979497851,914629558,925051745,1001613983,987570867,1015825680,1087892464,1077405228,1123266616,1268753098,1227863925,1268254366,1259265377,1304473320,1327897881,1499318375,1471786783,1520539564,1558347477,1634309883,1703361948,1858064984,1795122803,1867568435,2004590007,2009953191,2081849260,2181324769,2194239914,2232532872,2275293683,2294626789,2332118698,2509342141,2356995556,2431921247,2497130479,2357177320,2374266221,2423662942,2388099207,2428488106,2322601889,2275278105,2131225122,2192622274,2119053335,2089824441,2097905866,2123055777,2078936644,2192389006,1947141575,1938375896,1910013213,1913803000,1933115116,1907988809,1872659749,1899025538,1911357942,1851571374,1770383795,1768536140,1728238642,1753268986,1868466491,1801944505,1842356501,1830341305,1703532507,1670389405,1592791342,1577263940,1540943535,1557551378,1574628368,1472061288,1493791872,1460207979,1453392264,1571290714,1409455519,1402559489,1410108451,1404641274,1409980846,1441225142,1405568208,1429671633,1485793062,1403048734,1425248966,1448828119,1397668583,1518844441,1488341804,1443691175,1422810828,1452101719,1374273770,1416443603,1330832231,1346120269,1266060114,1344418034,1280290510,1255828117,1266272806,1346264337,1234807890,1410084867,1259082495,1339944360,1364000040,1382245128,1306790483,1248811450,1268302198,1285399014,1206884321,1190633616,1181766335,1220105225,1187041705,1184623149,1232355259,1177254284,1111723105,1160452055,1111390969,1152424425,1078626662,1083811667,1111349188,1072288630,1187885965,1138805260,1136545823,1118470160,1130779082,1246333954,1029116065,1084817493,1046606891,1052174568,1075394945,1088463074,1023566877,1023590437,1011093882,948267512,903816027,909246582,833280634,865605634,845492143,818216763,818258453,814646071,818024037,808801366,772828712,756988226,743993760,738091633,713970729,706034306,697074067,680691996,661320732,762525576,642395532,644026941,619899962,615150416,615831853,640914837,605204357,590252031,587996367,589456399,564676796,563780999,547456136,558981773,597644953,532857893,539906870,520999471,505088337,514457412,509686987,491500590,484977525,491135340,471305867,465530474,458886536,463020280,458708687,523755243,446435341,438233518,437323558,422986260,438369050,430530670,415206762,419559672,432393693,447314674,406273937,426029769,391599611,399376016,411643164,390596180,392487814,387127207,388317454,389999900,369126148,382831881,372959878,361306125,361864586,360829838,355181527,344380788,352573106,377231736,337308162,339374009,345584072,337201338,344126143,338761178,320567952,330460986,322270379,354600674,319385340,315945153,321890322,317897782,309059090,303977855,316594097,310827141,291645828,308259466,282990971,292613465,279645425,293316438,287692894,280125616,273867452,271798912,293283884,352540639,260065996,257059208,257664494,260649135,260648349,250834881,247718729,253523010,243945993,251300205,248518146,241808647,230168682,234113266,251168892,237249340,226819853,222944007,222755851,228376896,217329831,225616831,216881614,225198606,235838948,219541846,212613557,213595791,206068811,231651809,205926092,207874409,209635965,199565604,208675795,198128565,197033694,192129748,194064146,198164685,205931501,210035689,188169427,189335199,192782022,185029154,177566659,182745588,181815203,204864932,176310397,170190748,174486492,177037994,176820899,169903711,173952721,168709395,168608019,218185657,165853284,165660740,159717587,156513404,164691243,157150476,163461566,152483514,164873061,159452206,151938239,154656167,154106105,149207515,164595556,146229792,138164361,149653573,143076013,148238628,139932691,138921944,136602367,131646360,134835249,134037254,143452779,133641015,125184867,146188009,127157611,126853712,126003002,126395158,118254281,120212979,119886576,115162853,25217659169],\"yaxis\":\"y\",\"type\":\"bar\"}],\"name\":\"2007\"},{\"data\":[{\"alignmentgroup\":\"True\",\"hovertemplate\":\"year=2008\\u003cbr\\u003erank=%{marker.color}\\u003cbr\\u003evalue=%{y}\\u003cextra\\u003e\\u003c\\u002fextra\\u003e\",\"ids\":[1,2,3,4,5,6,7,8,9,10,11,12,13,14,15,16,17,18,19,20,21,22,23,24,25,26,27,28,29,30,31,32,33,34,35,36,37,38,39,40,41,42,43,44,45,46,47,48,49,50,51,52,53,54,55,56,57,58,59,60,61,62,63,64,65,66,67,68,69,70,71,72,73,74,75,76,77,78,79,80,81,82,83,84,85,86,87,88,89,90,91,92,93,94,95,96,97,98,99,100,101,102,103,104,105,106,107,108,109,110,111,112,113,114,115,116,117,118,119,120,121,122,123,124,125,126,127,128,129,130,131,132,133,134,135,136,137,138,139,140,141,142,143,144,145,146,147,148,149,150,151,152,153,154,155,156,157,158,159,160,161,162,163,164,165,166,167,168,169,170,171,172,173,174,175,176,177,178,179,180,181,182,183,184,185,186,187,188,189,190,191,192,193,194,195,196,197,198,199,200,201,202,203,204,205,206,207,208,209,210,211,212,213,214,215,216,217,218,219,220,221,222,223,224,225,226,227,228,229,230,231,232,233,234,235,236,237,238,239,240,241,242,243,244,245,246,247,248,249,250,251,252,253,254,255,256,257,258,259,260,261,262,263,264,265,266,267,268,269,270,271,272,273,274,275,276,277,278,279,280,281,282,283,284,285,286,287,288,289,290,291,292,293,294,295,296,297,298,299,300,301,302,303,304,305,306,307,308,309,310,311,312,313,314,315,316,317,318,319,320,321,322,323,324,325,326,327,328,329,330,331,332,333,334,335,336,337,338,339,340,341,342,343,344,345,346,347,348,349,350,351,352,353,354,355,356,357,358,359,360,361,362,363,364,365,366,367,368,369,370,371,372,373,374,375,376,377,378,379,380,381,382,383,384,385,386,387,388,389,390,391,392,393,394,395,396,397,398,399,400],\"legendgroup\":\"\",\"marker\":{\"color\":[1,2,3,4,5,6,7,8,9,10,11,12,13,14,15,16,17,18,19,20,21,22,23,24,25,26,27,28,29,30,31,32,33,34,35,36,37,38,39,40,41,42,43,44,45,46,47,48,49,50,51,52,53,54,55,56,57,58,59,60,61,62,63,64,65,66,67,68,69,70,71,72,73,74,75,76,77,78,79,80,81,82,83,84,85,86,87,88,89,90,91,92,93,94,95,96,97,98,99,100,101,102,103,104,105,106,107,108,109,110,111,112,113,114,115,116,117,118,119,120,121,122,123,124,125,126,127,128,129,130,131,132,133,134,135,136,137,138,139,140,141,142,143,144,145,146,147,148,149,150,151,152,153,154,155,156,157,158,159,160,161,162,163,164,165,166,167,168,169,170,171,172,173,174,175,176,177,178,179,180,181,182,183,184,185,186,187,188,189,190,191,192,193,194,195,196,197,198,199,200,201,202,203,204,205,206,207,208,209,210,211,212,213,214,215,216,217,218,219,220,221,222,223,224,225,226,227,228,229,230,231,232,233,234,235,236,237,238,239,240,241,242,243,244,245,246,247,248,249,250,251,252,253,254,255,256,257,258,259,260,261,262,263,264,265,266,267,268,269,270,271,272,273,274,275,276,277,278,279,280,281,282,283,284,285,286,287,288,289,290,291,292,293,294,295,296,297,298,299,300,301,302,303,304,305,306,307,308,309,310,311,312,313,314,315,316,317,318,319,320,321,322,323,324,325,326,327,328,329,330,331,332,333,334,335,336,337,338,339,340,341,342,343,344,345,346,347,348,349,350,351,352,353,354,355,356,357,358,359,360,361,362,363,364,365,366,367,368,369,370,371,372,373,374,375,376,377,378,379,380,381,382,383,384,385,386,387,388,389,390,391,392,393,394,395,396,397,398,399,400],\"coloraxis\":\"coloraxis\",\"pattern\":{\"shape\":\"\"}},\"name\":\"\",\"offsetgroup\":\"\",\"orientation\":\"v\",\"showlegend\":false,\"textposition\":\"auto\",\"x\":[1,2,3,4,5,6,7,8,9,10,11,12,13,14,15,16,17,18,19,20,21,22,23,24,25,26,27,28,29,30,31,32,33,34,35,36,37,38,39,40,41,42,43,44,45,46,47,48,49,50,51,52,53,54,55,56,57,58,59,60,61,62,63,64,65,66,67,68,69,70,71,72,73,74,75,76,77,78,79,80,81,82,83,84,85,86,87,88,89,90,91,92,93,94,95,96,97,98,99,100,101,102,103,104,105,106,107,108,109,110,111,112,113,114,115,116,117,118,119,120,121,122,123,124,125,126,127,128,129,130,131,132,133,134,135,136,137,138,139,140,141,142,143,144,145,146,147,148,149,150,151,152,153,154,155,156,157,158,159,160,161,162,163,164,165,166,167,168,169,170,171,172,173,174,175,176,177,178,179,180,181,182,183,184,185,186,187,188,189,190,191,192,193,194,195,196,197,198,199,200,201,202,203,204,205,206,207,208,209,210,211,212,213,214,215,216,217,218,219,220,221,222,223,224,225,226,227,228,229,230,231,232,233,234,235,236,237,238,239,240,241,242,243,244,245,246,247,248,249,250,251,252,253,254,255,256,257,258,259,260,261,262,263,264,265,266,267,268,269,270,271,272,273,274,275,276,277,278,279,280,281,282,283,284,285,286,287,288,289,290,291,292,293,294,295,296,297,298,299,300,301,302,303,304,305,306,307,308,309,310,311,312,313,314,315,316,317,318,319,320,321,322,323,324,325,326,327,328,329,330,331,332,333,334,335,336,337,338,339,340,341,342,343,344,345,346,347,348,349,350,351,352,353,354,355,356,357,358,359,360,361,362,363,364,365,366,367,368,369,370,371,372,373,374,375,376,377,378,379,380,381,382,383,384,385,386,387,388,389,390,391,392,393,394,395,396,397,398,399,400],\"xaxis\":\"x\",\"y\":[27306225,62227592,89901678,129261037,140636251,170625058,199611549,230918939,236070331,251600527,276245250,301412158,310350556,332285853,421733560,370660819,376346868,401263705,419008050,425312946,446505938,479972814,484775441,497583936,535687993,543559152,569208017,585369522,607850252,627780655,678695589,687832550,694699429,725431923,746140112,774126405,849833610,816659449,823942526,844964324,861236616,883030637,1039344242,928260968,959910169,1037063768,1003152062,1031904155,1108757834,1131287742,1185794880,1191544676,1286303629,1212536684,1324559447,1282181671,1369402072,1398918350,1436364021,1471258873,1676656134,1584263722,1659477106,1682517543,1694589709,1737009806,1831269162,1886424863,1899203695,1973394770,2047750786,2026473662,2213055688,2137236382,2168776935,2241337511,2214760427,2245058213,2298954075,2280817186,2265026082,2280904848,2263322329,2238170313,2357197784,2252698568,2182737517,2222930547,2110266859,2086782619,2282635540,2086119537,2015710981,1991471186,1977681059,1986599768,1990131713,1932993708,1923147998,1947569961,1953577290,1892071435,1876251957,1830316772,1837874529,1932432964,1784579625,1828420113,1952222753,1864413125,1793381728,1745525875,1770087218,1717291181,1725156738,1689969462,1655825805,1659723332,1598771398,1596302508,1726073450,1517602577,1527015399,1491710564,1495692657,1508222486,1521763804,1475192824,1449472333,1460530591,1466559004,1434095064,1440323271,1426464100,1408439071,1491785667,1411112057,1461333237,1466314294,1416622524,1552442620,1448096008,1496685299,1469668011,1431104061,1467886549,1407829867,1354729147,1364302318,1343630356,1508051479,1337934743,1277797097,1297210247,1294494884,1323299485,1312706364,1300020984,1345402881,1282300995,1322565277,1342566142,1272197951,1251648139,1258263200,1267978087,1271316896,1287181559,1236245108,1238793592,1262117326,1197819728,1195501143,1195150955,1167838716,1241751629,1163637756,1132686785,1139855088,1098975770,1276586696,1112005489,1167219912,1109266913,1171413646,1116162628,1102085747,1120963608,1088843274,1121876766,1052457750,1096632303,1074017517,1033108906,1103764959,1118360554,1084422036,1073377398,1050367739,1017262936,994557104,926359646,919260258,897403076,863932607,874693473,847445151,832712234,834898151,822857522,916893888,795093045,784405143,788425325,764280713,757159173,756555688,727666046,704402346,691210643,710586480,675873610,674951665,656960108,664910626,703883898,638385275,639809169,624765064,620487155,614983327,597668284,580744924,590094111,587167549,571766869,558284748,554121014,547968585,559677634,603019911,523524037,526652191,512853995,497422665,525079515,490141020,489359974,483081253,487641475,511780321,464518551,476086162,455689439,449960625,467020724,436906995,429703345,423826012,436738316,444843212,424516224,441420661,413688780,419757071,412727701,405121386,399652288,395015662,395900902,428690527,393513443,382096807,384093659,388762212,403471783,388027392,364527150,362273551,363348628,391132127,359130156,368146232,360051757,349646740,351768826,347067131,360186252,341235181,334204592,335349788,327176097,326543718,311105411,321875344,319486950,309723289,312839008,311449604,332838648,389607560,303056545,303641654,299799799,299625921,292168784,298950854,293592698,292573338,286403833,292972763,282406361,291367644,276438383,275824799,292243521,265037842,261431681,259636066,269084790,263955591,261315020,254318642,254137206,252526794,260954413,247814777,247975342,234619314,238291991,258559103,228534334,230756458,236718808,227995094,233908341,234268254,223969230,222661929,223399079,225537510,213978119,211939392,220251376,209460665,238874739,220243382,212811112,211044346,213207443,240952938,203094892,206003043,201066710,200287558,200425368,195503635,196478690,197821747,191259166,239667349,182480101,187922346,182183092,202157532,185669027,183611443,185588806,174299361,181279096,182504859,176386095,168361179,172932162,177521185,186369210,168446844,170097549,175163037,161667379,168173110,161294294,169219049,159074618,163878519,166376552,156913968,162439934,150508803,161798831,169310179,143518881,151269025,151732160,152750635,141589163,145988708,148898292,146886671,29203606771],\"yaxis\":\"y\",\"type\":\"bar\"}],\"name\":\"2008\"},{\"data\":[{\"alignmentgroup\":\"True\",\"hovertemplate\":\"year=2009\\u003cbr\\u003erank=%{marker.color}\\u003cbr\\u003evalue=%{y}\\u003cextra\\u003e\\u003c\\u002fextra\\u003e\",\"ids\":[1,2,3,4,5,6,7,8,9,10,11,12,13,14,15,16,17,18,19,20,21,22,23,24,25,26,27,28,29,30,31,32,33,34,35,36,37,38,39,40,41,42,43,44,45,46,47,48,49,50,51,52,53,54,55,56,57,58,59,60,61,62,63,64,65,66,67,68,69,70,71,72,73,74,75,76,77,78,79,80,81,82,83,84,85,86,87,88,89,90,91,92,93,94,95,96,97,98,99,100,101,102,103,104,105,106,107,108,109,110,111,112,113,114,115,116,117,118,119,120,121,122,123,124,125,126,127,128,129,130,131,132,133,134,135,136,137,138,139,140,141,142,143,144,145,146,147,148,149,150,151,152,153,154,155,156,157,158,159,160,161,162,163,164,165,166,167,168,169,170,171,172,173,174,175,176,177,178,179,180,181,182,183,184,185,186,187,188,189,190,191,192,193,194,195,196,197,198,199,200,201,202,203,204,205,206,207,208,209,210,211,212,213,214,215,216,217,218,219,220,221,222,223,224,225,226,227,228,229,230,231,232,233,234,235,236,237,238,239,240,241,242,243,244,245,246,247,248,249,250,251,252,253,254,255,256,257,258,259,260,261,262,263,264,265,266,267,268,269,270,271,272,273,274,275,276,277,278,279,280,281,282,283,284,285,286,287,288,289,290,291,292,293,294,295,296,297,298,299,300,301,302,303,304,305,306,307,308,309,310,311,312,313,314,315,316,317,318,319,320,321,322,323,324,325,326,327,328,329,330,331,332,333,334,335,336,337,338,339,340,341,342,343,344,345,346,347,348,349,350,351,352,353,354,355,356,357,358,359,360,361,362,363,364,365,366,367,368,369,370,371,372,373,374,375,376,377,378,379,380,381,382,383,384,385,386,387,388,389,390,391,392,393,394,395,396,397,398,399,400],\"legendgroup\":\"\",\"marker\":{\"color\":[1,2,3,4,5,6,7,8,9,10,11,12,13,14,15,16,17,18,19,20,21,22,23,24,25,26,27,28,29,30,31,32,33,34,35,36,37,38,39,40,41,42,43,44,45,46,47,48,49,50,51,52,53,54,55,56,57,58,59,60,61,62,63,64,65,66,67,68,69,70,71,72,73,74,75,76,77,78,79,80,81,82,83,84,85,86,87,88,89,90,91,92,93,94,95,96,97,98,99,100,101,102,103,104,105,106,107,108,109,110,111,112,113,114,115,116,117,118,119,120,121,122,123,124,125,126,127,128,129,130,131,132,133,134,135,136,137,138,139,140,141,142,143,144,145,146,147,148,149,150,151,152,153,154,155,156,157,158,159,160,161,162,163,164,165,166,167,168,169,170,171,172,173,174,175,176,177,178,179,180,181,182,183,184,185,186,187,188,189,190,191,192,193,194,195,196,197,198,199,200,201,202,203,204,205,206,207,208,209,210,211,212,213,214,215,216,217,218,219,220,221,222,223,224,225,226,227,228,229,230,231,232,233,234,235,236,237,238,239,240,241,242,243,244,245,246,247,248,249,250,251,252,253,254,255,256,257,258,259,260,261,262,263,264,265,266,267,268,269,270,271,272,273,274,275,276,277,278,279,280,281,282,283,284,285,286,287,288,289,290,291,292,293,294,295,296,297,298,299,300,301,302,303,304,305,306,307,308,309,310,311,312,313,314,315,316,317,318,319,320,321,322,323,324,325,326,327,328,329,330,331,332,333,334,335,336,337,338,339,340,341,342,343,344,345,346,347,348,349,350,351,352,353,354,355,356,357,358,359,360,361,362,363,364,365,366,367,368,369,370,371,372,373,374,375,376,377,378,379,380,381,382,383,384,385,386,387,388,389,390,391,392,393,394,395,396,397,398,399,400],\"coloraxis\":\"coloraxis\",\"pattern\":{\"shape\":\"\"}},\"name\":\"\",\"offsetgroup\":\"\",\"orientation\":\"v\",\"showlegend\":false,\"textposition\":\"auto\",\"x\":[1,2,3,4,5,6,7,8,9,10,11,12,13,14,15,16,17,18,19,20,21,22,23,24,25,26,27,28,29,30,31,32,33,34,35,36,37,38,39,40,41,42,43,44,45,46,47,48,49,50,51,52,53,54,55,56,57,58,59,60,61,62,63,64,65,66,67,68,69,70,71,72,73,74,75,76,77,78,79,80,81,82,83,84,85,86,87,88,89,90,91,92,93,94,95,96,97,98,99,100,101,102,103,104,105,106,107,108,109,110,111,112,113,114,115,116,117,118,119,120,121,122,123,124,125,126,127,128,129,130,131,132,133,134,135,136,137,138,139,140,141,142,143,144,145,146,147,148,149,150,151,152,153,154,155,156,157,158,159,160,161,162,163,164,165,166,167,168,169,170,171,172,173,174,175,176,177,178,179,180,181,182,183,184,185,186,187,188,189,190,191,192,193,194,195,196,197,198,199,200,201,202,203,204,205,206,207,208,209,210,211,212,213,214,215,216,217,218,219,220,221,222,223,224,225,226,227,228,229,230,231,232,233,234,235,236,237,238,239,240,241,242,243,244,245,246,247,248,249,250,251,252,253,254,255,256,257,258,259,260,261,262,263,264,265,266,267,268,269,270,271,272,273,274,275,276,277,278,279,280,281,282,283,284,285,286,287,288,289,290,291,292,293,294,295,296,297,298,299,300,301,302,303,304,305,306,307,308,309,310,311,312,313,314,315,316,317,318,319,320,321,322,323,324,325,326,327,328,329,330,331,332,333,334,335,336,337,338,339,340,341,342,343,344,345,346,347,348,349,350,351,352,353,354,355,356,357,358,359,360,361,362,363,364,365,366,367,368,369,370,371,372,373,374,375,376,377,378,379,380,381,382,383,384,385,386,387,388,389,390,391,392,393,394,395,396,397,398,399,400],\"xaxis\":\"x\",\"y\":[28879391,67221958,99150785,140721048,159501515,189671581,218778968,251109911,261355405,274470413,298610240,329857344,331951948,351006905,409286876,391314664,402487752,415243620,439566104,441481309,459295416,486969421,488365185,495709517,520471143,542587878,558936015,576794969,585984970,599864627,645782129,653588763,682949192,679852234,695503686,725161366,780289797,764498765,761183088,776082601,790839179,785458449,853083898,919826429,850742169,898678498,899301181,893332946,968549950,978402353,1009252006,1045371974,1077964677,1082773905,1194436617,1150048070,1173456450,1192136488,1234603649,1241386539,1436679126,1363656662,1396755016,1479897341,1479698040,1482873866,1584294655,1599437741,1642450290,1668807123,1780760358,1752248144,1912705003,1832803293,1885714105,1957163480,1928996666,1908041639,1985951316,1936054657,2012700074,2036386446,2065157271,1981937451,2078050217,1988176923,1977377513,2021919338,1949989055,1925260602,2167865295,1936524524,1862497537,1854908805,1823445280,1805193542,1838641744,1776403341,1747850768,1781668565,1765265202,1792649886,1771842525,1705931741,1691346361,1809412935,1683216923,1682007456,1732772601,1681530722,1946177863,1755619085,1709768350,1563102198,1599709787,1584947212,1564519085,1592465171,1600703488,1591611773,1724086795,1525055647,1482571407,1442962696,1477970537,1455689074,1472125475,1414021407,1395952395,1394986994,1428435898,1350181268,1404942405,1358088634,1368573870,1380708678,1337482258,1325678446,1319021181,1311021840,1401881175,1327099159,1344530305,1315443667,1378682194,1379065275,1385591078,1353309571,1400861972,1327389660,1548377683,1293546557,1299523175,1320186705,1275845088,1341388660,1271712230,1305591140,1251593586,1260466297,1275535247,1222266004,1272640787,1221892533,1221523342,1267399337,1256327166,1202901519,1232493107,1226697221,1222283449,1171571962,1178933239,1187651099,1136457748,1231349791,1174300714,1210904929,1123644925,1132754182,1308779644,1103000673,1117975909,1083475561,1109838683,1070932112,1059484770,1093829850,1069905841,1119761938,1054625282,1074465286,1072866605,1040903541,1000535591,1053703390,1036577617,992663526,1005259957,1032997207,1042846326,1058072635,1014396905,1078801457,1057916863,996561785,975724849,943393051,886840539,928092829,983614572,860508322,853566939,835680940,825145497,816881425,821137044,801046642,773603786,758262955,760673883,735725915,740928838,723541839,723203812,779133618,675098139,684448814,673118038,670517955,650370661,649838640,625469247,606723377,619760465,602578194,587560791,592162947,585210784,566736597,625535256,542396389,556144961,560244088,558724144,541140626,543138931,522159693,499416932,520773970,526503606,481460936,490633621,476382330,468893843,481678208,460933421,459010348,455267434,445768059,443078762,432463425,435002370,435090603,434838908,434174690,416536456,404616607,405219527,412502988,437664224,385808037,391526371,406906299,401009473,405787564,380015910,374734111,381809543,371565440,390574933,373543262,360176944,361473330,360590049,364099200,355079339,347530003,348843215,343233560,341214119,330611549,329409674,337691458,329190031,327466740,318848240,324264670,312824198,319833052,393382495,307211754,300438950,297909297,301631145,292848366,286081561,282347502,287144719,285481139,284277709,272748635,283741344,266910859,269717201,294893815,265670144,271965072,265626349,260517102,263637207,252119579,267541522,259567592,268570331,270331885,249960746,252502702,251897267,242584240,258286815,235758030,241453219,235980063,226658223,236788169,224175828,229911443,223541778,228418016,223082385,220740040,226317874,215713081,215177129,219936955,208659937,208079840,209095702,213832075,238289579,198314995,243900640,203396319,199015179,199358860,192725066,190900790,190146957,189094755,236503078,187328256,189513091,185457447,187861102,182451578,183906707,182421695,178503339,178547973,177616129,170587713,179541840,175992678,180595523,186827820,170629064,170849129,174023041,167666932,161099149,164961768,159803974,159918696,164410397,167763285,153129673,153758619,156019396,151904007,163838511,153780731,156686040,156456288,151569723,154082704,152652053,145564736,140988578,28270470418],\"yaxis\":\"y\",\"type\":\"bar\"}],\"name\":\"2009\"},{\"data\":[{\"alignmentgroup\":\"True\",\"hovertemplate\":\"year=2010\\u003cbr\\u003erank=%{marker.color}\\u003cbr\\u003evalue=%{y}\\u003cextra\\u003e\\u003c\\u002fextra\\u003e\",\"ids\":[1,2,3,4,5,6,7,8,9,10,11,12,13,14,15,16,17,18,19,20,21,22,23,24,25,26,27,28,29,30,31,32,33,34,35,36,37,38,39,40,41,42,43,44,45,46,47,48,49,50,51,52,53,54,55,56,57,58,59,60,61,62,63,64,65,66,67,68,69,70,71,72,73,74,75,76,77,78,79,80,81,82,83,84,85,86,87,88,89,90,91,92,93,94,95,96,97,98,99,100,101,102,103,104,105,106,107,108,109,110,111,112,113,114,115,116,117,118,119,120,121,122,123,124,125,126,127,128,129,130,131,132,133,134,135,136,137,138,139,140,141,142,143,144,145,146,147,148,149,150,151,152,153,154,155,156,157,158,159,160,161,162,163,164,165,166,167,168,169,170,171,172,173,174,175,176,177,178,179,180,181,182,183,184,185,186,187,188,189,190,191,192,193,194,195,196,197,198,199,200,201,202,203,204,205,206,207,208,209,210,211,212,213,214,215,216,217,218,219,220,221,222,223,224,225,226,227,228,229,230,231,232,233,234,235,236,237,238,239,240,241,242,243,244,245,246,247,248,249,250,251,252,253,254,255,256,257,258,259,260,261,262,263,264,265,266,267,268,269,270,271,272,273,274,275,276,277,278,279,280,281,282,283,284,285,286,287,288,289,290,291,292,293,294,295,296,297,298,299,300,301,302,303,304,305,306,307,308,309,310,311,312,313,314,315,316,317,318,319,320,321,322,323,324,325,326,327,328,329,330,331,332,333,334,335,336,337,338,339,340,341,342,343,344,345,346,347,348,349,350,351,352,353,354,355,356,357,358,359,360,361,362,363,364,365,366,367,368,369,370,371,372,373,374,375,376,377,378,379,380,381,382,383,384,385,386,387,388,389,390,391,392,393,394,395,396,397,398,399,400],\"legendgroup\":\"\",\"marker\":{\"color\":[1,2,3,4,5,6,7,8,9,10,11,12,13,14,15,16,17,18,19,20,21,22,23,24,25,26,27,28,29,30,31,32,33,34,35,36,37,38,39,40,41,42,43,44,45,46,47,48,49,50,51,52,53,54,55,56,57,58,59,60,61,62,63,64,65,66,67,68,69,70,71,72,73,74,75,76,77,78,79,80,81,82,83,84,85,86,87,88,89,90,91,92,93,94,95,96,97,98,99,100,101,102,103,104,105,106,107,108,109,110,111,112,113,114,115,116,117,118,119,120,121,122,123,124,125,126,127,128,129,130,131,132,133,134,135,136,137,138,139,140,141,142,143,144,145,146,147,148,149,150,151,152,153,154,155,156,157,158,159,160,161,162,163,164,165,166,167,168,169,170,171,172,173,174,175,176,177,178,179,180,181,182,183,184,185,186,187,188,189,190,191,192,193,194,195,196,197,198,199,200,201,202,203,204,205,206,207,208,209,210,211,212,213,214,215,216,217,218,219,220,221,222,223,224,225,226,227,228,229,230,231,232,233,234,235,236,237,238,239,240,241,242,243,244,245,246,247,248,249,250,251,252,253,254,255,256,257,258,259,260,261,262,263,264,265,266,267,268,269,270,271,272,273,274,275,276,277,278,279,280,281,282,283,284,285,286,287,288,289,290,291,292,293,294,295,296,297,298,299,300,301,302,303,304,305,306,307,308,309,310,311,312,313,314,315,316,317,318,319,320,321,322,323,324,325,326,327,328,329,330,331,332,333,334,335,336,337,338,339,340,341,342,343,344,345,346,347,348,349,350,351,352,353,354,355,356,357,358,359,360,361,362,363,364,365,366,367,368,369,370,371,372,373,374,375,376,377,378,379,380,381,382,383,384,385,386,387,388,389,390,391,392,393,394,395,396,397,398,399,400],\"coloraxis\":\"coloraxis\",\"pattern\":{\"shape\":\"\"}},\"name\":\"\",\"offsetgroup\":\"\",\"orientation\":\"v\",\"showlegend\":false,\"textposition\":\"auto\",\"x\":[1,2,3,4,5,6,7,8,9,10,11,12,13,14,15,16,17,18,19,20,21,22,23,24,25,26,27,28,29,30,31,32,33,34,35,36,37,38,39,40,41,42,43,44,45,46,47,48,49,50,51,52,53,54,55,56,57,58,59,60,61,62,63,64,65,66,67,68,69,70,71,72,73,74,75,76,77,78,79,80,81,82,83,84,85,86,87,88,89,90,91,92,93,94,95,96,97,98,99,100,101,102,103,104,105,106,107,108,109,110,111,112,113,114,115,116,117,118,119,120,121,122,123,124,125,126,127,128,129,130,131,132,133,134,135,136,137,138,139,140,141,142,143,144,145,146,147,148,149,150,151,152,153,154,155,156,157,158,159,160,161,162,163,164,165,166,167,168,169,170,171,172,173,174,175,176,177,178,179,180,181,182,183,184,185,186,187,188,189,190,191,192,193,194,195,196,197,198,199,200,201,202,203,204,205,206,207,208,209,210,211,212,213,214,215,216,217,218,219,220,221,222,223,224,225,226,227,228,229,230,231,232,233,234,235,236,237,238,239,240,241,242,243,244,245,246,247,248,249,250,251,252,253,254,255,256,257,258,259,260,261,262,263,264,265,266,267,268,269,270,271,272,273,274,275,276,277,278,279,280,281,282,283,284,285,286,287,288,289,290,291,292,293,294,295,296,297,298,299,300,301,302,303,304,305,306,307,308,309,310,311,312,313,314,315,316,317,318,319,320,321,322,323,324,325,326,327,328,329,330,331,332,333,334,335,336,337,338,339,340,341,342,343,344,345,346,347,348,349,350,351,352,353,354,355,356,357,358,359,360,361,362,363,364,365,366,367,368,369,370,371,372,373,374,375,376,377,378,379,380,381,382,383,384,385,386,387,388,389,390,391,392,393,394,395,396,397,398,399,400],\"xaxis\":\"x\",\"y\":[29482969,69002789,101388513,145595142,173129315,193150410,212183113,241419769,251690290,269946311,285770133,328439397,323837545,343469620,357838174,383121143,398544109,408614579,429565039,436272901,453518490,471928655,502576509,496048471,511559128,527442580,543710239,556534916,570688303,580546539,620754490,632775833,643280329,662063694,673204410,702686171,755832740,739773231,733190751,758935811,759995032,754563192,794761489,797900936,904649373,865892091,841466841,860508176,903985752,921068766,935179532,982071183,1033485084,1014607217,1127896286,1057415178,1096842059,1168608834,1208375456,1224808736,1374628409,1265220383,1319130989,1426554505,1369750374,1383070048,1521162643,1509097302,1526896355,1600923901,1682280862,1669786249,1772142993,1711285481,1804916337,1885250397,1827009325,1814251132,1858218057,1901988471,1913124771,1987573459,1990086027,1941137944,2001680381,1914289343,1892248831,1958061487,1918226019,1905980768,2091165561,1912191305,1887282512,1859888037,1762302827,1791456159,1792517724,1755673536,1741478069,1751661594,1742314911,1712905091,1763661952,1671165923,1662021525,1785699662,1643614670,1646744853,1685374249,1632740630,1624952755,1978037938,1660643902,1556033335,1607259196,1569218641,1601611060,1566495516,1538589622,1527760725,1653883757,1464221920,1442117193,1410260149,1446047995,1418562507,1475363396,1416282733,1398229729,1437039905,1438870089,1374760788,1388903800,1353737413,1369760045,1403271418,1343739982,1354900068,1332880973,1395643419,1491800469,1437704497,1459128286,1330403098,1435207521,1356914342,1368235435,1345436645,1308982584,1317641570,1489127611,1343073565,1367082276,1324523255,1275471430,1322299567,1267050319,1280917651,1279480084,1265259235,1338455111,1248246274,1283298876,1259963228,1261554663,1237739022,1211245194,1197705984,1240599684,1202523802,1190174554,1189334602,1200743777,1152580021,1184136379,1200885349,1128829146,1156092300,1122045170,1096028060,1270837442,1075164603,1119697406,1130342913,1115738553,1124559849,1067716476,1086601791,1035223525,1069570229,1093313876,1067397488,1042941638,1014370337,1012796299,1043763254,1040616966,1085977939,1104548219,1105336018,1052429918,994730936,980789782,921638301,923415012,936464866,887843805,888237788,854514650,863905104,961197598,830720921,834744763,808890788,789147353,799362967,775250762,759983933,740445853,733916389,740043708,711369466,713760898,671618265,685079744,725500264,640620177,641958781,623566533,643133856,634975603,607838141,577545021,587536703,581404143,558640136,574134414,553794967,538669783,566916897,610276333,525602765,515798426,521911165,499264539,509076260,507387112,489355832,479153316,497981832,514125736,469543645,492738449,472220209,458915477,476324946,456975081,456283959,445797652,440471501,442398317,430204023,442359107,420326041,430759141,430046741,415353938,411616987,408652797,403608207,428618963,381837550,383745266,387872188,404367486,382922866,393563307,377292250,360761451,358143760,395519652,354797768,358776781,355842823,341803280,354689398,347810178,350237671,341453987,330601265,333480999,325656957,321046648,317796250,322701007,320897144,319206109,303749148,304587986,314143444,387508836,290337155,292693830,305490336,296148975,285149252,300917406,286154084,286226488,282947156,283351295,275994031,284308542,271556757,280410989,290163566,259967907,264290765,266841118,259815308,262866026,256237995,256573007,249160873,256222508,260964561,240438843,240710537,243686519,242182777,248569740,233376889,229828812,238388317,220172412,230822083,225245551,225176883,226044236,218708078,225879990,214670589,216251813,209945655,212420180,214130692,207478611,201691257,201917463,212360651,239973219,202181378,203180479,198808075,195756625,232963106,194935544,194261837,186348483,191971515,231385692,185735129,189156031,181381619,191144833,191884727,173571646,183675448,175551241,180911291,178801043,174748777,180131740,175393856,175200468,189376683,167692871,159683005,166002541,172066500,156607875,164576136,154527864,156619610,154326764,161821687,158467218,158950108,151442556,152998658,165401558,150335246,154877309,149136235,153935394,147439031,146305136,150575224,140508504,27541342159],\"yaxis\":\"y\",\"type\":\"bar\"}],\"name\":\"2010\"},{\"data\":[{\"alignmentgroup\":\"True\",\"hovertemplate\":\"year=2011\\u003cbr\\u003erank=%{marker.color}\\u003cbr\\u003evalue=%{y}\\u003cextra\\u003e\\u003c\\u002fextra\\u003e\",\"ids\":[1,2,3,4,5,6,7,8,9,10,11,12,13,14,15,16,17,18,19,20,21,22,23,24,25,26,27,28,29,30,31,32,33,34,35,36,37,38,39,40,41,42,43,44,45,46,47,48,49,50,51,52,53,54,55,56,57,58,59,60,61,62,63,64,65,66,67,68,69,70,71,72,73,74,75,76,77,78,79,80,81,82,83,84,85,86,87,88,89,90,91,92,93,94,95,96,97,98,99,100,101,102,103,104,105,106,107,108,109,110,111,112,113,114,115,116,117,118,119,120,121,122,123,124,125,126,127,128,129,130,131,132,133,134,135,136,137,138,139,140,141,142,143,144,145,146,147,148,149,150,151,152,153,154,155,156,157,158,159,160,161,162,163,164,165,166,167,168,169,170,171,172,173,174,175,176,177,178,179,180,181,182,183,184,185,186,187,188,189,190,191,192,193,194,195,196,197,198,199,200,201,202,203,204,205,206,207,208,209,210,211,212,213,214,215,216,217,218,219,220,221,222,223,224,225,226,227,228,229,230,231,232,233,234,235,236,237,238,239,240,241,242,243,244,245,246,247,248,249,250,251,252,253,254,255,256,257,258,259,260,261,262,263,264,265,266,267,268,269,270,271,272,273,274,275,276,277,278,279,280,281,282,283,284,285,286,287,288,289,290,291,292,293,294,295,296,297,298,299,300,301,302,303,304,305,306,307,308,309,310,311,312,313,314,315,316,317,318,319,320,321,322,323,324,325,326,327,328,329,330,331,332,333,334,335,336,337,338,339,340,341,342,343,344,345,346,347,348,349,350,351,352,353,354,355,356,357,358,359,360,361,362,363,364,365,366,367,368,369,370,371,372,373,374,375,376,377,378,379,380,381,382,383,384,385,386,387,388,389,390,391,392,393,394,395,396,397,398,399,400],\"legendgroup\":\"\",\"marker\":{\"color\":[1,2,3,4,5,6,7,8,9,10,11,12,13,14,15,16,17,18,19,20,21,22,23,24,25,26,27,28,29,30,31,32,33,34,35,36,37,38,39,40,41,42,43,44,45,46,47,48,49,50,51,52,53,54,55,56,57,58,59,60,61,62,63,64,65,66,67,68,69,70,71,72,73,74,75,76,77,78,79,80,81,82,83,84,85,86,87,88,89,90,91,92,93,94,95,96,97,98,99,100,101,102,103,104,105,106,107,108,109,110,111,112,113,114,115,116,117,118,119,120,121,122,123,124,125,126,127,128,129,130,131,132,133,134,135,136,137,138,139,140,141,142,143,144,145,146,147,148,149,150,151,152,153,154,155,156,157,158,159,160,161,162,163,164,165,166,167,168,169,170,171,172,173,174,175,176,177,178,179,180,181,182,183,184,185,186,187,188,189,190,191,192,193,194,195,196,197,198,199,200,201,202,203,204,205,206,207,208,209,210,211,212,213,214,215,216,217,218,219,220,221,222,223,224,225,226,227,228,229,230,231,232,233,234,235,236,237,238,239,240,241,242,243,244,245,246,247,248,249,250,251,252,253,254,255,256,257,258,259,260,261,262,263,264,265,266,267,268,269,270,271,272,273,274,275,276,277,278,279,280,281,282,283,284,285,286,287,288,289,290,291,292,293,294,295,296,297,298,299,300,301,302,303,304,305,306,307,308,309,310,311,312,313,314,315,316,317,318,319,320,321,322,323,324,325,326,327,328,329,330,331,332,333,334,335,336,337,338,339,340,341,342,343,344,345,346,347,348,349,350,351,352,353,354,355,356,357,358,359,360,361,362,363,364,365,366,367,368,369,370,371,372,373,374,375,376,377,378,379,380,381,382,383,384,385,386,387,388,389,390,391,392,393,394,395,396,397,398,399,400],\"coloraxis\":\"coloraxis\",\"pattern\":{\"shape\":\"\"}},\"name\":\"\",\"offsetgroup\":\"\",\"orientation\":\"v\",\"showlegend\":false,\"textposition\":\"auto\",\"x\":[1,2,3,4,5,6,7,8,9,10,11,12,13,14,15,16,17,18,19,20,21,22,23,24,25,26,27,28,29,30,31,32,33,34,35,36,37,38,39,40,41,42,43,44,45,46,47,48,49,50,51,52,53,54,55,56,57,58,59,60,61,62,63,64,65,66,67,68,69,70,71,72,73,74,75,76,77,78,79,80,81,82,83,84,85,86,87,88,89,90,91,92,93,94,95,96,97,98,99,100,101,102,103,104,105,106,107,108,109,110,111,112,113,114,115,116,117,118,119,120,121,122,123,124,125,126,127,128,129,130,131,132,133,134,135,136,137,138,139,140,141,142,143,144,145,146,147,148,149,150,151,152,153,154,155,156,157,158,159,160,161,162,163,164,165,166,167,168,169,170,171,172,173,174,175,176,177,178,179,180,181,182,183,184,185,186,187,188,189,190,191,192,193,194,195,196,197,198,199,200,201,202,203,204,205,206,207,208,209,210,211,212,213,214,215,216,217,218,219,220,221,222,223,224,225,226,227,228,229,230,231,232,233,234,235,236,237,238,239,240,241,242,243,244,245,246,247,248,249,250,251,252,253,254,255,256,257,258,259,260,261,262,263,264,265,266,267,268,269,270,271,272,273,274,275,276,277,278,279,280,281,282,283,284,285,286,287,288,289,290,291,292,293,294,295,296,297,298,299,300,301,302,303,304,305,306,307,308,309,310,311,312,313,314,315,316,317,318,319,320,321,322,323,324,325,326,327,328,329,330,331,332,333,334,335,336,337,338,339,340,341,342,343,344,345,346,347,348,349,350,351,352,353,354,355,356,357,358,359,360,361,362,363,364,365,366,367,368,369,370,371,372,373,374,375,376,377,378,379,380,381,382,383,384,385,386,387,388,389,390,391,392,393,394,395,396,397,398,399,400],\"xaxis\":\"x\",\"y\":[31556209,72454140,101562614,140039674,162166128,184515259,208541436,249726544,262015218,267752919,285102118,328136536,323900567,340263065,354801728,378097110,398552605,410894201,429230932,435861731,451944425,474310073,497088221,484108986,512313581,525374433,546120668,558959404,568109777,577468691,620729146,615274237,631621957,659230181,655821125,685577385,748007028,733799593,751901891,750683842,763202046,752494846,801413732,769918194,891159020,865040217,821457009,826029484,906609796,885892747,907244241,965316158,1001832423,988045399,1080916516,1051738704,1061040785,1103517835,1154176906,1178992848,1345411637,1199163098,1205983837,1319224570,1318528821,1329931691,1451386907,1416836048,1427462703,1486501707,1582978696,1555192711,1739993245,1618432710,1662806591,1755480556,1767676725,1744240212,1773877985,1850775956,1846705897,1850524652,1883341943,1837887534,1983461811,1871476561,1864999522,1887342758,1874919273,1878504185,2056430375,1844662853,1828983763,1805907811,1795069058,1808839050,1799883271,1777556284,1788166597,1750883878,1766837362,1718006034,1749927823,1673752410,1654862864,1833049173,1656323452,1627741695,1668054250,1612678553,1617754620,1596783175,1648847841,1711286358,1804089995,1672310862,1541446321,1521314490,1497682403,1483659390,1635245045,1446087726,1483544104,1449051875,1448938932,1442150346,1456867295,1422023944,1413539272,1425222824,1418199356,1399756830,1411195155,1411519212,1398952547,1436926604,1401803705,1444103634,1469835790,1427087778,1470331615,1461576143,1416621484,1357165727,1393460897,1361684528,1337754141,1371690749,1355881588,1399214637,1520699579,1314253807,1368447999,1298322296,1332417408,1343782482,1314320488,1298549341,1333895774,1264138539,1260044485,1219929063,1230155177,1205885816,1228238623,1279529944,1221860927,1248436465,1252037051,1181649754,1200246367,1135661920,1170744221,1118312790,1140962002,1238624461,1124030850,1142074713,1144054095,1117913923,1274986924,1109006908,1122378635,1098325721,1084264670,1103960547,1097506844,1050916882,1081810446,1053868564,1064133144,1054163101,1139247767,1090739650,1101218843,1066891590,1005436517,1004786652,959273009,1009544860,972777231,920210016,959651821,918465656,933041895,926888425,881527430,856297969,822603242,832131793,917046109,795266773,776716479,782957473,791548288,757097461,753689426,732352631,708235179,691105976,685059951,665068105,663033268,643218665,653998463,694024344,622504824,619978418,611003417,611337420,608410893,579738638,579842571,559046454,552384222,545639555,533023196,528427893,526210709,515859157,594795392,505448307,506683725,497416792,496234740,498031328,498957859,482823551,480352541,497586282,517129049,458325664,477903665,455998659,450465342,443168729,441901961,438110298,428008056,440519661,439946439,418549960,421472380,413012721,414159197,413796631,403054722,401455222,389695318,395197876,407648401,381509666,383410300,382839833,380699791,384521498,389078872,367132726,350795027,358430311,374596009,353161630,349452397,351660477,342421680,356852425,342537894,351039871,347685760,336517014,318966146,315226281,320693207,310224350,318048095,314585953,309243588,314160184,300168034,328822343,395514897,304626733,308917681,312725458,301326099,293455304,296133390,292246019,283203645,283312841,284720579,274926094,289811516,268102055,265197256,282346231,261867636,262130128,259131374,256563224,253378615,244980080,250457936,248577629,248627926,262848650,243567787,237835181,233571190,237762229,252741628,228467722,231890235,222377237,221569348,228200122,235818447,220116948,225497409,222237669,228461476,213707847,210639463,212486511,208287749,217929661,205473069,205791199,210419609,205797522,232690319,201122693,203107803,200787167,201283322,199216680,196285657,198693584,188783790,190465892,228724845,185084701,189155958,183201130,224639635,178652608,184492548,182060518,181670021,181801364,174651063,173410916,177089091,178831601,175122148,186598713,170783271,164511825,164416646,163867130,164296551,160910694,162562944,162294751,155176963,163985234,155057238,153210824,148718221,156661425,154310596,150259623,148285216,145908517,146520786,149100441,147415112,141905421,136921456,27266238695],\"yaxis\":\"y\",\"type\":\"bar\"}],\"name\":\"2011\"},{\"data\":[{\"alignmentgroup\":\"True\",\"hovertemplate\":\"year=2012\\u003cbr\\u003erank=%{marker.color}\\u003cbr\\u003evalue=%{y}\\u003cextra\\u003e\\u003c\\u002fextra\\u003e\",\"ids\":[1,2,3,4,5,6,7,8,9,10,11,12,13,14,15,16,17,18,19,20,21,22,23,24,25,26,27,28,29,30,31,32,33,34,35,36,37,38,39,40,41,42,43,44,45,46,47,48,49,50,51,52,53,54,55,56,57,58,59,60,61,62,63,64,65,66,67,68,69,70,71,72,73,74,75,76,77,78,79,80,81,82,83,84,85,86,87,88,89,90,91,92,93,94,95,96,97,98,99,100,101,102,103,104,105,106,107,108,109,110,111,112,113,114,115,116,117,118,119,120,121,122,123,124,125,126,127,128,129,130,131,132,133,134,135,136,137,138,139,140,141,142,143,144,145,146,147,148,149,150,151,152,153,154,155,156,157,158,159,160,161,162,163,164,165,166,167,168,169,170,171,172,173,174,175,176,177,178,179,180,181,182,183,184,185,186,187,188,189,190,191,192,193,194,195,196,197,198,199,200,201,202,203,204,205,206,207,208,209,210,211,212,213,214,215,216,217,218,219,220,221,222,223,224,225,226,227,228,229,230,231,232,233,234,235,236,237,238,239,240,241,242,243,244,245,246,247,248,249,250,251,252,253,254,255,256,257,258,259,260,261,262,263,264,265,266,267,268,269,270,271,272,273,274,275,276,277,278,279,280,281,282,283,284,285,286,287,288,289,290,291,292,293,294,295,296,297,298,299,300,301,302,303,304,305,306,307,308,309,310,311,312,313,314,315,316,317,318,319,320,321,322,323,324,325,326,327,328,329,330,331,332,333,334,335,336,337,338,339,340,341,342,343,344,345,346,347,348,349,350,351,352,353,354,355,356,357,358,359,360,361,362,363,364,365,366,367,368,369,370,371,372,373,374,375,376,377,378,379,380,381,382,383,384,385,386,387,388,389,390,391,392,393,394,395,396,397,398,399,400],\"legendgroup\":\"\",\"marker\":{\"color\":[1,2,3,4,5,6,7,8,9,10,11,12,13,14,15,16,17,18,19,20,21,22,23,24,25,26,27,28,29,30,31,32,33,34,35,36,37,38,39,40,41,42,43,44,45,46,47,48,49,50,51,52,53,54,55,56,57,58,59,60,61,62,63,64,65,66,67,68,69,70,71,72,73,74,75,76,77,78,79,80,81,82,83,84,85,86,87,88,89,90,91,92,93,94,95,96,97,98,99,100,101,102,103,104,105,106,107,108,109,110,111,112,113,114,115,116,117,118,119,120,121,122,123,124,125,126,127,128,129,130,131,132,133,134,135,136,137,138,139,140,141,142,143,144,145,146,147,148,149,150,151,152,153,154,155,156,157,158,159,160,161,162,163,164,165,166,167,168,169,170,171,172,173,174,175,176,177,178,179,180,181,182,183,184,185,186,187,188,189,190,191,192,193,194,195,196,197,198,199,200,201,202,203,204,205,206,207,208,209,210,211,212,213,214,215,216,217,218,219,220,221,222,223,224,225,226,227,228,229,230,231,232,233,234,235,236,237,238,239,240,241,242,243,244,245,246,247,248,249,250,251,252,253,254,255,256,257,258,259,260,261,262,263,264,265,266,267,268,269,270,271,272,273,274,275,276,277,278,279,280,281,282,283,284,285,286,287,288,289,290,291,292,293,294,295,296,297,298,299,300,301,302,303,304,305,306,307,308,309,310,311,312,313,314,315,316,317,318,319,320,321,322,323,324,325,326,327,328,329,330,331,332,333,334,335,336,337,338,339,340,341,342,343,344,345,346,347,348,349,350,351,352,353,354,355,356,357,358,359,360,361,362,363,364,365,366,367,368,369,370,371,372,373,374,375,376,377,378,379,380,381,382,383,384,385,386,387,388,389,390,391,392,393,394,395,396,397,398,399,400],\"coloraxis\":\"coloraxis\",\"pattern\":{\"shape\":\"\"}},\"name\":\"\",\"offsetgroup\":\"\",\"orientation\":\"v\",\"showlegend\":false,\"textposition\":\"auto\",\"x\":[1,2,3,4,5,6,7,8,9,10,11,12,13,14,15,16,17,18,19,20,21,22,23,24,25,26,27,28,29,30,31,32,33,34,35,36,37,38,39,40,41,42,43,44,45,46,47,48,49,50,51,52,53,54,55,56,57,58,59,60,61,62,63,64,65,66,67,68,69,70,71,72,73,74,75,76,77,78,79,80,81,82,83,84,85,86,87,88,89,90,91,92,93,94,95,96,97,98,99,100,101,102,103,104,105,106,107,108,109,110,111,112,113,114,115,116,117,118,119,120,121,122,123,124,125,126,127,128,129,130,131,132,133,134,135,136,137,138,139,140,141,142,143,144,145,146,147,148,149,150,151,152,153,154,155,156,157,158,159,160,161,162,163,164,165,166,167,168,169,170,171,172,173,174,175,176,177,178,179,180,181,182,183,184,185,186,187,188,189,190,191,192,193,194,195,196,197,198,199,200,201,202,203,204,205,206,207,208,209,210,211,212,213,214,215,216,217,218,219,220,221,222,223,224,225,226,227,228,229,230,231,232,233,234,235,236,237,238,239,240,241,242,243,244,245,246,247,248,249,250,251,252,253,254,255,256,257,258,259,260,261,262,263,264,265,266,267,268,269,270,271,272,273,274,275,276,277,278,279,280,281,282,283,284,285,286,287,288,289,290,291,292,293,294,295,296,297,298,299,300,301,302,303,304,305,306,307,308,309,310,311,312,313,314,315,316,317,318,319,320,321,322,323,324,325,326,327,328,329,330,331,332,333,334,335,336,337,338,339,340,341,342,343,344,345,346,347,348,349,350,351,352,353,354,355,356,357,358,359,360,361,362,363,364,365,366,367,368,369,370,371,372,373,374,375,376,377,378,379,380,381,382,383,384,385,386,387,388,389,390,391,392,393,394,395,396,397,398,399,400],\"xaxis\":\"x\",\"y\":[33494223,75196973,107606276,145618656,164414833,190841965,215823991,251726206,267162880,278239289,288864417,311826146,319417414,335509727,345293367,372825332,382412793,389857158,415125583,419285846,433572467,449174812,475447424,466236309,489494398,498478084,508975075,527250087,544101059,557887577,597412700,585758834,609119222,632067995,634420803,670783222,724382069,698325060,723466469,727036018,740246962,726437828,770874075,745435491,845123194,837529286,788913362,788248746,869212102,842670855,855393599,900344525,931041524,940880658,1032319013,997340598,990752542,1019984790,1058709421,1114139202,1312342507,1121617410,1145633399,1212475764,1217341152,1265394756,1347238200,1335815935,1347156008,1415242378,1482173881,1471144879,1672745590,1613322448,1641557416,1714512828,1653348774,1726590645,1783365171,1756725097,1736971815,1769878513,1790853372,1754460449,1918869000,1868059572,1831182922,1890539429,1836049818,1810426788,2011484744,1819038191,1787688187,1763200877,1752944265,1731769721,1795651853,1760676967,1714980392,1691926089,1755864152,1663836090,1648248422,1602475378,1605796265,1739090591,1622971981,1637977327,1633341131,1560641912,1503601513,1457659960,1493064114,1445605859,1469609290,1465953154,1698144169,1599708017,1446891174,1383765120,1533536602,1398222498,1451013923,1441203261,1456962249,1461381612,1434071710,1460720725,1438583658,1461318729,1512857652,1452394172,1515753624,1459575038,1387474448,1434712547,1370934692,1348643003,1395745961,1361835064,1415561306,1331096997,1336137109,1305009044,1323119405,1338770898,1295355795,1288426427,1321553278,1284127086,1415118819,1213823791,1231620140,1210923004,1248161008,1237716738,1258972080,1233937155,1198778518,1210351684,1223083457,1196520499,1169489351,1146637954,1197981205,1180492217,1200273177,1162384103,1166678872,1142944991,1115222901,1096235445,1115647957,1091040625,1102252571,1136552386,1075786298,1068013900,1071683685,1096393908,1213215601,1091937290,1054252908,1002623252,1004254116,965070036,968021684,964796120,930236486,946839677,957780002,920351248,918004002,886494338,872457859,884599620,845485180,829839521,799055069,845212557,829549849,779220321,761629756,762939074,737043547,723109934,695555280,688100893,679819794,676556066,746470539,648190222,649622239,651279533,626902859,638809029,612353489,601809174,585679244,586810402,578208937,562430069,556132539,538414090,551086887,603760163,526972956,536183349,531431744,514722049,515103601,522854843,493646654,501934933,491930380,488363118,480344297,476034183,461693433,474124926,530570112,460821326,453512487,458539162,439921311,466409785,474314438,448818886,430748083,439158659,467844453,414110964,428274880,417758446,413711167,418326478,406606865,400565054,402937746,396204892,394001970,380949518,378267382,374114567,371836354,381408971,375763880,367965118,365799235,356440038,381408903,348062789,354255274,356581310,354518517,353499326,342738627,341434471,344556276,344798507,351098025,334132172,318425803,324948759,313063140,317686300,310847982,320281813,312160424,302527603,311113185,297563641,289038743,284870282,290839923,292487838,281973766,275360124,271093398,281731506,348641630,269660319,270070639,259008834,277952535,259372168,269711936,263523594,266857531,253730333,260188808,248828395,246747464,243897537,240591788,255532225,242438352,234059430,230208364,240143431,239791436,231029400,229620460,231757967,225013765,239549163,235664358,220867576,222262812,225182076,231397540,217258478,210807285,208373231,206586468,211500385,214339939,202162663,205128092,205265271,205861976,193629937,206734484,191256540,183344727,201348043,190992659,187232136,195508329,187199763,212860979,181580676,181120036,176185555,183273508,181162215,172972847,168522768,176238271,171478805,201547351,174752022,167692734,168588298,169493914,167696120,167558750,157361610,156313074,160882565,161832316,156320492,159801001,180647374,168157772,174211670,157224064,148129764,147463567,142391262,145193824,145505454,148098971,136912140,143110251,140470439,136124374,135854000,136363853,138193654,137917336,132640124,131801524,131663419,129867342,129243341,126638404,128867748,119872964,24488707667],\"yaxis\":\"y\",\"type\":\"bar\"}],\"name\":\"2012\"},{\"data\":[{\"alignmentgroup\":\"True\",\"hovertemplate\":\"year=2013\\u003cbr\\u003erank=%{marker.color}\\u003cbr\\u003evalue=%{y}\\u003cextra\\u003e\\u003c\\u002fextra\\u003e\",\"ids\":[1,2,3,4,5,6,7,8,9,10,11,12,13,14,15,16,17,18,19,20,21,22,23,24,25,26,27,28,29,30,31,32,33,34,35,36,37,38,39,40,41,42,43,44,45,46,47,48,49,50,51,52,53,54,55,56,57,58,59,60,61,62,63,64,65,66,67,68,69,70,71,72,73,74,75,76,77,78,79,80,81,82,83,84,85,86,87,88,89,90,91,92,93,94,95,96,97,98,99,100,101,102,103,104,105,106,107,108,109,110,111,112,113,114,115,116,117,118,119,120,121,122,123,124,125,126,127,128,129,130,131,132,133,134,135,136,137,138,139,140,141,142,143,144,145,146,147,148,149,150,151,152,153,154,155,156,157,158,159,160,161,162,163,164,165,166,167,168,169,170,171,172,173,174,175,176,177,178,179,180,181,182,183,184,185,186,187,188,189,190,191,192,193,194,195,196,197,198,199,200,201,202,203,204,205,206,207,208,209,210,211,212,213,214,215,216,217,218,219,220,221,222,223,224,225,226,227,228,229,230,231,232,233,234,235,236,237,238,239,240,241,242,243,244,245,246,247,248,249,250,251,252,253,254,255,256,257,258,259,260,261,262,263,264,265,266,267,268,269,270,271,272,273,274,275,276,277,278,279,280,281,282,283,284,285,286,287,288,289,290,291,292,293,294,295,296,297,298,299,300,301,302,303,304,305,306,307,308,309,310,311,312,313,314,315,316,317,318,319,320,321,322,323,324,325,326,327,328,329,330,331,332,333,334,335,336,337,338,339,340,341,342,343,344,345,346,347,348,349,350,351,352,353,354,355,356,357,358,359,360,361,362,363,364,365,366,367,368,369,370,371,372,373,374,375,376,377,378,379,380,381,382,383,384,385,386,387,388,389,390,391,392,393,394,395,396,397,398,399,400],\"legendgroup\":\"\",\"marker\":{\"color\":[1,2,3,4,5,6,7,8,9,10,11,12,13,14,15,16,17,18,19,20,21,22,23,24,25,26,27,28,29,30,31,32,33,34,35,36,37,38,39,40,41,42,43,44,45,46,47,48,49,50,51,52,53,54,55,56,57,58,59,60,61,62,63,64,65,66,67,68,69,70,71,72,73,74,75,76,77,78,79,80,81,82,83,84,85,86,87,88,89,90,91,92,93,94,95,96,97,98,99,100,101,102,103,104,105,106,107,108,109,110,111,112,113,114,115,116,117,118,119,120,121,122,123,124,125,126,127,128,129,130,131,132,133,134,135,136,137,138,139,140,141,142,143,144,145,146,147,148,149,150,151,152,153,154,155,156,157,158,159,160,161,162,163,164,165,166,167,168,169,170,171,172,173,174,175,176,177,178,179,180,181,182,183,184,185,186,187,188,189,190,191,192,193,194,195,196,197,198,199,200,201,202,203,204,205,206,207,208,209,210,211,212,213,214,215,216,217,218,219,220,221,222,223,224,225,226,227,228,229,230,231,232,233,234,235,236,237,238,239,240,241,242,243,244,245,246,247,248,249,250,251,252,253,254,255,256,257,258,259,260,261,262,263,264,265,266,267,268,269,270,271,272,273,274,275,276,277,278,279,280,281,282,283,284,285,286,287,288,289,290,291,292,293,294,295,296,297,298,299,300,301,302,303,304,305,306,307,308,309,310,311,312,313,314,315,316,317,318,319,320,321,322,323,324,325,326,327,328,329,330,331,332,333,334,335,336,337,338,339,340,341,342,343,344,345,346,347,348,349,350,351,352,353,354,355,356,357,358,359,360,361,362,363,364,365,366,367,368,369,370,371,372,373,374,375,376,377,378,379,380,381,382,383,384,385,386,387,388,389,390,391,392,393,394,395,396,397,398,399,400],\"coloraxis\":\"coloraxis\",\"pattern\":{\"shape\":\"\"}},\"name\":\"\",\"offsetgroup\":\"\",\"orientation\":\"v\",\"showlegend\":false,\"textposition\":\"auto\",\"x\":[1,2,3,4,5,6,7,8,9,10,11,12,13,14,15,16,17,18,19,20,21,22,23,24,25,26,27,28,29,30,31,32,33,34,35,36,37,38,39,40,41,42,43,44,45,46,47,48,49,50,51,52,53,54,55,56,57,58,59,60,61,62,63,64,65,66,67,68,69,70,71,72,73,74,75,76,77,78,79,80,81,82,83,84,85,86,87,88,89,90,91,92,93,94,95,96,97,98,99,100,101,102,103,104,105,106,107,108,109,110,111,112,113,114,115,116,117,118,119,120,121,122,123,124,125,126,127,128,129,130,131,132,133,134,135,136,137,138,139,140,141,142,143,144,145,146,147,148,149,150,151,152,153,154,155,156,157,158,159,160,161,162,163,164,165,166,167,168,169,170,171,172,173,174,175,176,177,178,179,180,181,182,183,184,185,186,187,188,189,190,191,192,193,194,195,196,197,198,199,200,201,202,203,204,205,206,207,208,209,210,211,212,213,214,215,216,217,218,219,220,221,222,223,224,225,226,227,228,229,230,231,232,233,234,235,236,237,238,239,240,241,242,243,244,245,246,247,248,249,250,251,252,253,254,255,256,257,258,259,260,261,262,263,264,265,266,267,268,269,270,271,272,273,274,275,276,277,278,279,280,281,282,283,284,285,286,287,288,289,290,291,292,293,294,295,296,297,298,299,300,301,302,303,304,305,306,307,308,309,310,311,312,313,314,315,316,317,318,319,320,321,322,323,324,325,326,327,328,329,330,331,332,333,334,335,336,337,338,339,340,341,342,343,344,345,346,347,348,349,350,351,352,353,354,355,356,357,358,359,360,361,362,363,364,365,366,367,368,369,370,371,372,373,374,375,376,377,378,379,380,381,382,383,384,385,386,387,388,389,390,391,392,393,394,395,396,397,398,399,400],\"xaxis\":\"x\",\"y\":[35810444,79055324,113472240,154381674,182748564,203038481,224830556,256947283,271550830,286332920,292096865,320788627,326349337,335021321,349861278,377686213,381872839,391965783,418848294,421531538,434021635,451811334,470567724,460589541,483501222,494532580,502266225,523939365,536445565,558845816,603256125,574625173,594640767,623381334,623077458,655469076,712693810,689738688,718627351,718654571,718414999,723406680,766412039,743926912,754218752,902888216,774773914,767999771,855622951,816111373,838454530,872198960,881784308,887202011,987522012,960862177,955576630,979882544,994841955,1034019161,1307649876,1099969940,1101852458,1159262368,1132687384,1178238171,1274419844,1236597216,1244935505,1314591002,1400254274,1344462561,1541581175,1452424205,1452542726,1594811280,1485359329,1501524297,1557906564,1573859376,1696986450,1606519874,1627424298,1597277395,1700245445,1678149874,1632334545,1698972091,1693242777,1648132553,1954967322,1692852963,1665911698,1662518914,1638649486,1632558315,1681347294,1642415041,1605117979,1569912238,1675896205,1583698325,1566547312,1540502760,1509656426,1640115383,1493573083,1507610922,1501517513,1457217242,1432512288,1419351904,1442122416,1407825185,1478889283,1473575837,1354111282,1365195874,1343399333,1300019660,1975810327,1362622352,1340581147,1324045357,1323762945,1328482132,1295507261,1254614899,1271752976,1280271594,1291028737,1294896590,1304713700,1343353807,1333234779,1410814418,1348244476,1324414533,1321293478,1318057853,1382771068,1316422855,1293374042,1264650396,1297412586,1260992239,1262938958,1230198581,1232229994,1220365305,1398131924,1226466407,1237654202,1222884380,1265737687,1210482419,1235069884,1186301343,1177330050,1172977780,1182633460,1189126909,1183019739,1181645539,1206396789,1209569154,1126515188,1148026068,1157079448,1132766617,1129276899,1098923575,1092693929,1103084012,1075575572,1146950352,1062009607,1076510358,1057042281,1044910215,1190582563,1055721937,1062720030,1049166600,1040806403,1034669325,1023280268,1023164570,1009179716,993189752,995758396,979420482,958428134,950034014,1009224856,949383313,903097995,869833814,856922555,875612162,853729567,827556861,810918285,792005626,794489522,788986471,749376935,736563713,731866546,723811343,797161482,689012004,685381301,675541393,662248538,659527142,637703494,623183242,619274812,610837263,611027643,600571793,579196056,583675459,581578395,618853297,545757607,551586489,531568383,543013550,524423429,525777200,502238720,505670783,499619085,500181789,481129053,475281280,468403342,471015995,519506339,464637791,454293832,458101646,449056433,458623396,452035301,447182296,439703942,450866371,493795633,436388713,434826682,425322885,420997640,416552736,405779280,405402264,409037727,392613470,405105468,390298157,393065022,394788413,379926623,380511806,373417810,371290082,363705649,368028122,389621844,365870456,351299330,358821245,372623063,357294045,350155860,345100983,334249826,335009994,357551056,335257653,329616943,332593574,319661907,319409524,317661482,317632745,312839571,312540437,309546991,300660510,293964141,294201456,296965602,299752382,286419009,288329884,278085614,298931700,352789667,282921056,267410417,266159000,269175857,277996391,260400013,264077785,264380829,253799468,255844184,247264327,253677360,240954841,240464034,248782330,238317540,237109457,239261435,234065502,236966982,232184700,229616858,222820169,225331376,235576245,224693821,219750652,217729525,219908188,227694495,214341539,207346478,203365935,206854178,201833718,209835445,202704688,200794672,198881103,201635181,194448501,192348307,194076631,195533892,196308759,187323434,191469476,188255660,196777428,207393591,179620867,185560933,177524583,179942851,172987006,173969008,175385580,173222506,170696111,194989144,177350398,162401423,175208877,164827086,165059024,165292449,159202658,170032269,159622177,148782648,155507532,153912594,152463846,148533748,165200826,154288218,146315857,145419348,141854677,147700963,137951371,148482677,135529610,142347207,135922541,129554606,140355542,136595137,128846256,140024199,130054458,127403914,124978433,125768302,127348103,161523967,127515900,120504927,23646561863],\"yaxis\":\"y\",\"type\":\"bar\"}],\"name\":\"2013\"},{\"data\":[{\"alignmentgroup\":\"True\",\"hovertemplate\":\"year=2014\\u003cbr\\u003erank=%{marker.color}\\u003cbr\\u003evalue=%{y}\\u003cextra\\u003e\\u003c\\u002fextra\\u003e\",\"ids\":[1,2,3,4,5,6,7,8,9,10,11,12,13,14,15,16,17,18,19,20,21,22,23,24,25,26,27,28,29,30,31,32,33,34,35,36,37,38,39,40,41,42,43,44,45,46,47,48,49,50,51,52,53,54,55,56,57,58,59,60,61,62,63,64,65,66,67,68,69,70,71,72,73,74,75,76,77,78,79,80,81,82,83,84,85,86,87,88,89,90,91,92,93,94,95,96,97,98,99,100,101,102,103,104,105,106,107,108,109,110,111,112,113,114,115,116,117,118,119,120,121,122,123,124,125,126,127,128,129,130,131,132,133,134,135,136,137,138,139,140,141,142,143,144,145,146,147,148,149,150,151,152,153,154,155,156,157,158,159,160,161,162,163,164,165,166,167,168,169,170,171,172,173,174,175,176,177,178,179,180,181,182,183,184,185,186,187,188,189,190,191,192,193,194,195,196,197,198,199,200,201,202,203,204,205,206,207,208,209,210,211,212,213,214,215,216,217,218,219,220,221,222,223,224,225,226,227,228,229,230,231,232,233,234,235,236,237,238,239,240,241,242,243,244,245,246,247,248,249,250,251,252,253,254,255,256,257,258,259,260,261,262,263,264,265,266,267,268,269,270,271,272,273,274,275,276,277,278,279,280,281,282,283,284,285,286,287,288,289,290,291,292,293,294,295,296,297,298,299,300,301,302,303,304,305,306,307,308,309,310,311,312,313,314,315,316,317,318,319,320,321,322,323,324,325,326,327,328,329,330,331,332,333,334,335,336,337,338,339,340,341,342,343,344,345,346,347,348,349,350,351,352,353,354,355,356,357,358,359,360,361,362,363,364,365,366,367,368,369,370,371,372,373,374,375,376,377,378,379,380,381,382,383,384,385,386,387,388,389,390,391,392,393,394,395,396,397,398,399,400],\"legendgroup\":\"\",\"marker\":{\"color\":[1,2,3,4,5,6,7,8,9,10,11,12,13,14,15,16,17,18,19,20,21,22,23,24,25,26,27,28,29,30,31,32,33,34,35,36,37,38,39,40,41,42,43,44,45,46,47,48,49,50,51,52,53,54,55,56,57,58,59,60,61,62,63,64,65,66,67,68,69,70,71,72,73,74,75,76,77,78,79,80,81,82,83,84,85,86,87,88,89,90,91,92,93,94,95,96,97,98,99,100,101,102,103,104,105,106,107,108,109,110,111,112,113,114,115,116,117,118,119,120,121,122,123,124,125,126,127,128,129,130,131,132,133,134,135,136,137,138,139,140,141,142,143,144,145,146,147,148,149,150,151,152,153,154,155,156,157,158,159,160,161,162,163,164,165,166,167,168,169,170,171,172,173,174,175,176,177,178,179,180,181,182,183,184,185,186,187,188,189,190,191,192,193,194,195,196,197,198,199,200,201,202,203,204,205,206,207,208,209,210,211,212,213,214,215,216,217,218,219,220,221,222,223,224,225,226,227,228,229,230,231,232,233,234,235,236,237,238,239,240,241,242,243,244,245,246,247,248,249,250,251,252,253,254,255,256,257,258,259,260,261,262,263,264,265,266,267,268,269,270,271,272,273,274,275,276,277,278,279,280,281,282,283,284,285,286,287,288,289,290,291,292,293,294,295,296,297,298,299,300,301,302,303,304,305,306,307,308,309,310,311,312,313,314,315,316,317,318,319,320,321,322,323,324,325,326,327,328,329,330,331,332,333,334,335,336,337,338,339,340,341,342,343,344,345,346,347,348,349,350,351,352,353,354,355,356,357,358,359,360,361,362,363,364,365,366,367,368,369,370,371,372,373,374,375,376,377,378,379,380,381,382,383,384,385,386,387,388,389,390,391,392,393,394,395,396,397,398,399,400],\"coloraxis\":\"coloraxis\",\"pattern\":{\"shape\":\"\"}},\"name\":\"\",\"offsetgroup\":\"\",\"orientation\":\"v\",\"showlegend\":false,\"textposition\":\"auto\",\"x\":[1,2,3,4,5,6,7,8,9,10,11,12,13,14,15,16,17,18,19,20,21,22,23,24,25,26,27,28,29,30,31,32,33,34,35,36,37,38,39,40,41,42,43,44,45,46,47,48,49,50,51,52,53,54,55,56,57,58,59,60,61,62,63,64,65,66,67,68,69,70,71,72,73,74,75,76,77,78,79,80,81,82,83,84,85,86,87,88,89,90,91,92,93,94,95,96,97,98,99,100,101,102,103,104,105,106,107,108,109,110,111,112,113,114,115,116,117,118,119,120,121,122,123,124,125,126,127,128,129,130,131,132,133,134,135,136,137,138,139,140,141,142,143,144,145,146,147,148,149,150,151,152,153,154,155,156,157,158,159,160,161,162,163,164,165,166,167,168,169,170,171,172,173,174,175,176,177,178,179,180,181,182,183,184,185,186,187,188,189,190,191,192,193,194,195,196,197,198,199,200,201,202,203,204,205,206,207,208,209,210,211,212,213,214,215,216,217,218,219,220,221,222,223,224,225,226,227,228,229,230,231,232,233,234,235,236,237,238,239,240,241,242,243,244,245,246,247,248,249,250,251,252,253,254,255,256,257,258,259,260,261,262,263,264,265,266,267,268,269,270,271,272,273,274,275,276,277,278,279,280,281,282,283,284,285,286,287,288,289,290,291,292,293,294,295,296,297,298,299,300,301,302,303,304,305,306,307,308,309,310,311,312,313,314,315,316,317,318,319,320,321,322,323,324,325,326,327,328,329,330,331,332,333,334,335,336,337,338,339,340,341,342,343,344,345,346,347,348,349,350,351,352,353,354,355,356,357,358,359,360,361,362,363,364,365,366,367,368,369,370,371,372,373,374,375,376,377,378,379,380,381,382,383,384,385,386,387,388,389,390,391,392,393,394,395,396,397,398,399,400],\"xaxis\":\"x\",\"y\":[34880349,77735278,114498709,152553848,181391950,200472478,222371325,260959409,278410141,297958510,302750173,336777223,348566226,351693161,363213796,394338481,401343678,405614112,433942961,437232227,448062785,463339390,494809221,482791515,514697029,518233102,521850639,546283608,557777422,583518745,661294988,591805515,616891970,639929626,642242554,671988239,726868817,711553598,746770309,752622397,745492876,747441673,795147766,771995890,793090318,946448402,811129851,808151795,896888834,855236220,869826528,912688021,912711136,915633451,1042774290,986150406,1000429896,1017496634,1015360989,1042711363,1349804768,1148225846,1110876971,1183712814,1162155927,1184887570,1302449081,1238812842,1269161634,1323266867,1389696031,1349108988,1511618995,1445913977,1456673418,1554905767,1486680432,1521216699,1556817611,1574180174,1681322217,1650843642,1613675523,1597637438,1734153168,1682362574,1606193353,1677130237,1718812622,1638142665,1916314748,1669304503,1632919697,1666377317,1651956917,1636501215,1650172496,1617284027,1601237584,1606091997,1691567289,1600187017,1617782579,1542208922,1508817152,1648241142,1484909025,1506300369,1534626104,1463242615,1461156329,1435114360,1442133419,1400876791,1467421141,1456180232,1369027946,1362814754,1329594740,1298252773,1883025491,1444218301,1326894163,1312837831,1332142550,1314456517,1318918900,1264984231,1278960300,1257229627,1285214003,1284582487,1300967169,1327922873,1297724949,1369042657,1362214904,1329233274,1333525120,1317127971,1341945438,1338212678,1286901170,1295736969,1327457576,1337046398,1257303901,1254444586,1211930597,1223880568,1440855699,1222617331,1229539298,1226403157,1289708837,1221904981,1205324541,1176927468,1180610283,1197106177,1226701484,1177361737,1219793249,1169261545,1186328440,1195420960,1107429177,1111449596,1171879590,1120477839,1119483887,1085033690,1099421437,1092358012,1052330603,1129983209,1034690364,1060099970,1047709326,1053596865,1160965466,1055293740,1089423284,1031164667,1051354209,1029974532,1041173822,1000759801,974891659,987440673,1003909027,981514435,962640973,1001375223,980494390,958890974,917938718,870172313,855530763,893677073,855564134,816063355,829003451,806853011,796750806,777622544,770741726,749976800,728080482,714388988,797100901,698555842,703668731,679822376,661605125,701500722,656394809,654674277,630234575,619113065,609354144,587892458,586991896,578086002,589660005,624999248,561291063,552276828,545193477,535619110,527829348,524284926,499164085,518887463,504216864,508299547,493327822,480265324,486050256,474947280,514182190,464883937,464289385,463712485,445381881,464703322,461393301,442031108,435008352,444886505,482672184,431226635,440304417,437644656,423756239,432790596,407255822,403397816,414937420,402128778,410426426,385651430,390440950,381712787,383300805,377359109,369307067,372945403,361033711,367535074,391202752,360447915,353977410,358066259,360327906,358406626,350214344,347373413,334035303,337527693,357539134,320746813,327864912,333795535,323364842,327400475,322534165,334759936,316590218,322625354,313096690,307241876,303321019,295018316,295143493,297924567,279537606,289172189,283511618,299583986,359095705,284126188,279089257,268894064,267412779,270054400,267443355,249626551,262398051,255895116,264413801,250694801,248495840,253614853,246316251,247647035,239587225,231142002,234921549,224483071,237421144,239067838,228719797,229551816,230014071,234983711,220843249,214056377,222457510,216747180,225248877,209639858,214725498,206165234,211738378,208005957,209693912,211068834,194838906,199764013,198162340,192948766,199819496,200196131,195057170,198725269,185928939,196408856,192650337,196223594,209775509,190793915,183015256,176750035,181151863,178529528,173829176,181529417,171866587,174504658,197227979,170339042,175880598,170704057,166720977,171121496,159574440,168905764,160220613,163319367,160792723,153577915,152496304,151790565,157597067,166023456,152931224,150922037,147536313,145123184,138120772,145118559,134867249,132306857,137801296,139851041,135896348,181926794,143124007,130015553,140493278,135222173,134707608,131508392,124268854,125051027,121009851,119327251,123293189,24317130108],\"yaxis\":\"y\",\"type\":\"bar\"}],\"name\":\"2014\"},{\"data\":[{\"alignmentgroup\":\"True\",\"hovertemplate\":\"year=2015\\u003cbr\\u003erank=%{marker.color}\\u003cbr\\u003evalue=%{y}\\u003cextra\\u003e\\u003c\\u002fextra\\u003e\",\"ids\":[1,2,3,4,5,6,7,8,9,10,11,12,13,14,15,16,17,18,19,20,21,22,23,24,25,26,27,28,29,30,31,32,33,34,35,36,37,38,39,40,41,42,43,44,45,46,47,48,49,50,51,52,53,54,55,56,57,58,59,60,61,62,63,64,65,66,67,68,69,70,71,72,73,74,75,76,77,78,79,80,81,82,83,84,85,86,87,88,89,90,91,92,93,94,95,96,97,98,99,100,101,102,103,104,105,106,107,108,109,110,111,112,113,114,115,116,117,118,119,120,121,122,123,124,125,126,127,128,129,130,131,132,133,134,135,136,137,138,139,140,141,142,143,144,145,146,147,148,149,150,151,152,153,154,155,156,157,158,159,160,161,162,163,164,165,166,167,168,169,170,171,172,173,174,175,176,177,178,179,180,181,182,183,184,185,186,187,188,189,190,191,192,193,194,195,196,197,198,199,200,201,202,203,204,205,206,207,208,209,210,211,212,213,214,215,216,217,218,219,220,221,222,223,224,225,226,227,228,229,230,231,232,233,234,235,236,237,238,239,240,241,242,243,244,245,246,247,248,249,250,251,252,253,254,255,256,257,258,259,260,261,262,263,264,265,266,267,268,269,270,271,272,273,274,275,276,277,278,279,280,281,282,283,284,285,286,287,288,289,290,291,292,293,294,295,296,297,298,299,300,301,302,303,304,305,306,307,308,309,310,311,312,313,314,315,316,317,318,319,320,321,322,323,324,325,326,327,328,329,330,331,332,333,334,335,336,337,338,339,340,341,342,343,344,345,346,347,348,349,350,351,352,353,354,355,356,357,358,359,360,361,362,363,364,365,366,367,368,369,370,371,372,373,374,375,376,377,378,379,380,381,382,383,384,385,386,387,388,389,390,391,392,393,394,395,396,397,398,399,400],\"legendgroup\":\"\",\"marker\":{\"color\":[1,2,3,4,5,6,7,8,9,10,11,12,13,14,15,16,17,18,19,20,21,22,23,24,25,26,27,28,29,30,31,32,33,34,35,36,37,38,39,40,41,42,43,44,45,46,47,48,49,50,51,52,53,54,55,56,57,58,59,60,61,62,63,64,65,66,67,68,69,70,71,72,73,74,75,76,77,78,79,80,81,82,83,84,85,86,87,88,89,90,91,92,93,94,95,96,97,98,99,100,101,102,103,104,105,106,107,108,109,110,111,112,113,114,115,116,117,118,119,120,121,122,123,124,125,126,127,128,129,130,131,132,133,134,135,136,137,138,139,140,141,142,143,144,145,146,147,148,149,150,151,152,153,154,155,156,157,158,159,160,161,162,163,164,165,166,167,168,169,170,171,172,173,174,175,176,177,178,179,180,181,182,183,184,185,186,187,188,189,190,191,192,193,194,195,196,197,198,199,200,201,202,203,204,205,206,207,208,209,210,211,212,213,214,215,216,217,218,219,220,221,222,223,224,225,226,227,228,229,230,231,232,233,234,235,236,237,238,239,240,241,242,243,244,245,246,247,248,249,250,251,252,253,254,255,256,257,258,259,260,261,262,263,264,265,266,267,268,269,270,271,272,273,274,275,276,277,278,279,280,281,282,283,284,285,286,287,288,289,290,291,292,293,294,295,296,297,298,299,300,301,302,303,304,305,306,307,308,309,310,311,312,313,314,315,316,317,318,319,320,321,322,323,324,325,326,327,328,329,330,331,332,333,334,335,336,337,338,339,340,341,342,343,344,345,346,347,348,349,350,351,352,353,354,355,356,357,358,359,360,361,362,363,364,365,366,367,368,369,370,371,372,373,374,375,376,377,378,379,380,381,382,383,384,385,386,387,388,389,390,391,392,393,394,395,396,397,398,399,400],\"coloraxis\":\"coloraxis\",\"pattern\":{\"shape\":\"\"}},\"name\":\"\",\"offsetgroup\":\"\",\"orientation\":\"v\",\"showlegend\":false,\"textposition\":\"auto\",\"x\":[1,2,3,4,5,6,7,8,9,10,11,12,13,14,15,16,17,18,19,20,21,22,23,24,25,26,27,28,29,30,31,32,33,34,35,36,37,38,39,40,41,42,43,44,45,46,47,48,49,50,51,52,53,54,55,56,57,58,59,60,61,62,63,64,65,66,67,68,69,70,71,72,73,74,75,76,77,78,79,80,81,82,83,84,85,86,87,88,89,90,91,92,93,94,95,96,97,98,99,100,101,102,103,104,105,106,107,108,109,110,111,112,113,114,115,116,117,118,119,120,121,122,123,124,125,126,127,128,129,130,131,132,133,134,135,136,137,138,139,140,141,142,143,144,145,146,147,148,149,150,151,152,153,154,155,156,157,158,159,160,161,162,163,164,165,166,167,168,169,170,171,172,173,174,175,176,177,178,179,180,181,182,183,184,185,186,187,188,189,190,191,192,193,194,195,196,197,198,199,200,201,202,203,204,205,206,207,208,209,210,211,212,213,214,215,216,217,218,219,220,221,222,223,224,225,226,227,228,229,230,231,232,233,234,235,236,237,238,239,240,241,242,243,244,245,246,247,248,249,250,251,252,253,254,255,256,257,258,259,260,261,262,263,264,265,266,267,268,269,270,271,272,273,274,275,276,277,278,279,280,281,282,283,284,285,286,287,288,289,290,291,292,293,294,295,296,297,298,299,300,301,302,303,304,305,306,307,308,309,310,311,312,313,314,315,316,317,318,319,320,321,322,323,324,325,326,327,328,329,330,331,332,333,334,335,336,337,338,339,340,341,342,343,344,345,346,347,348,349,350,351,352,353,354,355,356,357,358,359,360,361,362,363,364,365,366,367,368,369,370,371,372,373,374,375,376,377,378,379,380,381,382,383,384,385,386,387,388,389,390,391,392,393,394,395,396,397,398,399,400],\"xaxis\":\"x\",\"y\":[34109357,79922567,117285088,159810507,191900771,202808005,224678929,259813472,271020278,287727847,293934200,321244502,334245895,336664594,356780209,381215565,385659854,400680007,432250999,446072174,445003780,460488639,498263118,488857746,521303077,522486441,525702397,549705630,564081248,581151353,661704787,606731447,635403974,653315563,667477002,692424297,748779438,742802279,772197578,779915425,788446884,786190575,836400611,814931469,844906534,1011460586,858060621,860507638,959947903,901634116,919975922,977963922,974003330,976680434,1105552515,1037509430,1075498127,1098743479,1097617578,1119895113,1416492948,1259598245,1218417976,1258471606,1227507654,1275813618,1383270873,1356764428,1335118856,1384524095,1477091927,1426666558,1583742906,1541790406,1525340028,1618632085,1561121312,1582073176,1652834356,1601402928,1729305473,1678343930,1669579579,1650386761,1745025403,1730000580,1740958551,1710310042,1708847695,1707556337,1892370447,1719271608,1655783154,1667143816,1703043069,1652561094,1677115023,1655894368,1629537183,1661700906,1705582353,1605855787,1613979377,1621034237,1557899423,1655098930,1524738499,1519121365,1564799981,1506697621,1527704404,1544178430,1502578104,1417335439,1434414801,1422529796,1395919199,1419078079,1399455396,1399513031,1836336606,1538521817,1464970610,1359524763,1343469322,1337237016,1332245881,1274182087,1284773005,1288991963,1286707684,1257947283,1265183362,1256003708,1256289344,1310754522,1282786038,1260530585,1309573275,1280240113,1333033963,1291695490,1272104225,1287301287,1285356425,1318069152,1278884511,1265194037,1289836102,1243119188,1409075449,1234135155,1210829137,1244256324,1249760968,1228035516,1221159676,1236365328,1264611310,1215340740,1198615127,1165533893,1160428902,1168413709,1145201093,1196618591,1158103228,1188514332,1146698956,1159581852,1170097144,1103069169,1128017019,1058853264,1072210927,1123324480,1059888811,1096720527,1063603523,1062705179,1175931967,1039510523,1022545380,1037115674,1036409572,1020242631,1022992261,997454356,1032936133,1028357684,1050084966,1009537996,1050449385,1017185003,1005621455,962269135,953693892,930384791,918461329,953868256,971503909,911183073,903799187,852584280,874091526,878640597,842287929,846536735,834791496,809114561,883104888,791943867,783585624,779265581,768992810,748327665,769695380,743798671,716600967,678292755,690446530,650571853,642081876,625025711,616811134,676951603,615845852,591260460,591350525,599822413,593882726,574847602,578274409,547325540,552574461,531407531,535087756,512570088,515488786,508649416,542956927,492084568,490183755,489816365,483328793,491272374,469222657,467532013,443929208,463487521,498498051,450231893,463167650,438962524,444206299,443609548,430978186,428414913,422126851,424445463,420807574,410077681,408495112,403109090,404358656,396002105,387861575,382512507,385459925,382047755,402677356,375050004,373109486,371789782,387945744,375093440,363975922,368021404,362606821,355250607,371908051,346525645,356575188,353864196,341798013,345092880,336115299,331951611,333840273,332241080,333598504,325781858,319643556,313395013,308454097,306070874,297214478,305228018,312414189,310129947,368000071,294558737,292398970,294143885,291093719,284599736,286079253,277104461,280795754,268403363,282230465,269076271,271801665,272059025,262229814,269987433,254531646,252919911,255692399,245572083,247487799,257899421,244317893,236480376,236238917,251000758,231815630,229054250,230340081,229001304,238143786,218649083,225961221,221242041,213617203,216726561,216029711,209786685,213391339,215511530,217774251,206544526,204543367,204587212,200570656,209230209,191548376,196333774,197526632,206350820,215305610,187767249,201274218,191102091,189733784,193674843,186806224,188824948,182409590,180823039,199831488,180316372,184656544,176007292,174743306,183328386,171886924,177351243,172676394,166719308,166797011,168587552,166356957,157236507,165156813,177363618,153535825,166026212,164342996,157419104,152123904,151379830,153839911,143581949,148417509,148411697,140529752,187986118,145140315,143570509,151345298,139452253,143415689,141816252,132631618,135813026,137187907,136660912,134298748,26680053818],\"yaxis\":\"y\",\"type\":\"bar\"}],\"name\":\"2015\"},{\"data\":[{\"alignmentgroup\":\"True\",\"hovertemplate\":\"year=2016\\u003cbr\\u003erank=%{marker.color}\\u003cbr\\u003evalue=%{y}\\u003cextra\\u003e\\u003c\\u002fextra\\u003e\",\"ids\":[1,2,3,4,5,6,7,8,9,10,11,12,13,14,15,16,17,18,19,20,21,22,23,24,25,26,27,28,29,30,31,32,33,34,35,36,37,38,39,40,41,42,43,44,45,46,47,48,49,50,51,52,53,54,55,56,57,58,59,60,61,62,63,64,65,66,67,68,69,70,71,72,73,74,75,76,77,78,79,80,81,82,83,84,85,86,87,88,89,90,91,92,93,94,95,96,97,98,99,100,101,102,103,104,105,106,107,108,109,110,111,112,113,114,115,116,117,118,119,120,121,122,123,124,125,126,127,128,129,130,131,132,133,134,135,136,137,138,139,140,141,142,143,144,145,146,147,148,149,150,151,152,153,154,155,156,157,158,159,160,161,162,163,164,165,166,167,168,169,170,171,172,173,174,175,176,177,178,179,180,181,182,183,184,185,186,187,188,189,190,191,192,193,194,195,196,197,198,199,200,201,202,203,204,205,206,207,208,209,210,211,212,213,214,215,216,217,218,219,220,221,222,223,224,225,226,227,228,229,230,231,232,233,234,235,236,237,238,239,240,241,242,243,244,245,246,247,248,249,250,251,252,253,254,255,256,257,258,259,260,261,262,263,264,265,266,267,268,269,270,271,272,273,274,275,276,277,278,279,280,281,282,283,284,285,286,287,288,289,290,291,292,293,294,295,296,297,298,299,300,301,302,303,304,305,306,307,308,309,310,311,312,313,314,315,316,317,318,319,320,321,322,323,324,325,326,327,328,329,330,331,332,333,334,335,336,337,338,339,340,341,342,343,344,345,346,347,348,349,350,351,352,353,354,355,356,357,358,359,360,361,362,363,364,365,366,367,368,369,370,371,372,373,374,375,376,377,378,379,380,381,382,383,384,385,386,387,388,389,390,391,392,393,394,395,396,397,398,399,400],\"legendgroup\":\"\",\"marker\":{\"color\":[1,2,3,4,5,6,7,8,9,10,11,12,13,14,15,16,17,18,19,20,21,22,23,24,25,26,27,28,29,30,31,32,33,34,35,36,37,38,39,40,41,42,43,44,45,46,47,48,49,50,51,52,53,54,55,56,57,58,59,60,61,62,63,64,65,66,67,68,69,70,71,72,73,74,75,76,77,78,79,80,81,82,83,84,85,86,87,88,89,90,91,92,93,94,95,96,97,98,99,100,101,102,103,104,105,106,107,108,109,110,111,112,113,114,115,116,117,118,119,120,121,122,123,124,125,126,127,128,129,130,131,132,133,134,135,136,137,138,139,140,141,142,143,144,145,146,147,148,149,150,151,152,153,154,155,156,157,158,159,160,161,162,163,164,165,166,167,168,169,170,171,172,173,174,175,176,177,178,179,180,181,182,183,184,185,186,187,188,189,190,191,192,193,194,195,196,197,198,199,200,201,202,203,204,205,206,207,208,209,210,211,212,213,214,215,216,217,218,219,220,221,222,223,224,225,226,227,228,229,230,231,232,233,234,235,236,237,238,239,240,241,242,243,244,245,246,247,248,249,250,251,252,253,254,255,256,257,258,259,260,261,262,263,264,265,266,267,268,269,270,271,272,273,274,275,276,277,278,279,280,281,282,283,284,285,286,287,288,289,290,291,292,293,294,295,296,297,298,299,300,301,302,303,304,305,306,307,308,309,310,311,312,313,314,315,316,317,318,319,320,321,322,323,324,325,326,327,328,329,330,331,332,333,334,335,336,337,338,339,340,341,342,343,344,345,346,347,348,349,350,351,352,353,354,355,356,357,358,359,360,361,362,363,364,365,366,367,368,369,370,371,372,373,374,375,376,377,378,379,380,381,382,383,384,385,386,387,388,389,390,391,392,393,394,395,396,397,398,399,400],\"coloraxis\":\"coloraxis\",\"pattern\":{\"shape\":\"\"}},\"name\":\"\",\"offsetgroup\":\"\",\"orientation\":\"v\",\"showlegend\":false,\"textposition\":\"auto\",\"x\":[1,2,3,4,5,6,7,8,9,10,11,12,13,14,15,16,17,18,19,20,21,22,23,24,25,26,27,28,29,30,31,32,33,34,35,36,37,38,39,40,41,42,43,44,45,46,47,48,49,50,51,52,53,54,55,56,57,58,59,60,61,62,63,64,65,66,67,68,69,70,71,72,73,74,75,76,77,78,79,80,81,82,83,84,85,86,87,88,89,90,91,92,93,94,95,96,97,98,99,100,101,102,103,104,105,106,107,108,109,110,111,112,113,114,115,116,117,118,119,120,121,122,123,124,125,126,127,128,129,130,131,132,133,134,135,136,137,138,139,140,141,142,143,144,145,146,147,148,149,150,151,152,153,154,155,156,157,158,159,160,161,162,163,164,165,166,167,168,169,170,171,172,173,174,175,176,177,178,179,180,181,182,183,184,185,186,187,188,189,190,191,192,193,194,195,196,197,198,199,200,201,202,203,204,205,206,207,208,209,210,211,212,213,214,215,216,217,218,219,220,221,222,223,224,225,226,227,228,229,230,231,232,233,234,235,236,237,238,239,240,241,242,243,244,245,246,247,248,249,250,251,252,253,254,255,256,257,258,259,260,261,262,263,264,265,266,267,268,269,270,271,272,273,274,275,276,277,278,279,280,281,282,283,284,285,286,287,288,289,290,291,292,293,294,295,296,297,298,299,300,301,302,303,304,305,306,307,308,309,310,311,312,313,314,315,316,317,318,319,320,321,322,323,324,325,326,327,328,329,330,331,332,333,334,335,336,337,338,339,340,341,342,343,344,345,346,347,348,349,350,351,352,353,354,355,356,357,358,359,360,361,362,363,364,365,366,367,368,369,370,371,372,373,374,375,376,377,378,379,380,381,382,383,384,385,386,387,388,389,390,391,392,393,394,395,396,397,398,399,400],\"xaxis\":\"x\",\"y\":[34349658,79871600,121125119,169240096,192026332,206551986,230231860,259723748,275778919,281741037,294469918,324271864,332940123,340433090,350198662,380464705,387015884,401628707,424625321,433729322,445632758,465570820,516782387,507806121,522335521,529051126,535187471,555357957,574842155,587490750,674632550,619976880,647316148,666260801,684593838,705870053,764790098,755359102,783627627,808226549,809179758,811799025,857164160,842512912,865319105,1043655447,900575779,907765376,986913176,962984528,963346101,1006223205,1037846811,1023835877,1120912753,1117292033,1124661026,1145016823,1158521652,1171444957,1451727512,1319205886,1345117409,1310588219,1323519104,1328303605,1454781950,1422429271,1435214503,1440772926,1557690091,1494927505,1648107621,1580685508,1587754946,1707094592,1654793603,1655952826,1686586726,1683997768,1770453740,1746231899,1767494241,1746264110,1799087683,1780790661,1836990135,1778252323,1777481231,1792658004,2020711677,1784702846,1732321298,1747305959,1759484614,1743617505,1761907245,1719034491,1673147865,1692189559,1735607979,1678234223,1716666659,1681251055,1643027085,1725608071,1596908950,1601597344,1602955436,1562883641,1570659104,1601434216,1556366646,1475281742,1486505387,1497425790,1422535021,1435883807,1404154290,1441704623,1947591717,1619308753,1484794862,1415853913,1405404606,1409171194,1376738661,1393041845,1317191933,1322378327,1310960559,1306537861,1301892344,1283504567,1269824804,1316217218,1273485688,1284865778,1314322055,1317012964,1345556061,1284185729,1284107783,1258030398,1307201039,1298582854,1301512400,1314687148,1319867740,1261137508,1471159081,1270959767,1236564829,1227218393,1234589858,1257555770,1270163790,1253455359,1315736127,1236319099,1277974983,1214540111,1201295673,1182161161,1201076057,1202110818,1185004329,1187259459,1196489942,1197749307,1152359190,1160135459,1166396520,1128081750,1137700964,1170973359,1101669524,1108055605,1052962665,1118131487,1187306922,1062791401,1057393241,1069653166,1073119423,1038442051,1038616036,1039787403,999979566,1054581410,1049142582,1021186180,1030335656,1088454390,998961903,1013361894,1011434176,970792451,1000107235,1018802668,980566161,924622353,948390021,905182071,937566586,887763250,856685232,866286885,848440068,833182745,912969565,842130875,840190817,819732658,811610948,811246646,812850686,792165384,790022034,750364391,748272059,693511953,710538526,672897220,688139895,704501400,640848865,629254920,617650093,605107930,606292502,606648964,586355383,582340490,576464961,568141532,547061657,562354534,534661612,530829340,572428670,517290681,517776723,511189510,504502447,503584002,483913036,495573490,468523517,484514386,530099465,467841366,478731190,460605338,463172863,465141035,451075509,444745978,440380126,430507731,447684613,435911856,438103715,409679366,421980324,423609156,406721659,407773052,398608994,400961759,414310241,394044936,390379461,379664140,396009902,390467528,382791454,374507939,367503796,365367797,385819426,367403372,370580660,365368003,359446647,360054992,343443907,357523501,350285067,344927201,350379958,333008525,333804689,330775924,333899420,330242822,318908848,323855827,321730519,339235761,402595440,309999716,314170561,306404369,316622581,304022257,296807852,295934589,298074979,289199384,295339205,288696883,281549177,279266858,275188241,289794757,269652852,268597479,263202494,258790454,263046417,264916926,267544977,252844816,255774330,265383632,242786273,232783836,237502855,238099298,240843351,240470094,234676789,230980394,236362780,239278473,229212667,226725874,223746729,220267434,224721127,221369203,227961730,214476895,219927974,215792674,213032671,214751128,207633838,218309789,229251390,203941078,200427088,195623424,202067476,199142519,211124948,206490310,190218605,194700989,216767767,186312837,181322922,189748344,182613830,186325358,179951136,193455066,184031289,179280830,181098717,181440330,176781982,169346621,174296611,188702287,170406383,161423130,168961081,165920909,170462718,167704988,154302733,163907776,158640851,159051071,151119387,191249911,159442793,156036384,155485832,154168848,146557491,146218452,143914435,143477820,141312099,146282607,139705228,28901307471],\"yaxis\":\"y\",\"type\":\"bar\"}],\"name\":\"2016\"},{\"data\":[{\"alignmentgroup\":\"True\",\"hovertemplate\":\"year=2017\\u003cbr\\u003erank=%{marker.color}\\u003cbr\\u003evalue=%{y}\\u003cextra\\u003e\\u003c\\u002fextra\\u003e\",\"ids\":[1,2,3,4,5,6,7,8,9,10,11,12,13,14,15,16,17,18,19,20,21,22,23,24,25,26,27,28,29,30,31,32,33,34,35,36,37,38,39,40,41,42,43,44,45,46,47,48,49,50,51,52,53,54,55,56,57,58,59,60,61,62,63,64,65,66,67,68,69,70,71,72,73,74,75,76,77,78,79,80,81,82,83,84,85,86,87,88,89,90,91,92,93,94,95,96,97,98,99,100,101,102,103,104,105,106,107,108,109,110,111,112,113,114,115,116,117,118,119,120,121,122,123,124,125,126,127,128,129,130,131,132,133,134,135,136,137,138,139,140,141,142,143,144,145,146,147,148,149,150,151,152,153,154,155,156,157,158,159,160,161,162,163,164,165,166,167,168,169,170,171,172,173,174,175,176,177,178,179,180,181,182,183,184,185,186,187,188,189,190,191,192,193,194,195,196,197,198,199,200,201,202,203,204,205,206,207,208,209,210,211,212,213,214,215,216,217,218,219,220,221,222,223,224,225,226,227,228,229,230,231,232,233,234,235,236,237,238,239,240,241,242,243,244,245,246,247,248,249,250,251,252,253,254,255,256,257,258,259,260,261,262,263,264,265,266,267,268,269,270,271,272,273,274,275,276,277,278,279,280,281,282,283,284,285,286,287,288,289,290,291,292,293,294,295,296,297,298,299,300,301,302,303,304,305,306,307,308,309,310,311,312,313,314,315,316,317,318,319,320,321,322,323,324,325,326,327,328,329,330,331,332,333,334,335,336,337,338,339,340,341,342,343,344,345,346,347,348,349,350,351,352,353,354,355,356,357,358,359,360,361,362,363,364,365,366,367,368,369,370,371,372,373,374,375,376,377,378,379,380,381,382,383,384,385,386,387,388,389,390,391,392,393,394,395,396,397,398,399,400],\"legendgroup\":\"\",\"marker\":{\"color\":[1,2,3,4,5,6,7,8,9,10,11,12,13,14,15,16,17,18,19,20,21,22,23,24,25,26,27,28,29,30,31,32,33,34,35,36,37,38,39,40,41,42,43,44,45,46,47,48,49,50,51,52,53,54,55,56,57,58,59,60,61,62,63,64,65,66,67,68,69,70,71,72,73,74,75,76,77,78,79,80,81,82,83,84,85,86,87,88,89,90,91,92,93,94,95,96,97,98,99,100,101,102,103,104,105,106,107,108,109,110,111,112,113,114,115,116,117,118,119,120,121,122,123,124,125,126,127,128,129,130,131,132,133,134,135,136,137,138,139,140,141,142,143,144,145,146,147,148,149,150,151,152,153,154,155,156,157,158,159,160,161,162,163,164,165,166,167,168,169,170,171,172,173,174,175,176,177,178,179,180,181,182,183,184,185,186,187,188,189,190,191,192,193,194,195,196,197,198,199,200,201,202,203,204,205,206,207,208,209,210,211,212,213,214,215,216,217,218,219,220,221,222,223,224,225,226,227,228,229,230,231,232,233,234,235,236,237,238,239,240,241,242,243,244,245,246,247,248,249,250,251,252,253,254,255,256,257,258,259,260,261,262,263,264,265,266,267,268,269,270,271,272,273,274,275,276,277,278,279,280,281,282,283,284,285,286,287,288,289,290,291,292,293,294,295,296,297,298,299,300,301,302,303,304,305,306,307,308,309,310,311,312,313,314,315,316,317,318,319,320,321,322,323,324,325,326,327,328,329,330,331,332,333,334,335,336,337,338,339,340,341,342,343,344,345,346,347,348,349,350,351,352,353,354,355,356,357,358,359,360,361,362,363,364,365,366,367,368,369,370,371,372,373,374,375,376,377,378,379,380,381,382,383,384,385,386,387,388,389,390,391,392,393,394,395,396,397,398,399,400],\"coloraxis\":\"coloraxis\",\"pattern\":{\"shape\":\"\"}},\"name\":\"\",\"offsetgroup\":\"\",\"orientation\":\"v\",\"showlegend\":false,\"textposition\":\"auto\",\"x\":[1,2,3,4,5,6,7,8,9,10,11,12,13,14,15,16,17,18,19,20,21,22,23,24,25,26,27,28,29,30,31,32,33,34,35,36,37,38,39,40,41,42,43,44,45,46,47,48,49,50,51,52,53,54,55,56,57,58,59,60,61,62,63,64,65,66,67,68,69,70,71,72,73,74,75,76,77,78,79,80,81,82,83,84,85,86,87,88,89,90,91,92,93,94,95,96,97,98,99,100,101,102,103,104,105,106,107,108,109,110,111,112,113,114,115,116,117,118,119,120,121,122,123,124,125,126,127,128,129,130,131,132,133,134,135,136,137,138,139,140,141,142,143,144,145,146,147,148,149,150,151,152,153,154,155,156,157,158,159,160,161,162,163,164,165,166,167,168,169,170,171,172,173,174,175,176,177,178,179,180,181,182,183,184,185,186,187,188,189,190,191,192,193,194,195,196,197,198,199,200,201,202,203,204,205,206,207,208,209,210,211,212,213,214,215,216,217,218,219,220,221,222,223,224,225,226,227,228,229,230,231,232,233,234,235,236,237,238,239,240,241,242,243,244,245,246,247,248,249,250,251,252,253,254,255,256,257,258,259,260,261,262,263,264,265,266,267,268,269,270,271,272,273,274,275,276,277,278,279,280,281,282,283,284,285,286,287,288,289,290,291,292,293,294,295,296,297,298,299,300,301,302,303,304,305,306,307,308,309,310,311,312,313,314,315,316,317,318,319,320,321,322,323,324,325,326,327,328,329,330,331,332,333,334,335,336,337,338,339,340,341,342,343,344,345,346,347,348,349,350,351,352,353,354,355,356,357,358,359,360,361,362,363,364,365,366,367,368,369,370,371,372,373,374,375,376,377,378,379,380,381,382,383,384,385,386,387,388,389,390,391,392,393,394,395,396,397,398,399,400],\"xaxis\":\"x\",\"y\":[32519373,73770139,112655236,145159857,171624785,181703838,203149983,235783994,259269500,267975407,286080049,307827146,343637105,333876276,356190127,381609387,386876033,402478014,426053751,432480296,453033603,466737001,489849119,493515709,547543549,541542796,552886668,572582312,600211827,617205988,665510539,642925556,668747377,680484021,695805765,726532620,788709130,773968181,804969719,820120468,824933100,836402130,901086533,862207301,884060203,955094294,913294020,917499968,1004999055,1122426206,1008776190,1050863307,1077473123,1082820184,1165187167,1141062126,1195484944,1221618115,1218607580,1242388210,1500948714,1323688229,1390948308,1476753775,1389426814,1417655429,1515890667,1484882195,1520789218,1564698135,1642095669,1573544288,1760551741,1666918067,1668210399,1806149907,1744954534,1811061527,1825913769,1792524391,1847932349,1891807456,1937460351,1855536540,1968335062,1925398268,1992950180,1924398469,1936069782,1901447175,2167652446,1962894589,1932397989,1900391750,1919636262,1874166101,1871349638,1817420688,1796174616,1795961436,1829442886,1783468964,1851236173,1772707785,1761574387,1858119070,1692859849,1744100121,1697605165,1671881603,1635880536,1661081397,1642896029,1557723125,1563466881,1559832137,1527114782,1542324381,1515581105,1503214606,1648451199,1452507298,1584175847,1676387941,1598504738,1516176712,1442869530,1405659553,1360005459,1389616767,1423645261,1331072240,1345982166,1365298250,1360526809,1392145446,1335991780,1349383933,1368995941,1378481174,1413270040,1372389684,1355493521,1331443541,1377339665,1349473347,1340733869,1327320757,1289798697,1316502643,1519241941,1289881434,1361730044,1296118792,1317298778,1324125911,1294336671,1285622190,1292766800,1306514974,1310218420,1301179869,1302887207,1235828961,1292596329,1253650669,1199383661,1199435173,1213828975,1218044733,1253319617,1208218354,1212570689,1212010706,1164754366,1217157948,1132628906,1075705440,1084644555,1061637379,1177823946,1094944281,1075551078,1113800283,1116249243,1089166505,1086616892,1090665502,1046511363,1052472767,1063250823,987774228,1069567624,1032361945,994973683,1046448644,1044276327,1039862382,1016921474,1069434161,1051143058,976982475,948426578,925578071,923328306,891475578,894340900,876013072,856363820,849259358,924437141,839513483,826148574,846349384,834056685,833299266,815321218,776866641,755020820,748785815,742255057,723789758,728404464,710392899,708196786,799516840,682818155,664444045,641488203,630821694,639386934,612769585,606818200,596740021,588501355,587586717,570483869,578787144,556607094,551250720,616597201,533515966,525440190,543777486,515202581,531413729,509510521,512616164,491176105,521283912,559392162,496702623,499985708,473642461,477952184,484391763,464555663,460354321,472726456,467727443,476538419,447054703,447206557,432124589,450132774,425310928,417653493,415157210,408331329,421499175,443518441,407523870,408819844,411281580,420843893,419109246,397159882,396659110,396419750,389671069,406637523,377152614,389623399,373026274,370368305,371700452,358463528,362700477,352831765,361587471,358401556,352135015,355446620,355911284,346263364,348320373,336938931,335701578,321067563,352294433,418867381,327362516,316049741,323891227,314055104,318697441,306311209,301535934,311775351,300898323,303654117,291182359,304748358,288300674,292235672,294592214,282436189,283019365,275690746,270554596,276522181,276415909,269798836,264812633,263174419,281849329,265773629,254203253,249325452,248576203,264907854,250745776,242720549,245858337,239636437,244374702,246381412,238478731,230045564,232561417,234115449,231399856,231799548,222313813,223926606,228090917,216971592,211973707,220389346,222644224,254909529,215114192,211503512,210971410,213696458,208537065,198571583,203336937,209792292,205561583,230537579,201065344,204515742,197092717,204704437,195904438,187207834,191910272,193605686,187710305,185323330,180845035,183192250,188688689,182469759,202207450,180568891,178635332,175396116,178901502,181880369,168542046,167686845,164211516,167180536,168147434,161943322,163991866,161384460,156035329,163371158,153386862,195232761,159995336,159696285,153527458,152806765,147866538,152223967,30085591060],\"yaxis\":\"y\",\"type\":\"bar\"}],\"name\":\"2017\"},{\"data\":[{\"alignmentgroup\":\"True\",\"hovertemplate\":\"year=2018\\u003cbr\\u003erank=%{marker.color}\\u003cbr\\u003evalue=%{y}\\u003cextra\\u003e\\u003c\\u002fextra\\u003e\",\"ids\":[1,2,3,4,5,6,7,8,9,10,11,12,13,14,15,16,17,18,19,20,21,22,23,24,25,26,27,28,29,30,31,32,33,34,35,36,37,38,39,40,41,42,43,44,45,46,47,48,49,50,51,52,53,54,55,56,57,58,59,60,61,62,63,64,65,66,67,68,69,70,71,72,73,74,75,76,77,78,79,80,81,82,83,84,85,86,87,88,89,90,91,92,93,94,95,96,97,98,99,100,101,102,103,104,105,106,107,108,109,110,111,112,113,114,115,116,117,118,119,120,121,122,123,124,125,126,127,128,129,130,131,132,133,134,135,136,137,138,139,140,141,142,143,144,145,146,147,148,149,150,151,152,153,154,155,156,157,158,159,160,161,162,163,164,165,166,167,168,169,170,171,172,173,174,175,176,177,178,179,180,181,182,183,184,185,186,187,188,189,190,191,192,193,194,195,196,197,198,199,200,201,202,203,204,205,206,207,208,209,210,211,212,213,214,215,216,217,218,219,220,221,222,223,224,225,226,227,228,229,230,231,232,233,234,235,236,237,238,239,240,241,242,243,244,245,246,247,248,249,250,251,252,253,254,255,256,257,258,259,260,261,262,263,264,265,266,267,268,269,270,271,272,273,274,275,276,277,278,279,280,281,282,283,284,285,286,287,288,289,290,291,292,293,294,295,296,297,298,299,300,301,302,303,304,305,306,307,308,309,310,311,312,313,314,315,316,317,318,319,320,321,322,323,324,325,326,327,328,329,330,331,332,333,334,335,336,337,338,339,340,341,342,343,344,345,346,347,348,349,350,351,352,353,354,355,356,357,358,359,360,361,362,363,364,365,366,367,368,369,370,371,372,373,374,375,376,377,378,379,380,381,382,383,384,385,386,387,388,389,390,391,392,393,394,395,396,397,398,399,400],\"legendgroup\":\"\",\"marker\":{\"color\":[1,2,3,4,5,6,7,8,9,10,11,12,13,14,15,16,17,18,19,20,21,22,23,24,25,26,27,28,29,30,31,32,33,34,35,36,37,38,39,40,41,42,43,44,45,46,47,48,49,50,51,52,53,54,55,56,57,58,59,60,61,62,63,64,65,66,67,68,69,70,71,72,73,74,75,76,77,78,79,80,81,82,83,84,85,86,87,88,89,90,91,92,93,94,95,96,97,98,99,100,101,102,103,104,105,106,107,108,109,110,111,112,113,114,115,116,117,118,119,120,121,122,123,124,125,126,127,128,129,130,131,132,133,134,135,136,137,138,139,140,141,142,143,144,145,146,147,148,149,150,151,152,153,154,155,156,157,158,159,160,161,162,163,164,165,166,167,168,169,170,171,172,173,174,175,176,177,178,179,180,181,182,183,184,185,186,187,188,189,190,191,192,193,194,195,196,197,198,199,200,201,202,203,204,205,206,207,208,209,210,211,212,213,214,215,216,217,218,219,220,221,222,223,224,225,226,227,228,229,230,231,232,233,234,235,236,237,238,239,240,241,242,243,244,245,246,247,248,249,250,251,252,253,254,255,256,257,258,259,260,261,262,263,264,265,266,267,268,269,270,271,272,273,274,275,276,277,278,279,280,281,282,283,284,285,286,287,288,289,290,291,292,293,294,295,296,297,298,299,300,301,302,303,304,305,306,307,308,309,310,311,312,313,314,315,316,317,318,319,320,321,322,323,324,325,326,327,328,329,330,331,332,333,334,335,336,337,338,339,340,341,342,343,344,345,346,347,348,349,350,351,352,353,354,355,356,357,358,359,360,361,362,363,364,365,366,367,368,369,370,371,372,373,374,375,376,377,378,379,380,381,382,383,384,385,386,387,388,389,390,391,392,393,394,395,396,397,398,399,400],\"coloraxis\":\"coloraxis\",\"pattern\":{\"shape\":\"\"}},\"name\":\"\",\"offsetgroup\":\"\",\"orientation\":\"v\",\"showlegend\":false,\"textposition\":\"auto\",\"x\":[1,2,3,4,5,6,7,8,9,10,11,12,13,14,15,16,17,18,19,20,21,22,23,24,25,26,27,28,29,30,31,32,33,34,35,36,37,38,39,40,41,42,43,44,45,46,47,48,49,50,51,52,53,54,55,56,57,58,59,60,61,62,63,64,65,66,67,68,69,70,71,72,73,74,75,76,77,78,79,80,81,82,83,84,85,86,87,88,89,90,91,92,93,94,95,96,97,98,99,100,101,102,103,104,105,106,107,108,109,110,111,112,113,114,115,116,117,118,119,120,121,122,123,124,125,126,127,128,129,130,131,132,133,134,135,136,137,138,139,140,141,142,143,144,145,146,147,148,149,150,151,152,153,154,155,156,157,158,159,160,161,162,163,164,165,166,167,168,169,170,171,172,173,174,175,176,177,178,179,180,181,182,183,184,185,186,187,188,189,190,191,192,193,194,195,196,197,198,199,200,201,202,203,204,205,206,207,208,209,210,211,212,213,214,215,216,217,218,219,220,221,222,223,224,225,226,227,228,229,230,231,232,233,234,235,236,237,238,239,240,241,242,243,244,245,246,247,248,249,250,251,252,253,254,255,256,257,258,259,260,261,262,263,264,265,266,267,268,269,270,271,272,273,274,275,276,277,278,279,280,281,282,283,284,285,286,287,288,289,290,291,292,293,294,295,296,297,298,299,300,301,302,303,304,305,306,307,308,309,310,311,312,313,314,315,316,317,318,319,320,321,322,323,324,325,326,327,328,329,330,331,332,333,334,335,336,337,338,339,340,341,342,343,344,345,346,347,348,349,350,351,352,353,354,355,356,357,358,359,360,361,362,363,364,365,366,367,368,369,370,371,372,373,374,375,376,377,378,379,380,381,382,383,384,385,386,387,388,389,390,391,392,393,394,395,396,397,398,399,400],\"xaxis\":\"x\",\"y\":[32351524,69184428,104810693,134124703,166964010,181296821,197297940,221701335,245491065,256131750,272481201,290303786,324970965,329281114,335106385,363486116,377939120,406386902,413271375,422823177,439281189,458747702,476623014,480205213,506679762,539291237,539492716,554882755,575446540,582010814,639401917,630175906,662281208,669771499,689055456,712509551,774025914,752536470,802539650,815656331,835474603,833757621,884948576,867895810,902418878,957052127,923148189,943363412,1000575895,985506123,1005980846,1218462259,1108499387,1089861361,1184080444,1185421758,1191430025,1281496867,1268845341,1292201875,1521898560,1357916653,1393644580,1486798157,1554443403,1495744701,1574566079,1538482639,1549642414,1636150204,1691249644,1648474778,1847821856,1736361152,1735477763,1875414717,1801916884,1836414479,1937020118,1847643146,1919688426,1962961429,2039677785,1956721387,2085703928,2030988937,2098403813,2055431884,2032882754,2030829895,2261429239,2082324862,2053296412,2063840488,2095735538,2020323585,2067131567,1980223294,1997027971,1991103567,1997067752,1915940352,1983129288,1917369326,1913006026,2000428757,1873486224,1876933302,1850565757,1834416940,1823203000,1800361885,1752228870,1665651705,1705483539,1693143075,1637612076,1625870537,1579064065,1617491827,1805083736,1569710622,1566818753,1529185366,1797302788,1765532224,1639154017,1537460587,1482775420,1484703053,1461688251,1415543458,1475383080,1413203377,1367380992,1413331368,1345079547,1377084177,1369454856,1358921627,1387729243,1348498499,1366143099,1363448581,1400389840,1340505871,1368788070,1337653027,1340699014,1351503278,1586186355,1377148989,1393349887,1386612459,1402341452,1417675440,1442279579,1445455365,1393752159,1411893039,1422045981,1466526740,1389647748,1386528179,1399898287,1389751455,1337166455,1300000338,1289510457,1304530247,1273882512,1284555047,1291175275,1324637547,1327445476,1369832994,1269804386,1212199816,1199469818,1177478548,1285973504,1171458663,1129594880,1167586370,1156322333,1153860676,1155443795,1141186582,1118704298,1175778416,1119098326,1089855049,1127734493,1094325510,1086144578,1114381926,1071517737,1063062279,1081504068,1158250327,1122950628,1076084905,1078658628,1029226513,1038476528,985844492,962695084,971625531,929608819,931661638,1017541018,877371942,895300817,862551192,873924034,875309731,865303015,878497076,848149127,832725846,845295745,806550212,793860739,771295359,787844487,855484062,776249691,737404169,732581802,714671452,699625957,677882309,656909983,643862857,648017460,639223047,625899906,631264092,605916123,611182452,657498246,587614387,590768653,609471752,568071878,569077208,557569172,567165179,536704937,561808216,605876837,539462757,546931419,519674902,513171310,533201948,503803885,492848642,491871481,505243484,504928845,483400798,486040166,472184927,481390757,475057626,469236767,464536134,449999088,456860443,465208713,434843478,441222143,424961301,454997998,437514332,425419095,424015149,429541108,412988076,432549084,400453602,408991315,418667149,405254181,398823597,389801531,391111180,384097218,383892859,380312385,376149844,374984393,363292727,369418075,381063907,364338698,384366464,358253420,372480937,456299815,343890173,348356934,341859607,341342184,343991490,332063150,333145080,331755667,327827370,325076056,322648585,327296241,302021384,314498593,322101148,305298018,304982197,302634439,302502997,301894294,297826939,295859181,283511667,302507843,310879993,286141016,286753609,273572235,278104074,282349562,274212844,264734869,263058782,264322464,261753764,260508492,254542570,244935119,252388861,252780489,239456771,247348334,236813086,238054125,256357283,240258363,234491232,241573483,243550753,271375151,229386554,232086704,227300348,223049590,228433741,219535377,227794675,218110433,217072107,239974315,218994802,209086523,213809237,212211133,211033068,222892969,206606189,196927695,205142958,215477392,205886242,200994605,201386681,191675693,223015949,196984188,189128791,190538234,191877329,189332555,179225897,179930411,184155507,187489251,184188011,175317109,171971927,171173767,174264808,185863678,176489923,170812672,161645050,166243313,163494949,167553390,213023353,174543569,33178565605],\"yaxis\":\"y\",\"type\":\"bar\"}],\"name\":\"2018\"},{\"data\":[{\"alignmentgroup\":\"True\",\"hovertemplate\":\"year=2019\\u003cbr\\u003erank=%{marker.color}\\u003cbr\\u003evalue=%{y}\\u003cextra\\u003e\\u003c\\u002fextra\\u003e\",\"ids\":[1,2,3,4,5,6,7,8,9,10,11,12,13,14,15,16,17,18,19,20,21,22,23,24,25,26,27,28,29,30,31,32,33,34,35,36,37,38,39,40,41,42,43,44,45,46,47,48,49,50,51,52,53,54,55,56,57,58,59,60,61,62,63,64,65,66,67,68,69,70,71,72,73,74,75,76,77,78,79,80,81,82,83,84,85,86,87,88,89,90,91,92,93,94,95,96,97,98,99,100,101,102,103,104,105,106,107,108,109,110,111,112,113,114,115,116,117,118,119,120,121,122,123,124,125,126,127,128,129,130,131,132,133,134,135,136,137,138,139,140,141,142,143,144,145,146,147,148,149,150,151,152,153,154,155,156,157,158,159,160,161,162,163,164,165,166,167,168,169,170,171,172,173,174,175,176,177,178,179,180,181,182,183,184,185,186,187,188,189,190,191,192,193,194,195,196,197,198,199,200,201,202,203,204,205,206,207,208,209,210,211,212,213,214,215,216,217,218,219,220,221,222,223,224,225,226,227,228,229,230,231,232,233,234,235,236,237,238,239,240,241,242,243,244,245,246,247,248,249,250,251,252,253,254,255,256,257,258,259,260,261,262,263,264,265,266,267,268,269,270,271,272,273,274,275,276,277,278,279,280,281,282,283,284,285,286,287,288,289,290,291,292,293,294,295,296,297,298,299,300,301,302,303,304,305,306,307,308,309,310,311,312,313,314,315,316,317,318,319,320,321,322,323,324,325,326,327,328,329,330,331,332,333,334,335,336,337,338,339,340,341,342,343,344,345,346,347,348,349,350,351,352,353,354,355,356,357,358,359,360,361,362,363,364,365,366,367,368,369,370,371,372,373,374,375,376,377,378,379,380,381,382,383,384,385,386,387,388,389,390,391,392,393,394,395,396,397,398,399,400],\"legendgroup\":\"\",\"marker\":{\"color\":[1,2,3,4,5,6,7,8,9,10,11,12,13,14,15,16,17,18,19,20,21,22,23,24,25,26,27,28,29,30,31,32,33,34,35,36,37,38,39,40,41,42,43,44,45,46,47,48,49,50,51,52,53,54,55,56,57,58,59,60,61,62,63,64,65,66,67,68,69,70,71,72,73,74,75,76,77,78,79,80,81,82,83,84,85,86,87,88,89,90,91,92,93,94,95,96,97,98,99,100,101,102,103,104,105,106,107,108,109,110,111,112,113,114,115,116,117,118,119,120,121,122,123,124,125,126,127,128,129,130,131,132,133,134,135,136,137,138,139,140,141,142,143,144,145,146,147,148,149,150,151,152,153,154,155,156,157,158,159,160,161,162,163,164,165,166,167,168,169,170,171,172,173,174,175,176,177,178,179,180,181,182,183,184,185,186,187,188,189,190,191,192,193,194,195,196,197,198,199,200,201,202,203,204,205,206,207,208,209,210,211,212,213,214,215,216,217,218,219,220,221,222,223,224,225,226,227,228,229,230,231,232,233,234,235,236,237,238,239,240,241,242,243,244,245,246,247,248,249,250,251,252,253,254,255,256,257,258,259,260,261,262,263,264,265,266,267,268,269,270,271,272,273,274,275,276,277,278,279,280,281,282,283,284,285,286,287,288,289,290,291,292,293,294,295,296,297,298,299,300,301,302,303,304,305,306,307,308,309,310,311,312,313,314,315,316,317,318,319,320,321,322,323,324,325,326,327,328,329,330,331,332,333,334,335,336,337,338,339,340,341,342,343,344,345,346,347,348,349,350,351,352,353,354,355,356,357,358,359,360,361,362,363,364,365,366,367,368,369,370,371,372,373,374,375,376,377,378,379,380,381,382,383,384,385,386,387,388,389,390,391,392,393,394,395,396,397,398,399,400],\"coloraxis\":\"coloraxis\",\"pattern\":{\"shape\":\"\"}},\"name\":\"\",\"offsetgroup\":\"\",\"orientation\":\"v\",\"showlegend\":false,\"textposition\":\"auto\",\"x\":[1,2,3,4,5,6,7,8,9,10,11,12,13,14,15,16,17,18,19,20,21,22,23,24,25,26,27,28,29,30,31,32,33,34,35,36,37,38,39,40,41,42,43,44,45,46,47,48,49,50,51,52,53,54,55,56,57,58,59,60,61,62,63,64,65,66,67,68,69,70,71,72,73,74,75,76,77,78,79,80,81,82,83,84,85,86,87,88,89,90,91,92,93,94,95,96,97,98,99,100,101,102,103,104,105,106,107,108,109,110,111,112,113,114,115,116,117,118,119,120,121,122,123,124,125,126,127,128,129,130,131,132,133,134,135,136,137,138,139,140,141,142,143,144,145,146,147,148,149,150,151,152,153,154,155,156,157,158,159,160,161,162,163,164,165,166,167,168,169,170,171,172,173,174,175,176,177,178,179,180,181,182,183,184,185,186,187,188,189,190,191,192,193,194,195,196,197,198,199,200,201,202,203,204,205,206,207,208,209,210,211,212,213,214,215,216,217,218,219,220,221,222,223,224,225,226,227,228,229,230,231,232,233,234,235,236,237,238,239,240,241,242,243,244,245,246,247,248,249,250,251,252,253,254,255,256,257,258,259,260,261,262,263,264,265,266,267,268,269,270,271,272,273,274,275,276,277,278,279,280,281,282,283,284,285,286,287,288,289,290,291,292,293,294,295,296,297,298,299,300,301,302,303,304,305,306,307,308,309,310,311,312,313,314,315,316,317,318,319,320,321,322,323,324,325,326,327,328,329,330,331,332,333,334,335,336,337,338,339,340,341,342,343,344,345,346,347,348,349,350,351,352,353,354,355,356,357,358,359,360,361,362,363,364,365,366,367,368,369,370,371,372,373,374,375,376,377,378,379,380,381,382,383,384,385,386,387,388,389,390,391,392,393,394,395,396,397,398,399,400],\"xaxis\":\"x\",\"y\":[30486508,62233101,89840645,120720579,147386562,173806153,182687199,207255799,231759206,240971095,254257038,269647577,303394993,305552990,315953174,351926312,362630418,369815315,393903079,402899485,417893260,439204922,448200806,460337309,478853128,490632480,506192287,520572729,530441752,548958932,597694672,665709237,669481752,668987367,681875335,705603434,764969463,743586582,763566981,805719671,813269472,818654818,859243265,857545747,875220378,921442797,914131412,958376414,994353948,980000643,989744678,1005776385,1027145930,1031428834,1122651191,1103721491,1113886563,1150993667,1157119295,1178897633,1398833645,1273082665,1409305347,2247164292,1627998423,1660317982,1791380343,1730961466,1649128665,1727063529,1777494725,1724070948,1909594575,1824258351,1868900439,1958491693,1913135815,1933509459,2002640917,2000645640,1996832990,1983516257,2060725363,2076276592,2159037081,2063129318,2062764230,2141233579,2131922749,2083896037,2349411634,2150064795,2139875856,2135881524,2265613864,2113461726,2110134430,2114547099,2106182541,2100192168,2140320833,2026590096,2086358318,1922226234,1997836127,2101911076,1941894454,1948545800,1979732216,1974952257,1878171479,1932449096,1933490007,1798424051,1807245923,1804075334,1734436616,1749986633,1705542359,1728352417,1886264233,1686039152,1676628326,1659449080,1666733027,1892634697,1900892380,1675176359,1588397748,1585476393,1571476796,1488405150,1512994839,1473196607,1510480089,1504271956,1406925813,1416289084,1429515775,1415835869,1437071533,1380956516,1367473397,1357302433,1377817922,1386053095,1363059022,1439192598,1350062473,1348216060,1579970201,1329925235,1334622073,1337014457,1319048950,1330302653,1383970278,1344183313,1354942985,1342892293,1404181470,1362347938,1363079911,1369049635,1397525658,1518831543,1439525500,1447609539,1519279006,1476525508,1477597295,1441226049,1375519541,1363078872,1358952978,1440553291,1341197101,1320636146,1358574595,1313521207,1436807954,1305269645,1250083466,1284263519,1204273510,1209266393,1200626533,1193951877,1168487549,1208232231,1229811364,1153548629,1184021598,1167956179,1124070254,1158023548,1130471702,1109071829,1156997958,1156881452,1203014030,1131133487,1109013095,1123994875,1109703431,1116627120,1084340427,1105401525,1040607704,1036336412,1107253749,1002006702,968232347,963557252,950591243,957640696,943337428,921278357,915567992,921082392,913243543,899402813,899015875,874791190,864523453,941168812,842011811,820685064,821437960,797462451,790344894,769861705,760325432,749467237,753163563,719283362,711202604,703167931,672072906,652650967,720730310,645143514,634611651,627052018,659988550,639517304,612506630,615429610,596657737,618953275,659037804,590653220,585633068,565653864,550687828,562574477,551472120,546563687,536012313,531768182,542387080,522003531,518065558,501335123,503385424,507661054,495738029,495178887,493673034,500348555,513689763,466593408,475995601,472547505,488157890,480640080,466287476,454766566,435292448,453450573,460253751,441766182,448433507,431434655,436603378,437816942,414497877,417735755,415146928,408084184,421562056,398419068,401592875,394406812,394916889,402291604,394470027,400124450,382615184,400284175,512475249,371382256,375768174,372697967,373203182,358583214,373373668,361118007,355022313,352898125,354075593,354366746,348936694,340142690,335452816,352498833,335682555,337183761,330217969,330426582,326261750,315068268,318880467,310483579,321002435,340680759,293128904,310927605,299131677,303664184,309646511,294765455,284421294,302680694,284394097,297120287,276528407,280520506,277978036,271199614,271633830,267866960,267628806,258440953,264988190,275145768,263824342,252142431,256770178,267253688,286875306,258494768,246181815,246742973,251121900,242659437,240205335,241242516,240840742,241011360,273933388,228462478,225109546,229731335,224746022,236759782,218357663,225132972,219847907,216524997,239109020,218501940,213812856,216476846,223129468,238252039,210683453,207998834,211659011,210696271,201361008,202728666,198062055,194123168,198633487,202302242,194407324,194449657,190677125,192100574,203041692,188545886,184003496,179434178,179649704,184691382,180483447,185080947,179961227,36594098911],\"yaxis\":\"y\",\"type\":\"bar\"}],\"name\":\"2019\"},{\"data\":[{\"alignmentgroup\":\"True\",\"hovertemplate\":\"year=2020\\u003cbr\\u003erank=%{marker.color}\\u003cbr\\u003evalue=%{y}\\u003cextra\\u003e\\u003c\\u002fextra\\u003e\",\"ids\":[1,2,3,4,5,6,7,8,9,10,11,12,13,14,15,16,17,18,19,20,21,22,23,24,25,26,27,28,29,30,31,32,33,34,35,36,37,38,39,40,41,42,43,44,45,46,47,48,49,50,51,52,53,54,55,56,57,58,59,60,61,62,63,64,65,66,67,68,69,70,71,72,73,74,75,76,77,78,79,80,81,82,83,84,85,86,87,88,89,90,91,92,93,94,95,96,97,98,99,100,101,102,103,104,105,106,107,108,109,110,111,112,113,114,115,116,117,118,119,120,121,122,123,124,125,126,127,128,129,130,131,132,133,134,135,136,137,138,139,140,141,142,143,144,145,146,147,148,149,150,151,152,153,154,155,156,157,158,159,160,161,162,163,164,165,166,167,168,169,170,171,172,173,174,175,176,177,178,179,180,181,182,183,184,185,186,187,188,189,190,191,192,193,194,195,196,197,198,199,200,201,202,203,204,205,206,207,208,209,210,211,212,213,214,215,216,217,218,219,220,221,222,223,224,225,226,227,228,229,230,231,232,233,234,235,236,237,238,239,240,241,242,243,244,245,246,247,248,249,250,251,252,253,254,255,256,257,258,259,260,261,262,263,264,265,266,267,268,269,270,271,272,273,274,275,276,277,278,279,280,281,282,283,284,285,286,287,288,289,290,291,292,293,294,295,296,297,298,299,300,301,302,303,304,305,306,307,308,309,310,311,312,313,314,315,316,317,318,319,320,321,322,323,324,325,326,327,328,329,330,331,332,333,334,335,336,337,338,339,340,341,342,343,344,345,346,347,348,349,350,351,352,353,354,355,356,357,358,359,360,361,362,363,364,365,366,367,368,369,370,371,372,373,374,375,376,377,378,379,380,381,382,383,384,385,386,387,388,389,390,391,392,393,394,395,396,397,398,399,400],\"legendgroup\":\"\",\"marker\":{\"color\":[1,2,3,4,5,6,7,8,9,10,11,12,13,14,15,16,17,18,19,20,21,22,23,24,25,26,27,28,29,30,31,32,33,34,35,36,37,38,39,40,41,42,43,44,45,46,47,48,49,50,51,52,53,54,55,56,57,58,59,60,61,62,63,64,65,66,67,68,69,70,71,72,73,74,75,76,77,78,79,80,81,82,83,84,85,86,87,88,89,90,91,92,93,94,95,96,97,98,99,100,101,102,103,104,105,106,107,108,109,110,111,112,113,114,115,116,117,118,119,120,121,122,123,124,125,126,127,128,129,130,131,132,133,134,135,136,137,138,139,140,141,142,143,144,145,146,147,148,149,150,151,152,153,154,155,156,157,158,159,160,161,162,163,164,165,166,167,168,169,170,171,172,173,174,175,176,177,178,179,180,181,182,183,184,185,186,187,188,189,190,191,192,193,194,195,196,197,198,199,200,201,202,203,204,205,206,207,208,209,210,211,212,213,214,215,216,217,218,219,220,221,222,223,224,225,226,227,228,229,230,231,232,233,234,235,236,237,238,239,240,241,242,243,244,245,246,247,248,249,250,251,252,253,254,255,256,257,258,259,260,261,262,263,264,265,266,267,268,269,270,271,272,273,274,275,276,277,278,279,280,281,282,283,284,285,286,287,288,289,290,291,292,293,294,295,296,297,298,299,300,301,302,303,304,305,306,307,308,309,310,311,312,313,314,315,316,317,318,319,320,321,322,323,324,325,326,327,328,329,330,331,332,333,334,335,336,337,338,339,340,341,342,343,344,345,346,347,348,349,350,351,352,353,354,355,356,357,358,359,360,361,362,363,364,365,366,367,368,369,370,371,372,373,374,375,376,377,378,379,380,381,382,383,384,385,386,387,388,389,390,391,392,393,394,395,396,397,398,399,400],\"coloraxis\":\"coloraxis\",\"pattern\":{\"shape\":\"\"}},\"name\":\"\",\"offsetgroup\":\"\",\"orientation\":\"v\",\"showlegend\":false,\"textposition\":\"auto\",\"x\":[1,2,3,4,5,6,7,8,9,10,11,12,13,14,15,16,17,18,19,20,21,22,23,24,25,26,27,28,29,30,31,32,33,34,35,36,37,38,39,40,41,42,43,44,45,46,47,48,49,50,51,52,53,54,55,56,57,58,59,60,61,62,63,64,65,66,67,68,69,70,71,72,73,74,75,76,77,78,79,80,81,82,83,84,85,86,87,88,89,90,91,92,93,94,95,96,97,98,99,100,101,102,103,104,105,106,107,108,109,110,111,112,113,114,115,116,117,118,119,120,121,122,123,124,125,126,127,128,129,130,131,132,133,134,135,136,137,138,139,140,141,142,143,144,145,146,147,148,149,150,151,152,153,154,155,156,157,158,159,160,161,162,163,164,165,166,167,168,169,170,171,172,173,174,175,176,177,178,179,180,181,182,183,184,185,186,187,188,189,190,191,192,193,194,195,196,197,198,199,200,201,202,203,204,205,206,207,208,209,210,211,212,213,214,215,216,217,218,219,220,221,222,223,224,225,226,227,228,229,230,231,232,233,234,235,236,237,238,239,240,241,242,243,244,245,246,247,248,249,250,251,252,253,254,255,256,257,258,259,260,261,262,263,264,265,266,267,268,269,270,271,272,273,274,275,276,277,278,279,280,281,282,283,284,285,286,287,288,289,290,291,292,293,294,295,296,297,298,299,300,301,302,303,304,305,306,307,308,309,310,311,312,313,314,315,316,317,318,319,320,321,322,323,324,325,326,327,328,329,330,331,332,333,334,335,336,337,338,339,340,341,342,343,344,345,346,347,348,349,350,351,352,353,354,355,356,357,358,359,360,361,362,363,364,365,366,367,368,369,370,371,372,373,374,375,376,377,378,379,380,381,382,383,384,385,386,387,388,389,390,391,392,393,394,395,396,397,398,399,400],\"xaxis\":\"x\",\"y\":[27175838,57450589,85005071,114760617,147990418,171458608,189529217,224062355,252210699,262507781,279150079,294244388,319555575,348228673,369741704,398470160,422339630,436116113,452977365,471201079,482249729,501796202,525068781,526496867,552874586,559765206,574087730,594399687,612135357,627423265,667744646,663175242,682359347,747382933,731731409,742092119,783078406,765964192,788149448,809916034,827817911,846513525,872396241,862604385,884312013,943280807,932931560,943364823,988989393,1005489586,1012609543,1034885812,1072155874,1073421211,1139452894,1146147847,1174619421,1204922038,1215555525,1232746916,1388625882,1260242676,1254153938,1317251249,1327308574,1387217178,2055524693,1545149567,1523929893,1555517177,1608211058,1589112631,1684942606,1640628330,1624257534,1675245698,1632021384,1655423031,1695758345,1653934318,1685291575,1685585119,1749829030,1660870954,1715943882,1791909625,1734507409,1711331838,1731851533,1760916916,1964492070,1801030158,1786030927,1803678381,1843273650,1796147248,1828104372,1762832259,1742500864,1764239374,1827769348,1760269285,1818564456,1742376314,1737371077,1793853925,1663223096,1699278578,1732513157,1717195869,1686765763,1696399288,1715754009,1613410899,1619389664,1619806043,1557420022,1562298410,1549282054,1564811218,1710056253,1523854963,1535677121,1502685852,1525801325,1513513572,1502882383,1523174065,1731508006,1770997474,1574108729,1420174553,1427387287,1395759529,1374255304,1389578413,1362031744,1363715154,1355285227,1320896290,1339908838,1281179801,1276423205,1269879556,1308766039,1294056860,1297657267,1258278929,1318838265,1257312167,1522734671,1280006188,1247326803,1285483352,1259213348,1277797599,1249738086,1240663090,1194295322,1267981832,1286988523,1245041323,1262944093,1226738886,1218170560,1269203492,1225992773,1249362149,1392780266,1308629575,1297632618,1343819371,1382099732,1366796865,1423858001,1423026458,1350399954,1334496097,1336365671,1321999037,1465357836,1330006503,1316892743,1307681136,1344529646,1293956310,1234670161,1326538599,1218161319,1219969361,1246103475,1156478162,1186299096,1139321818,1131090034,1189693874,1100321671,1100859458,1109235029,1182117410,1155302014,1100681078,1158469091,1107322503,1125009519,1113429592,1083793181,1100371437,1073033426,1095256240,1144010607,1051199938,1069801127,986551917,981138607,998232285,962168314,955166306,943258731,910842985,922436184,893786782,911516934,906037674,881079469,964990279,853289247,874107250,843470518,821854779,837772725,827337629,811977183,804012508,788175395,767544171,768997420,747151509,715405291,727049564,760433022,694592450,681916838,672985042,694087336,657758267,645186779,627278055,603554428,630208743,655580263,596297607,617912468,575393474,569209305,572392765,559214940,566756458,544132802,550874639,550928192,523568688,527464835,520675597,517882315,518074818,503149382,487643287,498863403,488918421,509727238,476748135,481997703,480596330,486880904,482413539,467397958,472142781,452624580,447921836,476646771,453488808,435152019,438521552,456287863,446727035,415069481,427747387,416463607,416135107,417607090,411883071,418157499,399523474,416117505,397078698,402234245,406927487,405297698,420589254,505769003,385618091,396456275,377132989,380985417,374483217,374657691,380622653,370565772,368619738,369294340,351052925,361055490,351181082,349663967,363046799,348212049,335344208,333851481,340529155,334729953,328956324,325594552,319925786,325606986,335549065,305016107,309618024,304587779,303989651,313223870,300068353,306362971,292748121,295711279,308587760,299011004,279181309,291858513,291692539,287915121,294172900,277154985,270543901,271879581,283915145,265629050,270495492,263534257,274236387,296690958,256309356,259440018,258330891,255457540,254750904,246771236,250323589,252024005,247412114,269466209,240759282,244387814,231768142,233492651,231649586,228471447,230348798,230607571,223995378,231702158,223421822,227138205,218119918,232273110,238634205,213698539,215928585,220660268,224359773,220146705,209751792,211906273,202640910,205015689,212322132,209016315,204837518,198209241,194522148,216478493,190428292,196171965,195097801,198512729,192528286,192059117,190162696,185942898,37827740391],\"yaxis\":\"y\",\"type\":\"bar\"}],\"name\":\"2020\"},{\"data\":[{\"alignmentgroup\":\"True\",\"hovertemplate\":\"year=2021\\u003cbr\\u003erank=%{marker.color}\\u003cbr\\u003evalue=%{y}\\u003cextra\\u003e\\u003c\\u002fextra\\u003e\",\"ids\":[1,2,3,4,5,6,7,8,9,10,11,12,13,14,15,16,17,18,19,20,21,22,23,24,25,26,27,28,29,30,31,32,33,34,35,36,37,38,39,40,41,42,43,44,45,46,47,48,49,50,51,52,53,54,55,56,57,58,59,60,61,62,63,64,65,66,67,68,69,70,71,72,73,74,75,76,77,78,79,80,81,82,83,84,85,86,87,88,89,90,91,92,93,94,95,96,97,98,99,100,101,102,103,104,105,106,107,108,109,110,111,112,113,114,115,116,117,118,119,120,121,122,123,124,125,126,127,128,129,130,131,132,133,134,135,136,137,138,139,140,141,142,143,144,145,146,147,148,149,150,151,152,153,154,155,156,157,158,159,160,161,162,163,164,165,166,167,168,169,170,171,172,173,174,175,176,177,178,179,180,181,182,183,184,185,186,187,188,189,190,191,192,193,194,195,196,197,198,199,200,201,202,203,204,205,206,207,208,209,210,211,212,213,214,215,216,217,218,219,220,221,222,223,224,225,226,227,228,229,230,231,232,233,234,235,236,237,238,239,240,241,242,243,244,245,246,247,248,249,250,251,252,253,254,255,256,257,258,259,260,261,262,263,264,265,266,267,268,269,270,271,272,273,274,275,276,277,278,279,280,281,282,283,284,285,286,287,288,289,290,291,292,293,294,295,296,297,298,299,300,301,302,303,304,305,306,307,308,309,310,311,312,313,314,315,316,317,318,319,320,321,322,323,324,325,326,327,328,329,330,331,332,333,334,335,336,337,338,339,340,341,342,343,344,345,346,347,348,349,350,351,352,353,354,355,356,357,358,359,360,361,362,363,364,365,366,367,368,369,370,371,372,373,374,375,376,377,378,379,380,381,382,383,384,385,386,387,388,389,390,391,392,393,394,395,396,397,398,399,400],\"legendgroup\":\"\",\"marker\":{\"color\":[1,2,3,4,5,6,7,8,9,10,11,12,13,14,15,16,17,18,19,20,21,22,23,24,25,26,27,28,29,30,31,32,33,34,35,36,37,38,39,40,41,42,43,44,45,46,47,48,49,50,51,52,53,54,55,56,57,58,59,60,61,62,63,64,65,66,67,68,69,70,71,72,73,74,75,76,77,78,79,80,81,82,83,84,85,86,87,88,89,90,91,92,93,94,95,96,97,98,99,100,101,102,103,104,105,106,107,108,109,110,111,112,113,114,115,116,117,118,119,120,121,122,123,124,125,126,127,128,129,130,131,132,133,134,135,136,137,138,139,140,141,142,143,144,145,146,147,148,149,150,151,152,153,154,155,156,157,158,159,160,161,162,163,164,165,166,167,168,169,170,171,172,173,174,175,176,177,178,179,180,181,182,183,184,185,186,187,188,189,190,191,192,193,194,195,196,197,198,199,200,201,202,203,204,205,206,207,208,209,210,211,212,213,214,215,216,217,218,219,220,221,222,223,224,225,226,227,228,229,230,231,232,233,234,235,236,237,238,239,240,241,242,243,244,245,246,247,248,249,250,251,252,253,254,255,256,257,258,259,260,261,262,263,264,265,266,267,268,269,270,271,272,273,274,275,276,277,278,279,280,281,282,283,284,285,286,287,288,289,290,291,292,293,294,295,296,297,298,299,300,301,302,303,304,305,306,307,308,309,310,311,312,313,314,315,316,317,318,319,320,321,322,323,324,325,326,327,328,329,330,331,332,333,334,335,336,337,338,339,340,341,342,343,344,345,346,347,348,349,350,351,352,353,354,355,356,357,358,359,360,361,362,363,364,365,366,367,368,369,370,371,372,373,374,375,376,377,378,379,380,381,382,383,384,385,386,387,388,389,390,391,392,393,394,395,396,397,398,399,400],\"coloraxis\":\"coloraxis\",\"pattern\":{\"shape\":\"\"}},\"name\":\"\",\"offsetgroup\":\"\",\"orientation\":\"v\",\"showlegend\":false,\"textposition\":\"auto\",\"x\":[1,2,3,4,5,6,7,8,9,10,11,12,13,14,15,16,17,18,19,20,21,22,23,24,25,26,27,28,29,30,31,32,33,34,35,36,37,38,39,40,41,42,43,44,45,46,47,48,49,50,51,52,53,54,55,56,57,58,59,60,61,62,63,64,65,66,67,68,69,70,71,72,73,74,75,76,77,78,79,80,81,82,83,84,85,86,87,88,89,90,91,92,93,94,95,96,97,98,99,100,101,102,103,104,105,106,107,108,109,110,111,112,113,114,115,116,117,118,119,120,121,122,123,124,125,126,127,128,129,130,131,132,133,134,135,136,137,138,139,140,141,142,143,144,145,146,147,148,149,150,151,152,153,154,155,156,157,158,159,160,161,162,163,164,165,166,167,168,169,170,171,172,173,174,175,176,177,178,179,180,181,182,183,184,185,186,187,188,189,190,191,192,193,194,195,196,197,198,199,200,201,202,203,204,205,206,207,208,209,210,211,212,213,214,215,216,217,218,219,220,221,222,223,224,225,226,227,228,229,230,231,232,233,234,235,236,237,238,239,240,241,242,243,244,245,246,247,248,249,250,251,252,253,254,255,256,257,258,259,260,261,262,263,264,265,266,267,268,269,270,271,272,273,274,275,276,277,278,279,280,281,282,283,284,285,286,287,288,289,290,291,292,293,294,295,296,297,298,299,300,301,302,303,304,305,306,307,308,309,310,311,312,313,314,315,316,317,318,319,320,321,322,323,324,325,326,327,328,329,330,331,332,333,334,335,336,337,338,339,340,341,342,343,344,345,346,347,348,349,350,351,352,353,354,355,356,357,358,359,360,361,362,363,364,365,366,367,368,369,370,371,372,373,374,375,376,377,378,379,380,381,382,383,384,385,386,387,388,389,390,391,392,393,394,395,396,397,398,399,400],\"xaxis\":\"x\",\"y\":[27455306,59541442,81857050,109915158,131776555,156039724,171312587,194087167,228627888,237062190,260922635,275992429,301218080,326493199,323599121,335271836,362322696,377573016,386851525,397666128,415961472,433047970,451947486,456992879,475474558,488590861,500468311,519316854,527492914,540662387,581683209,581285240,598885000,691070705,681282538,694939363,732600237,743139445,746361087,783163469,796830311,818661216,848839029,842116583,859338467,900690551,907023435,914540511,955777361,952652214,990087965,996694541,1016296248,1018293708,1068097146,1085578109,1085852159,1125573109,1142801776,1136821883,1298390018,1191185973,1192791495,1255260045,1282602458,1334767335,2141380992,1685206417,1610983783,1696548172,1811510643,1716907234,1809936182,1760415686,1734039640,1816094277,1799996642,1802618520,1857224428,1801180847,1827278934,1821902958,1949168733,1849334762,1927288176,1882724107,1866553023,1886811411,1899891346,1870810428,2119307986,1963370583,2042461997,2020420375,2094428166,2055929113,2086224665,2010192637,2014320550,2012310884,2058741567,2007402289,2126324671,1995022256,1986451702,2096666621,1992168335,1973641866,1947508851,1963239462,1946854192,1986668767,1928178088,1816750454,1866906203,1875704610,1781155226,1793146728,1771016006,1760599943,1905683038,1714551406,1699449707,1663826306,1693243788,1694489821,1789029183,1909099993,1844261540,1725706264,1654366148,1585220280,1568220819,1549871309,1534617750,1569074184,1488314373,1497278769,1527957961,1472804858,1490328730,1427073555,1434387730,1389647122,1415841994,1418345866,1410391117,1404821949,1365020817,1393609709,1644171061,1377961758,1423027171,1368709349,1447094442,1380122510,1402762340,1357051394,1336239372,1327992311,1400576765,1375421417,1354244310,1348969934,1384285499,1357899553,1319523129,1320388843,1368134065,1331257259,1448211053,1362050330,1395618703,1522716512,1422540449,1510265790,1543179133,1398803126,1435162396,1450409997,1527793813,1443049832,1396885880,1411048791,1444829248,1417694888,1490808633,1364218547,1314900793,1363323106,1297043814,1249747492,1318832418,1251237536,1217112992,1254766109,1222886191,1190403514,1168428712,1255148516,1205914320,1161646475,1194246480,1162802367,1160750899,1124967973,1142246992,1126784290,1129522154,1128961515,1253998502,1139493644,1089136939,1101457742,1084554411,1071321351,1068093666,1025732506,1005358164,995673982,1006380098,966719448,1002648585,945226608,962801778,1053684607,921694642,939150455,910918504,904339466,918139541,868846047,860462521,881847683,849109922,866879652,841519996,858138341,798596884,803953923,854406118,765864737,749029027,741633490,751343650,750826734,711003276,720201073,710471189,718001737,761164435,675885839,680522450,648954628,665311212,630336853,626407107,617640273,602766999,597074319,595566220,572980586,586698607,568043168,569310599,577389956,550158648,545853423,533083745,536565648,560205428,512923532,519917201,517945824,536139311,531713077,509105658,500821440,491876862,484153104,508660857,489408854,479445275,485741641,480765899,475561978,461200990,465869816,457957578,450978572,444385062,451007668,461935430,444594417,436441350,437747877,434077081,423871578,424292188,450903655,563492931,421308424,429911510,425746021,421240183,417066574,423135778,409277085,398207550,400069140,397862572,397969689,401301839,386038780,384689599,397002700,375235682,376298689,359771222,369021371,357087828,348050916,357773917,345491324,352481889,375963966,341975690,330247910,338548280,323105059,345467195,323066074,321396392,329292721,323536020,327050827,318730675,315354905,308506838,307924512,306153516,300653740,298791168,298910342,284769968,294008882,299172083,286891885,290090148,301080063,326745516,298072232,278753244,283640890,272049905,274156649,274433400,268411932,285370675,264375590,301259213,262735075,265419800,254302491,270026779,259060598,254201020,250040996,246673867,247049085,247706707,240357869,245397204,244648330,250095119,273097365,237198863,234200863,229587006,224206889,231645059,234167034,226210650,219352334,226396040,236301103,221231663,215446567,212817885,218044734,238651412,212193444,213046649,209734922,203089926,213091075,210381405,207496292,205781252,41727390030],\"yaxis\":\"y\",\"type\":\"bar\"}],\"name\":\"2021\"},{\"data\":[{\"alignmentgroup\":\"True\",\"hovertemplate\":\"year=2022\\u003cbr\\u003erank=%{marker.color}\\u003cbr\\u003evalue=%{y}\\u003cextra\\u003e\\u003c\\u002fextra\\u003e\",\"ids\":[1,2,3,4,5,6,7,8,9,10,11,12,13,14,15,16,17,18,19,20,21,22,23,24,25,26,27,28,29,30,31,32,33,34,35,36,37,38,39,40,41,42,43,44,45,46,47,48,49,50,51,52,53,54,55,56,57,58,59,60,61,62,63,64,65,66,67,68,69,70,71,72,73,74,75,76,77,78,79,80,81,82,83,84,85,86,87,88,89,90,91,92,93,94,95,96,97,98,99,100,101,102,103,104,105,106,107,108,109,110,111,112,113,114,115,116,117,118,119,120,121,122,123,124,125,126,127,128,129,130,131,132,133,134,135,136,137,138,139,140,141,142,143,144,145,146,147,148,149,150,151,152,153,154,155,156,157,158,159,160,161,162,163,164,165,166,167,168,169,170,171,172,173,174,175,176,177,178,179,180,181,182,183,184,185,186,187,188,189,190,191,192,193,194,195,196,197,198,199,200,201,202,203,204,205,206,207,208,209,210,211,212,213,214,215,216,217,218,219,220,221,222,223,224,225,226,227,228,229,230,231,232,233,234,235,236,237,238,239,240,241,242,243,244,245,246,247,248,249,250,251,252,253,254,255,256,257,258,259,260,261,262,263,264,265,266,267,268,269,270,271,272,273,274,275,276,277,278,279,280,281,282,283,284,285,286,287,288,289,290,291,292,293,294,295,296,297,298,299,300,301,302,303,304,305,306,307,308,309,310,311,312,313,314,315,316,317,318,319,320,321,322,323,324,325,326,327,328,329,330,331,332,333,334,335,336,337,338,339,340,341,342,343,344,345,346,347,348,349,350,351,352,353,354,355,356,357,358,359,360,361,362,363,364,365,366,367,368,369,370,371,372,373,374,375,376,377,378,379,380,381,382,383,384,385,386,387,388,389,390,391,392,393,394,395,396,397,398,399,400],\"legendgroup\":\"\",\"marker\":{\"color\":[1,2,3,4,5,6,7,8,9,10,11,12,13,14,15,16,17,18,19,20,21,22,23,24,25,26,27,28,29,30,31,32,33,34,35,36,37,38,39,40,41,42,43,44,45,46,47,48,49,50,51,52,53,54,55,56,57,58,59,60,61,62,63,64,65,66,67,68,69,70,71,72,73,74,75,76,77,78,79,80,81,82,83,84,85,86,87,88,89,90,91,92,93,94,95,96,97,98,99,100,101,102,103,104,105,106,107,108,109,110,111,112,113,114,115,116,117,118,119,120,121,122,123,124,125,126,127,128,129,130,131,132,133,134,135,136,137,138,139,140,141,142,143,144,145,146,147,148,149,150,151,152,153,154,155,156,157,158,159,160,161,162,163,164,165,166,167,168,169,170,171,172,173,174,175,176,177,178,179,180,181,182,183,184,185,186,187,188,189,190,191,192,193,194,195,196,197,198,199,200,201,202,203,204,205,206,207,208,209,210,211,212,213,214,215,216,217,218,219,220,221,222,223,224,225,226,227,228,229,230,231,232,233,234,235,236,237,238,239,240,241,242,243,244,245,246,247,248,249,250,251,252,253,254,255,256,257,258,259,260,261,262,263,264,265,266,267,268,269,270,271,272,273,274,275,276,277,278,279,280,281,282,283,284,285,286,287,288,289,290,291,292,293,294,295,296,297,298,299,300,301,302,303,304,305,306,307,308,309,310,311,312,313,314,315,316,317,318,319,320,321,322,323,324,325,326,327,328,329,330,331,332,333,334,335,336,337,338,339,340,341,342,343,344,345,346,347,348,349,350,351,352,353,354,355,356,357,358,359,360,361,362,363,364,365,366,367,368,369,370,371,372,373,374,375,376,377,378,379,380,381,382,383,384,385,386,387,388,389,390,391,392,393,394,395,396,397,398,399,400],\"coloraxis\":\"coloraxis\",\"pattern\":{\"shape\":\"\"}},\"name\":\"\",\"offsetgroup\":\"\",\"orientation\":\"v\",\"showlegend\":false,\"textposition\":\"auto\",\"x\":[1,2,3,4,5,6,7,8,9,10,11,12,13,14,15,16,17,18,19,20,21,22,23,24,25,26,27,28,29,30,31,32,33,34,35,36,37,38,39,40,41,42,43,44,45,46,47,48,49,50,51,52,53,54,55,56,57,58,59,60,61,62,63,64,65,66,67,68,69,70,71,72,73,74,75,76,77,78,79,80,81,82,83,84,85,86,87,88,89,90,91,92,93,94,95,96,97,98,99,100,101,102,103,104,105,106,107,108,109,110,111,112,113,114,115,116,117,118,119,120,121,122,123,124,125,126,127,128,129,130,131,132,133,134,135,136,137,138,139,140,141,142,143,144,145,146,147,148,149,150,151,152,153,154,155,156,157,158,159,160,161,162,163,164,165,166,167,168,169,170,171,172,173,174,175,176,177,178,179,180,181,182,183,184,185,186,187,188,189,190,191,192,193,194,195,196,197,198,199,200,201,202,203,204,205,206,207,208,209,210,211,212,213,214,215,216,217,218,219,220,221,222,223,224,225,226,227,228,229,230,231,232,233,234,235,236,237,238,239,240,241,242,243,244,245,246,247,248,249,250,251,252,253,254,255,256,257,258,259,260,261,262,263,264,265,266,267,268,269,270,271,272,273,274,275,276,277,278,279,280,281,282,283,284,285,286,287,288,289,290,291,292,293,294,295,296,297,298,299,300,301,302,303,304,305,306,307,308,309,310,311,312,313,314,315,316,317,318,319,320,321,322,323,324,325,326,327,328,329,330,331,332,333,334,335,336,337,338,339,340,341,342,343,344,345,346,347,348,349,350,351,352,353,354,355,356,357,358,359,360,361,362,363,364,365,366,367,368,369,370,371,372,373,374,375,376,377,378,379,380,381,382,383,384,385,386,387,388,389,390,391,392,393,394,395,396,397,398,399,400],\"xaxis\":\"x\",\"y\":[23901072,54526146,77292104,104446922,125482340,147176519,169294566,182935919,200693516,220468522,232519060,248292341,267028714,281604397,289275222,306839214,315118317,343524392,359865890,362433561,375682553,390297826,406359161,416000606,433020598,441151668,454917786,468935861,478386292,487745008,522114939,517535930,533800629,560549014,622132157,663869069,686157303,675436444,696253808,720553952,730124424,756543311,781680750,788516902,796676593,848157448,843768795,861359043,900090641,889260756,908003701,928157958,1001996001,970561223,1027005520,1029562871,1048789674,1082644532,1102731410,1123310142,1273378539,1184857289,1190364422,1236672770,1247548837,1275452693,1348022736,1372423202,1426252049,2155955118,2176433060,1898751579,2016960039,1974952378,1975103719,2020750326,1983724928,2014226931,2069162239,2064424374,2082350221,2057840901,2233861243,2096952304,2186582926,2079465527,2080210948,2114113328,2138330088,2162407778,2350137591,2160546768,2217322268,2158780717,2339565006,2248058551,2252719374,2241627494,2254921096,2227829742,2288155000,2256011658,2360221292,2235369439,2238040114,2302267312,2206968741,2220478205,2208295924,2231506718,2164123992,2228119382,2209963783,2070097664,2117235389,2126580967,2054706626,2033927285,1975534295,2061050508,2134930317,1886324517,1887217428,1859212320,1911464307,1895012872,1861065515,1834379861,1801019001,1810701994,1779909868,1755086902,1731789553,1878840595,1979817277,1964344036,1789806198,1711089419,1696995466,1672610893,1691228916,1630543455,1599491236,1539831164,1554318727,1530288252,1509351009,1496380814,1473579582,1464312377,1717368715,1464345042,1449248096,1434426819,1458672327,1439911686,1465321941,1454719081,1421116188,1452560407,1526151228,1437523152,1431749119,1386917427,1415487002,1441632189,1414061748,1400405123,1394339919,1459854265,1398377194,1382819492,1389958562,1353298123,1391901474,1505845968,1547776416,1459917171,1494956718,1559167420,1727398371,1505144886,1548769882,1506091302,1459157544,1537449033,1468773169,1475207230,1434384482,1523116264,1518509746,1458234454,1471243966,1471606505,1459085309,1399810670,1384832925,1325212100,1343186988,1372101903,1360668501,1313283631,1328480886,1308229992,1290315907,1258562004,1225325585,1204204737,1179574870,1194270919,1313788242,1177043811,1202881213,1167833683,1184118056,1177669044,1188764677,1156456157,1179023858,1187830550,1149667266,1186166855,1109264695,1046811539,1110474660,1157892981,1067587174,1041745026,1058961046,1015669840,1044141535,980235989,969709981,989475838,980945043,958163455,933692513,938762182,902374496,899043948,952959423,898261250,875117012,872119099,886089006,878086132,838743439,844600641,821032288,844591358,873166910,776209066,790809085,756328106,750204239,747052970,721995665,729373151,718958778,710145637,699087255,663684048,676246531,641566649,631269287,649699588,628193008,624606321,604821759,600175316,639828621,588508171,588265152,576313303,596492039,600433549,567977756,554939875,556604858,551281973,554778886,537478770,542391994,539765423,538638158,519928426,518499001,517967995,501803818,499574239,511198339,495378414,501644101,488264454,484734049,481580505,474697940,492773447,471280790,497131663,615526724,473872011,457741340,460764673,456449949,454214872,449502073,455102792,451458082,446417557,444249156,433355080,444118130,444728945,440290257,435163920,424170338,429959964,416146226,417772751,407146717,421098246,418608227,397569181,412837770,434947880,396168853,390377740,388158136,385460956,400067790,377636518,379773885,372654322,367614317,370862145,353452764,361863462,339378610,354237227,353216128,345319987,342090440,333126492,330787535,346588260,332294182,338946277,325920496,341566816,372592659,327320822,323098431,323312695,315865199,314324862,318986792,323956457,305657256,308526659,346597728,305106697,289136703,296100545,285485670,290926460,283308723,281653570,286989312,295078777,290912134,277956412,278178226,279899145,278414418,310641214,276803506,275422971,269483398,256696725,267633109,268646286,262552122,252576027,264077157,257042461,254313704,244275495,251589797,246318031,265676766,241555202,238564418,240592064,238121599,234048013,249871032,245655961,235195060,240745178],\"yaxis\":\"y\",\"type\":\"bar\"}],\"name\":\"2022\"}]);\n",
              "                        }).then(function(){\n",
              "                            \n",
              "var gd = document.getElementById('2bb2e40d-5717-4930-bc5f-222a27937f66');\n",
              "var x = new MutationObserver(function (mutations, observer) {{\n",
              "        var display = window.getComputedStyle(gd).display;\n",
              "        if (!display || display === 'none') {{\n",
              "            console.log([gd, 'removed!']);\n",
              "            Plotly.purge(gd);\n",
              "            observer.disconnect();\n",
              "        }}\n",
              "}});\n",
              "\n",
              "// Listen for the removal of the full notebook cells\n",
              "var notebookContainer = gd.closest('#notebook-container');\n",
              "if (notebookContainer) {{\n",
              "    x.observe(notebookContainer, {childList: true});\n",
              "}}\n",
              "\n",
              "// Listen for the clearing of the current output cell\n",
              "var outputEl = gd.closest('.output');\n",
              "if (outputEl) {{\n",
              "    x.observe(outputEl, {childList: true});\n",
              "}}\n",
              "\n",
              "                        })                };                            </script>        </div>\n",
              "</body>\n",
              "</html>"
            ]
          },
          "metadata": {}
        }
      ]
    },
    {
      "cell_type": "code",
      "source": [
        "fig = px.bar(data2[data2['category']=='employees'], x=\"rank\", y=\"value\", color=\"rank\",\n",
        "  animation_frame=\"year\", animation_group=\"rank\", range_y=[0,300000])\n",
        "fig.show()"
      ],
      "metadata": {
        "colab": {
          "base_uri": "https://localhost:8080/",
          "height": 542
        },
        "id": "fLwycoti9ung",
        "outputId": "5733b043-5c21-4806-dd6a-52c2df14878f"
      },
      "execution_count": 60,
      "outputs": [
        {
          "output_type": "display_data",
          "data": {
            "text/html": [
              "<html>\n",
              "<head><meta charset=\"utf-8\" /></head>\n",
              "<body>\n",
              "    <div>            <script src=\"https://cdnjs.cloudflare.com/ajax/libs/mathjax/2.7.5/MathJax.js?config=TeX-AMS-MML_SVG\"></script><script type=\"text/javascript\">if (window.MathJax && window.MathJax.Hub && window.MathJax.Hub.Config) {window.MathJax.Hub.Config({SVG: {font: \"STIX-Web\"}});}</script>                <script type=\"text/javascript\">window.PlotlyConfig = {MathJaxConfig: 'local'};</script>\n",
              "        <script charset=\"utf-8\" src=\"https://cdn.plot.ly/plotly-2.24.1.min.js\"></script>                <div id=\"9784c215-b3a6-4ff8-814c-37db8090ef02\" class=\"plotly-graph-div\" style=\"height:525px; width:100%;\"></div>            <script type=\"text/javascript\">                                    window.PLOTLYENV=window.PLOTLYENV || {};                                    if (document.getElementById(\"9784c215-b3a6-4ff8-814c-37db8090ef02\")) {                    Plotly.newPlot(                        \"9784c215-b3a6-4ff8-814c-37db8090ef02\",                        [{\"alignmentgroup\":\"True\",\"hovertemplate\":\"year=2001\\u003cbr\\u003erank=%{marker.color}\\u003cbr\\u003evalue=%{y}\\u003cextra\\u003e\\u003c\\u002fextra\\u003e\",\"ids\":[1,2,3,4,5,6,7,8,9,10,11,12,13,14,15,16,17,18,19,20,21,22,23,24,25,26,27,28,29,30,31,32,33,34,35,36,37,38,39,40,41,42,43,44,45,46,47,48,49,50,51,52,53,54,55,56,57,58,59,60,61,62,63,64,65,66,67,68,69,70,71,72,73,74,75,76,77,78,79,80,81,82,83,84,85,86,87,88,89,90,91,92,93,94,95,96,97,98,99,100,101,102,103,104,105,106,107,108,109,110,111,112,113,114,115,116,117,118,119,120,121,122,123,124,125,126,127,128,129,130,131,132,133,134,135,136,137,138,139,140,141,142,143,144,145,146,147,148,149,150,151,152,153,154,155,156,157,158,159,160,161,162,163,164,165,166,167,168,169,170,171,172,173,174,175,176,177,178,179,180,181,182,183,184,185,186,187,188,189,190,191,192,193,194,195,196,197,198,199,200,201,202,203,204,205,206,207,208,209,210,211,212,213,214,215,216,217,218,219,220,221,222,223,224,225,226,227,228,229,230,231,232,233,234,235,236,237,238,239,240,241,242,243,244,245,246,247,248,249,250,251,252,253,254,255,256,257,258,259,260,261,262,263,264,265,266,267,268,269,270,271,272,273,274,275,276,277,278,279,280,281,282,283,284,285,286,287,288,289,290,291,292,293,294,295,296,297,298,299,300,301,302,303,304,305,306,307,308,309,310,311,312,313,314,315,316,317,318,319,320,321,322,323,324,325,326,327,328,329,330,331,332,333,334,335,336,337,338,339,340,341,342,343,344,345,346,347,348,349,350,351,352,353,354,355,356,357,358,359,360,361,362,363,364,365,366,367,368,369,370,371,372,373,374,375,376,377,378,379,380,381,382,383,384,385,386,387,388,389,390,391,392,393,394,395,396,397,398,399,400],\"legendgroup\":\"\",\"marker\":{\"color\":[1,2,3,4,5,6,7,8,9,10,11,12,13,14,15,16,17,18,19,20,21,22,23,24,25,26,27,28,29,30,31,32,33,34,35,36,37,38,39,40,41,42,43,44,45,46,47,48,49,50,51,52,53,54,55,56,57,58,59,60,61,62,63,64,65,66,67,68,69,70,71,72,73,74,75,76,77,78,79,80,81,82,83,84,85,86,87,88,89,90,91,92,93,94,95,96,97,98,99,100,101,102,103,104,105,106,107,108,109,110,111,112,113,114,115,116,117,118,119,120,121,122,123,124,125,126,127,128,129,130,131,132,133,134,135,136,137,138,139,140,141,142,143,144,145,146,147,148,149,150,151,152,153,154,155,156,157,158,159,160,161,162,163,164,165,166,167,168,169,170,171,172,173,174,175,176,177,178,179,180,181,182,183,184,185,186,187,188,189,190,191,192,193,194,195,196,197,198,199,200,201,202,203,204,205,206,207,208,209,210,211,212,213,214,215,216,217,218,219,220,221,222,223,224,225,226,227,228,229,230,231,232,233,234,235,236,237,238,239,240,241,242,243,244,245,246,247,248,249,250,251,252,253,254,255,256,257,258,259,260,261,262,263,264,265,266,267,268,269,270,271,272,273,274,275,276,277,278,279,280,281,282,283,284,285,286,287,288,289,290,291,292,293,294,295,296,297,298,299,300,301,302,303,304,305,306,307,308,309,310,311,312,313,314,315,316,317,318,319,320,321,322,323,324,325,326,327,328,329,330,331,332,333,334,335,336,337,338,339,340,341,342,343,344,345,346,347,348,349,350,351,352,353,354,355,356,357,358,359,360,361,362,363,364,365,366,367,368,369,370,371,372,373,374,375,376,377,378,379,380,381,382,383,384,385,386,387,388,389,390,391,392,393,394,395,396,397,398,399,400],\"coloraxis\":\"coloraxis\",\"pattern\":{\"shape\":\"\"}},\"name\":\"\",\"offsetgroup\":\"\",\"orientation\":\"v\",\"showlegend\":false,\"textposition\":\"auto\",\"x\":[1,2,3,4,5,6,7,8,9,10,11,12,13,14,15,16,17,18,19,20,21,22,23,24,25,26,27,28,29,30,31,32,33,34,35,36,37,38,39,40,41,42,43,44,45,46,47,48,49,50,51,52,53,54,55,56,57,58,59,60,61,62,63,64,65,66,67,68,69,70,71,72,73,74,75,76,77,78,79,80,81,82,83,84,85,86,87,88,89,90,91,92,93,94,95,96,97,98,99,100,101,102,103,104,105,106,107,108,109,110,111,112,113,114,115,116,117,118,119,120,121,122,123,124,125,126,127,128,129,130,131,132,133,134,135,136,137,138,139,140,141,142,143,144,145,146,147,148,149,150,151,152,153,154,155,156,157,158,159,160,161,162,163,164,165,166,167,168,169,170,171,172,173,174,175,176,177,178,179,180,181,182,183,184,185,186,187,188,189,190,191,192,193,194,195,196,197,198,199,200,201,202,203,204,205,206,207,208,209,210,211,212,213,214,215,216,217,218,219,220,221,222,223,224,225,226,227,228,229,230,231,232,233,234,235,236,237,238,239,240,241,242,243,244,245,246,247,248,249,250,251,252,253,254,255,256,257,258,259,260,261,262,263,264,265,266,267,268,269,270,271,272,273,274,275,276,277,278,279,280,281,282,283,284,285,286,287,288,289,290,291,292,293,294,295,296,297,298,299,300,301,302,303,304,305,306,307,308,309,310,311,312,313,314,315,316,317,318,319,320,321,322,323,324,325,326,327,328,329,330,331,332,333,334,335,336,337,338,339,340,341,342,343,344,345,346,347,348,349,350,351,352,353,354,355,356,357,358,359,360,361,362,363,364,365,366,367,368,369,370,371,372,373,374,375,376,377,378,379,380,381,382,383,384,385,386,387,388,389,390,391,392,393,394,395,396,397,398,399,400],\"xaxis\":\"x\",\"y\":[308133,244429,236520,214001,208735,208769,180407,171522,158235,152688,150343,142989,136171,130558,125885,127106,120714,115453,119047,113459,111621,115021,116716,112075,113504,113288,113611,116017,113098,112576,129422,116424,117875,117316,111282,111725,126968,116564,110923,116740,120467,121303,135893,132067,129752,142559,138601,140781,144918,147837,154156,157229,160511,163233,181214,168508,167647,163355,164795,160320,157383,155274,149648,155150,147044,136093,130935,125568,121378,119842,116411,111769,116959,104369,99622,100852,93769,91928,88950,86819,83662,82713,79010,76307,82812,74805,72754,73751,69359,66893,75219,64152,63133,62460,62249,60139,60824,58594,57568,57605,60588,55808,56664,60016,55051,56573,50881,51225,53124,51622,47435,49683,47940,45567,46034,44846,48459,44496,45174,45801,48962,42745,42187,40598,39976,39726,41119,39671,36399,39372,38930,35745,35474,34461,33288,35980,34941,32825,34734,34519,33189,32211,31118,28401,30218,27212,27814,29184,26021,26239,27219,24054,22751,22733,20714,20197,20017,19695,18750,18865,18341,17666,18218,17172,16533,16967,15778,15469,15979,14979,14912,14621,14804,13849,14027,13542,13111,12855,12710,12116,14670,11660,11524,11302,11037,10771,10478,10701,9966,10268,9648,9451,9685,9124,8907,9529,8778,8534,8808,8361,8163,8443,8222,7925,8049,7546,7532,7415,7206,6953,8770,6766,6763,6816,6617,6333,6798,6322,6182,6186,6030,5890,5772,5548,5642,6249,5484,5469,5176,5373,5070,5193,5053,4853,5096,4698,4665,4572,4486,4371,5272,4233,4243,4270,4086,3995,4147,4039,3816,3827,3783,3565,4145,3587,3516,3841,3576,3388,3421,3342,3311,3218,3208,3145,3006,3109,2893,2903,2890,2747,3521,2814,2873,2837,2643,2644,2683,2619,2432,2456,2506,2434,2461,2359,2245,2356,2300,2213,2254,2085,2121,2117,2027,1912,2168,2019,1962,1891,1904,1943,2423,1764,1751,1814,1743,1702,1727,1620,1695,1735,1651,1590,1531,1503,1501,1828,1419,1444,1379,1344,1346,1330,1345,1289,1410,1318,1235,1271,1184,1181,1471,1187,1115,1183,1062,1064,1177,1070,1061,1100,1013,1048,1026,1012,967,1070,986,963,949,958,887,944,834,870,883,848,810,882,857,816,1354,795,771,823,771,814,787,728,786,780,789,730,721,697,716,815,659,691,727,645,637,658,642,630,688,604,618,594,573,585,733,540,567,569,551,506,566,561,564,80226],\"yaxis\":\"y\",\"type\":\"bar\"}],                        {\"template\":{\"data\":{\"histogram2dcontour\":[{\"type\":\"histogram2dcontour\",\"colorbar\":{\"outlinewidth\":0,\"ticks\":\"\"},\"colorscale\":[[0.0,\"#0d0887\"],[0.1111111111111111,\"#46039f\"],[0.2222222222222222,\"#7201a8\"],[0.3333333333333333,\"#9c179e\"],[0.4444444444444444,\"#bd3786\"],[0.5555555555555556,\"#d8576b\"],[0.6666666666666666,\"#ed7953\"],[0.7777777777777778,\"#fb9f3a\"],[0.8888888888888888,\"#fdca26\"],[1.0,\"#f0f921\"]]}],\"choropleth\":[{\"type\":\"choropleth\",\"colorbar\":{\"outlinewidth\":0,\"ticks\":\"\"}}],\"histogram2d\":[{\"type\":\"histogram2d\",\"colorbar\":{\"outlinewidth\":0,\"ticks\":\"\"},\"colorscale\":[[0.0,\"#0d0887\"],[0.1111111111111111,\"#46039f\"],[0.2222222222222222,\"#7201a8\"],[0.3333333333333333,\"#9c179e\"],[0.4444444444444444,\"#bd3786\"],[0.5555555555555556,\"#d8576b\"],[0.6666666666666666,\"#ed7953\"],[0.7777777777777778,\"#fb9f3a\"],[0.8888888888888888,\"#fdca26\"],[1.0,\"#f0f921\"]]}],\"heatmap\":[{\"type\":\"heatmap\",\"colorbar\":{\"outlinewidth\":0,\"ticks\":\"\"},\"colorscale\":[[0.0,\"#0d0887\"],[0.1111111111111111,\"#46039f\"],[0.2222222222222222,\"#7201a8\"],[0.3333333333333333,\"#9c179e\"],[0.4444444444444444,\"#bd3786\"],[0.5555555555555556,\"#d8576b\"],[0.6666666666666666,\"#ed7953\"],[0.7777777777777778,\"#fb9f3a\"],[0.8888888888888888,\"#fdca26\"],[1.0,\"#f0f921\"]]}],\"heatmapgl\":[{\"type\":\"heatmapgl\",\"colorbar\":{\"outlinewidth\":0,\"ticks\":\"\"},\"colorscale\":[[0.0,\"#0d0887\"],[0.1111111111111111,\"#46039f\"],[0.2222222222222222,\"#7201a8\"],[0.3333333333333333,\"#9c179e\"],[0.4444444444444444,\"#bd3786\"],[0.5555555555555556,\"#d8576b\"],[0.6666666666666666,\"#ed7953\"],[0.7777777777777778,\"#fb9f3a\"],[0.8888888888888888,\"#fdca26\"],[1.0,\"#f0f921\"]]}],\"contourcarpet\":[{\"type\":\"contourcarpet\",\"colorbar\":{\"outlinewidth\":0,\"ticks\":\"\"}}],\"contour\":[{\"type\":\"contour\",\"colorbar\":{\"outlinewidth\":0,\"ticks\":\"\"},\"colorscale\":[[0.0,\"#0d0887\"],[0.1111111111111111,\"#46039f\"],[0.2222222222222222,\"#7201a8\"],[0.3333333333333333,\"#9c179e\"],[0.4444444444444444,\"#bd3786\"],[0.5555555555555556,\"#d8576b\"],[0.6666666666666666,\"#ed7953\"],[0.7777777777777778,\"#fb9f3a\"],[0.8888888888888888,\"#fdca26\"],[1.0,\"#f0f921\"]]}],\"surface\":[{\"type\":\"surface\",\"colorbar\":{\"outlinewidth\":0,\"ticks\":\"\"},\"colorscale\":[[0.0,\"#0d0887\"],[0.1111111111111111,\"#46039f\"],[0.2222222222222222,\"#7201a8\"],[0.3333333333333333,\"#9c179e\"],[0.4444444444444444,\"#bd3786\"],[0.5555555555555556,\"#d8576b\"],[0.6666666666666666,\"#ed7953\"],[0.7777777777777778,\"#fb9f3a\"],[0.8888888888888888,\"#fdca26\"],[1.0,\"#f0f921\"]]}],\"mesh3d\":[{\"type\":\"mesh3d\",\"colorbar\":{\"outlinewidth\":0,\"ticks\":\"\"}}],\"scatter\":[{\"fillpattern\":{\"fillmode\":\"overlay\",\"size\":10,\"solidity\":0.2},\"type\":\"scatter\"}],\"parcoords\":[{\"type\":\"parcoords\",\"line\":{\"colorbar\":{\"outlinewidth\":0,\"ticks\":\"\"}}}],\"scatterpolargl\":[{\"type\":\"scatterpolargl\",\"marker\":{\"colorbar\":{\"outlinewidth\":0,\"ticks\":\"\"}}}],\"bar\":[{\"error_x\":{\"color\":\"#2a3f5f\"},\"error_y\":{\"color\":\"#2a3f5f\"},\"marker\":{\"line\":{\"color\":\"#E5ECF6\",\"width\":0.5},\"pattern\":{\"fillmode\":\"overlay\",\"size\":10,\"solidity\":0.2}},\"type\":\"bar\"}],\"scattergeo\":[{\"type\":\"scattergeo\",\"marker\":{\"colorbar\":{\"outlinewidth\":0,\"ticks\":\"\"}}}],\"scatterpolar\":[{\"type\":\"scatterpolar\",\"marker\":{\"colorbar\":{\"outlinewidth\":0,\"ticks\":\"\"}}}],\"histogram\":[{\"marker\":{\"pattern\":{\"fillmode\":\"overlay\",\"size\":10,\"solidity\":0.2}},\"type\":\"histogram\"}],\"scattergl\":[{\"type\":\"scattergl\",\"marker\":{\"colorbar\":{\"outlinewidth\":0,\"ticks\":\"\"}}}],\"scatter3d\":[{\"type\":\"scatter3d\",\"line\":{\"colorbar\":{\"outlinewidth\":0,\"ticks\":\"\"}},\"marker\":{\"colorbar\":{\"outlinewidth\":0,\"ticks\":\"\"}}}],\"scattermapbox\":[{\"type\":\"scattermapbox\",\"marker\":{\"colorbar\":{\"outlinewidth\":0,\"ticks\":\"\"}}}],\"scatterternary\":[{\"type\":\"scatterternary\",\"marker\":{\"colorbar\":{\"outlinewidth\":0,\"ticks\":\"\"}}}],\"scattercarpet\":[{\"type\":\"scattercarpet\",\"marker\":{\"colorbar\":{\"outlinewidth\":0,\"ticks\":\"\"}}}],\"carpet\":[{\"aaxis\":{\"endlinecolor\":\"#2a3f5f\",\"gridcolor\":\"white\",\"linecolor\":\"white\",\"minorgridcolor\":\"white\",\"startlinecolor\":\"#2a3f5f\"},\"baxis\":{\"endlinecolor\":\"#2a3f5f\",\"gridcolor\":\"white\",\"linecolor\":\"white\",\"minorgridcolor\":\"white\",\"startlinecolor\":\"#2a3f5f\"},\"type\":\"carpet\"}],\"table\":[{\"cells\":{\"fill\":{\"color\":\"#EBF0F8\"},\"line\":{\"color\":\"white\"}},\"header\":{\"fill\":{\"color\":\"#C8D4E3\"},\"line\":{\"color\":\"white\"}},\"type\":\"table\"}],\"barpolar\":[{\"marker\":{\"line\":{\"color\":\"#E5ECF6\",\"width\":0.5},\"pattern\":{\"fillmode\":\"overlay\",\"size\":10,\"solidity\":0.2}},\"type\":\"barpolar\"}],\"pie\":[{\"automargin\":true,\"type\":\"pie\"}]},\"layout\":{\"autotypenumbers\":\"strict\",\"colorway\":[\"#636efa\",\"#EF553B\",\"#00cc96\",\"#ab63fa\",\"#FFA15A\",\"#19d3f3\",\"#FF6692\",\"#B6E880\",\"#FF97FF\",\"#FECB52\"],\"font\":{\"color\":\"#2a3f5f\"},\"hovermode\":\"closest\",\"hoverlabel\":{\"align\":\"left\"},\"paper_bgcolor\":\"white\",\"plot_bgcolor\":\"#E5ECF6\",\"polar\":{\"bgcolor\":\"#E5ECF6\",\"angularaxis\":{\"gridcolor\":\"white\",\"linecolor\":\"white\",\"ticks\":\"\"},\"radialaxis\":{\"gridcolor\":\"white\",\"linecolor\":\"white\",\"ticks\":\"\"}},\"ternary\":{\"bgcolor\":\"#E5ECF6\",\"aaxis\":{\"gridcolor\":\"white\",\"linecolor\":\"white\",\"ticks\":\"\"},\"baxis\":{\"gridcolor\":\"white\",\"linecolor\":\"white\",\"ticks\":\"\"},\"caxis\":{\"gridcolor\":\"white\",\"linecolor\":\"white\",\"ticks\":\"\"}},\"coloraxis\":{\"colorbar\":{\"outlinewidth\":0,\"ticks\":\"\"}},\"colorscale\":{\"sequential\":[[0.0,\"#0d0887\"],[0.1111111111111111,\"#46039f\"],[0.2222222222222222,\"#7201a8\"],[0.3333333333333333,\"#9c179e\"],[0.4444444444444444,\"#bd3786\"],[0.5555555555555556,\"#d8576b\"],[0.6666666666666666,\"#ed7953\"],[0.7777777777777778,\"#fb9f3a\"],[0.8888888888888888,\"#fdca26\"],[1.0,\"#f0f921\"]],\"sequentialminus\":[[0.0,\"#0d0887\"],[0.1111111111111111,\"#46039f\"],[0.2222222222222222,\"#7201a8\"],[0.3333333333333333,\"#9c179e\"],[0.4444444444444444,\"#bd3786\"],[0.5555555555555556,\"#d8576b\"],[0.6666666666666666,\"#ed7953\"],[0.7777777777777778,\"#fb9f3a\"],[0.8888888888888888,\"#fdca26\"],[1.0,\"#f0f921\"]],\"diverging\":[[0,\"#8e0152\"],[0.1,\"#c51b7d\"],[0.2,\"#de77ae\"],[0.3,\"#f1b6da\"],[0.4,\"#fde0ef\"],[0.5,\"#f7f7f7\"],[0.6,\"#e6f5d0\"],[0.7,\"#b8e186\"],[0.8,\"#7fbc41\"],[0.9,\"#4d9221\"],[1,\"#276419\"]]},\"xaxis\":{\"gridcolor\":\"white\",\"linecolor\":\"white\",\"ticks\":\"\",\"title\":{\"standoff\":15},\"zerolinecolor\":\"white\",\"automargin\":true,\"zerolinewidth\":2},\"yaxis\":{\"gridcolor\":\"white\",\"linecolor\":\"white\",\"ticks\":\"\",\"title\":{\"standoff\":15},\"zerolinecolor\":\"white\",\"automargin\":true,\"zerolinewidth\":2},\"scene\":{\"xaxis\":{\"backgroundcolor\":\"#E5ECF6\",\"gridcolor\":\"white\",\"linecolor\":\"white\",\"showbackground\":true,\"ticks\":\"\",\"zerolinecolor\":\"white\",\"gridwidth\":2},\"yaxis\":{\"backgroundcolor\":\"#E5ECF6\",\"gridcolor\":\"white\",\"linecolor\":\"white\",\"showbackground\":true,\"ticks\":\"\",\"zerolinecolor\":\"white\",\"gridwidth\":2},\"zaxis\":{\"backgroundcolor\":\"#E5ECF6\",\"gridcolor\":\"white\",\"linecolor\":\"white\",\"showbackground\":true,\"ticks\":\"\",\"zerolinecolor\":\"white\",\"gridwidth\":2}},\"shapedefaults\":{\"line\":{\"color\":\"#2a3f5f\"}},\"annotationdefaults\":{\"arrowcolor\":\"#2a3f5f\",\"arrowhead\":0,\"arrowwidth\":1},\"geo\":{\"bgcolor\":\"white\",\"landcolor\":\"#E5ECF6\",\"subunitcolor\":\"white\",\"showland\":true,\"showlakes\":true,\"lakecolor\":\"white\"},\"title\":{\"x\":0.05},\"mapbox\":{\"style\":\"light\"}}},\"xaxis\":{\"anchor\":\"y\",\"domain\":[0.0,1.0],\"title\":{\"text\":\"rank\"}},\"yaxis\":{\"anchor\":\"x\",\"domain\":[0.0,1.0],\"title\":{\"text\":\"value\"},\"range\":[0,300000]},\"coloraxis\":{\"colorbar\":{\"title\":{\"text\":\"rank\"}},\"colorscale\":[[0.0,\"#0d0887\"],[0.1111111111111111,\"#46039f\"],[0.2222222222222222,\"#7201a8\"],[0.3333333333333333,\"#9c179e\"],[0.4444444444444444,\"#bd3786\"],[0.5555555555555556,\"#d8576b\"],[0.6666666666666666,\"#ed7953\"],[0.7777777777777778,\"#fb9f3a\"],[0.8888888888888888,\"#fdca26\"],[1.0,\"#f0f921\"]]},\"legend\":{\"tracegroupgap\":0},\"margin\":{\"t\":60},\"barmode\":\"relative\",\"updatemenus\":[{\"buttons\":[{\"args\":[null,{\"frame\":{\"duration\":500,\"redraw\":true},\"mode\":\"immediate\",\"fromcurrent\":true,\"transition\":{\"duration\":500,\"easing\":\"linear\"}}],\"label\":\"&#9654;\",\"method\":\"animate\"},{\"args\":[[null],{\"frame\":{\"duration\":0,\"redraw\":true},\"mode\":\"immediate\",\"fromcurrent\":true,\"transition\":{\"duration\":0,\"easing\":\"linear\"}}],\"label\":\"&#9724;\",\"method\":\"animate\"}],\"direction\":\"left\",\"pad\":{\"r\":10,\"t\":70},\"showactive\":false,\"type\":\"buttons\",\"x\":0.1,\"xanchor\":\"right\",\"y\":0,\"yanchor\":\"top\"}],\"sliders\":[{\"active\":0,\"currentvalue\":{\"prefix\":\"year=\"},\"len\":0.9,\"pad\":{\"b\":10,\"t\":60},\"steps\":[{\"args\":[[\"2001\"],{\"frame\":{\"duration\":0,\"redraw\":true},\"mode\":\"immediate\",\"fromcurrent\":true,\"transition\":{\"duration\":0,\"easing\":\"linear\"}}],\"label\":\"2001\",\"method\":\"animate\"},{\"args\":[[\"2002\"],{\"frame\":{\"duration\":0,\"redraw\":true},\"mode\":\"immediate\",\"fromcurrent\":true,\"transition\":{\"duration\":0,\"easing\":\"linear\"}}],\"label\":\"2002\",\"method\":\"animate\"},{\"args\":[[\"2003\"],{\"frame\":{\"duration\":0,\"redraw\":true},\"mode\":\"immediate\",\"fromcurrent\":true,\"transition\":{\"duration\":0,\"easing\":\"linear\"}}],\"label\":\"2003\",\"method\":\"animate\"},{\"args\":[[\"2004\"],{\"frame\":{\"duration\":0,\"redraw\":true},\"mode\":\"immediate\",\"fromcurrent\":true,\"transition\":{\"duration\":0,\"easing\":\"linear\"}}],\"label\":\"2004\",\"method\":\"animate\"},{\"args\":[[\"2005\"],{\"frame\":{\"duration\":0,\"redraw\":true},\"mode\":\"immediate\",\"fromcurrent\":true,\"transition\":{\"duration\":0,\"easing\":\"linear\"}}],\"label\":\"2005\",\"method\":\"animate\"},{\"args\":[[\"2006\"],{\"frame\":{\"duration\":0,\"redraw\":true},\"mode\":\"immediate\",\"fromcurrent\":true,\"transition\":{\"duration\":0,\"easing\":\"linear\"}}],\"label\":\"2006\",\"method\":\"animate\"},{\"args\":[[\"2007\"],{\"frame\":{\"duration\":0,\"redraw\":true},\"mode\":\"immediate\",\"fromcurrent\":true,\"transition\":{\"duration\":0,\"easing\":\"linear\"}}],\"label\":\"2007\",\"method\":\"animate\"},{\"args\":[[\"2008\"],{\"frame\":{\"duration\":0,\"redraw\":true},\"mode\":\"immediate\",\"fromcurrent\":true,\"transition\":{\"duration\":0,\"easing\":\"linear\"}}],\"label\":\"2008\",\"method\":\"animate\"},{\"args\":[[\"2009\"],{\"frame\":{\"duration\":0,\"redraw\":true},\"mode\":\"immediate\",\"fromcurrent\":true,\"transition\":{\"duration\":0,\"easing\":\"linear\"}}],\"label\":\"2009\",\"method\":\"animate\"},{\"args\":[[\"2010\"],{\"frame\":{\"duration\":0,\"redraw\":true},\"mode\":\"immediate\",\"fromcurrent\":true,\"transition\":{\"duration\":0,\"easing\":\"linear\"}}],\"label\":\"2010\",\"method\":\"animate\"},{\"args\":[[\"2011\"],{\"frame\":{\"duration\":0,\"redraw\":true},\"mode\":\"immediate\",\"fromcurrent\":true,\"transition\":{\"duration\":0,\"easing\":\"linear\"}}],\"label\":\"2011\",\"method\":\"animate\"},{\"args\":[[\"2012\"],{\"frame\":{\"duration\":0,\"redraw\":true},\"mode\":\"immediate\",\"fromcurrent\":true,\"transition\":{\"duration\":0,\"easing\":\"linear\"}}],\"label\":\"2012\",\"method\":\"animate\"},{\"args\":[[\"2013\"],{\"frame\":{\"duration\":0,\"redraw\":true},\"mode\":\"immediate\",\"fromcurrent\":true,\"transition\":{\"duration\":0,\"easing\":\"linear\"}}],\"label\":\"2013\",\"method\":\"animate\"},{\"args\":[[\"2014\"],{\"frame\":{\"duration\":0,\"redraw\":true},\"mode\":\"immediate\",\"fromcurrent\":true,\"transition\":{\"duration\":0,\"easing\":\"linear\"}}],\"label\":\"2014\",\"method\":\"animate\"},{\"args\":[[\"2015\"],{\"frame\":{\"duration\":0,\"redraw\":true},\"mode\":\"immediate\",\"fromcurrent\":true,\"transition\":{\"duration\":0,\"easing\":\"linear\"}}],\"label\":\"2015\",\"method\":\"animate\"},{\"args\":[[\"2016\"],{\"frame\":{\"duration\":0,\"redraw\":true},\"mode\":\"immediate\",\"fromcurrent\":true,\"transition\":{\"duration\":0,\"easing\":\"linear\"}}],\"label\":\"2016\",\"method\":\"animate\"},{\"args\":[[\"2017\"],{\"frame\":{\"duration\":0,\"redraw\":true},\"mode\":\"immediate\",\"fromcurrent\":true,\"transition\":{\"duration\":0,\"easing\":\"linear\"}}],\"label\":\"2017\",\"method\":\"animate\"},{\"args\":[[\"2018\"],{\"frame\":{\"duration\":0,\"redraw\":true},\"mode\":\"immediate\",\"fromcurrent\":true,\"transition\":{\"duration\":0,\"easing\":\"linear\"}}],\"label\":\"2018\",\"method\":\"animate\"},{\"args\":[[\"2019\"],{\"frame\":{\"duration\":0,\"redraw\":true},\"mode\":\"immediate\",\"fromcurrent\":true,\"transition\":{\"duration\":0,\"easing\":\"linear\"}}],\"label\":\"2019\",\"method\":\"animate\"},{\"args\":[[\"2020\"],{\"frame\":{\"duration\":0,\"redraw\":true},\"mode\":\"immediate\",\"fromcurrent\":true,\"transition\":{\"duration\":0,\"easing\":\"linear\"}}],\"label\":\"2020\",\"method\":\"animate\"},{\"args\":[[\"2021\"],{\"frame\":{\"duration\":0,\"redraw\":true},\"mode\":\"immediate\",\"fromcurrent\":true,\"transition\":{\"duration\":0,\"easing\":\"linear\"}}],\"label\":\"2021\",\"method\":\"animate\"},{\"args\":[[\"2022\"],{\"frame\":{\"duration\":0,\"redraw\":true},\"mode\":\"immediate\",\"fromcurrent\":true,\"transition\":{\"duration\":0,\"easing\":\"linear\"}}],\"label\":\"2022\",\"method\":\"animate\"}],\"x\":0.1,\"xanchor\":\"left\",\"y\":0,\"yanchor\":\"top\"}]},                        {\"responsive\": true}                    ).then(function(){\n",
              "                            Plotly.addFrames('9784c215-b3a6-4ff8-814c-37db8090ef02', [{\"data\":[{\"alignmentgroup\":\"True\",\"hovertemplate\":\"year=2001\\u003cbr\\u003erank=%{marker.color}\\u003cbr\\u003evalue=%{y}\\u003cextra\\u003e\\u003c\\u002fextra\\u003e\",\"ids\":[1,2,3,4,5,6,7,8,9,10,11,12,13,14,15,16,17,18,19,20,21,22,23,24,25,26,27,28,29,30,31,32,33,34,35,36,37,38,39,40,41,42,43,44,45,46,47,48,49,50,51,52,53,54,55,56,57,58,59,60,61,62,63,64,65,66,67,68,69,70,71,72,73,74,75,76,77,78,79,80,81,82,83,84,85,86,87,88,89,90,91,92,93,94,95,96,97,98,99,100,101,102,103,104,105,106,107,108,109,110,111,112,113,114,115,116,117,118,119,120,121,122,123,124,125,126,127,128,129,130,131,132,133,134,135,136,137,138,139,140,141,142,143,144,145,146,147,148,149,150,151,152,153,154,155,156,157,158,159,160,161,162,163,164,165,166,167,168,169,170,171,172,173,174,175,176,177,178,179,180,181,182,183,184,185,186,187,188,189,190,191,192,193,194,195,196,197,198,199,200,201,202,203,204,205,206,207,208,209,210,211,212,213,214,215,216,217,218,219,220,221,222,223,224,225,226,227,228,229,230,231,232,233,234,235,236,237,238,239,240,241,242,243,244,245,246,247,248,249,250,251,252,253,254,255,256,257,258,259,260,261,262,263,264,265,266,267,268,269,270,271,272,273,274,275,276,277,278,279,280,281,282,283,284,285,286,287,288,289,290,291,292,293,294,295,296,297,298,299,300,301,302,303,304,305,306,307,308,309,310,311,312,313,314,315,316,317,318,319,320,321,322,323,324,325,326,327,328,329,330,331,332,333,334,335,336,337,338,339,340,341,342,343,344,345,346,347,348,349,350,351,352,353,354,355,356,357,358,359,360,361,362,363,364,365,366,367,368,369,370,371,372,373,374,375,376,377,378,379,380,381,382,383,384,385,386,387,388,389,390,391,392,393,394,395,396,397,398,399,400],\"legendgroup\":\"\",\"marker\":{\"color\":[1,2,3,4,5,6,7,8,9,10,11,12,13,14,15,16,17,18,19,20,21,22,23,24,25,26,27,28,29,30,31,32,33,34,35,36,37,38,39,40,41,42,43,44,45,46,47,48,49,50,51,52,53,54,55,56,57,58,59,60,61,62,63,64,65,66,67,68,69,70,71,72,73,74,75,76,77,78,79,80,81,82,83,84,85,86,87,88,89,90,91,92,93,94,95,96,97,98,99,100,101,102,103,104,105,106,107,108,109,110,111,112,113,114,115,116,117,118,119,120,121,122,123,124,125,126,127,128,129,130,131,132,133,134,135,136,137,138,139,140,141,142,143,144,145,146,147,148,149,150,151,152,153,154,155,156,157,158,159,160,161,162,163,164,165,166,167,168,169,170,171,172,173,174,175,176,177,178,179,180,181,182,183,184,185,186,187,188,189,190,191,192,193,194,195,196,197,198,199,200,201,202,203,204,205,206,207,208,209,210,211,212,213,214,215,216,217,218,219,220,221,222,223,224,225,226,227,228,229,230,231,232,233,234,235,236,237,238,239,240,241,242,243,244,245,246,247,248,249,250,251,252,253,254,255,256,257,258,259,260,261,262,263,264,265,266,267,268,269,270,271,272,273,274,275,276,277,278,279,280,281,282,283,284,285,286,287,288,289,290,291,292,293,294,295,296,297,298,299,300,301,302,303,304,305,306,307,308,309,310,311,312,313,314,315,316,317,318,319,320,321,322,323,324,325,326,327,328,329,330,331,332,333,334,335,336,337,338,339,340,341,342,343,344,345,346,347,348,349,350,351,352,353,354,355,356,357,358,359,360,361,362,363,364,365,366,367,368,369,370,371,372,373,374,375,376,377,378,379,380,381,382,383,384,385,386,387,388,389,390,391,392,393,394,395,396,397,398,399,400],\"coloraxis\":\"coloraxis\",\"pattern\":{\"shape\":\"\"}},\"name\":\"\",\"offsetgroup\":\"\",\"orientation\":\"v\",\"showlegend\":false,\"textposition\":\"auto\",\"x\":[1,2,3,4,5,6,7,8,9,10,11,12,13,14,15,16,17,18,19,20,21,22,23,24,25,26,27,28,29,30,31,32,33,34,35,36,37,38,39,40,41,42,43,44,45,46,47,48,49,50,51,52,53,54,55,56,57,58,59,60,61,62,63,64,65,66,67,68,69,70,71,72,73,74,75,76,77,78,79,80,81,82,83,84,85,86,87,88,89,90,91,92,93,94,95,96,97,98,99,100,101,102,103,104,105,106,107,108,109,110,111,112,113,114,115,116,117,118,119,120,121,122,123,124,125,126,127,128,129,130,131,132,133,134,135,136,137,138,139,140,141,142,143,144,145,146,147,148,149,150,151,152,153,154,155,156,157,158,159,160,161,162,163,164,165,166,167,168,169,170,171,172,173,174,175,176,177,178,179,180,181,182,183,184,185,186,187,188,189,190,191,192,193,194,195,196,197,198,199,200,201,202,203,204,205,206,207,208,209,210,211,212,213,214,215,216,217,218,219,220,221,222,223,224,225,226,227,228,229,230,231,232,233,234,235,236,237,238,239,240,241,242,243,244,245,246,247,248,249,250,251,252,253,254,255,256,257,258,259,260,261,262,263,264,265,266,267,268,269,270,271,272,273,274,275,276,277,278,279,280,281,282,283,284,285,286,287,288,289,290,291,292,293,294,295,296,297,298,299,300,301,302,303,304,305,306,307,308,309,310,311,312,313,314,315,316,317,318,319,320,321,322,323,324,325,326,327,328,329,330,331,332,333,334,335,336,337,338,339,340,341,342,343,344,345,346,347,348,349,350,351,352,353,354,355,356,357,358,359,360,361,362,363,364,365,366,367,368,369,370,371,372,373,374,375,376,377,378,379,380,381,382,383,384,385,386,387,388,389,390,391,392,393,394,395,396,397,398,399,400],\"xaxis\":\"x\",\"y\":[308133,244429,236520,214001,208735,208769,180407,171522,158235,152688,150343,142989,136171,130558,125885,127106,120714,115453,119047,113459,111621,115021,116716,112075,113504,113288,113611,116017,113098,112576,129422,116424,117875,117316,111282,111725,126968,116564,110923,116740,120467,121303,135893,132067,129752,142559,138601,140781,144918,147837,154156,157229,160511,163233,181214,168508,167647,163355,164795,160320,157383,155274,149648,155150,147044,136093,130935,125568,121378,119842,116411,111769,116959,104369,99622,100852,93769,91928,88950,86819,83662,82713,79010,76307,82812,74805,72754,73751,69359,66893,75219,64152,63133,62460,62249,60139,60824,58594,57568,57605,60588,55808,56664,60016,55051,56573,50881,51225,53124,51622,47435,49683,47940,45567,46034,44846,48459,44496,45174,45801,48962,42745,42187,40598,39976,39726,41119,39671,36399,39372,38930,35745,35474,34461,33288,35980,34941,32825,34734,34519,33189,32211,31118,28401,30218,27212,27814,29184,26021,26239,27219,24054,22751,22733,20714,20197,20017,19695,18750,18865,18341,17666,18218,17172,16533,16967,15778,15469,15979,14979,14912,14621,14804,13849,14027,13542,13111,12855,12710,12116,14670,11660,11524,11302,11037,10771,10478,10701,9966,10268,9648,9451,9685,9124,8907,9529,8778,8534,8808,8361,8163,8443,8222,7925,8049,7546,7532,7415,7206,6953,8770,6766,6763,6816,6617,6333,6798,6322,6182,6186,6030,5890,5772,5548,5642,6249,5484,5469,5176,5373,5070,5193,5053,4853,5096,4698,4665,4572,4486,4371,5272,4233,4243,4270,4086,3995,4147,4039,3816,3827,3783,3565,4145,3587,3516,3841,3576,3388,3421,3342,3311,3218,3208,3145,3006,3109,2893,2903,2890,2747,3521,2814,2873,2837,2643,2644,2683,2619,2432,2456,2506,2434,2461,2359,2245,2356,2300,2213,2254,2085,2121,2117,2027,1912,2168,2019,1962,1891,1904,1943,2423,1764,1751,1814,1743,1702,1727,1620,1695,1735,1651,1590,1531,1503,1501,1828,1419,1444,1379,1344,1346,1330,1345,1289,1410,1318,1235,1271,1184,1181,1471,1187,1115,1183,1062,1064,1177,1070,1061,1100,1013,1048,1026,1012,967,1070,986,963,949,958,887,944,834,870,883,848,810,882,857,816,1354,795,771,823,771,814,787,728,786,780,789,730,721,697,716,815,659,691,727,645,637,658,642,630,688,604,618,594,573,585,733,540,567,569,551,506,566,561,564,80226],\"yaxis\":\"y\",\"type\":\"bar\"}],\"name\":\"2001\"},{\"data\":[{\"alignmentgroup\":\"True\",\"hovertemplate\":\"year=2002\\u003cbr\\u003erank=%{marker.color}\\u003cbr\\u003evalue=%{y}\\u003cextra\\u003e\\u003c\\u002fextra\\u003e\",\"ids\":[1,2,3,4,5,6,7,8,9,10,11,12,13,14,15,16,17,18,19,20,21,22,23,24,25,26,27,28,29,30,31,32,33,34,35,36,37,38,39,40,41,42,43,44,45,46,47,48,49,50,51,52,53,54,55,56,57,58,59,60,61,62,63,64,65,66,67,68,69,70,71,72,73,74,75,76,77,78,79,80,81,82,83,84,85,86,87,88,89,90,91,92,93,94,95,96,97,98,99,100,101,102,103,104,105,106,107,108,109,110,111,112,113,114,115,116,117,118,119,120,121,122,123,124,125,126,127,128,129,130,131,132,133,134,135,136,137,138,139,140,141,142,143,144,145,146,147,148,149,150,151,152,153,154,155,156,157,158,159,160,161,162,163,164,165,166,167,168,169,170,171,172,173,174,175,176,177,178,179,180,181,182,183,184,185,186,187,188,189,190,191,192,193,194,195,196,197,198,199,200,201,202,203,204,205,206,207,208,209,210,211,212,213,214,215,216,217,218,219,220,221,222,223,224,225,226,227,228,229,230,231,232,233,234,235,236,237,238,239,240,241,242,243,244,245,246,247,248,249,250,251,252,253,254,255,256,257,258,259,260,261,262,263,264,265,266,267,268,269,270,271,272,273,274,275,276,277,278,279,280,281,282,283,284,285,286,287,288,289,290,291,292,293,294,295,296,297,298,299,300,301,302,303,304,305,306,307,308,309,310,311,312,313,314,315,316,317,318,319,320,321,322,323,324,325,326,327,328,329,330,331,332,333,334,335,336,337,338,339,340,341,342,343,344,345,346,347,348,349,350,351,352,353,354,355,356,357,358,359,360,361,362,363,364,365,366,367,368,369,370,371,372,373,374,375,376,377,378,379,380,381,382,383,384,385,386,387,388,389,390,391,392,393,394,395,396,397,398,399,400],\"legendgroup\":\"\",\"marker\":{\"color\":[1,2,3,4,5,6,7,8,9,10,11,12,13,14,15,16,17,18,19,20,21,22,23,24,25,26,27,28,29,30,31,32,33,34,35,36,37,38,39,40,41,42,43,44,45,46,47,48,49,50,51,52,53,54,55,56,57,58,59,60,61,62,63,64,65,66,67,68,69,70,71,72,73,74,75,76,77,78,79,80,81,82,83,84,85,86,87,88,89,90,91,92,93,94,95,96,97,98,99,100,101,102,103,104,105,106,107,108,109,110,111,112,113,114,115,116,117,118,119,120,121,122,123,124,125,126,127,128,129,130,131,132,133,134,135,136,137,138,139,140,141,142,143,144,145,146,147,148,149,150,151,152,153,154,155,156,157,158,159,160,161,162,163,164,165,166,167,168,169,170,171,172,173,174,175,176,177,178,179,180,181,182,183,184,185,186,187,188,189,190,191,192,193,194,195,196,197,198,199,200,201,202,203,204,205,206,207,208,209,210,211,212,213,214,215,216,217,218,219,220,221,222,223,224,225,226,227,228,229,230,231,232,233,234,235,236,237,238,239,240,241,242,243,244,245,246,247,248,249,250,251,252,253,254,255,256,257,258,259,260,261,262,263,264,265,266,267,268,269,270,271,272,273,274,275,276,277,278,279,280,281,282,283,284,285,286,287,288,289,290,291,292,293,294,295,296,297,298,299,300,301,302,303,304,305,306,307,308,309,310,311,312,313,314,315,316,317,318,319,320,321,322,323,324,325,326,327,328,329,330,331,332,333,334,335,336,337,338,339,340,341,342,343,344,345,346,347,348,349,350,351,352,353,354,355,356,357,358,359,360,361,362,363,364,365,366,367,368,369,370,371,372,373,374,375,376,377,378,379,380,381,382,383,384,385,386,387,388,389,390,391,392,393,394,395,396,397,398,399,400],\"coloraxis\":\"coloraxis\",\"pattern\":{\"shape\":\"\"}},\"name\":\"\",\"offsetgroup\":\"\",\"orientation\":\"v\",\"showlegend\":false,\"textposition\":\"auto\",\"x\":[1,2,3,4,5,6,7,8,9,10,11,12,13,14,15,16,17,18,19,20,21,22,23,24,25,26,27,28,29,30,31,32,33,34,35,36,37,38,39,40,41,42,43,44,45,46,47,48,49,50,51,52,53,54,55,56,57,58,59,60,61,62,63,64,65,66,67,68,69,70,71,72,73,74,75,76,77,78,79,80,81,82,83,84,85,86,87,88,89,90,91,92,93,94,95,96,97,98,99,100,101,102,103,104,105,106,107,108,109,110,111,112,113,114,115,116,117,118,119,120,121,122,123,124,125,126,127,128,129,130,131,132,133,134,135,136,137,138,139,140,141,142,143,144,145,146,147,148,149,150,151,152,153,154,155,156,157,158,159,160,161,162,163,164,165,166,167,168,169,170,171,172,173,174,175,176,177,178,179,180,181,182,183,184,185,186,187,188,189,190,191,192,193,194,195,196,197,198,199,200,201,202,203,204,205,206,207,208,209,210,211,212,213,214,215,216,217,218,219,220,221,222,223,224,225,226,227,228,229,230,231,232,233,234,235,236,237,238,239,240,241,242,243,244,245,246,247,248,249,250,251,252,253,254,255,256,257,258,259,260,261,262,263,264,265,266,267,268,269,270,271,272,273,274,275,276,277,278,279,280,281,282,283,284,285,286,287,288,289,290,291,292,293,294,295,296,297,298,299,300,301,302,303,304,305,306,307,308,309,310,311,312,313,314,315,316,317,318,319,320,321,322,323,324,325,326,327,328,329,330,331,332,333,334,335,336,337,338,339,340,341,342,343,344,345,346,347,348,349,350,351,352,353,354,355,356,357,358,359,360,361,362,363,364,365,366,367,368,369,370,371,372,373,374,375,376,377,378,379,380,381,382,383,384,385,386,387,388,389,390,391,392,393,394,395,396,397,398,399,400],\"xaxis\":\"x\",\"y\":[290444,282368,236189,208714,199220,199717,179349,169485,157144,152989,149775,142655,137252,132502,131680,128896,122162,118627,120510,115861,113878,116375,117381,115020,115596,113737,114211,118178,114782,112828,128015,117531,117705,118760,115150,114584,127489,115408,113058,115299,117143,116410,123623,129725,127348,139241,134420,134846,142978,140793,145721,147891,153442,158304,174137,167786,171029,173448,169726,164769,168550,162192,155300,160662,153084,150005,147501,138543,130627,127709,124445,121204,125742,113313,109941,109115,103449,100672,97696,95455,90621,90621,86499,83828,87152,80160,77641,75327,73653,72680,79824,69325,69054,67457,66472,63918,64712,63133,61286,63039,60032,58960,57507,56161,55250,62190,56149,61054,60606,53649,50383,51374,49568,48950,47733,48357,45926,46863,44390,43695,45098,45423,48462,49554,44027,43633,45309,42116,39312,39231,38325,38479,37330,38684,35097,38022,35659,33685,35266,33706,34372,32385,38030,32965,36960,31833,30615,29243,30564,27864,31720,28194,27085,27391,27114,24819,24820,23438,21746,22271,20327,19863,19865,19023,18872,19562,17882,17588,18194,17127,16916,16401,15983,15832,15606,15137,14950,14493,14136,13856,16408,13600,13395,13007,12799,12892,12099,11943,11608,12126,10945,10567,10732,10140,10288,10789,9954,9792,9804,9374,9428,9284,9124,8749,8700,8456,8371,8385,8112,8175,9593,7668,7596,7721,7455,7329,7485,7353,7066,6892,6801,6678,6516,6468,6211,7009,5909,5852,6093,5815,5614,5874,5658,5476,5630,5343,5389,5274,5151,5160,5796,4984,4850,4831,4608,4533,4673,4428,4412,4217,4361,4154,4635,4009,3927,4358,3854,3762,3818,3766,3620,3580,3701,3529,3618,3488,3286,3421,3245,3359,3764,3274,3039,3207,3037,3043,2983,3009,2946,2810,2791,2759,2758,2677,2581,2628,2564,2581,2596,2411,2359,2335,2504,2275,2474,2267,2289,2129,2139,2134,2767,2093,2150,2024,1963,1997,1937,1846,1847,1861,1904,1769,1738,1787,1712,2060,1640,1674,1622,1542,1561,1570,1653,1475,1640,1495,1509,1446,1453,1267,1651,1330,1319,1360,1210,1302,1367,1241,1215,1208,1143,1207,1190,1149,1091,1180,1110,1089,1134,1050,1052,1024,989,1002,967,1042,953,949,988,964,1425,898,873,908,902,853,831,851,898,831,866,822,821,771,803,913,796,771,793,688,781,754,682,687,751,679,759,725,717,676,794,678,652,636,611,578,626,657,566,88577],\"yaxis\":\"y\",\"type\":\"bar\"}],\"name\":\"2002\"},{\"data\":[{\"alignmentgroup\":\"True\",\"hovertemplate\":\"year=2003\\u003cbr\\u003erank=%{marker.color}\\u003cbr\\u003evalue=%{y}\\u003cextra\\u003e\\u003c\\u002fextra\\u003e\",\"ids\":[1,2,3,4,5,6,7,8,9,10,11,12,13,14,15,16,17,18,19,20,21,22,23,24,25,26,27,28,29,30,31,32,33,34,35,36,37,38,39,40,41,42,43,44,45,46,47,48,49,50,51,52,53,54,55,56,57,58,59,60,61,62,63,64,65,66,67,68,69,70,71,72,73,74,75,76,77,78,79,80,81,82,83,84,85,86,87,88,89,90,91,92,93,94,95,96,97,98,99,100,101,102,103,104,105,106,107,108,109,110,111,112,113,114,115,116,117,118,119,120,121,122,123,124,125,126,127,128,129,130,131,132,133,134,135,136,137,138,139,140,141,142,143,144,145,146,147,148,149,150,151,152,153,154,155,156,157,158,159,160,161,162,163,164,165,166,167,168,169,170,171,172,173,174,175,176,177,178,179,180,181,182,183,184,185,186,187,188,189,190,191,192,193,194,195,196,197,198,199,200,201,202,203,204,205,206,207,208,209,210,211,212,213,214,215,216,217,218,219,220,221,222,223,224,225,226,227,228,229,230,231,232,233,234,235,236,237,238,239,240,241,242,243,244,245,246,247,248,249,250,251,252,253,254,255,256,257,258,259,260,261,262,263,264,265,266,267,268,269,270,271,272,273,274,275,276,277,278,279,280,281,282,283,284,285,286,287,288,289,290,291,292,293,294,295,296,297,298,299,300,301,302,303,304,305,306,307,308,309,310,311,312,313,314,315,316,317,318,319,320,321,322,323,324,325,326,327,328,329,330,331,332,333,334,335,336,337,338,339,340,341,342,343,344,345,346,347,348,349,350,351,352,353,354,355,356,357,358,359,360,361,362,363,364,365,366,367,368,369,370,371,372,373,374,375,376,377,378,379,380,381,382,383,384,385,386,387,388,389,390,391,392,393,394,395,396,397,398,399,400],\"legendgroup\":\"\",\"marker\":{\"color\":[1,2,3,4,5,6,7,8,9,10,11,12,13,14,15,16,17,18,19,20,21,22,23,24,25,26,27,28,29,30,31,32,33,34,35,36,37,38,39,40,41,42,43,44,45,46,47,48,49,50,51,52,53,54,55,56,57,58,59,60,61,62,63,64,65,66,67,68,69,70,71,72,73,74,75,76,77,78,79,80,81,82,83,84,85,86,87,88,89,90,91,92,93,94,95,96,97,98,99,100,101,102,103,104,105,106,107,108,109,110,111,112,113,114,115,116,117,118,119,120,121,122,123,124,125,126,127,128,129,130,131,132,133,134,135,136,137,138,139,140,141,142,143,144,145,146,147,148,149,150,151,152,153,154,155,156,157,158,159,160,161,162,163,164,165,166,167,168,169,170,171,172,173,174,175,176,177,178,179,180,181,182,183,184,185,186,187,188,189,190,191,192,193,194,195,196,197,198,199,200,201,202,203,204,205,206,207,208,209,210,211,212,213,214,215,216,217,218,219,220,221,222,223,224,225,226,227,228,229,230,231,232,233,234,235,236,237,238,239,240,241,242,243,244,245,246,247,248,249,250,251,252,253,254,255,256,257,258,259,260,261,262,263,264,265,266,267,268,269,270,271,272,273,274,275,276,277,278,279,280,281,282,283,284,285,286,287,288,289,290,291,292,293,294,295,296,297,298,299,300,301,302,303,304,305,306,307,308,309,310,311,312,313,314,315,316,317,318,319,320,321,322,323,324,325,326,327,328,329,330,331,332,333,334,335,336,337,338,339,340,341,342,343,344,345,346,347,348,349,350,351,352,353,354,355,356,357,358,359,360,361,362,363,364,365,366,367,368,369,370,371,372,373,374,375,376,377,378,379,380,381,382,383,384,385,386,387,388,389,390,391,392,393,394,395,396,397,398,399,400],\"coloraxis\":\"coloraxis\",\"pattern\":{\"shape\":\"\"}},\"name\":\"\",\"offsetgroup\":\"\",\"orientation\":\"v\",\"showlegend\":false,\"textposition\":\"auto\",\"x\":[1,2,3,4,5,6,7,8,9,10,11,12,13,14,15,16,17,18,19,20,21,22,23,24,25,26,27,28,29,30,31,32,33,34,35,36,37,38,39,40,41,42,43,44,45,46,47,48,49,50,51,52,53,54,55,56,57,58,59,60,61,62,63,64,65,66,67,68,69,70,71,72,73,74,75,76,77,78,79,80,81,82,83,84,85,86,87,88,89,90,91,92,93,94,95,96,97,98,99,100,101,102,103,104,105,106,107,108,109,110,111,112,113,114,115,116,117,118,119,120,121,122,123,124,125,126,127,128,129,130,131,132,133,134,135,136,137,138,139,140,141,142,143,144,145,146,147,148,149,150,151,152,153,154,155,156,157,158,159,160,161,162,163,164,165,166,167,168,169,170,171,172,173,174,175,176,177,178,179,180,181,182,183,184,185,186,187,188,189,190,191,192,193,194,195,196,197,198,199,200,201,202,203,204,205,206,207,208,209,210,211,212,213,214,215,216,217,218,219,220,221,222,223,224,225,226,227,228,229,230,231,232,233,234,235,236,237,238,239,240,241,242,243,244,245,246,247,248,249,250,251,252,253,254,255,256,257,258,259,260,261,262,263,264,265,266,267,268,269,270,271,272,273,274,275,276,277,278,279,280,281,282,283,284,285,286,287,288,289,290,291,292,293,294,295,296,297,298,299,300,301,302,303,304,305,306,307,308,309,310,311,312,313,314,315,316,317,318,319,320,321,322,323,324,325,326,327,328,329,330,331,332,333,334,335,336,337,338,339,340,341,342,343,344,345,346,347,348,349,350,351,352,353,354,355,356,357,358,359,360,361,362,363,364,365,366,367,368,369,370,371,372,373,374,375,376,377,378,379,380,381,382,383,384,385,386,387,388,389,390,391,392,393,394,395,396,397,398,399,400],\"xaxis\":\"x\",\"y\":[316399,299952,227675,221233,196705,189430,185644,170292,155232,151586,150206,141224,141687,131946,128211,130281,121175,116663,119459,114348,113262,114925,112897,115232,113055,113218,111628,116058,116078,112433,115881,124842,114608,117854,111954,113526,127837,114629,114758,115445,111784,113755,119964,120619,121606,129891,126345,127605,138214,136485,138667,137380,139731,141800,159306,152708,158774,164599,166160,173038,171626,165632,160751,170128,160153,154066,154046,152714,147419,143106,139337,131164,133464,124664,119801,121558,113111,109855,108014,103365,100325,99584,97226,92821,96705,89104,86064,83778,80816,80174,85256,76407,74327,71879,69593,68467,67568,65510,64138,64497,62935,60695,63066,61130,60114,63993,57476,57188,59660,56980,59776,63652,54825,54383,51871,51312,49408,50755,47491,46467,48866,45827,44417,43346,43252,43983,45427,46229,50662,46853,42973,40906,39450,38378,38991,40286,40399,38931,36797,36975,35932,34789,33685,34033,35303,34397,35847,35705,36683,36519,35185,31932,29573,29315,28443,31911,28644,30338,27192,27427,26523,24230,24591,22282,21845,21969,20572,19449,21606,19220,20080,19321,18902,18323,18011,17366,16242,16513,16410,16192,18623,15567,15630,14967,14518,14330,13660,13730,12930,13829,13514,12721,12950,12451,12036,12276,11622,11355,11363,11126,10628,10499,10424,10131,9860,9878,9599,9556,9392,9087,10511,9083,9014,8816,8574,8583,8765,8208,8315,8008,7805,7599,7583,7288,7282,7871,7149,6767,6965,6702,6530,6730,6338,6360,6395,5995,6152,5808,5765,5613,6554,5674,5404,5643,5458,5290,5284,5287,4984,5065,5241,4911,5127,4583,4513,4910,4650,4462,4459,4506,4316,4226,4081,3995,4172,4078,3898,3773,3837,3714,4154,3679,3644,3529,3508,3592,3551,3410,3334,3304,3298,3175,3182,3095,3050,3143,3021,2960,3104,2900,2860,2772,2926,2700,2843,2601,2599,2530,2421,2530,3097,2452,2387,2368,2344,2312,2289,2277,2319,2278,2204,2118,2184,2057,2047,2234,1925,2030,1903,1966,1885,1871,1893,1758,1845,1783,1670,1724,1766,1684,1892,1672,1600,1518,1569,1491,1564,1506,1499,1395,1509,1447,1446,1384,1421,1466,1320,1302,1384,1329,1350,1225,1215,1178,1158,1172,1184,1146,1063,1132,1630,1026,1055,1015,1063,1047,1013,964,958,1032,961,977,913,921,945,1044,930,952,925,777,867,878,876,884,807,840,817,781,803,752,940,825,767,748,756,721,749,740,749,100702],\"yaxis\":\"y\",\"type\":\"bar\"}],\"name\":\"2003\"},{\"data\":[{\"alignmentgroup\":\"True\",\"hovertemplate\":\"year=2004\\u003cbr\\u003erank=%{marker.color}\\u003cbr\\u003evalue=%{y}\\u003cextra\\u003e\\u003c\\u002fextra\\u003e\",\"ids\":[1,2,3,4,5,6,7,8,9,10,11,12,13,14,15,16,17,18,19,20,21,22,23,24,25,26,27,28,29,30,31,32,33,34,35,36,37,38,39,40,41,42,43,44,45,46,47,48,49,50,51,52,53,54,55,56,57,58,59,60,61,62,63,64,65,66,67,68,69,70,71,72,73,74,75,76,77,78,79,80,81,82,83,84,85,86,87,88,89,90,91,92,93,94,95,96,97,98,99,100,101,102,103,104,105,106,107,108,109,110,111,112,113,114,115,116,117,118,119,120,121,122,123,124,125,126,127,128,129,130,131,132,133,134,135,136,137,138,139,140,141,142,143,144,145,146,147,148,149,150,151,152,153,154,155,156,157,158,159,160,161,162,163,164,165,166,167,168,169,170,171,172,173,174,175,176,177,178,179,180,181,182,183,184,185,186,187,188,189,190,191,192,193,194,195,196,197,198,199,200,201,202,203,204,205,206,207,208,209,210,211,212,213,214,215,216,217,218,219,220,221,222,223,224,225,226,227,228,229,230,231,232,233,234,235,236,237,238,239,240,241,242,243,244,245,246,247,248,249,250,251,252,253,254,255,256,257,258,259,260,261,262,263,264,265,266,267,268,269,270,271,272,273,274,275,276,277,278,279,280,281,282,283,284,285,286,287,288,289,290,291,292,293,294,295,296,297,298,299,300,301,302,303,304,305,306,307,308,309,310,311,312,313,314,315,316,317,318,319,320,321,322,323,324,325,326,327,328,329,330,331,332,333,334,335,336,337,338,339,340,341,342,343,344,345,346,347,348,349,350,351,352,353,354,355,356,357,358,359,360,361,362,363,364,365,366,367,368,369,370,371,372,373,374,375,376,377,378,379,380,381,382,383,384,385,386,387,388,389,390,391,392,393,394,395,396,397,398,399,400],\"legendgroup\":\"\",\"marker\":{\"color\":[1,2,3,4,5,6,7,8,9,10,11,12,13,14,15,16,17,18,19,20,21,22,23,24,25,26,27,28,29,30,31,32,33,34,35,36,37,38,39,40,41,42,43,44,45,46,47,48,49,50,51,52,53,54,55,56,57,58,59,60,61,62,63,64,65,66,67,68,69,70,71,72,73,74,75,76,77,78,79,80,81,82,83,84,85,86,87,88,89,90,91,92,93,94,95,96,97,98,99,100,101,102,103,104,105,106,107,108,109,110,111,112,113,114,115,116,117,118,119,120,121,122,123,124,125,126,127,128,129,130,131,132,133,134,135,136,137,138,139,140,141,142,143,144,145,146,147,148,149,150,151,152,153,154,155,156,157,158,159,160,161,162,163,164,165,166,167,168,169,170,171,172,173,174,175,176,177,178,179,180,181,182,183,184,185,186,187,188,189,190,191,192,193,194,195,196,197,198,199,200,201,202,203,204,205,206,207,208,209,210,211,212,213,214,215,216,217,218,219,220,221,222,223,224,225,226,227,228,229,230,231,232,233,234,235,236,237,238,239,240,241,242,243,244,245,246,247,248,249,250,251,252,253,254,255,256,257,258,259,260,261,262,263,264,265,266,267,268,269,270,271,272,273,274,275,276,277,278,279,280,281,282,283,284,285,286,287,288,289,290,291,292,293,294,295,296,297,298,299,300,301,302,303,304,305,306,307,308,309,310,311,312,313,314,315,316,317,318,319,320,321,322,323,324,325,326,327,328,329,330,331,332,333,334,335,336,337,338,339,340,341,342,343,344,345,346,347,348,349,350,351,352,353,354,355,356,357,358,359,360,361,362,363,364,365,366,367,368,369,370,371,372,373,374,375,376,377,378,379,380,381,382,383,384,385,386,387,388,389,390,391,392,393,394,395,396,397,398,399,400],\"coloraxis\":\"coloraxis\",\"pattern\":{\"shape\":\"\"}},\"name\":\"\",\"offsetgroup\":\"\",\"orientation\":\"v\",\"showlegend\":false,\"textposition\":\"auto\",\"x\":[1,2,3,4,5,6,7,8,9,10,11,12,13,14,15,16,17,18,19,20,21,22,23,24,25,26,27,28,29,30,31,32,33,34,35,36,37,38,39,40,41,42,43,44,45,46,47,48,49,50,51,52,53,54,55,56,57,58,59,60,61,62,63,64,65,66,67,68,69,70,71,72,73,74,75,76,77,78,79,80,81,82,83,84,85,86,87,88,89,90,91,92,93,94,95,96,97,98,99,100,101,102,103,104,105,106,107,108,109,110,111,112,113,114,115,116,117,118,119,120,121,122,123,124,125,126,127,128,129,130,131,132,133,134,135,136,137,138,139,140,141,142,143,144,145,146,147,148,149,150,151,152,153,154,155,156,157,158,159,160,161,162,163,164,165,166,167,168,169,170,171,172,173,174,175,176,177,178,179,180,181,182,183,184,185,186,187,188,189,190,191,192,193,194,195,196,197,198,199,200,201,202,203,204,205,206,207,208,209,210,211,212,213,214,215,216,217,218,219,220,221,222,223,224,225,226,227,228,229,230,231,232,233,234,235,236,237,238,239,240,241,242,243,244,245,246,247,248,249,250,251,252,253,254,255,256,257,258,259,260,261,262,263,264,265,266,267,268,269,270,271,272,273,274,275,276,277,278,279,280,281,282,283,284,285,286,287,288,289,290,291,292,293,294,295,296,297,298,299,300,301,302,303,304,305,306,307,308,309,310,311,312,313,314,315,316,317,318,319,320,321,322,323,324,325,326,327,328,329,330,331,332,333,334,335,336,337,338,339,340,341,342,343,344,345,346,347,348,349,350,351,352,353,354,355,356,357,358,359,360,361,362,363,364,365,366,367,368,369,370,371,372,373,374,375,376,377,378,379,380,381,382,383,384,385,386,387,388,389,390,391,392,393,394,395,396,397,398,399,400],\"xaxis\":\"x\",\"y\":[294835,231079,205049,207106,182838,183829,176687,162187,154795,147182,144203,141405,133583,131624,151445,124008,122456,116190,117650,113694,110379,113000,111850,109918,113163,110898,111165,112680,112341,111602,115033,111703,113702,122043,113521,113799,124090,114946,114267,113400,112136,111865,116866,118313,114037,125989,120876,120205,127879,132219,134643,132179,137887,136370,153793,147412,148810,155759,161059,165418,176056,166538,165199,173710,161963,161560,161823,159113,149151,153903,149571,145980,149349,132967,128810,127977,122577,119497,117632,111458,108438,105932,104268,98041,101016,95519,92991,90972,90521,89061,93380,82223,80831,79885,78814,75946,73993,69684,68582,68478,66893,64115,65123,62676,61349,65956,59818,59548,62267,57506,56091,56928,56658,55988,57772,62966,59167,53234,52954,50004,53919,50455,50723,47068,47035,45729,46903,43177,42254,42803,43026,42491,47073,48393,46743,44852,41601,38839,38784,38671,39036,39115,38420,36926,36287,35722,33544,33965,33584,33187,36581,34253,34281,35148,34991,35787,32687,32306,29398,30747,29080,28577,29530,27147,27342,26221,26660,23877,24990,22683,21608,20864,19971,20211,18985,20744,19838,18890,18690,18956,20736,16929,16863,16285,16235,16213,15733,15375,14916,15737,14688,14290,14108,13905,13535,13819,13467,12630,12369,12426,12286,11587,11555,11469,11281,11021,10582,10618,10315,10001,11395,9554,9518,9517,9539,9355,9480,8853,8783,8626,8565,8733,8254,8284,8194,8998,8008,7807,7851,7651,7480,7531,7415,7267,7353,7155,7029,6743,6657,6501,7454,6297,6228,6258,5998,6121,5883,5834,5486,5849,5968,5491,5882,5322,5153,5427,5100,5044,5002,4786,4854,4844,4752,4661,4475,4565,4321,4393,4240,4187,4592,4048,3967,3973,3963,3956,3870,3816,3784,3705,3812,3497,3508,3456,3466,3576,3399,3251,3404,3129,3233,3100,3280,3005,3111,3076,2872,2913,2823,2883,3682,2846,2791,2772,2601,2666,2658,2518,2610,2608,2407,2421,2518,2428,2297,2487,2200,2308,2181,2171,2200,2167,2075,2157,2003,2162,2015,1908,1843,1890,2109,1878,1821,1850,1731,1738,1776,1830,1768,1739,1739,1613,1615,1584,1530,1610,1564,1427,1473,1501,1633,1466,1429,1437,1379,1386,1293,1345,1315,1272,1825,1322,1385,1231,1194,1264,1150,1215,1132,1190,1134,1148,1090,1077,1069,1153,991,1079,1132,1040,1054,998,1019,1001,967,1023,998,930,880,885,1026,947,931,895,913,912,860,836,825,115339],\"yaxis\":\"y\",\"type\":\"bar\"}],\"name\":\"2004\"},{\"data\":[{\"alignmentgroup\":\"True\",\"hovertemplate\":\"year=2005\\u003cbr\\u003erank=%{marker.color}\\u003cbr\\u003evalue=%{y}\\u003cextra\\u003e\\u003c\\u002fextra\\u003e\",\"ids\":[1,2,3,4,5,6,7,8,9,10,11,12,13,14,15,16,17,18,19,20,21,22,23,24,25,26,27,28,29,30,31,32,33,34,35,36,37,38,39,40,41,42,43,44,45,46,47,48,49,50,51,52,53,54,55,56,57,58,59,60,61,62,63,64,65,66,67,68,69,70,71,72,73,74,75,76,77,78,79,80,81,82,83,84,85,86,87,88,89,90,91,92,93,94,95,96,97,98,99,100,101,102,103,104,105,106,107,108,109,110,111,112,113,114,115,116,117,118,119,120,121,122,123,124,125,126,127,128,129,130,131,132,133,134,135,136,137,138,139,140,141,142,143,144,145,146,147,148,149,150,151,152,153,154,155,156,157,158,159,160,161,162,163,164,165,166,167,168,169,170,171,172,173,174,175,176,177,178,179,180,181,182,183,184,185,186,187,188,189,190,191,192,193,194,195,196,197,198,199,200,201,202,203,204,205,206,207,208,209,210,211,212,213,214,215,216,217,218,219,220,221,222,223,224,225,226,227,228,229,230,231,232,233,234,235,236,237,238,239,240,241,242,243,244,245,246,247,248,249,250,251,252,253,254,255,256,257,258,259,260,261,262,263,264,265,266,267,268,269,270,271,272,273,274,275,276,277,278,279,280,281,282,283,284,285,286,287,288,289,290,291,292,293,294,295,296,297,298,299,300,301,302,303,304,305,306,307,308,309,310,311,312,313,314,315,316,317,318,319,320,321,322,323,324,325,326,327,328,329,330,331,332,333,334,335,336,337,338,339,340,341,342,343,344,345,346,347,348,349,350,351,352,353,354,355,356,357,358,359,360,361,362,363,364,365,366,367,368,369,370,371,372,373,374,375,376,377,378,379,380,381,382,383,384,385,386,387,388,389,390,391,392,393,394,395,396,397,398,399,400],\"legendgroup\":\"\",\"marker\":{\"color\":[1,2,3,4,5,6,7,8,9,10,11,12,13,14,15,16,17,18,19,20,21,22,23,24,25,26,27,28,29,30,31,32,33,34,35,36,37,38,39,40,41,42,43,44,45,46,47,48,49,50,51,52,53,54,55,56,57,58,59,60,61,62,63,64,65,66,67,68,69,70,71,72,73,74,75,76,77,78,79,80,81,82,83,84,85,86,87,88,89,90,91,92,93,94,95,96,97,98,99,100,101,102,103,104,105,106,107,108,109,110,111,112,113,114,115,116,117,118,119,120,121,122,123,124,125,126,127,128,129,130,131,132,133,134,135,136,137,138,139,140,141,142,143,144,145,146,147,148,149,150,151,152,153,154,155,156,157,158,159,160,161,162,163,164,165,166,167,168,169,170,171,172,173,174,175,176,177,178,179,180,181,182,183,184,185,186,187,188,189,190,191,192,193,194,195,196,197,198,199,200,201,202,203,204,205,206,207,208,209,210,211,212,213,214,215,216,217,218,219,220,221,222,223,224,225,226,227,228,229,230,231,232,233,234,235,236,237,238,239,240,241,242,243,244,245,246,247,248,249,250,251,252,253,254,255,256,257,258,259,260,261,262,263,264,265,266,267,268,269,270,271,272,273,274,275,276,277,278,279,280,281,282,283,284,285,286,287,288,289,290,291,292,293,294,295,296,297,298,299,300,301,302,303,304,305,306,307,308,309,310,311,312,313,314,315,316,317,318,319,320,321,322,323,324,325,326,327,328,329,330,331,332,333,334,335,336,337,338,339,340,341,342,343,344,345,346,347,348,349,350,351,352,353,354,355,356,357,358,359,360,361,362,363,364,365,366,367,368,369,370,371,372,373,374,375,376,377,378,379,380,381,382,383,384,385,386,387,388,389,390,391,392,393,394,395,396,397,398,399,400],\"coloraxis\":\"coloraxis\",\"pattern\":{\"shape\":\"\"}},\"name\":\"\",\"offsetgroup\":\"\",\"orientation\":\"v\",\"showlegend\":false,\"textposition\":\"auto\",\"x\":[1,2,3,4,5,6,7,8,9,10,11,12,13,14,15,16,17,18,19,20,21,22,23,24,25,26,27,28,29,30,31,32,33,34,35,36,37,38,39,40,41,42,43,44,45,46,47,48,49,50,51,52,53,54,55,56,57,58,59,60,61,62,63,64,65,66,67,68,69,70,71,72,73,74,75,76,77,78,79,80,81,82,83,84,85,86,87,88,89,90,91,92,93,94,95,96,97,98,99,100,101,102,103,104,105,106,107,108,109,110,111,112,113,114,115,116,117,118,119,120,121,122,123,124,125,126,127,128,129,130,131,132,133,134,135,136,137,138,139,140,141,142,143,144,145,146,147,148,149,150,151,152,153,154,155,156,157,158,159,160,161,162,163,164,165,166,167,168,169,170,171,172,173,174,175,176,177,178,179,180,181,182,183,184,185,186,187,188,189,190,191,192,193,194,195,196,197,198,199,200,201,202,203,204,205,206,207,208,209,210,211,212,213,214,215,216,217,218,219,220,221,222,223,224,225,226,227,228,229,230,231,232,233,234,235,236,237,238,239,240,241,242,243,244,245,246,247,248,249,250,251,252,253,254,255,256,257,258,259,260,261,262,263,264,265,266,267,268,269,270,271,272,273,274,275,276,277,278,279,280,281,282,283,284,285,286,287,288,289,290,291,292,293,294,295,296,297,298,299,300,301,302,303,304,305,306,307,308,309,310,311,312,313,314,315,316,317,318,319,320,321,322,323,324,325,326,327,328,329,330,331,332,333,334,335,336,337,338,339,340,341,342,343,344,345,346,347,348,349,350,351,352,353,354,355,356,357,358,359,360,361,362,363,364,365,366,367,368,369,370,371,372,373,374,375,376,377,378,379,380,381,382,383,384,385,386,387,388,389,390,391,392,393,394,395,396,397,398,399,400],\"xaxis\":\"x\",\"y\":[338653,242283,218790,221556,199391,192759,183935,172761,161347,159972,152892,151730,143738,143697,163591,134213,128933,127715,126156,121689,119883,119404,118931,116462,117650,118823,118743,118504,117803,116602,122476,118388,117527,116147,116465,127831,129659,121109,119322,118469,116360,116261,119639,117569,118979,124675,122040,118797,123319,127112,130172,128770,133866,132612,145268,138733,141657,146492,149239,151737,166686,161592,167892,177077,164346,167399,165224,162789,161444,157896,155376,151903,164097,152385,145247,146579,133513,129443,126542,121806,119839,119263,115474,107934,109826,104472,100592,97667,93180,95220,100622,90125,88966,87927,86377,83026,83691,82244,77299,76624,74790,70677,70262,67627,67053,70675,64016,63603,65851,60420,60351,60060,59662,57636,58538,57772,55684,55816,54711,62222,60735,55494,54698,52644,51329,50087,54791,48803,47612,45228,45411,42862,43124,42970,43650,43863,43805,48594,49581,43945,44263,40839,40378,38375,39678,38274,38225,38832,37139,36041,39045,33869,33670,34656,34143,32537,33308,33701,33391,34060,34432,31864,33245,31962,29391,30248,29865,29048,29753,29202,27378,26261,25933,24247,23687,23956,21624,20708,19986,19825,23510,19701,20132,19852,19070,19351,18046,17314,16749,16653,16587,15912,15857,15297,15371,15577,15019,14711,14840,14436,13873,13649,13246,12810,12680,12634,12138,12123,11535,11715,13060,11156,10691,10584,10308,10340,10660,10035,9766,9528,9573,9351,9454,8950,9172,9493,8676,8682,8591,8472,8530,8102,8322,7927,8138,7972,7848,7506,7686,7470,8357,7236,7129,7317,7139,7101,6970,6717,6668,6548,6711,6260,6713,6183,5895,6260,5853,6014,5741,5585,5577,5369,5494,5291,5151,5183,5047,4965,4838,4815,5344,4583,4602,4796,4625,4572,4471,4494,4205,4246,4377,4134,4004,4050,3874,3966,3884,3881,3831,3640,3624,3605,3585,3557,3560,3431,3513,3446,3371,3414,4089,3217,3167,3165,3244,3036,3065,2926,2934,3164,3021,2900,2845,2775,2768,3013,2642,2640,2656,2550,2513,2504,2495,2418,2428,2535,2399,2349,2215,2159,2428,2229,2182,2087,2159,2124,2167,2105,2070,2040,2040,1933,1891,1887,1857,1933,1820,1817,1782,1773,1931,1708,1662,1664,1719,1623,1565,1575,1626,1592,2097,1517,1583,1507,1530,1435,1428,1412,1344,1424,1394,1427,1384,1407,1358,1481,1273,1297,1257,1187,1181,1240,1244,1113,1153,1183,1108,1128,1122,1099,1307,1087,1065,1082,1011,1053,1021,1046,1011,135219],\"yaxis\":\"y\",\"type\":\"bar\"}],\"name\":\"2005\"},{\"data\":[{\"alignmentgroup\":\"True\",\"hovertemplate\":\"year=2006\\u003cbr\\u003erank=%{marker.color}\\u003cbr\\u003evalue=%{y}\\u003cextra\\u003e\\u003c\\u002fextra\\u003e\",\"ids\":[1,2,3,4,5,6,7,8,9,10,11,12,13,14,15,16,17,18,19,20,21,22,23,24,25,26,27,28,29,30,31,32,33,34,35,36,37,38,39,40,41,42,43,44,45,46,47,48,49,50,51,52,53,54,55,56,57,58,59,60,61,62,63,64,65,66,67,68,69,70,71,72,73,74,75,76,77,78,79,80,81,82,83,84,85,86,87,88,89,90,91,92,93,94,95,96,97,98,99,100,101,102,103,104,105,106,107,108,109,110,111,112,113,114,115,116,117,118,119,120,121,122,123,124,125,126,127,128,129,130,131,132,133,134,135,136,137,138,139,140,141,142,143,144,145,146,147,148,149,150,151,152,153,154,155,156,157,158,159,160,161,162,163,164,165,166,167,168,169,170,171,172,173,174,175,176,177,178,179,180,181,182,183,184,185,186,187,188,189,190,191,192,193,194,195,196,197,198,199,200,201,202,203,204,205,206,207,208,209,210,211,212,213,214,215,216,217,218,219,220,221,222,223,224,225,226,227,228,229,230,231,232,233,234,235,236,237,238,239,240,241,242,243,244,245,246,247,248,249,250,251,252,253,254,255,256,257,258,259,260,261,262,263,264,265,266,267,268,269,270,271,272,273,274,275,276,277,278,279,280,281,282,283,284,285,286,287,288,289,290,291,292,293,294,295,296,297,298,299,300,301,302,303,304,305,306,307,308,309,310,311,312,313,314,315,316,317,318,319,320,321,322,323,324,325,326,327,328,329,330,331,332,333,334,335,336,337,338,339,340,341,342,343,344,345,346,347,348,349,350,351,352,353,354,355,356,357,358,359,360,361,362,363,364,365,366,367,368,369,370,371,372,373,374,375,376,377,378,379,380,381,382,383,384,385,386,387,388,389,390,391,392,393,394,395,396,397,398,399,400],\"legendgroup\":\"\",\"marker\":{\"color\":[1,2,3,4,5,6,7,8,9,10,11,12,13,14,15,16,17,18,19,20,21,22,23,24,25,26,27,28,29,30,31,32,33,34,35,36,37,38,39,40,41,42,43,44,45,46,47,48,49,50,51,52,53,54,55,56,57,58,59,60,61,62,63,64,65,66,67,68,69,70,71,72,73,74,75,76,77,78,79,80,81,82,83,84,85,86,87,88,89,90,91,92,93,94,95,96,97,98,99,100,101,102,103,104,105,106,107,108,109,110,111,112,113,114,115,116,117,118,119,120,121,122,123,124,125,126,127,128,129,130,131,132,133,134,135,136,137,138,139,140,141,142,143,144,145,146,147,148,149,150,151,152,153,154,155,156,157,158,159,160,161,162,163,164,165,166,167,168,169,170,171,172,173,174,175,176,177,178,179,180,181,182,183,184,185,186,187,188,189,190,191,192,193,194,195,196,197,198,199,200,201,202,203,204,205,206,207,208,209,210,211,212,213,214,215,216,217,218,219,220,221,222,223,224,225,226,227,228,229,230,231,232,233,234,235,236,237,238,239,240,241,242,243,244,245,246,247,248,249,250,251,252,253,254,255,256,257,258,259,260,261,262,263,264,265,266,267,268,269,270,271,272,273,274,275,276,277,278,279,280,281,282,283,284,285,286,287,288,289,290,291,292,293,294,295,296,297,298,299,300,301,302,303,304,305,306,307,308,309,310,311,312,313,314,315,316,317,318,319,320,321,322,323,324,325,326,327,328,329,330,331,332,333,334,335,336,337,338,339,340,341,342,343,344,345,346,347,348,349,350,351,352,353,354,355,356,357,358,359,360,361,362,363,364,365,366,367,368,369,370,371,372,373,374,375,376,377,378,379,380,381,382,383,384,385,386,387,388,389,390,391,392,393,394,395,396,397,398,399,400],\"coloraxis\":\"coloraxis\",\"pattern\":{\"shape\":\"\"}},\"name\":\"\",\"offsetgroup\":\"\",\"orientation\":\"v\",\"showlegend\":false,\"textposition\":\"auto\",\"x\":[1,2,3,4,5,6,7,8,9,10,11,12,13,14,15,16,17,18,19,20,21,22,23,24,25,26,27,28,29,30,31,32,33,34,35,36,37,38,39,40,41,42,43,44,45,46,47,48,49,50,51,52,53,54,55,56,57,58,59,60,61,62,63,64,65,66,67,68,69,70,71,72,73,74,75,76,77,78,79,80,81,82,83,84,85,86,87,88,89,90,91,92,93,94,95,96,97,98,99,100,101,102,103,104,105,106,107,108,109,110,111,112,113,114,115,116,117,118,119,120,121,122,123,124,125,126,127,128,129,130,131,132,133,134,135,136,137,138,139,140,141,142,143,144,145,146,147,148,149,150,151,152,153,154,155,156,157,158,159,160,161,162,163,164,165,166,167,168,169,170,171,172,173,174,175,176,177,178,179,180,181,182,183,184,185,186,187,188,189,190,191,192,193,194,195,196,197,198,199,200,201,202,203,204,205,206,207,208,209,210,211,212,213,214,215,216,217,218,219,220,221,222,223,224,225,226,227,228,229,230,231,232,233,234,235,236,237,238,239,240,241,242,243,244,245,246,247,248,249,250,251,252,253,254,255,256,257,258,259,260,261,262,263,264,265,266,267,268,269,270,271,272,273,274,275,276,277,278,279,280,281,282,283,284,285,286,287,288,289,290,291,292,293,294,295,296,297,298,299,300,301,302,303,304,305,306,307,308,309,310,311,312,313,314,315,316,317,318,319,320,321,322,323,324,325,326,327,328,329,330,331,332,333,334,335,336,337,338,339,340,341,342,343,344,345,346,347,348,349,350,351,352,353,354,355,356,357,358,359,360,361,362,363,364,365,366,367,368,369,370,371,372,373,374,375,376,377,378,379,380,381,382,383,384,385,386,387,388,389,390,391,392,393,394,395,396,397,398,399,400],\"xaxis\":\"x\",\"y\":[335923,246075,216922,220535,194035,191057,177762,171351,156085,155303,146289,146434,138435,134668,169495,129828,125362,120188,123959,117111,116955,115730,114327,113426,112315,112945,112621,114234,115094,112427,115996,116190,115992,115073,112498,114287,121181,128355,116732,115880,116201,112615,119076,116489,117822,123366,126978,122919,123761,123444,127317,125984,130707,130555,142137,135787,140079,140286,143361,145699,157972,150051,157396,166176,160656,162944,168665,169026,168749,164510,164974,163961,171879,155380,152635,159818,152909,150172,147814,135440,130969,128263,123437,124487,127254,117791,113659,110891,106012,105320,111666,98520,96615,95763,93301,91437,90543,87578,84815,83952,88900,83296,81836,78034,75635,79756,71459,69444,71230,66596,64597,65011,64317,61966,62106,61732,57665,58163,57000,56955,60824,55239,56338,54870,59333,59846,62927,56535,55038,52193,51662,51134,49240,51522,48226,48713,46205,44837,45038,44320,44718,44266,43801,45176,49363,45348,42884,41722,39816,38479,42605,37199,37441,36829,38428,36866,36987,37440,35369,34308,34448,32991,32906,32432,33543,33299,32721,32664,34002,32094,31595,29894,29770,29801,30212,29612,29541,27489,26260,26807,29314,24747,23698,22423,21774,21254,21442,20758,19844,20447,20361,19587,19155,19162,18467,18092,17260,16754,16581,16574,16529,15679,15477,15249,15449,14794,14651,14436,13593,13409,15317,12949,12987,12787,12461,12326,12448,11941,11525,11349,11460,10997,10787,10598,10809,11317,9870,9846,9755,9571,9870,9542,9312,8935,9113,8703,8699,8503,8250,8512,9335,8366,7957,8233,8047,8030,7829,7738,7735,7653,7910,7523,7476,7081,7089,7242,6880,6805,6816,6604,6635,6332,6345,6183,6121,5980,6049,5916,5741,5669,6213,5570,5552,5428,5440,5379,5248,5028,4993,4982,5402,4787,4699,4920,4615,4642,4478,4550,4610,4430,4165,4213,4104,4113,4066,4170,4051,3954,3880,4033,4737,3658,3735,3709,3582,3589,3619,3504,3547,3382,3429,3347,3367,3254,3149,3450,3194,3046,3043,3029,2972,3230,3008,2893,2955,2936,2823,2727,2642,2701,3003,2733,2653,2489,2452,2551,2565,2521,2382,2417,2396,2275,2333,2342,2206,2352,2201,2137,2164,2129,2287,2079,2083,2037,1944,2001,1911,1950,1886,1810,2514,1883,1784,1804,1746,1742,1773,1708,1676,1657,1694,1564,1637,1578,1669,1716,1535,1546,1548,1509,1511,1490,1424,1385,1379,1518,1327,1388,1364,1283,1469,1298,1233,1252,1239,1240,1159,1202,1123,153780],\"yaxis\":\"y\",\"type\":\"bar\"}],\"name\":\"2006\"},{\"data\":[{\"alignmentgroup\":\"True\",\"hovertemplate\":\"year=2007\\u003cbr\\u003erank=%{marker.color}\\u003cbr\\u003evalue=%{y}\\u003cextra\\u003e\\u003c\\u002fextra\\u003e\",\"ids\":[1,2,3,4,5,6,7,8,9,10,11,12,13,14,15,16,17,18,19,20,21,22,23,24,25,26,27,28,29,30,31,32,33,34,35,36,37,38,39,40,41,42,43,44,45,46,47,48,49,50,51,52,53,54,55,56,57,58,59,60,61,62,63,64,65,66,67,68,69,70,71,72,73,74,75,76,77,78,79,80,81,82,83,84,85,86,87,88,89,90,91,92,93,94,95,96,97,98,99,100,101,102,103,104,105,106,107,108,109,110,111,112,113,114,115,116,117,118,119,120,121,122,123,124,125,126,127,128,129,130,131,132,133,134,135,136,137,138,139,140,141,142,143,144,145,146,147,148,149,150,151,152,153,154,155,156,157,158,159,160,161,162,163,164,165,166,167,168,169,170,171,172,173,174,175,176,177,178,179,180,181,182,183,184,185,186,187,188,189,190,191,192,193,194,195,196,197,198,199,200,201,202,203,204,205,206,207,208,209,210,211,212,213,214,215,216,217,218,219,220,221,222,223,224,225,226,227,228,229,230,231,232,233,234,235,236,237,238,239,240,241,242,243,244,245,246,247,248,249,250,251,252,253,254,255,256,257,258,259,260,261,262,263,264,265,266,267,268,269,270,271,272,273,274,275,276,277,278,279,280,281,282,283,284,285,286,287,288,289,290,291,292,293,294,295,296,297,298,299,300,301,302,303,304,305,306,307,308,309,310,311,312,313,314,315,316,317,318,319,320,321,322,323,324,325,326,327,328,329,330,331,332,333,334,335,336,337,338,339,340,341,342,343,344,345,346,347,348,349,350,351,352,353,354,355,356,357,358,359,360,361,362,363,364,365,366,367,368,369,370,371,372,373,374,375,376,377,378,379,380,381,382,383,384,385,386,387,388,389,390,391,392,393,394,395,396,397,398,399,400],\"legendgroup\":\"\",\"marker\":{\"color\":[1,2,3,4,5,6,7,8,9,10,11,12,13,14,15,16,17,18,19,20,21,22,23,24,25,26,27,28,29,30,31,32,33,34,35,36,37,38,39,40,41,42,43,44,45,46,47,48,49,50,51,52,53,54,55,56,57,58,59,60,61,62,63,64,65,66,67,68,69,70,71,72,73,74,75,76,77,78,79,80,81,82,83,84,85,86,87,88,89,90,91,92,93,94,95,96,97,98,99,100,101,102,103,104,105,106,107,108,109,110,111,112,113,114,115,116,117,118,119,120,121,122,123,124,125,126,127,128,129,130,131,132,133,134,135,136,137,138,139,140,141,142,143,144,145,146,147,148,149,150,151,152,153,154,155,156,157,158,159,160,161,162,163,164,165,166,167,168,169,170,171,172,173,174,175,176,177,178,179,180,181,182,183,184,185,186,187,188,189,190,191,192,193,194,195,196,197,198,199,200,201,202,203,204,205,206,207,208,209,210,211,212,213,214,215,216,217,218,219,220,221,222,223,224,225,226,227,228,229,230,231,232,233,234,235,236,237,238,239,240,241,242,243,244,245,246,247,248,249,250,251,252,253,254,255,256,257,258,259,260,261,262,263,264,265,266,267,268,269,270,271,272,273,274,275,276,277,278,279,280,281,282,283,284,285,286,287,288,289,290,291,292,293,294,295,296,297,298,299,300,301,302,303,304,305,306,307,308,309,310,311,312,313,314,315,316,317,318,319,320,321,322,323,324,325,326,327,328,329,330,331,332,333,334,335,336,337,338,339,340,341,342,343,344,345,346,347,348,349,350,351,352,353,354,355,356,357,358,359,360,361,362,363,364,365,366,367,368,369,370,371,372,373,374,375,376,377,378,379,380,381,382,383,384,385,386,387,388,389,390,391,392,393,394,395,396,397,398,399,400],\"coloraxis\":\"coloraxis\",\"pattern\":{\"shape\":\"\"}},\"name\":\"\",\"offsetgroup\":\"\",\"orientation\":\"v\",\"showlegend\":false,\"textposition\":\"auto\",\"x\":[1,2,3,4,5,6,7,8,9,10,11,12,13,14,15,16,17,18,19,20,21,22,23,24,25,26,27,28,29,30,31,32,33,34,35,36,37,38,39,40,41,42,43,44,45,46,47,48,49,50,51,52,53,54,55,56,57,58,59,60,61,62,63,64,65,66,67,68,69,70,71,72,73,74,75,76,77,78,79,80,81,82,83,84,85,86,87,88,89,90,91,92,93,94,95,96,97,98,99,100,101,102,103,104,105,106,107,108,109,110,111,112,113,114,115,116,117,118,119,120,121,122,123,124,125,126,127,128,129,130,131,132,133,134,135,136,137,138,139,140,141,142,143,144,145,146,147,148,149,150,151,152,153,154,155,156,157,158,159,160,161,162,163,164,165,166,167,168,169,170,171,172,173,174,175,176,177,178,179,180,181,182,183,184,185,186,187,188,189,190,191,192,193,194,195,196,197,198,199,200,201,202,203,204,205,206,207,208,209,210,211,212,213,214,215,216,217,218,219,220,221,222,223,224,225,226,227,228,229,230,231,232,233,234,235,236,237,238,239,240,241,242,243,244,245,246,247,248,249,250,251,252,253,254,255,256,257,258,259,260,261,262,263,264,265,266,267,268,269,270,271,272,273,274,275,276,277,278,279,280,281,282,283,284,285,286,287,288,289,290,291,292,293,294,295,296,297,298,299,300,301,302,303,304,305,306,307,308,309,310,311,312,313,314,315,316,317,318,319,320,321,322,323,324,325,326,327,328,329,330,331,332,333,334,335,336,337,338,339,340,341,342,343,344,345,346,347,348,349,350,351,352,353,354,355,356,357,358,359,360,361,362,363,364,365,366,367,368,369,370,371,372,373,374,375,376,377,378,379,380,381,382,383,384,385,386,387,388,389,390,391,392,393,394,395,396,397,398,399,400],\"xaxis\":\"x\",\"y\":[271425,201520,178091,185531,159865,158159,163100,155609,142846,136840,132540,133634,126327,125172,151222,119049,115973,111335,112308,111147,109474,109030,108446,106244,110105,107975,106619,109600,109197,110355,112279,109482,111534,111506,111453,110220,119057,110869,110458,123880,112935,111454,117875,113524,114145,119603,115846,118231,130819,124028,125585,122266,124234,124097,137614,132594,134572,135508,139685,143128,153650,145942,149410,157874,155813,158909,164042,162530,162954,163694,162760,163081,173121,160338,163225,165408,154070,153192,154399,150192,150854,142518,137897,127623,129766,123928,120804,119884,119951,116143,121189,106405,104779,102143,101258,101213,98867,96036,96397,96054,92132,87214,86279,83491,83889,88576,84594,85698,84368,77789,75592,71431,70103,67883,68019,68169,63180,63570,61614,60813,65224,58003,57249,57091,56409,56180,56975,55121,55630,57373,53761,54191,54674,52351,56467,54929,52883,51739,52427,49256,50414,47026,47233,44115,46522,43998,42862,42928,45326,41297,46865,41553,43933,44427,44733,42023,39899,40263,40553,37833,37096,36588,37542,36302,36005,37232,35353,33186,34436,32783,33796,31447,31415,32028,30725,33848,32261,32014,31329,31498,34535,28351,29722,28519,28514,28988,29182,27297,27152,26679,24891,23599,23618,21532,22252,21626,20820,20716,20520,20500,20172,19177,18691,18280,18047,17372,17096,16798,16324,15783,18118,15187,15154,14518,14339,14289,14803,13913,13507,13394,13367,12747,12669,12247,12450,13254,11763,11866,11401,11004,11160,11009,10570,10385,10472,10007,9842,9661,9707,9576,10892,9243,9036,8980,8650,8929,8733,8388,8442,8665,8930,8077,8437,7724,7846,8056,7614,7621,7488,7482,7486,7058,7292,7077,6830,6815,6770,6639,6413,6541,6974,6212,6227,6318,6142,6246,6126,5776,5933,5765,6322,5673,5592,5677,5587,5413,5305,5506,5387,5037,5306,4854,5002,4764,4980,4868,4724,4603,4553,4896,5868,4313,4249,4245,4280,4266,4092,4028,4109,3941,4047,3989,3869,3671,3722,3981,3748,3572,3500,3486,3563,3380,3498,3352,3470,3623,3362,3246,3251,3127,3505,3106,3126,3143,2983,3110,2944,2919,2838,2858,2910,3015,3066,2739,2748,2790,2670,2555,2622,2601,2923,2508,2414,2468,2497,2487,2383,2433,2353,2345,3027,2294,2285,2197,2147,2253,2144,2224,2069,2231,2152,2045,2076,2063,1992,2192,1942,1830,1977,1885,1948,1834,1816,1781,1712,1749,1734,1851,1720,1607,1872,1624,1616,1601,1602,1495,1516,1508,1445,194459],\"yaxis\":\"y\",\"type\":\"bar\"}],\"name\":\"2007\"},{\"data\":[{\"alignmentgroup\":\"True\",\"hovertemplate\":\"year=2008\\u003cbr\\u003erank=%{marker.color}\\u003cbr\\u003evalue=%{y}\\u003cextra\\u003e\\u003c\\u002fextra\\u003e\",\"ids\":[1,2,3,4,5,6,7,8,9,10,11,12,13,14,15,16,17,18,19,20,21,22,23,24,25,26,27,28,29,30,31,32,33,34,35,36,37,38,39,40,41,42,43,44,45,46,47,48,49,50,51,52,53,54,55,56,57,58,59,60,61,62,63,64,65,66,67,68,69,70,71,72,73,74,75,76,77,78,79,80,81,82,83,84,85,86,87,88,89,90,91,92,93,94,95,96,97,98,99,100,101,102,103,104,105,106,107,108,109,110,111,112,113,114,115,116,117,118,119,120,121,122,123,124,125,126,127,128,129,130,131,132,133,134,135,136,137,138,139,140,141,142,143,144,145,146,147,148,149,150,151,152,153,154,155,156,157,158,159,160,161,162,163,164,165,166,167,168,169,170,171,172,173,174,175,176,177,178,179,180,181,182,183,184,185,186,187,188,189,190,191,192,193,194,195,196,197,198,199,200,201,202,203,204,205,206,207,208,209,210,211,212,213,214,215,216,217,218,219,220,221,222,223,224,225,226,227,228,229,230,231,232,233,234,235,236,237,238,239,240,241,242,243,244,245,246,247,248,249,250,251,252,253,254,255,256,257,258,259,260,261,262,263,264,265,266,267,268,269,270,271,272,273,274,275,276,277,278,279,280,281,282,283,284,285,286,287,288,289,290,291,292,293,294,295,296,297,298,299,300,301,302,303,304,305,306,307,308,309,310,311,312,313,314,315,316,317,318,319,320,321,322,323,324,325,326,327,328,329,330,331,332,333,334,335,336,337,338,339,340,341,342,343,344,345,346,347,348,349,350,351,352,353,354,355,356,357,358,359,360,361,362,363,364,365,366,367,368,369,370,371,372,373,374,375,376,377,378,379,380,381,382,383,384,385,386,387,388,389,390,391,392,393,394,395,396,397,398,399,400],\"legendgroup\":\"\",\"marker\":{\"color\":[1,2,3,4,5,6,7,8,9,10,11,12,13,14,15,16,17,18,19,20,21,22,23,24,25,26,27,28,29,30,31,32,33,34,35,36,37,38,39,40,41,42,43,44,45,46,47,48,49,50,51,52,53,54,55,56,57,58,59,60,61,62,63,64,65,66,67,68,69,70,71,72,73,74,75,76,77,78,79,80,81,82,83,84,85,86,87,88,89,90,91,92,93,94,95,96,97,98,99,100,101,102,103,104,105,106,107,108,109,110,111,112,113,114,115,116,117,118,119,120,121,122,123,124,125,126,127,128,129,130,131,132,133,134,135,136,137,138,139,140,141,142,143,144,145,146,147,148,149,150,151,152,153,154,155,156,157,158,159,160,161,162,163,164,165,166,167,168,169,170,171,172,173,174,175,176,177,178,179,180,181,182,183,184,185,186,187,188,189,190,191,192,193,194,195,196,197,198,199,200,201,202,203,204,205,206,207,208,209,210,211,212,213,214,215,216,217,218,219,220,221,222,223,224,225,226,227,228,229,230,231,232,233,234,235,236,237,238,239,240,241,242,243,244,245,246,247,248,249,250,251,252,253,254,255,256,257,258,259,260,261,262,263,264,265,266,267,268,269,270,271,272,273,274,275,276,277,278,279,280,281,282,283,284,285,286,287,288,289,290,291,292,293,294,295,296,297,298,299,300,301,302,303,304,305,306,307,308,309,310,311,312,313,314,315,316,317,318,319,320,321,322,323,324,325,326,327,328,329,330,331,332,333,334,335,336,337,338,339,340,341,342,343,344,345,346,347,348,349,350,351,352,353,354,355,356,357,358,359,360,361,362,363,364,365,366,367,368,369,370,371,372,373,374,375,376,377,378,379,380,381,382,383,384,385,386,387,388,389,390,391,392,393,394,395,396,397,398,399,400],\"coloraxis\":\"coloraxis\",\"pattern\":{\"shape\":\"\"}},\"name\":\"\",\"offsetgroup\":\"\",\"orientation\":\"v\",\"showlegend\":false,\"textposition\":\"auto\",\"x\":[1,2,3,4,5,6,7,8,9,10,11,12,13,14,15,16,17,18,19,20,21,22,23,24,25,26,27,28,29,30,31,32,33,34,35,36,37,38,39,40,41,42,43,44,45,46,47,48,49,50,51,52,53,54,55,56,57,58,59,60,61,62,63,64,65,66,67,68,69,70,71,72,73,74,75,76,77,78,79,80,81,82,83,84,85,86,87,88,89,90,91,92,93,94,95,96,97,98,99,100,101,102,103,104,105,106,107,108,109,110,111,112,113,114,115,116,117,118,119,120,121,122,123,124,125,126,127,128,129,130,131,132,133,134,135,136,137,138,139,140,141,142,143,144,145,146,147,148,149,150,151,152,153,154,155,156,157,158,159,160,161,162,163,164,165,166,167,168,169,170,171,172,173,174,175,176,177,178,179,180,181,182,183,184,185,186,187,188,189,190,191,192,193,194,195,196,197,198,199,200,201,202,203,204,205,206,207,208,209,210,211,212,213,214,215,216,217,218,219,220,221,222,223,224,225,226,227,228,229,230,231,232,233,234,235,236,237,238,239,240,241,242,243,244,245,246,247,248,249,250,251,252,253,254,255,256,257,258,259,260,261,262,263,264,265,266,267,268,269,270,271,272,273,274,275,276,277,278,279,280,281,282,283,284,285,286,287,288,289,290,291,292,293,294,295,296,297,298,299,300,301,302,303,304,305,306,307,308,309,310,311,312,313,314,315,316,317,318,319,320,321,322,323,324,325,326,327,328,329,330,331,332,333,334,335,336,337,338,339,340,341,342,343,344,345,346,347,348,349,350,351,352,353,354,355,356,357,358,359,360,361,362,363,364,365,366,367,368,369,370,371,372,373,374,375,376,377,378,379,380,381,382,383,384,385,386,387,388,389,390,391,392,393,394,395,396,397,398,399,400],\"xaxis\":\"x\",\"y\":[284950,210585,180400,184288,156527,155345,153650,154141,138998,132544,131599,131049,124228,123178,145569,119637,114073,114690,113328,109068,108922,111707,107742,105868,109340,106603,107412,106456,106649,106409,111323,109187,106884,108274,108133,109053,116530,108886,107013,106968,106341,106381,122450,106694,107850,114030,107861,108623,114350,114281,117413,115695,122502,113319,121584,115514,121197,121650,122771,123631,138660,128803,132757,132509,131361,132603,137708,139750,138618,141984,145247,141712,152677,145393,145553,148463,144752,144853,146443,143443,140690,139943,137169,134027,139510,131747,126168,127031,119235,116574,126178,114001,108960,106501,104639,104015,103126,99128,97626,97866,97209,93210,91534,88424,87937,91608,83786,85033,89978,85136,81158,78278,78673,75655,75337,73164,71068,70629,67459,66794,71651,62454,62329,60394,60065,60097,60160,57851,56401,56390,56194,54529,54356,53427,52356,55056,51690,53139,52945,50774,55253,51174,52513,51210,49522,50445,48051,45927,45938,44936,50120,44156,41896,42256,41894,42550,41942,41272,42447,40196,41203,41570,39145,38278,38246,38312,38178,38422,36686,36541,37012,34921,34652,34444,33462,35384,32966,31907,31929,30611,35375,30635,31981,30226,31745,30087,29547,29894,28882,29600,27626,28635,27899,26695,28375,28605,27594,27174,26458,25493,24804,22987,22698,22050,21123,21283,20519,20066,20022,19638,21785,18797,18457,18464,17815,17568,17473,16728,16119,15745,16114,15257,15168,14697,14809,15610,14093,14062,13671,13518,13341,12909,12489,12636,12520,12140,11803,11666,11488,11684,12540,10839,10859,10531,10172,10695,9942,9886,9720,9772,10217,9235,9428,8988,8840,9140,8517,8344,8198,8415,8539,8117,8408,7850,7935,7773,7601,7470,7356,7345,7925,7247,7011,7022,7081,7323,7017,6568,6504,6500,6973,6379,6516,6350,6145,6161,6057,6264,5914,5772,5772,5612,5582,5300,5465,5406,5223,5258,5217,5556,6485,5026,5019,4939,4920,4782,4877,4774,4742,4627,4718,4533,4662,4409,4385,4632,4187,4117,4076,4211,4118,4064,3943,3928,3891,4009,3795,3786,3571,3616,3912,3447,3470,3549,3408,3486,3481,3318,3289,3290,3312,3133,3094,3206,3040,3457,3178,3062,3028,3050,3438,2889,2922,2844,2825,2819,2742,2748,2759,2660,3325,2524,2592,2506,2773,2540,2505,2525,2365,2453,2463,2374,2260,2315,2370,2482,2237,2253,2314,2130,2210,2114,2212,2074,2131,2158,2030,2096,1937,2077,2168,1833,1927,1928,1936,1790,1841,1873,1843,228650],\"yaxis\":\"y\",\"type\":\"bar\"}],\"name\":\"2008\"},{\"data\":[{\"alignmentgroup\":\"True\",\"hovertemplate\":\"year=2009\\u003cbr\\u003erank=%{marker.color}\\u003cbr\\u003evalue=%{y}\\u003cextra\\u003e\\u003c\\u002fextra\\u003e\",\"ids\":[1,2,3,4,5,6,7,8,9,10,11,12,13,14,15,16,17,18,19,20,21,22,23,24,25,26,27,28,29,30,31,32,33,34,35,36,37,38,39,40,41,42,43,44,45,46,47,48,49,50,51,52,53,54,55,56,57,58,59,60,61,62,63,64,65,66,67,68,69,70,71,72,73,74,75,76,77,78,79,80,81,82,83,84,85,86,87,88,89,90,91,92,93,94,95,96,97,98,99,100,101,102,103,104,105,106,107,108,109,110,111,112,113,114,115,116,117,118,119,120,121,122,123,124,125,126,127,128,129,130,131,132,133,134,135,136,137,138,139,140,141,142,143,144,145,146,147,148,149,150,151,152,153,154,155,156,157,158,159,160,161,162,163,164,165,166,167,168,169,170,171,172,173,174,175,176,177,178,179,180,181,182,183,184,185,186,187,188,189,190,191,192,193,194,195,196,197,198,199,200,201,202,203,204,205,206,207,208,209,210,211,212,213,214,215,216,217,218,219,220,221,222,223,224,225,226,227,228,229,230,231,232,233,234,235,236,237,238,239,240,241,242,243,244,245,246,247,248,249,250,251,252,253,254,255,256,257,258,259,260,261,262,263,264,265,266,267,268,269,270,271,272,273,274,275,276,277,278,279,280,281,282,283,284,285,286,287,288,289,290,291,292,293,294,295,296,297,298,299,300,301,302,303,304,305,306,307,308,309,310,311,312,313,314,315,316,317,318,319,320,321,322,323,324,325,326,327,328,329,330,331,332,333,334,335,336,337,338,339,340,341,342,343,344,345,346,347,348,349,350,351,352,353,354,355,356,357,358,359,360,361,362,363,364,365,366,367,368,369,370,371,372,373,374,375,376,377,378,379,380,381,382,383,384,385,386,387,388,389,390,391,392,393,394,395,396,397,398,399,400],\"legendgroup\":\"\",\"marker\":{\"color\":[1,2,3,4,5,6,7,8,9,10,11,12,13,14,15,16,17,18,19,20,21,22,23,24,25,26,27,28,29,30,31,32,33,34,35,36,37,38,39,40,41,42,43,44,45,46,47,48,49,50,51,52,53,54,55,56,57,58,59,60,61,62,63,64,65,66,67,68,69,70,71,72,73,74,75,76,77,78,79,80,81,82,83,84,85,86,87,88,89,90,91,92,93,94,95,96,97,98,99,100,101,102,103,104,105,106,107,108,109,110,111,112,113,114,115,116,117,118,119,120,121,122,123,124,125,126,127,128,129,130,131,132,133,134,135,136,137,138,139,140,141,142,143,144,145,146,147,148,149,150,151,152,153,154,155,156,157,158,159,160,161,162,163,164,165,166,167,168,169,170,171,172,173,174,175,176,177,178,179,180,181,182,183,184,185,186,187,188,189,190,191,192,193,194,195,196,197,198,199,200,201,202,203,204,205,206,207,208,209,210,211,212,213,214,215,216,217,218,219,220,221,222,223,224,225,226,227,228,229,230,231,232,233,234,235,236,237,238,239,240,241,242,243,244,245,246,247,248,249,250,251,252,253,254,255,256,257,258,259,260,261,262,263,264,265,266,267,268,269,270,271,272,273,274,275,276,277,278,279,280,281,282,283,284,285,286,287,288,289,290,291,292,293,294,295,296,297,298,299,300,301,302,303,304,305,306,307,308,309,310,311,312,313,314,315,316,317,318,319,320,321,322,323,324,325,326,327,328,329,330,331,332,333,334,335,336,337,338,339,340,341,342,343,344,345,346,347,348,349,350,351,352,353,354,355,356,357,358,359,360,361,362,363,364,365,366,367,368,369,370,371,372,373,374,375,376,377,378,379,380,381,382,383,384,385,386,387,388,389,390,391,392,393,394,395,396,397,398,399,400],\"coloraxis\":\"coloraxis\",\"pattern\":{\"shape\":\"\"}},\"name\":\"\",\"offsetgroup\":\"\",\"orientation\":\"v\",\"showlegend\":false,\"textposition\":\"auto\",\"x\":[1,2,3,4,5,6,7,8,9,10,11,12,13,14,15,16,17,18,19,20,21,22,23,24,25,26,27,28,29,30,31,32,33,34,35,36,37,38,39,40,41,42,43,44,45,46,47,48,49,50,51,52,53,54,55,56,57,58,59,60,61,62,63,64,65,66,67,68,69,70,71,72,73,74,75,76,77,78,79,80,81,82,83,84,85,86,87,88,89,90,91,92,93,94,95,96,97,98,99,100,101,102,103,104,105,106,107,108,109,110,111,112,113,114,115,116,117,118,119,120,121,122,123,124,125,126,127,128,129,130,131,132,133,134,135,136,137,138,139,140,141,142,143,144,145,146,147,148,149,150,151,152,153,154,155,156,157,158,159,160,161,162,163,164,165,166,167,168,169,170,171,172,173,174,175,176,177,178,179,180,181,182,183,184,185,186,187,188,189,190,191,192,193,194,195,196,197,198,199,200,201,202,203,204,205,206,207,208,209,210,211,212,213,214,215,216,217,218,219,220,221,222,223,224,225,226,227,228,229,230,231,232,233,234,235,236,237,238,239,240,241,242,243,244,245,246,247,248,249,250,251,252,253,254,255,256,257,258,259,260,261,262,263,264,265,266,267,268,269,270,271,272,273,274,275,276,277,278,279,280,281,282,283,284,285,286,287,288,289,290,291,292,293,294,295,296,297,298,299,300,301,302,303,304,305,306,307,308,309,310,311,312,313,314,315,316,317,318,319,320,321,322,323,324,325,326,327,328,329,330,331,332,333,334,335,336,337,338,339,340,341,342,343,344,345,346,347,348,349,350,351,352,353,354,355,356,357,358,359,360,361,362,363,364,365,366,367,368,369,370,371,372,373,374,375,376,377,378,379,380,381,382,383,384,385,386,387,388,389,390,391,392,393,394,395,396,397,398,399,400],\"xaxis\":\"x\",\"y\":[297199,227213,198954,200068,177922,172578,168438,167504,153915,144634,142201,143436,132870,130033,141257,126345,122013,118649,118862,113221,112069,113255,108546,105483,106245,106411,105473,104902,102816,101678,105937,103752,105063,101479,100799,102154,106986,101941,98862,98254,97659,94639,100411,105687,95593,98804,96683,94039,99887,98838,99930,101509,102671,101177,109639,103616,103856,103670,105517,104311,118846,110865,111740,116561,114700,113207,119140,118483,119878,120061,126311,122530,131966,124676,126558,129649,126075,123108,126527,121763,125017,124934,125171,118679,122986,116276,114303,115535,110172,107552,119827,105824,100678,99198,96477,94518,95279,91100,88726,89527,87841,88309,86446,82412,80926,85779,79026,78234,79867,76781,88087,78734,75995,68861,69859,68617,67147,67769,67545,66596,71571,62761,60515,58421,59349,58003,58196,55452,54319,53859,54737,51338,53020,50867,50874,50957,48991,48208,47621,46988,49898,46893,47175,45836,47707,47392,47298,45877,47170,44393,51462,42694,42609,43005,41290,43134,40633,41445,39483,39513,39741,37843,39159,37366,37126,38294,37728,35908,36575,36184,35843,34157,34171,34224,32563,35087,33267,34112,31474,31552,36268,30386,30630,29523,30077,28867,28405,29169,28379,29545,27683,28055,27867,26897,25720,26952,26376,25130,25322,25889,26006,26255,25048,26507,25867,24248,23626,22733,21267,22151,23370,20343,20084,19571,19234,18954,18964,18415,17703,17272,17250,16608,16650,16187,16107,17279,14903,15043,14730,14608,14108,14036,13451,12992,13215,12794,12422,12467,12269,11831,13008,11230,11467,11504,11426,11022,11017,10549,10049,10436,10511,9572,9716,9396,9212,9427,8985,8913,8806,8589,8505,8269,8286,8256,8220,8177,7815,7563,7546,7653,8091,7105,7184,7439,7304,7365,6872,6752,6855,6647,6963,6635,6375,6375,6337,6377,6197,6044,6046,5928,5873,5671,5631,5753,5589,5541,5377,5450,5240,5339,6548,5095,4966,4908,4953,4793,4667,4591,4654,4612,4578,4378,4540,4257,4288,4674,4197,4283,4170,4077,4113,3921,4148,4012,4138,4153,3828,3855,3834,3681,3908,3556,3631,3538,3388,3529,3331,3406,3302,3364,3276,3232,3304,3140,3123,3183,3011,2994,3000,3059,3400,2821,3460,2877,2807,2804,2703,2670,2652,2630,3281,2591,2614,2551,2577,2496,2509,2482,2422,2416,2397,2296,2410,2356,2411,2488,2266,2263,2299,2209,2117,2162,2089,2085,2138,2176,1981,1984,2008,1950,2098,1964,1996,1988,1921,1948,1925,1831,1769,227029],\"yaxis\":\"y\",\"type\":\"bar\"}],\"name\":\"2009\"},{\"data\":[{\"alignmentgroup\":\"True\",\"hovertemplate\":\"year=2010\\u003cbr\\u003erank=%{marker.color}\\u003cbr\\u003evalue=%{y}\\u003cextra\\u003e\\u003c\\u002fextra\\u003e\",\"ids\":[1,2,3,4,5,6,7,8,9,10,11,12,13,14,15,16,17,18,19,20,21,22,23,24,25,26,27,28,29,30,31,32,33,34,35,36,37,38,39,40,41,42,43,44,45,46,47,48,49,50,51,52,53,54,55,56,57,58,59,60,61,62,63,64,65,66,67,68,69,70,71,72,73,74,75,76,77,78,79,80,81,82,83,84,85,86,87,88,89,90,91,92,93,94,95,96,97,98,99,100,101,102,103,104,105,106,107,108,109,110,111,112,113,114,115,116,117,118,119,120,121,122,123,124,125,126,127,128,129,130,131,132,133,134,135,136,137,138,139,140,141,142,143,144,145,146,147,148,149,150,151,152,153,154,155,156,157,158,159,160,161,162,163,164,165,166,167,168,169,170,171,172,173,174,175,176,177,178,179,180,181,182,183,184,185,186,187,188,189,190,191,192,193,194,195,196,197,198,199,200,201,202,203,204,205,206,207,208,209,210,211,212,213,214,215,216,217,218,219,220,221,222,223,224,225,226,227,228,229,230,231,232,233,234,235,236,237,238,239,240,241,242,243,244,245,246,247,248,249,250,251,252,253,254,255,256,257,258,259,260,261,262,263,264,265,266,267,268,269,270,271,272,273,274,275,276,277,278,279,280,281,282,283,284,285,286,287,288,289,290,291,292,293,294,295,296,297,298,299,300,301,302,303,304,305,306,307,308,309,310,311,312,313,314,315,316,317,318,319,320,321,322,323,324,325,326,327,328,329,330,331,332,333,334,335,336,337,338,339,340,341,342,343,344,345,346,347,348,349,350,351,352,353,354,355,356,357,358,359,360,361,362,363,364,365,366,367,368,369,370,371,372,373,374,375,376,377,378,379,380,381,382,383,384,385,386,387,388,389,390,391,392,393,394,395,396,397,398,399,400],\"legendgroup\":\"\",\"marker\":{\"color\":[1,2,3,4,5,6,7,8,9,10,11,12,13,14,15,16,17,18,19,20,21,22,23,24,25,26,27,28,29,30,31,32,33,34,35,36,37,38,39,40,41,42,43,44,45,46,47,48,49,50,51,52,53,54,55,56,57,58,59,60,61,62,63,64,65,66,67,68,69,70,71,72,73,74,75,76,77,78,79,80,81,82,83,84,85,86,87,88,89,90,91,92,93,94,95,96,97,98,99,100,101,102,103,104,105,106,107,108,109,110,111,112,113,114,115,116,117,118,119,120,121,122,123,124,125,126,127,128,129,130,131,132,133,134,135,136,137,138,139,140,141,142,143,144,145,146,147,148,149,150,151,152,153,154,155,156,157,158,159,160,161,162,163,164,165,166,167,168,169,170,171,172,173,174,175,176,177,178,179,180,181,182,183,184,185,186,187,188,189,190,191,192,193,194,195,196,197,198,199,200,201,202,203,204,205,206,207,208,209,210,211,212,213,214,215,216,217,218,219,220,221,222,223,224,225,226,227,228,229,230,231,232,233,234,235,236,237,238,239,240,241,242,243,244,245,246,247,248,249,250,251,252,253,254,255,256,257,258,259,260,261,262,263,264,265,266,267,268,269,270,271,272,273,274,275,276,277,278,279,280,281,282,283,284,285,286,287,288,289,290,291,292,293,294,295,296,297,298,299,300,301,302,303,304,305,306,307,308,309,310,311,312,313,314,315,316,317,318,319,320,321,322,323,324,325,326,327,328,329,330,331,332,333,334,335,336,337,338,339,340,341,342,343,344,345,346,347,348,349,350,351,352,353,354,355,356,357,358,359,360,361,362,363,364,365,366,367,368,369,370,371,372,373,374,375,376,377,378,379,380,381,382,383,384,385,386,387,388,389,390,391,392,393,394,395,396,397,398,399,400],\"coloraxis\":\"coloraxis\",\"pattern\":{\"shape\":\"\"}},\"name\":\"\",\"offsetgroup\":\"\",\"orientation\":\"v\",\"showlegend\":false,\"textposition\":\"auto\",\"x\":[1,2,3,4,5,6,7,8,9,10,11,12,13,14,15,16,17,18,19,20,21,22,23,24,25,26,27,28,29,30,31,32,33,34,35,36,37,38,39,40,41,42,43,44,45,46,47,48,49,50,51,52,53,54,55,56,57,58,59,60,61,62,63,64,65,66,67,68,69,70,71,72,73,74,75,76,77,78,79,80,81,82,83,84,85,86,87,88,89,90,91,92,93,94,95,96,97,98,99,100,101,102,103,104,105,106,107,108,109,110,111,112,113,114,115,116,117,118,119,120,121,122,123,124,125,126,127,128,129,130,131,132,133,134,135,136,137,138,139,140,141,142,143,144,145,146,147,148,149,150,151,152,153,154,155,156,157,158,159,160,161,162,163,164,165,166,167,168,169,170,171,172,173,174,175,176,177,178,179,180,181,182,183,184,185,186,187,188,189,190,191,192,193,194,195,196,197,198,199,200,201,202,203,204,205,206,207,208,209,210,211,212,213,214,215,216,217,218,219,220,221,222,223,224,225,226,227,228,229,230,231,232,233,234,235,236,237,238,239,240,241,242,243,244,245,246,247,248,249,250,251,252,253,254,255,256,257,258,259,260,261,262,263,264,265,266,267,268,269,270,271,272,273,274,275,276,277,278,279,280,281,282,283,284,285,286,287,288,289,290,291,292,293,294,295,296,297,298,299,300,301,302,303,304,305,306,307,308,309,310,311,312,313,314,315,316,317,318,319,320,321,322,323,324,325,326,327,328,329,330,331,332,333,334,335,336,337,338,339,340,341,342,343,344,345,346,347,348,349,350,351,352,353,354,355,356,357,358,359,360,361,362,363,364,365,366,367,368,369,370,371,372,373,374,375,376,377,378,379,380,381,382,383,384,385,386,387,388,389,390,391,392,393,394,395,396,397,398,399,400],\"xaxis\":\"x\",\"y\":[304610,233060,203549,206959,193215,175903,163437,161086,148197,142214,136156,142873,129612,127220,123432,123683,120811,116755,116149,111883,110674,109775,111730,105564,104438,103429,102604,101213,100127,98411,101838,100442,98971,98845,97569,98997,103617,98623,95230,96087,93845,90925,93547,91714,101682,95203,90481,90580,93236,93035,92606,95365,98431,94827,103542,95273,97077,101629,103281,102931,113717,102863,105536,112352,106183,105585,114401,111782,111449,115169,119330,116770,122281,116408,121139,124890,119413,117054,118381,119606,118829,121939,120617,116242,118469,111956,109384,111893,108383,106473,115595,104500,102025,99469,93244,93800,92887,90032,88401,88024,86696,84385,86043,80733,79527,84655,77167,76595,77683,74553,73536,88764,73808,68548,70185,67934,68740,66661,64923,63924,68657,60257,58864,57097,58069,56521,58325,55541,54407,55483,55134,52273,52415,50703,50918,51790,49221,49270,48121,50023,53100,50803,51201,46355,49662,46633,46699,45611,44074,44064,49494,44329,44822,43145,41278,42522,40484,40664,40364,39662,41698,38646,39488,38531,38344,37399,36375,35753,36815,35472,34903,34674,34805,33216,33929,34218,31979,32567,31430,30529,35214,29619,30677,30800,30236,30313,28626,28977,27460,28220,28698,27868,27090,26212,26036,26695,26479,27493,27824,27700,26248,24684,24217,22645,22578,22785,21498,21403,20492,20618,22837,19639,19641,18944,18395,18547,17905,17471,16944,16718,16782,16058,16040,15025,15258,16090,14142,14109,13645,14012,13774,13129,12420,12581,12397,11861,12138,11659,11293,11835,12691,10882,10635,10717,10210,10369,10292,9886,9641,9979,10264,9335,9758,9314,9016,9322,8908,8860,8623,8487,8492,8226,8426,7976,8143,8099,7793,7694,7610,7488,7924,7032,7041,7091,7365,6950,7117,6798,6477,6407,7051,6302,6350,6276,6007,6212,6070,6091,5918,5710,5740,5586,5488,5414,5479,5430,5383,5105,5102,5244,6450,4815,4838,5033,4863,4667,4909,4653,4639,4571,4563,4430,4549,4331,4458,4599,4107,4162,4189,4066,4101,3985,3978,3851,3948,4009,3682,3675,3709,3675,3761,3520,3456,3574,3291,3440,3347,3336,3339,3221,3317,3143,3157,3056,3083,3099,2994,2902,2897,3038,3424,2876,2882,2812,2761,3277,2734,2717,2599,2670,3210,2569,2609,2495,2622,2625,2368,2499,2382,2448,2413,2352,2418,2348,2339,2522,2227,2115,2193,2267,2058,2157,2020,2042,2007,2099,2050,2051,1949,1964,2118,1920,1973,1895,1951,1864,1845,1894,1763,220140],\"yaxis\":\"y\",\"type\":\"bar\"}],\"name\":\"2010\"},{\"data\":[{\"alignmentgroup\":\"True\",\"hovertemplate\":\"year=2011\\u003cbr\\u003erank=%{marker.color}\\u003cbr\\u003evalue=%{y}\\u003cextra\\u003e\\u003c\\u002fextra\\u003e\",\"ids\":[1,2,3,4,5,6,7,8,9,10,11,12,13,14,15,16,17,18,19,20,21,22,23,24,25,26,27,28,29,30,31,32,33,34,35,36,37,38,39,40,41,42,43,44,45,46,47,48,49,50,51,52,53,54,55,56,57,58,59,60,61,62,63,64,65,66,67,68,69,70,71,72,73,74,75,76,77,78,79,80,81,82,83,84,85,86,87,88,89,90,91,92,93,94,95,96,97,98,99,100,101,102,103,104,105,106,107,108,109,110,111,112,113,114,115,116,117,118,119,120,121,122,123,124,125,126,127,128,129,130,131,132,133,134,135,136,137,138,139,140,141,142,143,144,145,146,147,148,149,150,151,152,153,154,155,156,157,158,159,160,161,162,163,164,165,166,167,168,169,170,171,172,173,174,175,176,177,178,179,180,181,182,183,184,185,186,187,188,189,190,191,192,193,194,195,196,197,198,199,200,201,202,203,204,205,206,207,208,209,210,211,212,213,214,215,216,217,218,219,220,221,222,223,224,225,226,227,228,229,230,231,232,233,234,235,236,237,238,239,240,241,242,243,244,245,246,247,248,249,250,251,252,253,254,255,256,257,258,259,260,261,262,263,264,265,266,267,268,269,270,271,272,273,274,275,276,277,278,279,280,281,282,283,284,285,286,287,288,289,290,291,292,293,294,295,296,297,298,299,300,301,302,303,304,305,306,307,308,309,310,311,312,313,314,315,316,317,318,319,320,321,322,323,324,325,326,327,328,329,330,331,332,333,334,335,336,337,338,339,340,341,342,343,344,345,346,347,348,349,350,351,352,353,354,355,356,357,358,359,360,361,362,363,364,365,366,367,368,369,370,371,372,373,374,375,376,377,378,379,380,381,382,383,384,385,386,387,388,389,390,391,392,393,394,395,396,397,398,399,400],\"legendgroup\":\"\",\"marker\":{\"color\":[1,2,3,4,5,6,7,8,9,10,11,12,13,14,15,16,17,18,19,20,21,22,23,24,25,26,27,28,29,30,31,32,33,34,35,36,37,38,39,40,41,42,43,44,45,46,47,48,49,50,51,52,53,54,55,56,57,58,59,60,61,62,63,64,65,66,67,68,69,70,71,72,73,74,75,76,77,78,79,80,81,82,83,84,85,86,87,88,89,90,91,92,93,94,95,96,97,98,99,100,101,102,103,104,105,106,107,108,109,110,111,112,113,114,115,116,117,118,119,120,121,122,123,124,125,126,127,128,129,130,131,132,133,134,135,136,137,138,139,140,141,142,143,144,145,146,147,148,149,150,151,152,153,154,155,156,157,158,159,160,161,162,163,164,165,166,167,168,169,170,171,172,173,174,175,176,177,178,179,180,181,182,183,184,185,186,187,188,189,190,191,192,193,194,195,196,197,198,199,200,201,202,203,204,205,206,207,208,209,210,211,212,213,214,215,216,217,218,219,220,221,222,223,224,225,226,227,228,229,230,231,232,233,234,235,236,237,238,239,240,241,242,243,244,245,246,247,248,249,250,251,252,253,254,255,256,257,258,259,260,261,262,263,264,265,266,267,268,269,270,271,272,273,274,275,276,277,278,279,280,281,282,283,284,285,286,287,288,289,290,291,292,293,294,295,296,297,298,299,300,301,302,303,304,305,306,307,308,309,310,311,312,313,314,315,316,317,318,319,320,321,322,323,324,325,326,327,328,329,330,331,332,333,334,335,336,337,338,339,340,341,342,343,344,345,346,347,348,349,350,351,352,353,354,355,356,357,358,359,360,361,362,363,364,365,366,367,368,369,370,371,372,373,374,375,376,377,378,379,380,381,382,383,384,385,386,387,388,389,390,391,392,393,394,395,396,397,398,399,400],\"coloraxis\":\"coloraxis\",\"pattern\":{\"shape\":\"\"}},\"name\":\"\",\"offsetgroup\":\"\",\"orientation\":\"v\",\"showlegend\":false,\"textposition\":\"auto\",\"x\":[1,2,3,4,5,6,7,8,9,10,11,12,13,14,15,16,17,18,19,20,21,22,23,24,25,26,27,28,29,30,31,32,33,34,35,36,37,38,39,40,41,42,43,44,45,46,47,48,49,50,51,52,53,54,55,56,57,58,59,60,61,62,63,64,65,66,67,68,69,70,71,72,73,74,75,76,77,78,79,80,81,82,83,84,85,86,87,88,89,90,91,92,93,94,95,96,97,98,99,100,101,102,103,104,105,106,107,108,109,110,111,112,113,114,115,116,117,118,119,120,121,122,123,124,125,126,127,128,129,130,131,132,133,134,135,136,137,138,139,140,141,142,143,144,145,146,147,148,149,150,151,152,153,154,155,156,157,158,159,160,161,162,163,164,165,166,167,168,169,170,171,172,173,174,175,176,177,178,179,180,181,182,183,184,185,186,187,188,189,190,191,192,193,194,195,196,197,198,199,200,201,202,203,204,205,206,207,208,209,210,211,212,213,214,215,216,217,218,219,220,221,222,223,224,225,226,227,228,229,230,231,232,233,234,235,236,237,238,239,240,241,242,243,244,245,246,247,248,249,250,251,252,253,254,255,256,257,258,259,260,261,262,263,264,265,266,267,268,269,270,271,272,273,274,275,276,277,278,279,280,281,282,283,284,285,286,287,288,289,290,291,292,293,294,295,296,297,298,299,300,301,302,303,304,305,306,307,308,309,310,311,312,313,314,315,316,317,318,319,320,321,322,323,324,325,326,327,328,329,330,331,332,333,334,335,336,337,338,339,340,341,342,343,344,345,346,347,348,349,350,351,352,353,354,355,356,357,358,359,360,361,362,363,364,365,366,367,368,369,370,371,372,373,374,375,376,377,378,379,380,381,382,383,384,385,386,387,388,389,390,391,392,393,394,395,396,397,398,399,400],\"xaxis\":\"x\",\"y\":[330689,244875,204015,199341,180983,168099,160497,166452,154389,141086,135835,142706,129676,126058,122373,122060,120764,117399,116085,111765,110281,110354,110472,103017,104593,103033,103051,101659,99678,97878,101841,97656,97182,98407,95048,96587,102550,97842,97660,95038,94238,90668,94337,88495,100040,95117,88324,86949,93518,89489,89833,93743,95416,92335,99235,94762,93915,95969,98639,99075,111320,97492,96484,103902,102206,101532,109160,104951,104192,106940,112297,108752,120058,110101,111600,116293,115533,112542,113008,116387,114709,113534,114142,110056,117394,109452,107813,107853,105934,104944,113685,100807,98870,96577,94971,94705,93268,91157,90775,87983,87918,84635,85372,80861,79184,86897,77762,75711,76884,73635,73211,71608,73278,75357,78785,72402,66160,64739,63195,62080,67883,59511,60556,58667,58185,57463,57592,55767,55003,55028,54342,53223,53255,52867,52003,53031,51346,52514,53058,51150,52331,51653,49702,47288,48219,46797,45657,46500,45656,46794,50543,43374,44869,42291,43121,43209,41993,41224,42078,39625,39255,37771,37853,36878,37332,38659,36692,37268,37155,34857,35201,33110,33934,32229,32692,35296,31842,32171,32047,31139,35328,30552,30751,29927,29384,29757,29424,28025,28696,27806,27932,27524,29594,28184,28309,27288,25585,25437,24164,25299,24261,22834,23694,22567,22812,22553,21345,20634,19727,19860,21788,18801,18276,18336,18451,17567,17407,16836,16207,15743,15535,15013,14900,14390,14566,15392,13742,13626,13370,13319,13198,12522,12470,11971,11778,11585,11269,11125,11032,10769,12369,10465,10447,10214,10148,10144,10121,9754,9665,9971,10324,9112,9464,8994,8850,8673,8614,8507,8279,8488,8445,8003,8028,7837,7829,7793,7562,7504,7257,7332,7536,7026,7035,6999,6934,6979,7036,6615,6298,6412,6678,6273,6185,6202,6018,6250,5978,6105,6026,5812,5490,5407,5482,5285,5400,5323,5215,5280,5028,5489,6583,5052,5106,5152,4948,4803,4831,4752,4590,4577,4585,4413,4637,4276,4216,4475,4137,4128,4068,4015,3953,3810,3883,3842,3831,4038,3730,3631,3555,3608,3824,3446,3487,3334,3312,3401,3504,3261,3331,3273,3355,3129,3075,3093,3023,3154,2965,2961,3019,2944,3320,2861,2881,2840,2839,2802,2753,2779,2633,2649,3173,2560,2609,2520,3081,2444,2517,2477,2465,2460,2357,2334,2377,2394,2338,2485,2268,2179,2172,2159,2159,2109,2125,2116,2018,2127,2006,1977,1914,2011,1976,1919,1889,1854,1857,1885,1859,1785,1718,217876],\"yaxis\":\"y\",\"type\":\"bar\"}],\"name\":\"2011\"},{\"data\":[{\"alignmentgroup\":\"True\",\"hovertemplate\":\"year=2012\\u003cbr\\u003erank=%{marker.color}\\u003cbr\\u003evalue=%{y}\\u003cextra\\u003e\\u003c\\u002fextra\\u003e\",\"ids\":[1,2,3,4,5,6,7,8,9,10,11,12,13,14,15,16,17,18,19,20,21,22,23,24,25,26,27,28,29,30,31,32,33,34,35,36,37,38,39,40,41,42,43,44,45,46,47,48,49,50,51,52,53,54,55,56,57,58,59,60,61,62,63,64,65,66,67,68,69,70,71,72,73,74,75,76,77,78,79,80,81,82,83,84,85,86,87,88,89,90,91,92,93,94,95,96,97,98,99,100,101,102,103,104,105,106,107,108,109,110,111,112,113,114,115,116,117,118,119,120,121,122,123,124,125,126,127,128,129,130,131,132,133,134,135,136,137,138,139,140,141,142,143,144,145,146,147,148,149,150,151,152,153,154,155,156,157,158,159,160,161,162,163,164,165,166,167,168,169,170,171,172,173,174,175,176,177,178,179,180,181,182,183,184,185,186,187,188,189,190,191,192,193,194,195,196,197,198,199,200,201,202,203,204,205,206,207,208,209,210,211,212,213,214,215,216,217,218,219,220,221,222,223,224,225,226,227,228,229,230,231,232,233,234,235,236,237,238,239,240,241,242,243,244,245,246,247,248,249,250,251,252,253,254,255,256,257,258,259,260,261,262,263,264,265,266,267,268,269,270,271,272,273,274,275,276,277,278,279,280,281,282,283,284,285,286,287,288,289,290,291,292,293,294,295,296,297,298,299,300,301,302,303,304,305,306,307,308,309,310,311,312,313,314,315,316,317,318,319,320,321,322,323,324,325,326,327,328,329,330,331,332,333,334,335,336,337,338,339,340,341,342,343,344,345,346,347,348,349,350,351,352,353,354,355,356,357,358,359,360,361,362,363,364,365,366,367,368,369,370,371,372,373,374,375,376,377,378,379,380,381,382,383,384,385,386,387,388,389,390,391,392,393,394,395,396,397,398,399,400],\"legendgroup\":\"\",\"marker\":{\"color\":[1,2,3,4,5,6,7,8,9,10,11,12,13,14,15,16,17,18,19,20,21,22,23,24,25,26,27,28,29,30,31,32,33,34,35,36,37,38,39,40,41,42,43,44,45,46,47,48,49,50,51,52,53,54,55,56,57,58,59,60,61,62,63,64,65,66,67,68,69,70,71,72,73,74,75,76,77,78,79,80,81,82,83,84,85,86,87,88,89,90,91,92,93,94,95,96,97,98,99,100,101,102,103,104,105,106,107,108,109,110,111,112,113,114,115,116,117,118,119,120,121,122,123,124,125,126,127,128,129,130,131,132,133,134,135,136,137,138,139,140,141,142,143,144,145,146,147,148,149,150,151,152,153,154,155,156,157,158,159,160,161,162,163,164,165,166,167,168,169,170,171,172,173,174,175,176,177,178,179,180,181,182,183,184,185,186,187,188,189,190,191,192,193,194,195,196,197,198,199,200,201,202,203,204,205,206,207,208,209,210,211,212,213,214,215,216,217,218,219,220,221,222,223,224,225,226,227,228,229,230,231,232,233,234,235,236,237,238,239,240,241,242,243,244,245,246,247,248,249,250,251,252,253,254,255,256,257,258,259,260,261,262,263,264,265,266,267,268,269,270,271,272,273,274,275,276,277,278,279,280,281,282,283,284,285,286,287,288,289,290,291,292,293,294,295,296,297,298,299,300,301,302,303,304,305,306,307,308,309,310,311,312,313,314,315,316,317,318,319,320,321,322,323,324,325,326,327,328,329,330,331,332,333,334,335,336,337,338,339,340,341,342,343,344,345,346,347,348,349,350,351,352,353,354,355,356,357,358,359,360,361,362,363,364,365,366,367,368,369,370,371,372,373,374,375,376,377,378,379,380,381,382,383,384,385,386,387,388,389,390,391,392,393,394,395,396,397,398,399,400],\"coloraxis\":\"coloraxis\",\"pattern\":{\"shape\":\"\"}},\"name\":\"\",\"offsetgroup\":\"\",\"orientation\":\"v\",\"showlegend\":false,\"textposition\":\"auto\",\"x\":[1,2,3,4,5,6,7,8,9,10,11,12,13,14,15,16,17,18,19,20,21,22,23,24,25,26,27,28,29,30,31,32,33,34,35,36,37,38,39,40,41,42,43,44,45,46,47,48,49,50,51,52,53,54,55,56,57,58,59,60,61,62,63,64,65,66,67,68,69,70,71,72,73,74,75,76,77,78,79,80,81,82,83,84,85,86,87,88,89,90,91,92,93,94,95,96,97,98,99,100,101,102,103,104,105,106,107,108,109,110,111,112,113,114,115,116,117,118,119,120,121,122,123,124,125,126,127,128,129,130,131,132,133,134,135,136,137,138,139,140,141,142,143,144,145,146,147,148,149,150,151,152,153,154,155,156,157,158,159,160,161,162,163,164,165,166,167,168,169,170,171,172,173,174,175,176,177,178,179,180,181,182,183,184,185,186,187,188,189,190,191,192,193,194,195,196,197,198,199,200,201,202,203,204,205,206,207,208,209,210,211,212,213,214,215,216,217,218,219,220,221,222,223,224,225,226,227,228,229,230,231,232,233,234,235,236,237,238,239,240,241,242,243,244,245,246,247,248,249,250,251,252,253,254,255,256,257,258,259,260,261,262,263,264,265,266,267,268,269,270,271,272,273,274,275,276,277,278,279,280,281,282,283,284,285,286,287,288,289,290,291,292,293,294,295,296,297,298,299,300,301,302,303,304,305,306,307,308,309,310,311,312,313,314,315,316,317,318,319,320,321,322,323,324,325,326,327,328,329,330,331,332,333,334,335,336,337,338,339,340,341,342,343,344,345,346,347,348,349,350,351,352,353,354,355,356,357,358,359,360,361,362,363,364,365,366,367,368,369,370,371,372,373,374,375,376,377,378,379,380,381,382,383,384,385,386,387,388,389,390,391,392,393,394,395,396,397,398,399,400],\"xaxis\":\"x\",\"y\":[349928,254077,216329,207509,183304,173915,166093,167867,157418,146677,137649,135645,127866,124294,119099,120412,115909,111394,112277,107527,105798,104504,105670,99208,99942,97773,96046,95894,95475,94545,98028,92980,93723,94352,91946,94499,99317,93112,93966,92049,91403,87535,90740,85691,94871,92087,84830,82975,89670,85123,84707,87440,88668,87929,94778,89864,87699,88698,90477,93620,108589,91180,91653,95497,94366,96606,101328,98950,98336,101816,105141,102877,115416,109748,110167,113582,108060,111404,113615,110475,107895,108587,108540,105055,113569,109250,105856,108036,103741,101139,111198,99406,96636,94293,92748,90672,93047,90290,87062,85021,87369,81968,80412,77416,76832,82445,76199,76186,75285,71259,68046,65369,66360,63685,64179,63466,72848,68078,61054,57899,63660,57540,59227,58349,58509,58230,56690,57282,55978,56419,57969,55223,57205,54669,51578,52949,50217,49039,50390,48809,50384,47038,46880,45472,45785,46007,44212,43676,44499,42944,47034,40060,40382,39444,40394,39802,40224,39174,37816,37942,38104,37044,35986,35064,36412,35669,36045,34698,34621,33714,32705,31960,32337,31442,31584,32387,30474,30086,30019,30540,33616,30082,28884,27319,27215,26015,25951,25728,24675,24983,25141,24030,23845,22907,22428,22626,21515,21009,20128,21181,20689,19336,18806,18746,18021,17595,16842,16581,16303,16147,17736,15324,15285,15253,14613,14822,14143,13835,13402,13367,13112,12696,12498,12045,12274,13390,11633,11784,11629,11214,11174,11293,10616,10748,10489,10369,10155,10022,9679,9898,11033,9541,9351,9416,8996,9500,9621,9067,8667,8800,9340,8233,8481,8240,8128,8187,7926,7778,7794,7634,7563,7284,7205,7099,7029,7183,7050,6878,6812,6613,7051,6410,6500,6519,6457,6416,6198,6152,6186,6168,6259,5935,5636,5731,5502,5564,5425,5570,5410,5225,5355,5104,4941,4853,4938,4949,4755,4628,4541,4703,5803,4472,4464,4267,4564,4245,4400,4285,4325,4099,4190,3994,3948,3890,3825,4050,3830,3686,3614,3758,3741,3593,3560,3582,3467,3680,3609,3372,3383,3417,3501,3277,3170,3124,3088,3152,3185,2995,3030,3023,3023,2835,3018,2784,2661,2914,2756,2694,2805,2678,3037,2583,2569,2492,2585,2548,2426,2357,2458,2385,2796,2417,2313,2319,2325,2294,2286,2141,2121,2177,2184,2104,2145,2418,2245,2320,2088,1962,1948,1876,1908,1907,1936,1785,1861,1822,1761,1753,1755,1774,1766,1694,1679,1673,1646,1634,1597,1621,1504,192934],\"yaxis\":\"y\",\"type\":\"bar\"}],\"name\":\"2012\"},{\"data\":[{\"alignmentgroup\":\"True\",\"hovertemplate\":\"year=2013\\u003cbr\\u003erank=%{marker.color}\\u003cbr\\u003evalue=%{y}\\u003cextra\\u003e\\u003c\\u002fextra\\u003e\",\"ids\":[1,2,3,4,5,6,7,8,9,10,11,12,13,14,15,16,17,18,19,20,21,22,23,24,25,26,27,28,29,30,31,32,33,34,35,36,37,38,39,40,41,42,43,44,45,46,47,48,49,50,51,52,53,54,55,56,57,58,59,60,61,62,63,64,65,66,67,68,69,70,71,72,73,74,75,76,77,78,79,80,81,82,83,84,85,86,87,88,89,90,91,92,93,94,95,96,97,98,99,100,101,102,103,104,105,106,107,108,109,110,111,112,113,114,115,116,117,118,119,120,121,122,123,124,125,126,127,128,129,130,131,132,133,134,135,136,137,138,139,140,141,142,143,144,145,146,147,148,149,150,151,152,153,154,155,156,157,158,159,160,161,162,163,164,165,166,167,168,169,170,171,172,173,174,175,176,177,178,179,180,181,182,183,184,185,186,187,188,189,190,191,192,193,194,195,196,197,198,199,200,201,202,203,204,205,206,207,208,209,210,211,212,213,214,215,216,217,218,219,220,221,222,223,224,225,226,227,228,229,230,231,232,233,234,235,236,237,238,239,240,241,242,243,244,245,246,247,248,249,250,251,252,253,254,255,256,257,258,259,260,261,262,263,264,265,266,267,268,269,270,271,272,273,274,275,276,277,278,279,280,281,282,283,284,285,286,287,288,289,290,291,292,293,294,295,296,297,298,299,300,301,302,303,304,305,306,307,308,309,310,311,312,313,314,315,316,317,318,319,320,321,322,323,324,325,326,327,328,329,330,331,332,333,334,335,336,337,338,339,340,341,342,343,344,345,346,347,348,349,350,351,352,353,354,355,356,357,358,359,360,361,362,363,364,365,366,367,368,369,370,371,372,373,374,375,376,377,378,379,380,381,382,383,384,385,386,387,388,389,390,391,392,393,394,395,396,397,398,399,400],\"legendgroup\":\"\",\"marker\":{\"color\":[1,2,3,4,5,6,7,8,9,10,11,12,13,14,15,16,17,18,19,20,21,22,23,24,25,26,27,28,29,30,31,32,33,34,35,36,37,38,39,40,41,42,43,44,45,46,47,48,49,50,51,52,53,54,55,56,57,58,59,60,61,62,63,64,65,66,67,68,69,70,71,72,73,74,75,76,77,78,79,80,81,82,83,84,85,86,87,88,89,90,91,92,93,94,95,96,97,98,99,100,101,102,103,104,105,106,107,108,109,110,111,112,113,114,115,116,117,118,119,120,121,122,123,124,125,126,127,128,129,130,131,132,133,134,135,136,137,138,139,140,141,142,143,144,145,146,147,148,149,150,151,152,153,154,155,156,157,158,159,160,161,162,163,164,165,166,167,168,169,170,171,172,173,174,175,176,177,178,179,180,181,182,183,184,185,186,187,188,189,190,191,192,193,194,195,196,197,198,199,200,201,202,203,204,205,206,207,208,209,210,211,212,213,214,215,216,217,218,219,220,221,222,223,224,225,226,227,228,229,230,231,232,233,234,235,236,237,238,239,240,241,242,243,244,245,246,247,248,249,250,251,252,253,254,255,256,257,258,259,260,261,262,263,264,265,266,267,268,269,270,271,272,273,274,275,276,277,278,279,280,281,282,283,284,285,286,287,288,289,290,291,292,293,294,295,296,297,298,299,300,301,302,303,304,305,306,307,308,309,310,311,312,313,314,315,316,317,318,319,320,321,322,323,324,325,326,327,328,329,330,331,332,333,334,335,336,337,338,339,340,341,342,343,344,345,346,347,348,349,350,351,352,353,354,355,356,357,358,359,360,361,362,363,364,365,366,367,368,369,370,371,372,373,374,375,376,377,378,379,380,381,382,383,384,385,386,387,388,389,390,391,392,393,394,395,396,397,398,399,400],\"coloraxis\":\"coloraxis\",\"pattern\":{\"shape\":\"\"}},\"name\":\"\",\"offsetgroup\":\"\",\"orientation\":\"v\",\"showlegend\":false,\"textposition\":\"auto\",\"x\":[1,2,3,4,5,6,7,8,9,10,11,12,13,14,15,16,17,18,19,20,21,22,23,24,25,26,27,28,29,30,31,32,33,34,35,36,37,38,39,40,41,42,43,44,45,46,47,48,49,50,51,52,53,54,55,56,57,58,59,60,61,62,63,64,65,66,67,68,69,70,71,72,73,74,75,76,77,78,79,80,81,82,83,84,85,86,87,88,89,90,91,92,93,94,95,96,97,98,99,100,101,102,103,104,105,106,107,108,109,110,111,112,113,114,115,116,117,118,119,120,121,122,123,124,125,126,127,128,129,130,131,132,133,134,135,136,137,138,139,140,141,142,143,144,145,146,147,148,149,150,151,152,153,154,155,156,157,158,159,160,161,162,163,164,165,166,167,168,169,170,171,172,173,174,175,176,177,178,179,180,181,182,183,184,185,186,187,188,189,190,191,192,193,194,195,196,197,198,199,200,201,202,203,204,205,206,207,208,209,210,211,212,213,214,215,216,217,218,219,220,221,222,223,224,225,226,227,228,229,230,231,232,233,234,235,236,237,238,239,240,241,242,243,244,245,246,247,248,249,250,251,252,253,254,255,256,257,258,259,260,261,262,263,264,265,266,267,268,269,270,271,272,273,274,275,276,277,278,279,280,281,282,283,284,285,286,287,288,289,290,291,292,293,294,295,296,297,298,299,300,301,302,303,304,305,306,307,308,309,310,311,312,313,314,315,316,317,318,319,320,321,322,323,324,325,326,327,328,329,330,331,332,333,334,335,336,337,338,339,340,341,342,343,344,345,346,347,348,349,350,351,352,353,354,355,356,357,358,359,360,361,362,363,364,365,366,367,368,369,370,371,372,373,374,375,376,377,378,379,380,381,382,383,384,385,386,387,388,389,390,391,392,393,394,395,396,397,398,399,400],\"xaxis\":\"x\",\"y\":[384262,267525,227742,219984,204015,185092,173066,171427,159981,150961,139207,139553,130643,124135,120675,121974,115731,112018,113281,108095,105891,105096,104574,98015,98725,96992,94783,95289,94140,94715,99016,91212,91493,93039,90304,92336,97712,91967,93326,90986,88714,87163,90215,85510,84737,99341,83318,80849,88266,82441,83031,84699,83979,82925,90663,86571,84587,85220,85022,86886,108202,89428,88150,91309,87805,89944,95861,91600,90870,94570,99325,94022,106370,98807,97482,105648,97077,96882,99252,98973,105416,98565,98630,95644,100631,98149,94357,97087,95676,92067,108083,92513,90053,88911,86699,85483,87127,84223,81480,78890,83396,78020,76425,74421,72233,77755,70124,70127,69207,66538,64829,63652,64096,62020,64582,63795,58117,58095,56686,54395,81957,56079,54721,53607,53158,52935,51212,49201,49485,49429,49469,49237,49238,50312,49561,52069,49387,48161,47700,47241,49217,46521,45380,44064,44895,43337,43103,41703,41490,40816,46470,40477,40579,39834,40962,38925,39461,37661,37138,36769,36844,36816,36403,36135,36667,36547,33829,34270,34336,33414,33119,32040,31672,31790,30819,32683,30086,30327,29609,29105,32990,29084,29116,28586,28205,27891,27435,27285,26768,26205,26138,25572,24895,24549,25941,24283,22981,22021,21586,21943,21292,20535,20023,19460,19425,19197,18145,17749,17551,17275,18940,16289,16127,15821,15437,15303,14728,14326,14171,13914,13856,13557,13016,13058,12953,13725,12048,12123,11632,11830,11376,11356,10801,10828,10653,10620,10172,10006,9820,9833,10803,9620,9367,9407,9183,9341,9169,9034,8847,9035,9858,8676,8611,8389,8271,8152,7910,7872,7912,7565,7776,7463,7487,7491,7182,7166,7006,6940,6773,6828,7203,6738,6446,6560,6787,6485,6332,6218,6001,5993,6374,5955,5834,5866,5618,5594,5544,5524,5422,5398,5328,5157,5025,5012,5042,5072,4830,4846,4658,4990,5872,4692,4420,4385,4420,4550,4248,4294,4285,4100,4120,3969,4059,3843,3823,3943,3765,3734,3756,3663,3697,3611,3560,3444,3472,3619,3441,3355,3314,3337,3445,3233,3118,3049,3092,3008,3118,3003,2966,2929,2961,2847,2808,2825,2838,2841,2703,2755,2701,2815,2959,2555,2632,2511,2538,2433,2440,2453,2416,2374,2705,2453,2240,2410,2261,2258,2255,2166,2307,2160,2008,2093,2066,2041,1983,2200,2049,1938,1921,1869,1941,1808,1941,1767,1851,1763,1676,1811,1758,1654,1793,1661,1623,1588,1594,1610,2037,1604,1512,186738],\"yaxis\":\"y\",\"type\":\"bar\"}],\"name\":\"2013\"},{\"data\":[{\"alignmentgroup\":\"True\",\"hovertemplate\":\"year=2014\\u003cbr\\u003erank=%{marker.color}\\u003cbr\\u003evalue=%{y}\\u003cextra\\u003e\\u003c\\u002fextra\\u003e\",\"ids\":[1,2,3,4,5,6,7,8,9,10,11,12,13,14,15,16,17,18,19,20,21,22,23,24,25,26,27,28,29,30,31,32,33,34,35,36,37,38,39,40,41,42,43,44,45,46,47,48,49,50,51,52,53,54,55,56,57,58,59,60,61,62,63,64,65,66,67,68,69,70,71,72,73,74,75,76,77,78,79,80,81,82,83,84,85,86,87,88,89,90,91,92,93,94,95,96,97,98,99,100,101,102,103,104,105,106,107,108,109,110,111,112,113,114,115,116,117,118,119,120,121,122,123,124,125,126,127,128,129,130,131,132,133,134,135,136,137,138,139,140,141,142,143,144,145,146,147,148,149,150,151,152,153,154,155,156,157,158,159,160,161,162,163,164,165,166,167,168,169,170,171,172,173,174,175,176,177,178,179,180,181,182,183,184,185,186,187,188,189,190,191,192,193,194,195,196,197,198,199,200,201,202,203,204,205,206,207,208,209,210,211,212,213,214,215,216,217,218,219,220,221,222,223,224,225,226,227,228,229,230,231,232,233,234,235,236,237,238,239,240,241,242,243,244,245,246,247,248,249,250,251,252,253,254,255,256,257,258,259,260,261,262,263,264,265,266,267,268,269,270,271,272,273,274,275,276,277,278,279,280,281,282,283,284,285,286,287,288,289,290,291,292,293,294,295,296,297,298,299,300,301,302,303,304,305,306,307,308,309,310,311,312,313,314,315,316,317,318,319,320,321,322,323,324,325,326,327,328,329,330,331,332,333,334,335,336,337,338,339,340,341,342,343,344,345,346,347,348,349,350,351,352,353,354,355,356,357,358,359,360,361,362,363,364,365,366,367,368,369,370,371,372,373,374,375,376,377,378,379,380,381,382,383,384,385,386,387,388,389,390,391,392,393,394,395,396,397,398,399,400],\"legendgroup\":\"\",\"marker\":{\"color\":[1,2,3,4,5,6,7,8,9,10,11,12,13,14,15,16,17,18,19,20,21,22,23,24,25,26,27,28,29,30,31,32,33,34,35,36,37,38,39,40,41,42,43,44,45,46,47,48,49,50,51,52,53,54,55,56,57,58,59,60,61,62,63,64,65,66,67,68,69,70,71,72,73,74,75,76,77,78,79,80,81,82,83,84,85,86,87,88,89,90,91,92,93,94,95,96,97,98,99,100,101,102,103,104,105,106,107,108,109,110,111,112,113,114,115,116,117,118,119,120,121,122,123,124,125,126,127,128,129,130,131,132,133,134,135,136,137,138,139,140,141,142,143,144,145,146,147,148,149,150,151,152,153,154,155,156,157,158,159,160,161,162,163,164,165,166,167,168,169,170,171,172,173,174,175,176,177,178,179,180,181,182,183,184,185,186,187,188,189,190,191,192,193,194,195,196,197,198,199,200,201,202,203,204,205,206,207,208,209,210,211,212,213,214,215,216,217,218,219,220,221,222,223,224,225,226,227,228,229,230,231,232,233,234,235,236,237,238,239,240,241,242,243,244,245,246,247,248,249,250,251,252,253,254,255,256,257,258,259,260,261,262,263,264,265,266,267,268,269,270,271,272,273,274,275,276,277,278,279,280,281,282,283,284,285,286,287,288,289,290,291,292,293,294,295,296,297,298,299,300,301,302,303,304,305,306,307,308,309,310,311,312,313,314,315,316,317,318,319,320,321,322,323,324,325,326,327,328,329,330,331,332,333,334,335,336,337,338,339,340,341,342,343,344,345,346,347,348,349,350,351,352,353,354,355,356,357,358,359,360,361,362,363,364,365,366,367,368,369,370,371,372,373,374,375,376,377,378,379,380,381,382,383,384,385,386,387,388,389,390,391,392,393,394,395,396,397,398,399,400],\"coloraxis\":\"coloraxis\",\"pattern\":{\"shape\":\"\"}},\"name\":\"\",\"offsetgroup\":\"\",\"orientation\":\"v\",\"showlegend\":false,\"textposition\":\"auto\",\"x\":[1,2,3,4,5,6,7,8,9,10,11,12,13,14,15,16,17,18,19,20,21,22,23,24,25,26,27,28,29,30,31,32,33,34,35,36,37,38,39,40,41,42,43,44,45,46,47,48,49,50,51,52,53,54,55,56,57,58,59,60,61,62,63,64,65,66,67,68,69,70,71,72,73,74,75,76,77,78,79,80,81,82,83,84,85,86,87,88,89,90,91,92,93,94,95,96,97,98,99,100,101,102,103,104,105,106,107,108,109,110,111,112,113,114,115,116,117,118,119,120,121,122,123,124,125,126,127,128,129,130,131,132,133,134,135,136,137,138,139,140,141,142,143,144,145,146,147,148,149,150,151,152,153,154,155,156,157,158,159,160,161,162,163,164,165,166,167,168,169,170,171,172,173,174,175,176,177,178,179,180,181,182,183,184,185,186,187,188,189,190,191,192,193,194,195,196,197,198,199,200,201,202,203,204,205,206,207,208,209,210,211,212,213,214,215,216,217,218,219,220,221,222,223,224,225,226,227,228,229,230,231,232,233,234,235,236,237,238,239,240,241,242,243,244,245,246,247,248,249,250,251,252,253,254,255,256,257,258,259,260,261,262,263,264,265,266,267,268,269,270,271,272,273,274,275,276,277,278,279,280,281,282,283,284,285,286,287,288,289,290,291,292,293,294,295,296,297,298,299,300,301,302,303,304,305,306,307,308,309,310,311,312,313,314,315,316,317,318,319,320,321,322,323,324,325,326,327,328,329,330,331,332,333,334,335,336,337,338,339,340,341,342,343,344,345,346,347,348,349,350,351,352,353,354,355,356,357,358,359,360,361,362,363,364,365,366,367,368,369,370,371,372,373,374,375,376,377,378,379,380,381,382,383,384,385,386,387,388,389,390,391,392,393,394,395,396,397,398,399,400],\"xaxis\":\"x\",\"y\":[369837,263879,230155,217609,202091,182606,171276,174140,163995,157007,144266,146481,139609,130297,125285,127353,121626,115920,117343,112124,109331,107787,109945,102742,105093,101632,98475,99349,97870,98866,108618,93942,94918,95510,93080,94666,99653,94875,96980,95292,92057,90052,93593,88742,89109,104124,87216,85074,92518,86397,86132,88634,86929,85573,95731,88843,88563,88487,86772,87620,111684,93353,88874,93230,90096,90450,97961,91762,92643,95189,98584,94344,104307,98361,97759,103002,97164,98152,99175,98997,104455,101296,97802,95669,102640,98387,92848,95843,97118,91512,105938,91223,88269,89115,87409,85690,85507,82936,81281,80707,84170,78830,78924,74502,72194,78138,69715,70065,70731,66813,66125,64359,64096,61714,64082,63040,58759,57995,56103,54323,78099,59447,54163,53152,53495,52375,52138,49609,49766,48540,49245,48844,49096,49735,48240,50525,49900,48337,48139,47207,47762,47290,45154,45147,45935,45951,42912,42525,40806,40932,47889,40351,40313,39949,41734,39294,38510,37363,37241,37525,38218,36452,37534,35757,36057,36118,33257,33177,34773,33051,32832,31636,31867,31481,30152,32199,29313,29864,29347,29347,32168,29073,29848,28096,28490,27764,27914,26687,25859,26054,26352,25626,25004,25875,25204,24525,23359,22030,21551,22396,21338,20250,20470,19825,19481,18921,18663,18072,17460,17050,18938,16515,16557,15921,15422,16276,15160,15050,14422,14103,13818,13271,13191,12933,13133,13861,12391,12138,11930,11669,11450,11324,10735,11111,10751,10792,10430,10111,10190,9915,10692,9625,9573,9522,9108,9465,9359,8930,8753,8915,9636,8573,8719,8632,8325,8470,7939,7833,8026,7748,7878,7374,7437,7243,7246,7107,6929,6971,6723,6819,7232,6638,6495,6546,6563,6505,6333,6259,5997,6038,6374,5697,5803,5887,5683,5734,5629,5822,5487,5572,5389,5270,5185,5026,5011,5041,4714,4860,4749,5001,5977,4712,4613,4430,4391,4420,4363,4059,4253,4134,4258,4024,3976,4045,3916,3925,3785,3640,3688,3513,3704,3718,3546,3548,3544,3610,3382,3268,3386,3289,3408,3162,3229,3091,3165,3100,3116,3127,2878,2942,2910,2825,2917,2914,2831,2876,2683,2826,2764,2807,2993,2714,2596,2500,2555,2511,2438,2539,2397,2427,2736,2356,2426,2348,2287,2341,2177,2298,2174,2210,2170,2067,2047,2032,2104,2211,2031,1999,1949,1912,1815,1902,1763,1725,1792,1814,1758,2348,1842,1669,1799,1727,1716,1671,1575,1581,1526,1501,1547,190531],\"yaxis\":\"y\",\"type\":\"bar\"}],\"name\":\"2014\"},{\"data\":[{\"alignmentgroup\":\"True\",\"hovertemplate\":\"year=2015\\u003cbr\\u003erank=%{marker.color}\\u003cbr\\u003evalue=%{y}\\u003cextra\\u003e\\u003c\\u002fextra\\u003e\",\"ids\":[1,2,3,4,5,6,7,8,9,10,11,12,13,14,15,16,17,18,19,20,21,22,23,24,25,26,27,28,29,30,31,32,33,34,35,36,37,38,39,40,41,42,43,44,45,46,47,48,49,50,51,52,53,54,55,56,57,58,59,60,61,62,63,64,65,66,67,68,69,70,71,72,73,74,75,76,77,78,79,80,81,82,83,84,85,86,87,88,89,90,91,92,93,94,95,96,97,98,99,100,101,102,103,104,105,106,107,108,109,110,111,112,113,114,115,116,117,118,119,120,121,122,123,124,125,126,127,128,129,130,131,132,133,134,135,136,137,138,139,140,141,142,143,144,145,146,147,148,149,150,151,152,153,154,155,156,157,158,159,160,161,162,163,164,165,166,167,168,169,170,171,172,173,174,175,176,177,178,179,180,181,182,183,184,185,186,187,188,189,190,191,192,193,194,195,196,197,198,199,200,201,202,203,204,205,206,207,208,209,210,211,212,213,214,215,216,217,218,219,220,221,222,223,224,225,226,227,228,229,230,231,232,233,234,235,236,237,238,239,240,241,242,243,244,245,246,247,248,249,250,251,252,253,254,255,256,257,258,259,260,261,262,263,264,265,266,267,268,269,270,271,272,273,274,275,276,277,278,279,280,281,282,283,284,285,286,287,288,289,290,291,292,293,294,295,296,297,298,299,300,301,302,303,304,305,306,307,308,309,310,311,312,313,314,315,316,317,318,319,320,321,322,323,324,325,326,327,328,329,330,331,332,333,334,335,336,337,338,339,340,341,342,343,344,345,346,347,348,349,350,351,352,353,354,355,356,357,358,359,360,361,362,363,364,365,366,367,368,369,370,371,372,373,374,375,376,377,378,379,380,381,382,383,384,385,386,387,388,389,390,391,392,393,394,395,396,397,398,399,400],\"legendgroup\":\"\",\"marker\":{\"color\":[1,2,3,4,5,6,7,8,9,10,11,12,13,14,15,16,17,18,19,20,21,22,23,24,25,26,27,28,29,30,31,32,33,34,35,36,37,38,39,40,41,42,43,44,45,46,47,48,49,50,51,52,53,54,55,56,57,58,59,60,61,62,63,64,65,66,67,68,69,70,71,72,73,74,75,76,77,78,79,80,81,82,83,84,85,86,87,88,89,90,91,92,93,94,95,96,97,98,99,100,101,102,103,104,105,106,107,108,109,110,111,112,113,114,115,116,117,118,119,120,121,122,123,124,125,126,127,128,129,130,131,132,133,134,135,136,137,138,139,140,141,142,143,144,145,146,147,148,149,150,151,152,153,154,155,156,157,158,159,160,161,162,163,164,165,166,167,168,169,170,171,172,173,174,175,176,177,178,179,180,181,182,183,184,185,186,187,188,189,190,191,192,193,194,195,196,197,198,199,200,201,202,203,204,205,206,207,208,209,210,211,212,213,214,215,216,217,218,219,220,221,222,223,224,225,226,227,228,229,230,231,232,233,234,235,236,237,238,239,240,241,242,243,244,245,246,247,248,249,250,251,252,253,254,255,256,257,258,259,260,261,262,263,264,265,266,267,268,269,270,271,272,273,274,275,276,277,278,279,280,281,282,283,284,285,286,287,288,289,290,291,292,293,294,295,296,297,298,299,300,301,302,303,304,305,306,307,308,309,310,311,312,313,314,315,316,317,318,319,320,321,322,323,324,325,326,327,328,329,330,331,332,333,334,335,336,337,338,339,340,341,342,343,344,345,346,347,348,349,350,351,352,353,354,355,356,357,358,359,360,361,362,363,364,365,366,367,368,369,370,371,372,373,374,375,376,377,378,379,380,381,382,383,384,385,386,387,388,389,390,391,392,393,394,395,396,397,398,399,400],\"coloraxis\":\"coloraxis\",\"pattern\":{\"shape\":\"\"}},\"name\":\"\",\"offsetgroup\":\"\",\"orientation\":\"v\",\"showlegend\":false,\"textposition\":\"auto\",\"x\":[1,2,3,4,5,6,7,8,9,10,11,12,13,14,15,16,17,18,19,20,21,22,23,24,25,26,27,28,29,30,31,32,33,34,35,36,37,38,39,40,41,42,43,44,45,46,47,48,49,50,51,52,53,54,55,56,57,58,59,60,61,62,63,64,65,66,67,68,69,70,71,72,73,74,75,76,77,78,79,80,81,82,83,84,85,86,87,88,89,90,91,92,93,94,95,96,97,98,99,100,101,102,103,104,105,106,107,108,109,110,111,112,113,114,115,116,117,118,119,120,121,122,123,124,125,126,127,128,129,130,131,132,133,134,135,136,137,138,139,140,141,142,143,144,145,146,147,148,149,150,151,152,153,154,155,156,157,158,159,160,161,162,163,164,165,166,167,168,169,170,171,172,173,174,175,176,177,178,179,180,181,182,183,184,185,186,187,188,189,190,191,192,193,194,195,196,197,198,199,200,201,202,203,204,205,206,207,208,209,210,211,212,213,214,215,216,217,218,219,220,221,222,223,224,225,226,227,228,229,230,231,232,233,234,235,236,237,238,239,240,241,242,243,244,245,246,247,248,249,250,251,252,253,254,255,256,257,258,259,260,261,262,263,264,265,266,267,268,269,270,271,272,273,274,275,276,277,278,279,280,281,282,283,284,285,286,287,288,289,290,291,292,293,294,295,296,297,298,299,300,301,302,303,304,305,306,307,308,309,310,311,312,313,314,315,316,317,318,319,320,321,322,323,324,325,326,327,328,329,330,331,332,333,334,335,336,337,338,339,340,341,342,343,344,345,346,347,348,349,350,351,352,353,354,355,356,357,358,359,360,361,362,363,364,365,366,367,368,369,370,371,372,373,374,375,376,377,378,379,380,381,382,383,384,385,386,387,388,389,390,391,392,393,394,395,396,397,398,399,400],\"xaxis\":\"x\",\"y\":[360424,269745,235644,228211,214043,184812,173156,173249,159677,151617,140107,139689,133830,124720,123085,123104,116892,114519,116868,114414,108589,107123,110700,104024,106439,102472,99207,99978,98974,98510,108643,96313,97762,97513,96747,97543,102652,99040,100278,98741,97356,94729,98442,93667,94931,111213,92264,90589,99007,91081,91101,94962,92765,91281,101476,93473,95205,95543,93805,94107,117188,102426,97488,99116,95155,97387,104020,100507,97463,99607,104775,99767,109280,104899,102370,107229,102039,102073,105290,100707,107427,102975,101194,98830,103275,101178,100638,97736,96547,95395,104608,93951,89503,89157,90104,86532,86903,84916,82722,83501,84867,79109,78741,78311,74541,78462,71586,70658,72123,68795,69135,69247,66785,62440,62641,61587,59911,60388,59051,58559,76174,63320,59792,55042,53949,53282,52665,49969,49992,49766,49305,47832,47745,47042,46700,48375,46990,45838,47276,45884,47446,45646,44635,44854,44478,45296,43648,42888,43431,41575,46832,40730,39700,40529,40447,39488,39017,39252,39893,38098,37340,36086,35708,35731,34807,36153,34777,35479,34027,34205,34316,32160,32696,30515,30722,32010,30025,30894,29794,29601,32582,28638,28015,28259,28088,27501,27427,26599,27401,27133,27562,26358,27286,26284,25851,24612,24268,23555,23135,23904,24230,22611,22317,20948,21371,21380,20395,20398,20019,19311,20981,18722,18437,18250,17925,17363,17776,17099,16398,15451,15657,14686,14429,13983,13737,15013,13595,12995,12940,13068,12883,12416,12436,11720,11782,11283,11313,10791,10807,10619,11290,10188,10107,10058,9884,10006,9518,9445,8932,9288,9952,8951,9172,8658,8727,8682,8401,8319,8165,8178,8077,7841,7781,7649,7644,7458,7277,7150,7178,7088,7444,6907,6846,6797,7066,6808,6582,6631,6510,6355,6630,6155,6311,6241,6007,6044,5866,5773,5786,5738,5742,5588,5464,5339,5237,5179,5012,5130,5233,5177,6125,4885,4833,4846,4780,4658,4667,4506,4551,4336,4545,4319,4349,4339,4169,4279,4021,3983,4014,3843,3861,4011,3788,3655,3640,3856,3550,3497,3506,3475,3603,3298,3398,3317,3193,3230,3210,3108,3152,3174,3198,3024,2986,2978,2911,3028,2764,2825,2834,2952,3072,2671,2855,2703,2676,2724,2620,2641,2544,2515,2772,2494,2547,2421,2397,2508,2345,2413,2343,2256,2251,2269,2233,2105,2205,2362,2039,2199,2171,2074,1999,1984,2011,1872,1930,1925,1818,2426,1868,1843,1938,1781,1827,1802,1681,1717,1730,1719,1685,206119],\"yaxis\":\"y\",\"type\":\"bar\"}],\"name\":\"2015\"},{\"data\":[{\"alignmentgroup\":\"True\",\"hovertemplate\":\"year=2016\\u003cbr\\u003erank=%{marker.color}\\u003cbr\\u003evalue=%{y}\\u003cextra\\u003e\\u003c\\u002fextra\\u003e\",\"ids\":[1,2,3,4,5,6,7,8,9,10,11,12,13,14,15,16,17,18,19,20,21,22,23,24,25,26,27,28,29,30,31,32,33,34,35,36,37,38,39,40,41,42,43,44,45,46,47,48,49,50,51,52,53,54,55,56,57,58,59,60,61,62,63,64,65,66,67,68,69,70,71,72,73,74,75,76,77,78,79,80,81,82,83,84,85,86,87,88,89,90,91,92,93,94,95,96,97,98,99,100,101,102,103,104,105,106,107,108,109,110,111,112,113,114,115,116,117,118,119,120,121,122,123,124,125,126,127,128,129,130,131,132,133,134,135,136,137,138,139,140,141,142,143,144,145,146,147,148,149,150,151,152,153,154,155,156,157,158,159,160,161,162,163,164,165,166,167,168,169,170,171,172,173,174,175,176,177,178,179,180,181,182,183,184,185,186,187,188,189,190,191,192,193,194,195,196,197,198,199,200,201,202,203,204,205,206,207,208,209,210,211,212,213,214,215,216,217,218,219,220,221,222,223,224,225,226,227,228,229,230,231,232,233,234,235,236,237,238,239,240,241,242,243,244,245,246,247,248,249,250,251,252,253,254,255,256,257,258,259,260,261,262,263,264,265,266,267,268,269,270,271,272,273,274,275,276,277,278,279,280,281,282,283,284,285,286,287,288,289,290,291,292,293,294,295,296,297,298,299,300,301,302,303,304,305,306,307,308,309,310,311,312,313,314,315,316,317,318,319,320,321,322,323,324,325,326,327,328,329,330,331,332,333,334,335,336,337,338,339,340,341,342,343,344,345,346,347,348,349,350,351,352,353,354,355,356,357,358,359,360,361,362,363,364,365,366,367,368,369,370,371,372,373,374,375,376,377,378,379,380,381,382,383,384,385,386,387,388,389,390,391,392,393,394,395,396,397,398,399,400],\"legendgroup\":\"\",\"marker\":{\"color\":[1,2,3,4,5,6,7,8,9,10,11,12,13,14,15,16,17,18,19,20,21,22,23,24,25,26,27,28,29,30,31,32,33,34,35,36,37,38,39,40,41,42,43,44,45,46,47,48,49,50,51,52,53,54,55,56,57,58,59,60,61,62,63,64,65,66,67,68,69,70,71,72,73,74,75,76,77,78,79,80,81,82,83,84,85,86,87,88,89,90,91,92,93,94,95,96,97,98,99,100,101,102,103,104,105,106,107,108,109,110,111,112,113,114,115,116,117,118,119,120,121,122,123,124,125,126,127,128,129,130,131,132,133,134,135,136,137,138,139,140,141,142,143,144,145,146,147,148,149,150,151,152,153,154,155,156,157,158,159,160,161,162,163,164,165,166,167,168,169,170,171,172,173,174,175,176,177,178,179,180,181,182,183,184,185,186,187,188,189,190,191,192,193,194,195,196,197,198,199,200,201,202,203,204,205,206,207,208,209,210,211,212,213,214,215,216,217,218,219,220,221,222,223,224,225,226,227,228,229,230,231,232,233,234,235,236,237,238,239,240,241,242,243,244,245,246,247,248,249,250,251,252,253,254,255,256,257,258,259,260,261,262,263,264,265,266,267,268,269,270,271,272,273,274,275,276,277,278,279,280,281,282,283,284,285,286,287,288,289,290,291,292,293,294,295,296,297,298,299,300,301,302,303,304,305,306,307,308,309,310,311,312,313,314,315,316,317,318,319,320,321,322,323,324,325,326,327,328,329,330,331,332,333,334,335,336,337,338,339,340,341,342,343,344,345,346,347,348,349,350,351,352,353,354,355,356,357,358,359,360,361,362,363,364,365,366,367,368,369,370,371,372,373,374,375,376,377,378,379,380,381,382,383,384,385,386,387,388,389,390,391,392,393,394,395,396,397,398,399,400],\"coloraxis\":\"coloraxis\",\"pattern\":{\"shape\":\"\"}},\"name\":\"\",\"offsetgroup\":\"\",\"orientation\":\"v\",\"showlegend\":false,\"textposition\":\"auto\",\"x\":[1,2,3,4,5,6,7,8,9,10,11,12,13,14,15,16,17,18,19,20,21,22,23,24,25,26,27,28,29,30,31,32,33,34,35,36,37,38,39,40,41,42,43,44,45,46,47,48,49,50,51,52,53,54,55,56,57,58,59,60,61,62,63,64,65,66,67,68,69,70,71,72,73,74,75,76,77,78,79,80,81,82,83,84,85,86,87,88,89,90,91,92,93,94,95,96,97,98,99,100,101,102,103,104,105,106,107,108,109,110,111,112,113,114,115,116,117,118,119,120,121,122,123,124,125,126,127,128,129,130,131,132,133,134,135,136,137,138,139,140,141,142,143,144,145,146,147,148,149,150,151,152,153,154,155,156,157,158,159,160,161,162,163,164,165,166,167,168,169,170,171,172,173,174,175,176,177,178,179,180,181,182,183,184,185,186,187,188,189,190,191,192,193,194,195,196,197,198,199,200,201,202,203,204,205,206,207,208,209,210,211,212,213,214,215,216,217,218,219,220,221,222,223,224,225,226,227,228,229,230,231,232,233,234,235,236,237,238,239,240,241,242,243,244,245,246,247,248,249,250,251,252,253,254,255,256,257,258,259,260,261,262,263,264,265,266,267,268,269,270,271,272,273,274,275,276,277,278,279,280,281,282,283,284,285,286,287,288,289,290,291,292,293,294,295,296,297,298,299,300,301,302,303,304,305,306,307,308,309,310,311,312,313,314,315,316,317,318,319,320,321,322,323,324,325,326,327,328,329,330,331,332,333,334,335,336,337,338,339,340,341,342,343,344,345,346,347,348,349,350,351,352,353,354,355,356,357,358,359,360,361,362,363,364,365,366,367,368,369,370,371,372,373,374,375,376,377,378,379,380,381,382,383,384,385,386,387,388,389,390,391,392,393,394,395,396,397,398,399,400],\"xaxis\":\"x\",\"y\":[359341,270013,242355,242164,214446,188223,177524,173245,162498,148527,140332,140946,133295,126129,120800,122847,117320,114787,114834,111256,108733,108302,114735,108062,106662,103760,100994,100998,100867,99580,110736,98420,99600,99452,99224,99441,104856,100714,101768,102335,99926,97814,100895,96846,97226,114646,96848,95557,101809,97297,95395,97711,98853,95689,102895,100671,99554,99577,99007,98442,120137,107247,107634,103220,102606,101404,109401,105374,104764,103655,110500,104544,113733,107541,106555,113094,108168,106849,107449,105910,109988,107146,107130,104569,106478,104147,106203,101621,100427,100151,111706,97529,93641,93445,93093,91296,91303,88153,84935,85033,86364,82676,83740,81220,78618,81805,74976,74495,73885,71362,71079,71820,69176,64991,64916,64830,61054,61105,59248,60323,80788,66645,60606,57324,56436,56150,54424,54624,51253,51056,50234,49680,49132,48072,47204,48575,46649,46723,47454,47203,47893,45380,45057,43834,45233,44628,44422,44568,44442,42178,48898,41948,40543,39975,39955,40437,40582,39792,41509,38755,39815,37604,36963,36151,36505,36322,35586,35442,35505,35331,33795,33822,33811,32508,32598,33369,31207,31214,29495,31145,32899,29277,28971,29147,29082,27992,27846,27729,26525,27825,27538,26664,26762,28125,25681,25920,25737,24577,25192,25531,24456,22943,23417,22240,22924,21601,20743,20875,20346,19885,21691,19908,19770,19197,18919,18823,18773,18211,18078,17093,16968,15655,15968,15054,15326,15624,14147,13830,13516,13183,13152,13103,12610,12470,12291,12063,11566,11839,11209,11082,11903,10710,10676,10497,10317,10257,9816,10012,9427,9709,10583,9301,9480,9085,9100,9103,8793,8636,8518,8295,8593,8335,8345,7774,7977,7978,7631,7622,7423,7439,7659,7257,7163,6941,7213,7087,6922,6748,6598,6536,6878,6526,6559,6444,6317,6306,5994,6218,6071,5957,6031,5712,5706,5635,5669,5588,5378,5443,5389,5663,6701,5141,5193,5048,5199,4976,4842,4812,4831,4672,4756,4634,4505,4454,4375,4593,4260,4230,4132,4050,4104,4120,4148,3908,3941,4077,3718,3554,3615,3613,3644,3627,3529,3463,3533,3566,3406,3359,3305,3244,3300,3241,3328,3122,3192,3123,3074,3090,2979,3123,3271,2901,2843,2767,2850,2801,2961,2888,2653,2708,3007,2577,2501,2610,2505,2549,2455,2632,2497,2426,2444,2442,2373,2267,2327,2513,2263,2138,2232,2186,2240,2198,2017,2137,2063,2063,1955,2468,2052,2003,1991,1969,1867,1858,1824,1814,1782,1840,1753,219387],\"yaxis\":\"y\",\"type\":\"bar\"}],\"name\":\"2016\"},{\"data\":[{\"alignmentgroup\":\"True\",\"hovertemplate\":\"year=2017\\u003cbr\\u003erank=%{marker.color}\\u003cbr\\u003evalue=%{y}\\u003cextra\\u003e\\u003c\\u002fextra\\u003e\",\"ids\":[1,2,3,4,5,6,7,8,9,10,11,12,13,14,15,16,17,18,19,20,21,22,23,24,25,26,27,28,29,30,31,32,33,34,35,36,37,38,39,40,41,42,43,44,45,46,47,48,49,50,51,52,53,54,55,56,57,58,59,60,61,62,63,64,65,66,67,68,69,70,71,72,73,74,75,76,77,78,79,80,81,82,83,84,85,86,87,88,89,90,91,92,93,94,95,96,97,98,99,100,101,102,103,104,105,106,107,108,109,110,111,112,113,114,115,116,117,118,119,120,121,122,123,124,125,126,127,128,129,130,131,132,133,134,135,136,137,138,139,140,141,142,143,144,145,146,147,148,149,150,151,152,153,154,155,156,157,158,159,160,161,162,163,164,165,166,167,168,169,170,171,172,173,174,175,176,177,178,179,180,181,182,183,184,185,186,187,188,189,190,191,192,193,194,195,196,197,198,199,200,201,202,203,204,205,206,207,208,209,210,211,212,213,214,215,216,217,218,219,220,221,222,223,224,225,226,227,228,229,230,231,232,233,234,235,236,237,238,239,240,241,242,243,244,245,246,247,248,249,250,251,252,253,254,255,256,257,258,259,260,261,262,263,264,265,266,267,268,269,270,271,272,273,274,275,276,277,278,279,280,281,282,283,284,285,286,287,288,289,290,291,292,293,294,295,296,297,298,299,300,301,302,303,304,305,306,307,308,309,310,311,312,313,314,315,316,317,318,319,320,321,322,323,324,325,326,327,328,329,330,331,332,333,334,335,336,337,338,339,340,341,342,343,344,345,346,347,348,349,350,351,352,353,354,355,356,357,358,359,360,361,362,363,364,365,366,367,368,369,370,371,372,373,374,375,376,377,378,379,380,381,382,383,384,385,386,387,388,389,390,391,392,393,394,395,396,397,398,399,400],\"legendgroup\":\"\",\"marker\":{\"color\":[1,2,3,4,5,6,7,8,9,10,11,12,13,14,15,16,17,18,19,20,21,22,23,24,25,26,27,28,29,30,31,32,33,34,35,36,37,38,39,40,41,42,43,44,45,46,47,48,49,50,51,52,53,54,55,56,57,58,59,60,61,62,63,64,65,66,67,68,69,70,71,72,73,74,75,76,77,78,79,80,81,82,83,84,85,86,87,88,89,90,91,92,93,94,95,96,97,98,99,100,101,102,103,104,105,106,107,108,109,110,111,112,113,114,115,116,117,118,119,120,121,122,123,124,125,126,127,128,129,130,131,132,133,134,135,136,137,138,139,140,141,142,143,144,145,146,147,148,149,150,151,152,153,154,155,156,157,158,159,160,161,162,163,164,165,166,167,168,169,170,171,172,173,174,175,176,177,178,179,180,181,182,183,184,185,186,187,188,189,190,191,192,193,194,195,196,197,198,199,200,201,202,203,204,205,206,207,208,209,210,211,212,213,214,215,216,217,218,219,220,221,222,223,224,225,226,227,228,229,230,231,232,233,234,235,236,237,238,239,240,241,242,243,244,245,246,247,248,249,250,251,252,253,254,255,256,257,258,259,260,261,262,263,264,265,266,267,268,269,270,271,272,273,274,275,276,277,278,279,280,281,282,283,284,285,286,287,288,289,290,291,292,293,294,295,296,297,298,299,300,301,302,303,304,305,306,307,308,309,310,311,312,313,314,315,316,317,318,319,320,321,322,323,324,325,326,327,328,329,330,331,332,333,334,335,336,337,338,339,340,341,342,343,344,345,346,347,348,349,350,351,352,353,354,355,356,357,358,359,360,361,362,363,364,365,366,367,368,369,370,371,372,373,374,375,376,377,378,379,380,381,382,383,384,385,386,387,388,389,390,391,392,393,394,395,396,397,398,399,400],\"coloraxis\":\"coloraxis\",\"pattern\":{\"shape\":\"\"}},\"name\":\"\",\"offsetgroup\":\"\",\"orientation\":\"v\",\"showlegend\":false,\"textposition\":\"auto\",\"x\":[1,2,3,4,5,6,7,8,9,10,11,12,13,14,15,16,17,18,19,20,21,22,23,24,25,26,27,28,29,30,31,32,33,34,35,36,37,38,39,40,41,42,43,44,45,46,47,48,49,50,51,52,53,54,55,56,57,58,59,60,61,62,63,64,65,66,67,68,69,70,71,72,73,74,75,76,77,78,79,80,81,82,83,84,85,86,87,88,89,90,91,92,93,94,95,96,97,98,99,100,101,102,103,104,105,106,107,108,109,110,111,112,113,114,115,116,117,118,119,120,121,122,123,124,125,126,127,128,129,130,131,132,133,134,135,136,137,138,139,140,141,142,143,144,145,146,147,148,149,150,151,152,153,154,155,156,157,158,159,160,161,162,163,164,165,166,167,168,169,170,171,172,173,174,175,176,177,178,179,180,181,182,183,184,185,186,187,188,189,190,191,192,193,194,195,196,197,198,199,200,201,202,203,204,205,206,207,208,209,210,211,212,213,214,215,216,217,218,219,220,221,222,223,224,225,226,227,228,229,230,231,232,233,234,235,236,237,238,239,240,241,242,243,244,245,246,247,248,249,250,251,252,253,254,255,256,257,258,259,260,261,262,263,264,265,266,267,268,269,270,271,272,273,274,275,276,277,278,279,280,281,282,283,284,285,286,287,288,289,290,291,292,293,294,295,296,297,298,299,300,301,302,303,304,305,306,307,308,309,310,311,312,313,314,315,316,317,318,319,320,321,322,323,324,325,326,327,328,329,330,331,332,333,334,335,336,337,338,339,340,341,342,343,344,345,346,347,348,349,350,351,352,353,354,355,356,357,358,359,360,361,362,363,364,365,366,367,368,369,370,371,372,373,374,375,376,377,378,379,380,381,382,383,384,385,386,387,388,389,390,391,392,393,394,395,396,397,398,399,400],\"xaxis\":\"x\",\"y\":[336325,248893,226109,208225,191359,165605,156510,157282,152666,141215,136311,133825,137548,123714,122818,123192,117293,115014,115228,110906,110528,108585,108871,105015,111730,106209,104334,104128,105307,104615,109203,102060,102888,101576,100851,102350,108122,103202,104542,103836,101865,100771,106062,99105,99336,104998,98211,96582,103667,113376,99893,102050,102627,101207,106956,102801,105803,106239,104146,104398,124213,107610,111267,116321,107715,108219,113990,109995,111001,112573,116483,110036,121485,113400,111952,119648,114052,116844,116325,112733,114783,116068,117431,111116,116495,112606,115224,109969,109389,106228,119828,107262,104458,101632,101565,98129,96977,93201,91183,90249,91030,87860,90304,85644,84291,88088,79480,81123,78246,76338,74031,74494,73019,68625,68278,67533,65542,65633,63948,62895,68435,59775,64650,67873,64194,60414,57039,55124,52919,53651,54555,50613,50796,51136,50575,51379,48938,49069,49426,49405,50302,48494,47561,46393,47663,46377,45759,44996,43428,44029,50497,42570,44649,42221,42629,42581,41354,40815,40780,40955,40820,40284,40092,37795,39290,37880,36016,35803,36020,35929,36754,35227,35146,34929,33374,34685,32087,30302,30381,29572,32636,30163,29468,30350,30250,29360,29133,29085,27759,27769,27909,25791,27782,26677,25577,26765,26573,26325,25617,26799,26216,24243,23418,22742,22576,21691,21656,21109,20536,20269,21963,19847,19439,19821,19441,19335,18831,17859,17278,17057,16832,16339,16369,15893,15773,17732,15074,14603,14037,13743,13870,13235,13050,12778,12548,12476,12061,12185,11669,11508,12822,11046,10834,11166,10536,10824,10335,10356,9883,10446,11168,9875,9901,9342,9390,9480,9056,8939,9144,9012,9147,8548,8518,8200,8509,8010,7836,7760,7604,7820,8199,7505,7501,7519,7665,7607,7182,7147,7117,6971,7249,6699,6896,6579,6509,6510,6256,6308,6115,6245,6169,6040,6076,6063,5879,5894,5682,5642,5378,5881,6972,5429,5224,5336,5157,5216,4997,4903,5053,4861,4890,4674,4876,4598,4646,4669,4462,4457,4328,4234,4314,4299,4183,4093,4055,4330,4070,3881,3795,3772,4008,3782,3650,3686,3582,3642,3661,3533,3398,3425,3438,3388,3384,3236,3250,3301,3131,3050,3162,3185,3637,3060,3000,2984,3014,2933,2785,2844,2926,2859,3198,2781,2821,2711,2808,2680,2554,2611,2627,2540,2501,2434,2459,2526,2436,2693,2398,2366,2317,2357,2390,2209,2192,2141,2174,2181,2095,2116,2077,2003,2092,1959,2487,2033,2024,1941,1927,1860,1910,229437],\"yaxis\":\"y\",\"type\":\"bar\"}],\"name\":\"2017\"},{\"data\":[{\"alignmentgroup\":\"True\",\"hovertemplate\":\"year=2018\\u003cbr\\u003erank=%{marker.color}\\u003cbr\\u003evalue=%{y}\\u003cextra\\u003e\\u003c\\u002fextra\\u003e\",\"ids\":[1,2,3,4,5,6,7,8,9,10,11,12,13,14,15,16,17,18,19,20,21,22,23,24,25,26,27,28,29,30,31,32,33,34,35,36,37,38,39,40,41,42,43,44,45,46,47,48,49,50,51,52,53,54,55,56,57,58,59,60,61,62,63,64,65,66,67,68,69,70,71,72,73,74,75,76,77,78,79,80,81,82,83,84,85,86,87,88,89,90,91,92,93,94,95,96,97,98,99,100,101,102,103,104,105,106,107,108,109,110,111,112,113,114,115,116,117,118,119,120,121,122,123,124,125,126,127,128,129,130,131,132,133,134,135,136,137,138,139,140,141,142,143,144,145,146,147,148,149,150,151,152,153,154,155,156,157,158,159,160,161,162,163,164,165,166,167,168,169,170,171,172,173,174,175,176,177,178,179,180,181,182,183,184,185,186,187,188,189,190,191,192,193,194,195,196,197,198,199,200,201,202,203,204,205,206,207,208,209,210,211,212,213,214,215,216,217,218,219,220,221,222,223,224,225,226,227,228,229,230,231,232,233,234,235,236,237,238,239,240,241,242,243,244,245,246,247,248,249,250,251,252,253,254,255,256,257,258,259,260,261,262,263,264,265,266,267,268,269,270,271,272,273,274,275,276,277,278,279,280,281,282,283,284,285,286,287,288,289,290,291,292,293,294,295,296,297,298,299,300,301,302,303,304,305,306,307,308,309,310,311,312,313,314,315,316,317,318,319,320,321,322,323,324,325,326,327,328,329,330,331,332,333,334,335,336,337,338,339,340,341,342,343,344,345,346,347,348,349,350,351,352,353,354,355,356,357,358,359,360,361,362,363,364,365,366,367,368,369,370,371,372,373,374,375,376,377,378,379,380,381,382,383,384,385,386,387,388,389,390,391,392,393,394,395,396,397,398,399,400],\"legendgroup\":\"\",\"marker\":{\"color\":[1,2,3,4,5,6,7,8,9,10,11,12,13,14,15,16,17,18,19,20,21,22,23,24,25,26,27,28,29,30,31,32,33,34,35,36,37,38,39,40,41,42,43,44,45,46,47,48,49,50,51,52,53,54,55,56,57,58,59,60,61,62,63,64,65,66,67,68,69,70,71,72,73,74,75,76,77,78,79,80,81,82,83,84,85,86,87,88,89,90,91,92,93,94,95,96,97,98,99,100,101,102,103,104,105,106,107,108,109,110,111,112,113,114,115,116,117,118,119,120,121,122,123,124,125,126,127,128,129,130,131,132,133,134,135,136,137,138,139,140,141,142,143,144,145,146,147,148,149,150,151,152,153,154,155,156,157,158,159,160,161,162,163,164,165,166,167,168,169,170,171,172,173,174,175,176,177,178,179,180,181,182,183,184,185,186,187,188,189,190,191,192,193,194,195,196,197,198,199,200,201,202,203,204,205,206,207,208,209,210,211,212,213,214,215,216,217,218,219,220,221,222,223,224,225,226,227,228,229,230,231,232,233,234,235,236,237,238,239,240,241,242,243,244,245,246,247,248,249,250,251,252,253,254,255,256,257,258,259,260,261,262,263,264,265,266,267,268,269,270,271,272,273,274,275,276,277,278,279,280,281,282,283,284,285,286,287,288,289,290,291,292,293,294,295,296,297,298,299,300,301,302,303,304,305,306,307,308,309,310,311,312,313,314,315,316,317,318,319,320,321,322,323,324,325,326,327,328,329,330,331,332,333,334,335,336,337,338,339,340,341,342,343,344,345,346,347,348,349,350,351,352,353,354,355,356,357,358,359,360,361,362,363,364,365,366,367,368,369,370,371,372,373,374,375,376,377,378,379,380,381,382,383,384,385,386,387,388,389,390,391,392,393,394,395,396,397,398,399,400],\"coloraxis\":\"coloraxis\",\"pattern\":{\"shape\":\"\"}},\"name\":\"\",\"offsetgroup\":\"\",\"orientation\":\"v\",\"showlegend\":false,\"textposition\":\"auto\",\"x\":[1,2,3,4,5,6,7,8,9,10,11,12,13,14,15,16,17,18,19,20,21,22,23,24,25,26,27,28,29,30,31,32,33,34,35,36,37,38,39,40,41,42,43,44,45,46,47,48,49,50,51,52,53,54,55,56,57,58,59,60,61,62,63,64,65,66,67,68,69,70,71,72,73,74,75,76,77,78,79,80,81,82,83,84,85,86,87,88,89,90,91,92,93,94,95,96,97,98,99,100,101,102,103,104,105,106,107,108,109,110,111,112,113,114,115,116,117,118,119,120,121,122,123,124,125,126,127,128,129,130,131,132,133,134,135,136,137,138,139,140,141,142,143,144,145,146,147,148,149,150,151,152,153,154,155,156,157,158,159,160,161,162,163,164,165,166,167,168,169,170,171,172,173,174,175,176,177,178,179,180,181,182,183,184,185,186,187,188,189,190,191,192,193,194,195,196,197,198,199,200,201,202,203,204,205,206,207,208,209,210,211,212,213,214,215,216,217,218,219,220,221,222,223,224,225,226,227,228,229,230,231,232,233,234,235,236,237,238,239,240,241,242,243,244,245,246,247,248,249,250,251,252,253,254,255,256,257,258,259,260,261,262,263,264,265,266,267,268,269,270,271,272,273,274,275,276,277,278,279,280,281,282,283,284,285,286,287,288,289,290,291,292,293,294,295,296,297,298,299,300,301,302,303,304,305,306,307,308,309,310,311,312,313,314,315,316,317,318,319,320,321,322,323,324,325,326,327,328,329,330,331,332,333,334,335,336,337,338,339,340,341,342,343,344,345,346,347,348,349,350,351,352,353,354,355,356,357,358,359,360,361,362,363,364,365,366,367,368,369,370,371,372,373,374,375,376,377,378,379,380,381,382,383,384,385,386,387,388,389,390,391,392,393,394,395,396,397,398,399,400],\"xaxis\":\"x\",\"y\":[328778,233521,210252,192375,186405,165252,151966,147826,144570,134969,129823,126255,130025,122012,115571,117363,114582,116196,111761,108436,107166,106722,105923,102190,103446,105726,101799,100911,100957,98648,104914,100025,101906,99974,99862,100370,106096,100332,104225,103270,103163,100460,104150,99764,101406,105208,99266,99300,103204,99548,99609,118303,105579,101858,108681,106808,105445,111433,108438,108586,125928,110404,111493,117088,120506,114181,118409,113962,113113,117697,119969,115280,127499,118127,116469,124225,117775,118485,123392,116199,119244,120427,123630,117173,123432,118780,121306,117464,114853,113453,125003,113795,110989,110367,110882,105782,107118,101554,101371,100057,99374,94387,96736,92628,91533,94827,87955,87300,85296,83760,82513,80741,77879,73379,74479,73304,70286,69189,66628,67675,74934,64599,63952,61913,72178,70348,64800,60293,57696,57323,56009,53823,55679,52931,50831,52161,49271,50076,49443,48705,49394,47650,47937,47506,48460,46069,46716,45345,45142,45199,52722,45449,45685,45167,45383,45586,46083,45887,43968,44258,44305,45404,42759,42401,42550,41991,40154,38806,38266,38482,37359,37451,37426,38175,38035,39035,35972,34147,33598,32799,35632,32272,30948,31815,31336,31103,30978,30432,29675,31024,29375,28456,29293,28278,27922,28503,27266,26913,27242,29024,28007,26702,26634,25289,25391,23988,23310,23413,22293,22235,24175,20742,21066,20200,20371,20310,19985,20196,19409,18969,19169,18207,17840,17255,17546,18973,17136,16207,16031,15570,15177,14642,14127,13787,13817,13572,13233,13290,12703,12759,13672,12166,12181,12515,11617,11591,11310,11458,10799,11258,12096,10725,10831,10250,10082,10435,9821,9570,9514,9735,9692,9243,9258,8960,9100,8947,8804,8683,8380,8476,8600,8008,8096,7769,8287,7941,7693,7640,7712,7388,7711,7113,7239,7384,7122,6985,6803,6802,6657,6630,6546,6452,6410,6189,6272,6448,6144,6460,6001,6218,7595,5703,5758,5632,5605,5630,5417,5417,5377,5296,5235,5179,5237,4817,5000,5105,4823,4803,4751,4734,4710,4632,4587,4382,4661,4776,4382,4378,4164,4220,4272,4136,3981,3944,3951,3901,3871,3771,3618,3717,3712,3506,3611,3447,3455,3710,3467,3374,3466,3484,3872,3263,3292,3215,3146,3213,3079,3186,3042,3019,3329,3029,2884,2941,2911,2887,3041,2811,2672,2776,2908,2771,2698,2696,2559,2970,2616,2505,2517,2528,2488,2349,2352,2401,2438,2389,2268,2219,2203,2237,2380,2254,2176,2054,2107,2067,2113,2680,2190,251229],\"yaxis\":\"y\",\"type\":\"bar\"}],\"name\":\"2018\"},{\"data\":[{\"alignmentgroup\":\"True\",\"hovertemplate\":\"year=2019\\u003cbr\\u003erank=%{marker.color}\\u003cbr\\u003evalue=%{y}\\u003cextra\\u003e\\u003c\\u002fextra\\u003e\",\"ids\":[1,2,3,4,5,6,7,8,9,10,11,12,13,14,15,16,17,18,19,20,21,22,23,24,25,26,27,28,29,30,31,32,33,34,35,36,37,38,39,40,41,42,43,44,45,46,47,48,49,50,51,52,53,54,55,56,57,58,59,60,61,62,63,64,65,66,67,68,69,70,71,72,73,74,75,76,77,78,79,80,81,82,83,84,85,86,87,88,89,90,91,92,93,94,95,96,97,98,99,100,101,102,103,104,105,106,107,108,109,110,111,112,113,114,115,116,117,118,119,120,121,122,123,124,125,126,127,128,129,130,131,132,133,134,135,136,137,138,139,140,141,142,143,144,145,146,147,148,149,150,151,152,153,154,155,156,157,158,159,160,161,162,163,164,165,166,167,168,169,170,171,172,173,174,175,176,177,178,179,180,181,182,183,184,185,186,187,188,189,190,191,192,193,194,195,196,197,198,199,200,201,202,203,204,205,206,207,208,209,210,211,212,213,214,215,216,217,218,219,220,221,222,223,224,225,226,227,228,229,230,231,232,233,234,235,236,237,238,239,240,241,242,243,244,245,246,247,248,249,250,251,252,253,254,255,256,257,258,259,260,261,262,263,264,265,266,267,268,269,270,271,272,273,274,275,276,277,278,279,280,281,282,283,284,285,286,287,288,289,290,291,292,293,294,295,296,297,298,299,300,301,302,303,304,305,306,307,308,309,310,311,312,313,314,315,316,317,318,319,320,321,322,323,324,325,326,327,328,329,330,331,332,333,334,335,336,337,338,339,340,341,342,343,344,345,346,347,348,349,350,351,352,353,354,355,356,357,358,359,360,361,362,363,364,365,366,367,368,369,370,371,372,373,374,375,376,377,378,379,380,381,382,383,384,385,386,387,388,389,390,391,392,393,394,395,396,397,398,399,400],\"legendgroup\":\"\",\"marker\":{\"color\":[1,2,3,4,5,6,7,8,9,10,11,12,13,14,15,16,17,18,19,20,21,22,23,24,25,26,27,28,29,30,31,32,33,34,35,36,37,38,39,40,41,42,43,44,45,46,47,48,49,50,51,52,53,54,55,56,57,58,59,60,61,62,63,64,65,66,67,68,69,70,71,72,73,74,75,76,77,78,79,80,81,82,83,84,85,86,87,88,89,90,91,92,93,94,95,96,97,98,99,100,101,102,103,104,105,106,107,108,109,110,111,112,113,114,115,116,117,118,119,120,121,122,123,124,125,126,127,128,129,130,131,132,133,134,135,136,137,138,139,140,141,142,143,144,145,146,147,148,149,150,151,152,153,154,155,156,157,158,159,160,161,162,163,164,165,166,167,168,169,170,171,172,173,174,175,176,177,178,179,180,181,182,183,184,185,186,187,188,189,190,191,192,193,194,195,196,197,198,199,200,201,202,203,204,205,206,207,208,209,210,211,212,213,214,215,216,217,218,219,220,221,222,223,224,225,226,227,228,229,230,231,232,233,234,235,236,237,238,239,240,241,242,243,244,245,246,247,248,249,250,251,252,253,254,255,256,257,258,259,260,261,262,263,264,265,266,267,268,269,270,271,272,273,274,275,276,277,278,279,280,281,282,283,284,285,286,287,288,289,290,291,292,293,294,295,296,297,298,299,300,301,302,303,304,305,306,307,308,309,310,311,312,313,314,315,316,317,318,319,320,321,322,323,324,325,326,327,328,329,330,331,332,333,334,335,336,337,338,339,340,341,342,343,344,345,346,347,348,349,350,351,352,353,354,355,356,357,358,359,360,361,362,363,364,365,366,367,368,369,370,371,372,373,374,375,376,377,378,379,380,381,382,383,384,385,386,387,388,389,390,391,392,393,394,395,396,397,398,399,400],\"coloraxis\":\"coloraxis\",\"pattern\":{\"shape\":\"\"}},\"name\":\"\",\"offsetgroup\":\"\",\"orientation\":\"v\",\"showlegend\":false,\"textposition\":\"auto\",\"x\":[1,2,3,4,5,6,7,8,9,10,11,12,13,14,15,16,17,18,19,20,21,22,23,24,25,26,27,28,29,30,31,32,33,34,35,36,37,38,39,40,41,42,43,44,45,46,47,48,49,50,51,52,53,54,55,56,57,58,59,60,61,62,63,64,65,66,67,68,69,70,71,72,73,74,75,76,77,78,79,80,81,82,83,84,85,86,87,88,89,90,91,92,93,94,95,96,97,98,99,100,101,102,103,104,105,106,107,108,109,110,111,112,113,114,115,116,117,118,119,120,121,122,123,124,125,126,127,128,129,130,131,132,133,134,135,136,137,138,139,140,141,142,143,144,145,146,147,148,149,150,151,152,153,154,155,156,157,158,159,160,161,162,163,164,165,166,167,168,169,170,171,172,173,174,175,176,177,178,179,180,181,182,183,184,185,186,187,188,189,190,191,192,193,194,195,196,197,198,199,200,201,202,203,204,205,206,207,208,209,210,211,212,213,214,215,216,217,218,219,220,221,222,223,224,225,226,227,228,229,230,231,232,233,234,235,236,237,238,239,240,241,242,243,244,245,246,247,248,249,250,251,252,253,254,255,256,257,258,259,260,261,262,263,264,265,266,267,268,269,270,271,272,273,274,275,276,277,278,279,280,281,282,283,284,285,286,287,288,289,290,291,292,293,294,295,296,297,298,299,300,301,302,303,304,305,306,307,308,309,310,311,312,313,314,315,316,317,318,319,320,321,322,323,324,325,326,327,328,329,330,331,332,333,334,335,336,337,338,339,340,341,342,343,344,345,346,347,348,349,350,351,352,353,354,355,356,357,358,359,360,361,362,363,364,365,366,367,368,369,370,371,372,373,374,375,376,377,378,379,380,381,382,383,384,385,386,387,388,389,390,391,392,393,394,395,396,397,398,399,400],\"xaxis\":\"x\",\"y\":[310946,210956,180277,172495,164155,158403,140806,138081,136466,126977,121147,117265,121413,113224,108993,113492,109906,105690,106525,103315,101965,102177,99594,97960,97778,96224,95524,94673,93071,93051,98065,105667,102998,99864,98827,99409,104845,99139,99156,101995,100423,98636,101130,98569,98345,101289,98294,100899,102553,98997,98006,97657,97824,96399,103049,99444,98581,100086,98899,99067,115728,103500,112718,177362,126212,126747,134739,128234,120372,124244,126081,120566,131757,124105,125418,129730,125030,124748,127581,125812,124043,121681,124898,124339,127782,120660,119237,122351,120451,116423,129864,117493,115674,114223,119875,110666,109349,108441,106910,105537,106500,99836,101770,92864,95591,99638,91171,90630,91248,90172,84996,86664,85923,79228,78924,78106,74441,74470,71966,72314,78304,69386,68433,67187,66931,75403,75148,65696,61806,61214,60217,56594,57099,55177,56151,55518,51536,51501,51613,50745,51150,48798,47982,47294,47676,47634,46521,48787,45459,45087,52516,43893,43757,43551,42687,42777,44220,42673,42743,42096,43750,42178,41944,41867,42476,45892,43229,43212,45085,43553,43331,42022,39871,39282,38937,41050,37995,37202,38057,36588,39811,35962,34250,34993,32636,32597,32189,31839,30995,31878,32280,30119,30754,30180,28897,29619,28765,28077,29146,28991,30003,28069,27383,27617,27132,27170,26255,26636,24955,24734,26307,23688,22782,22565,22158,22220,21787,21179,20951,20982,20709,20303,20203,19570,19254,20873,18587,18037,17975,17374,17145,16628,16351,16049,16059,15272,15036,14804,14090,13625,14987,13357,13085,12876,13497,13026,12424,12433,12005,12403,13157,11743,11597,11157,10819,11010,10750,10613,10368,10246,10411,9981,9868,9513,9516,9561,9301,9256,9193,9283,9496,8593,8734,8639,8891,8724,8432,8194,7815,8112,8205,7847,7937,7609,7673,7668,7234,7265,7195,7048,7256,6834,6865,6719,6705,6807,6652,6725,6409,6682,8530,6159,6211,6140,6128,5869,6091,5872,5754,5701,5702,5688,5583,5425,5333,5587,5303,5310,5184,5171,5090,4900,4944,4799,4946,5234,4489,4747,4553,4608,4685,4446,4277,4538,4251,4428,4109,4156,4106,3994,3989,3922,3907,3762,3846,3982,3807,3628,3684,3823,4093,3677,3492,3490,3542,3413,3369,3374,3359,3352,3800,3160,3105,3160,3083,3239,2979,3063,2983,2930,3227,2941,2870,2898,2979,3173,2798,2755,2796,2776,2646,2657,2589,2531,2583,2624,2515,2509,2454,2466,2600,2408,2344,2280,2277,2335,2276,2328,2258,277749],\"yaxis\":\"y\",\"type\":\"bar\"}],\"name\":\"2019\"},{\"data\":[{\"alignmentgroup\":\"True\",\"hovertemplate\":\"year=2020\\u003cbr\\u003erank=%{marker.color}\\u003cbr\\u003evalue=%{y}\\u003cextra\\u003e\\u003c\\u002fextra\\u003e\",\"ids\":[1,2,3,4,5,6,7,8,9,10,11,12,13,14,15,16,17,18,19,20,21,22,23,24,25,26,27,28,29,30,31,32,33,34,35,36,37,38,39,40,41,42,43,44,45,46,47,48,49,50,51,52,53,54,55,56,57,58,59,60,61,62,63,64,65,66,67,68,69,70,71,72,73,74,75,76,77,78,79,80,81,82,83,84,85,86,87,88,89,90,91,92,93,94,95,96,97,98,99,100,101,102,103,104,105,106,107,108,109,110,111,112,113,114,115,116,117,118,119,120,121,122,123,124,125,126,127,128,129,130,131,132,133,134,135,136,137,138,139,140,141,142,143,144,145,146,147,148,149,150,151,152,153,154,155,156,157,158,159,160,161,162,163,164,165,166,167,168,169,170,171,172,173,174,175,176,177,178,179,180,181,182,183,184,185,186,187,188,189,190,191,192,193,194,195,196,197,198,199,200,201,202,203,204,205,206,207,208,209,210,211,212,213,214,215,216,217,218,219,220,221,222,223,224,225,226,227,228,229,230,231,232,233,234,235,236,237,238,239,240,241,242,243,244,245,246,247,248,249,250,251,252,253,254,255,256,257,258,259,260,261,262,263,264,265,266,267,268,269,270,271,272,273,274,275,276,277,278,279,280,281,282,283,284,285,286,287,288,289,290,291,292,293,294,295,296,297,298,299,300,301,302,303,304,305,306,307,308,309,310,311,312,313,314,315,316,317,318,319,320,321,322,323,324,325,326,327,328,329,330,331,332,333,334,335,336,337,338,339,340,341,342,343,344,345,346,347,348,349,350,351,352,353,354,355,356,357,358,359,360,361,362,363,364,365,366,367,368,369,370,371,372,373,374,375,376,377,378,379,380,381,382,383,384,385,386,387,388,389,390,391,392,393,394,395,396,397,398,399,400],\"legendgroup\":\"\",\"marker\":{\"color\":[1,2,3,4,5,6,7,8,9,10,11,12,13,14,15,16,17,18,19,20,21,22,23,24,25,26,27,28,29,30,31,32,33,34,35,36,37,38,39,40,41,42,43,44,45,46,47,48,49,50,51,52,53,54,55,56,57,58,59,60,61,62,63,64,65,66,67,68,69,70,71,72,73,74,75,76,77,78,79,80,81,82,83,84,85,86,87,88,89,90,91,92,93,94,95,96,97,98,99,100,101,102,103,104,105,106,107,108,109,110,111,112,113,114,115,116,117,118,119,120,121,122,123,124,125,126,127,128,129,130,131,132,133,134,135,136,137,138,139,140,141,142,143,144,145,146,147,148,149,150,151,152,153,154,155,156,157,158,159,160,161,162,163,164,165,166,167,168,169,170,171,172,173,174,175,176,177,178,179,180,181,182,183,184,185,186,187,188,189,190,191,192,193,194,195,196,197,198,199,200,201,202,203,204,205,206,207,208,209,210,211,212,213,214,215,216,217,218,219,220,221,222,223,224,225,226,227,228,229,230,231,232,233,234,235,236,237,238,239,240,241,242,243,244,245,246,247,248,249,250,251,252,253,254,255,256,257,258,259,260,261,262,263,264,265,266,267,268,269,270,271,272,273,274,275,276,277,278,279,280,281,282,283,284,285,286,287,288,289,290,291,292,293,294,295,296,297,298,299,300,301,302,303,304,305,306,307,308,309,310,311,312,313,314,315,316,317,318,319,320,321,322,323,324,325,326,327,328,329,330,331,332,333,334,335,336,337,338,339,340,341,342,343,344,345,346,347,348,349,350,351,352,353,354,355,356,357,358,359,360,361,362,363,364,365,366,367,368,369,370,371,372,373,374,375,376,377,378,379,380,381,382,383,384,385,386,387,388,389,390,391,392,393,394,395,396,397,398,399,400],\"coloraxis\":\"coloraxis\",\"pattern\":{\"shape\":\"\"}},\"name\":\"\",\"offsetgroup\":\"\",\"orientation\":\"v\",\"showlegend\":false,\"textposition\":\"auto\",\"x\":[1,2,3,4,5,6,7,8,9,10,11,12,13,14,15,16,17,18,19,20,21,22,23,24,25,26,27,28,29,30,31,32,33,34,35,36,37,38,39,40,41,42,43,44,45,46,47,48,49,50,51,52,53,54,55,56,57,58,59,60,61,62,63,64,65,66,67,68,69,70,71,72,73,74,75,76,77,78,79,80,81,82,83,84,85,86,87,88,89,90,91,92,93,94,95,96,97,98,99,100,101,102,103,104,105,106,107,108,109,110,111,112,113,114,115,116,117,118,119,120,121,122,123,124,125,126,127,128,129,130,131,132,133,134,135,136,137,138,139,140,141,142,143,144,145,146,147,148,149,150,151,152,153,154,155,156,157,158,159,160,161,162,163,164,165,166,167,168,169,170,171,172,173,174,175,176,177,178,179,180,181,182,183,184,185,186,187,188,189,190,191,192,193,194,195,196,197,198,199,200,201,202,203,204,205,206,207,208,209,210,211,212,213,214,215,216,217,218,219,220,221,222,223,224,225,226,227,228,229,230,231,232,233,234,235,236,237,238,239,240,241,242,243,244,245,246,247,248,249,250,251,252,253,254,255,256,257,258,259,260,261,262,263,264,265,266,267,268,269,270,271,272,273,274,275,276,277,278,279,280,281,282,283,284,285,286,287,288,289,290,291,292,293,294,295,296,297,298,299,300,301,302,303,304,305,306,307,308,309,310,311,312,313,314,315,316,317,318,319,320,321,322,323,324,325,326,327,328,329,330,331,332,333,334,335,336,337,338,339,340,341,342,343,344,345,346,347,348,349,350,351,352,353,354,355,356,357,358,359,360,361,362,363,364,365,366,367,368,369,370,371,372,373,374,375,376,377,378,379,380,381,382,383,384,385,386,387,388,389,390,391,392,393,394,395,396,397,398,399,400],\"xaxis\":\"x\",\"y\":[270572,194006,170422,164014,164394,156012,145871,149294,148476,138285,133046,128014,127864,128966,127544,128620,127973,124647,122473,120832,117663,116720,116697,112033,112848,109787,108334,108094,107407,106350,109545,105268,104983,111599,106056,104534,107321,102137,102360,102529,102221,101993,102663,99152,99369,103689,100312,99309,101982,101552,100277,100479,102115,100319,104566,103264,103950,104786,103899,103595,114845,102465,100337,103745,102895,105895,154569,114461,111236,111909,114075,111132,116243,111604,109010,110970,106665,106805,108025,104017,104685,103409,106055,99458,101552,104802,100265,97795,97845,98372,108579,98419,96542,96460,97524,94044,94732,90405,88453,88651,90953,86716,88710,84174,83131,85035,78086,79037,79848,78407,76333,76078,76257,71077,70720,70128,66843,66481,65372,65472,70987,62712,62681,60838,61271,60306,59408,59736,67364,68384,60322,54000,53868,52277,51086,51285,49891,49591,48932,47342,47691,45272,44787,44248,45287,44473,44289,42654,44400,42048,50609,42246,40896,41876,40752,41091,39929,39387,37675,39747,40096,38545,38861,37515,37024,38351,36816,37295,41322,38601,38055,39179,40064,39388,40795,40548,38256,37594,37435,36824,40600,36639,36081,35633,36433,34879,33101,35373,32313,32188,32709,30196,30813,29440,29076,30430,27998,27871,27942,29623,28813,27311,28605,27208,27507,27091,26243,26516,25732,26140,27178,24851,25172,23105,22870,23162,22221,21958,21585,20748,20918,20176,20484,20269,19623,21401,18836,19212,18457,17905,18174,17869,17462,17217,16805,16297,16258,15730,14998,15178,15812,14381,14060,13819,14194,13397,13087,12672,12144,12629,13088,11855,12236,11349,11183,11202,10901,11005,10525,10614,10575,10011,10047,9880,9790,9757,9440,9115,9290,9071,9423,8780,8844,8786,8868,8756,8452,8507,8126,8013,8497,8055,7702,7734,8019,7824,7244,7439,7218,7187,7188,7065,7148,6806,7065,6719,6783,6839,6789,7021,8418,6395,6553,6213,6256,6129,6112,6189,6006,5955,5947,5635,5777,5601,5559,5754,5501,5281,5241,5329,5222,5116,5048,4945,5017,5155,4671,4727,4636,4613,4739,4526,4607,4389,4420,4599,4443,4136,4311,4296,4228,4307,4046,3938,3946,4109,3833,3892,3781,3923,4233,3646,3680,3654,3603,3583,3461,3501,3515,3441,3738,3330,3371,3188,3203,3169,3117,3134,3129,3031,3127,3007,3049,2920,3101,3178,2838,2860,2915,2956,2893,2749,2770,2642,2666,2754,2704,2643,2551,2497,2772,2432,2499,2479,2516,2434,2422,2392,2333,291756],\"yaxis\":\"y\",\"type\":\"bar\"}],\"name\":\"2020\"},{\"data\":[{\"alignmentgroup\":\"True\",\"hovertemplate\":\"year=2021\\u003cbr\\u003erank=%{marker.color}\\u003cbr\\u003evalue=%{y}\\u003cextra\\u003e\\u003c\\u002fextra\\u003e\",\"ids\":[1,2,3,4,5,6,7,8,9,10,11,12,13,14,15,16,17,18,19,20,21,22,23,24,25,26,27,28,29,30,31,32,33,34,35,36,37,38,39,40,41,42,43,44,45,46,47,48,49,50,51,52,53,54,55,56,57,58,59,60,61,62,63,64,65,66,67,68,69,70,71,72,73,74,75,76,77,78,79,80,81,82,83,84,85,86,87,88,89,90,91,92,93,94,95,96,97,98,99,100,101,102,103,104,105,106,107,108,109,110,111,112,113,114,115,116,117,118,119,120,121,122,123,124,125,126,127,128,129,130,131,132,133,134,135,136,137,138,139,140,141,142,143,144,145,146,147,148,149,150,151,152,153,154,155,156,157,158,159,160,161,162,163,164,165,166,167,168,169,170,171,172,173,174,175,176,177,178,179,180,181,182,183,184,185,186,187,188,189,190,191,192,193,194,195,196,197,198,199,200,201,202,203,204,205,206,207,208,209,210,211,212,213,214,215,216,217,218,219,220,221,222,223,224,225,226,227,228,229,230,231,232,233,234,235,236,237,238,239,240,241,242,243,244,245,246,247,248,249,250,251,252,253,254,255,256,257,258,259,260,261,262,263,264,265,266,267,268,269,270,271,272,273,274,275,276,277,278,279,280,281,282,283,284,285,286,287,288,289,290,291,292,293,294,295,296,297,298,299,300,301,302,303,304,305,306,307,308,309,310,311,312,313,314,315,316,317,318,319,320,321,322,323,324,325,326,327,328,329,330,331,332,333,334,335,336,337,338,339,340,341,342,343,344,345,346,347,348,349,350,351,352,353,354,355,356,357,358,359,360,361,362,363,364,365,366,367,368,369,370,371,372,373,374,375,376,377,378,379,380,381,382,383,384,385,386,387,388,389,390,391,392,393,394,395,396,397,398,399,400],\"legendgroup\":\"\",\"marker\":{\"color\":[1,2,3,4,5,6,7,8,9,10,11,12,13,14,15,16,17,18,19,20,21,22,23,24,25,26,27,28,29,30,31,32,33,34,35,36,37,38,39,40,41,42,43,44,45,46,47,48,49,50,51,52,53,54,55,56,57,58,59,60,61,62,63,64,65,66,67,68,69,70,71,72,73,74,75,76,77,78,79,80,81,82,83,84,85,86,87,88,89,90,91,92,93,94,95,96,97,98,99,100,101,102,103,104,105,106,107,108,109,110,111,112,113,114,115,116,117,118,119,120,121,122,123,124,125,126,127,128,129,130,131,132,133,134,135,136,137,138,139,140,141,142,143,144,145,146,147,148,149,150,151,152,153,154,155,156,157,158,159,160,161,162,163,164,165,166,167,168,169,170,171,172,173,174,175,176,177,178,179,180,181,182,183,184,185,186,187,188,189,190,191,192,193,194,195,196,197,198,199,200,201,202,203,204,205,206,207,208,209,210,211,212,213,214,215,216,217,218,219,220,221,222,223,224,225,226,227,228,229,230,231,232,233,234,235,236,237,238,239,240,241,242,243,244,245,246,247,248,249,250,251,252,253,254,255,256,257,258,259,260,261,262,263,264,265,266,267,268,269,270,271,272,273,274,275,276,277,278,279,280,281,282,283,284,285,286,287,288,289,290,291,292,293,294,295,296,297,298,299,300,301,302,303,304,305,306,307,308,309,310,311,312,313,314,315,316,317,318,319,320,321,322,323,324,325,326,327,328,329,330,331,332,333,334,335,336,337,338,339,340,341,342,343,344,345,346,347,348,349,350,351,352,353,354,355,356,357,358,359,360,361,362,363,364,365,366,367,368,369,370,371,372,373,374,375,376,377,378,379,380,381,382,383,384,385,386,387,388,389,390,391,392,393,394,395,396,397,398,399,400],\"coloraxis\":\"coloraxis\",\"pattern\":{\"shape\":\"\"}},\"name\":\"\",\"offsetgroup\":\"\",\"orientation\":\"v\",\"showlegend\":false,\"textposition\":\"auto\",\"x\":[1,2,3,4,5,6,7,8,9,10,11,12,13,14,15,16,17,18,19,20,21,22,23,24,25,26,27,28,29,30,31,32,33,34,35,36,37,38,39,40,41,42,43,44,45,46,47,48,49,50,51,52,53,54,55,56,57,58,59,60,61,62,63,64,65,66,67,68,69,70,71,72,73,74,75,76,77,78,79,80,81,82,83,84,85,86,87,88,89,90,91,92,93,94,95,96,97,98,99,100,101,102,103,104,105,106,107,108,109,110,111,112,113,114,115,116,117,118,119,120,121,122,123,124,125,126,127,128,129,130,131,132,133,134,135,136,137,138,139,140,141,142,143,144,145,146,147,148,149,150,151,152,153,154,155,156,157,158,159,160,161,162,163,164,165,166,167,168,169,170,171,172,173,174,175,176,177,178,179,180,181,182,183,184,185,186,187,188,189,190,191,192,193,194,195,196,197,198,199,200,201,202,203,204,205,206,207,208,209,210,211,212,213,214,215,216,217,218,219,220,221,222,223,224,225,226,227,228,229,230,231,232,233,234,235,236,237,238,239,240,241,242,243,244,245,246,247,248,249,250,251,252,253,254,255,256,257,258,259,260,261,262,263,264,265,266,267,268,269,270,271,272,273,274,275,276,277,278,279,280,281,282,283,284,285,286,287,288,289,290,291,292,293,294,295,296,297,298,299,300,301,302,303,304,305,306,307,308,309,310,311,312,313,314,315,316,317,318,319,320,321,322,323,324,325,326,327,328,329,330,331,332,333,334,335,336,337,338,339,340,341,342,343,344,345,346,347,348,349,350,351,352,353,354,355,356,357,358,359,360,361,362,363,364,365,366,367,368,369,370,371,372,373,374,375,376,377,378,379,380,381,382,383,384,385,386,387,388,389,390,391,392,393,394,395,396,397,398,399,400],\"xaxis\":\"x\",\"y\":[276001,200752,164307,157221,146657,142014,132031,129395,134502,124902,124581,120065,120533,121032,111601,108243,109738,107909,104601,101961,101492,100734,100452,97248,97064,95835,94441,94427,92553,91650,95437,92266,92136,103163,98738,97898,100397,99077,96933,99138,98396,98627,99893,96798,96559,99004,97532,96272,98564,96226,98058,96771,96799,95172,98024,97809,96099,97890,97683,95531,107399,96855,95425,98856,99433,101891,160778,124845,117581,122049,128507,120071,124873,119753,116383,120298,117644,116306,118313,113278,113507,111780,118133,110741,114066,110112,107894,107824,107338,104512,117143,107289,110404,108051,110813,107642,108108,103091,102253,101122,102447,98885,103721,96380,95049,99387,93531,91800,89760,89639,88101,89096,85702,80034,81525,81213,76445,76306,74727,73664,79109,70559,69366,67365,67994,67518,70706,74867,71764,66631,63396,60275,59183,58048,57049,57909,54518,54449,55168,52786,53046,50428,50331,48421,48993,48745,48137,47623,45963,46607,54651,45476,46658,44584,46830,44380,44817,43082,42154,41628,43634,42585,41671,41252,42075,41031,39626,39414,40600,39268,42470,39711,40452,43881,40758,43037,43723,39404,40200,40400,42332,39752,38272,38448,39157,38216,39968,36381,34879,35972,34046,32630,34258,32332,31287,32094,31117,30137,29431,31451,30076,28826,29487,28570,28381,27373,27659,27152,27087,26945,29791,26940,25627,25795,25282,24858,24667,23581,23006,22681,22821,21822,22532,21146,21443,23368,20347,20641,19933,19702,19917,18766,18505,18883,18105,18406,17791,18067,16742,16784,17766,15856,15444,15229,15365,15293,14422,14550,14295,14388,15196,13437,13476,12800,13071,12336,12211,11993,11659,11504,11432,10956,11175,10779,10762,10874,10322,10203,9927,9955,10356,9446,9540,9469,9765,9651,9206,9024,8831,8661,9068,8693,8486,8567,8449,8329,8049,8102,7937,7789,7649,7736,7896,7574,7410,7407,7320,7124,7107,7527,9379,6987,7106,7014,6917,6826,6903,6655,6454,6463,6407,6388,6421,6157,6116,6292,5928,5926,5648,5775,5571,5413,5547,5340,5431,5776,5237,5042,5153,4903,5227,4873,4833,4937,4836,4874,4736,4672,4557,4535,4496,4402,4362,4351,4133,4255,4317,4128,4162,4307,4662,4240,3954,4012,3837,3856,3849,3754,3980,3677,4179,3634,3661,3498,3704,3544,3468,3402,3347,3343,3343,3235,3294,3275,3339,3637,3150,3102,3033,2954,3044,3069,2957,2860,2944,3065,2862,2780,2739,2799,3056,2710,2714,2665,2574,2694,2653,2610,2582,323219],\"yaxis\":\"y\",\"type\":\"bar\"}],\"name\":\"2021\"},{\"data\":[{\"alignmentgroup\":\"True\",\"hovertemplate\":\"year=2022\\u003cbr\\u003erank=%{marker.color}\\u003cbr\\u003evalue=%{y}\\u003cextra\\u003e\\u003c\\u002fextra\\u003e\",\"ids\":[1,2,3,4,5,6,7,8,9,10,11,12,13,14,15,16,17,18,19,20,21,22,23,24,25,26,27,28,29,30,31,32,33,34,35,36,37,38,39,40,41,42,43,44,45,46,47,48,49,50,51,52,53,54,55,56,57,58,59,60,61,62,63,64,65,66,67,68,69,70,71,72,73,74,75,76,77,78,79,80,81,82,83,84,85,86,87,88,89,90,91,92,93,94,95,96,97,98,99,100,101,102,103,104,105,106,107,108,109,110,111,112,113,114,115,116,117,118,119,120,121,122,123,124,125,126,127,128,129,130,131,132,133,134,135,136,137,138,139,140,141,142,143,144,145,146,147,148,149,150,151,152,153,154,155,156,157,158,159,160,161,162,163,164,165,166,167,168,169,170,171,172,173,174,175,176,177,178,179,180,181,182,183,184,185,186,187,188,189,190,191,192,193,194,195,196,197,198,199,200,201,202,203,204,205,206,207,208,209,210,211,212,213,214,215,216,217,218,219,220,221,222,223,224,225,226,227,228,229,230,231,232,233,234,235,236,237,238,239,240,241,242,243,244,245,246,247,248,249,250,251,252,253,254,255,256,257,258,259,260,261,262,263,264,265,266,267,268,269,270,271,272,273,274,275,276,277,278,279,280,281,282,283,284,285,286,287,288,289,290,291,292,293,294,295,296,297,298,299,300,301,302,303,304,305,306,307,308,309,310,311,312,313,314,315,316,317,318,319,320,321,322,323,324,325,326,327,328,329,330,331,332,333,334,335,336,337,338,339,340,341,342,343,344,345,346,347,348,349,350,351,352,353,354,355,356,357,358,359,360,361,362,363,364,365,366,367,368,369,370,371,372,373,374,375,376,377,378,379,380,381,382,383,384,385,386,387,388,389,390,391,392,393,394,395,396,397,398,399,400],\"legendgroup\":\"\",\"marker\":{\"color\":[1,2,3,4,5,6,7,8,9,10,11,12,13,14,15,16,17,18,19,20,21,22,23,24,25,26,27,28,29,30,31,32,33,34,35,36,37,38,39,40,41,42,43,44,45,46,47,48,49,50,51,52,53,54,55,56,57,58,59,60,61,62,63,64,65,66,67,68,69,70,71,72,73,74,75,76,77,78,79,80,81,82,83,84,85,86,87,88,89,90,91,92,93,94,95,96,97,98,99,100,101,102,103,104,105,106,107,108,109,110,111,112,113,114,115,116,117,118,119,120,121,122,123,124,125,126,127,128,129,130,131,132,133,134,135,136,137,138,139,140,141,142,143,144,145,146,147,148,149,150,151,152,153,154,155,156,157,158,159,160,161,162,163,164,165,166,167,168,169,170,171,172,173,174,175,176,177,178,179,180,181,182,183,184,185,186,187,188,189,190,191,192,193,194,195,196,197,198,199,200,201,202,203,204,205,206,207,208,209,210,211,212,213,214,215,216,217,218,219,220,221,222,223,224,225,226,227,228,229,230,231,232,233,234,235,236,237,238,239,240,241,242,243,244,245,246,247,248,249,250,251,252,253,254,255,256,257,258,259,260,261,262,263,264,265,266,267,268,269,270,271,272,273,274,275,276,277,278,279,280,281,282,283,284,285,286,287,288,289,290,291,292,293,294,295,296,297,298,299,300,301,302,303,304,305,306,307,308,309,310,311,312,313,314,315,316,317,318,319,320,321,322,323,324,325,326,327,328,329,330,331,332,333,334,335,336,337,338,339,340,341,342,343,344,345,346,347,348,349,350,351,352,353,354,355,356,357,358,359,360,361,362,363,364,365,366,367,368,369,370,371,372,373,374,375,376,377,378,379,380,381,382,383,384,385,386,387,388,389,390,391,392,393,394,395,396,397,398,399,400],\"coloraxis\":\"coloraxis\",\"pattern\":{\"shape\":\"\"}},\"name\":\"\",\"offsetgroup\":\"\",\"orientation\":\"v\",\"showlegend\":false,\"textposition\":\"auto\",\"x\":[1,2,3,4,5,6,7,8,9,10,11,12,13,14,15,16,17,18,19,20,21,22,23,24,25,26,27,28,29,30,31,32,33,34,35,36,37,38,39,40,41,42,43,44,45,46,47,48,49,50,51,52,53,54,55,56,57,58,59,60,61,62,63,64,65,66,67,68,69,70,71,72,73,74,75,76,77,78,79,80,81,82,83,84,85,86,87,88,89,90,91,92,93,94,95,96,97,98,99,100,101,102,103,104,105,106,107,108,109,110,111,112,113,114,115,116,117,118,119,120,121,122,123,124,125,126,127,128,129,130,131,132,133,134,135,136,137,138,139,140,141,142,143,144,145,146,147,148,149,150,151,152,153,154,155,156,157,158,159,160,161,162,163,164,165,166,167,168,169,170,171,172,173,174,175,176,177,178,179,180,181,182,183,184,185,186,187,188,189,190,191,192,193,194,195,196,197,198,199,200,201,202,203,204,205,206,207,208,209,210,211,212,213,214,215,216,217,218,219,220,221,222,223,224,225,226,227,228,229,230,231,232,233,234,235,236,237,238,239,240,241,242,243,244,245,246,247,248,249,250,251,252,253,254,255,256,257,258,259,260,261,262,263,264,265,266,267,268,269,270,271,272,273,274,275,276,277,278,279,280,281,282,283,284,285,286,287,288,289,290,291,292,293,294,295,296,297,298,299,300,301,302,303,304,305,306,307,308,309,310,311,312,313,314,315,316,317,318,319,320,321,322,323,324,325,326,327,328,329,330,331,332,333,334,335,336,337,338,339,340,341,342,343,344,345,346,347,348,349,350,351,352,353,354,355,356,357,358,359,360,361,362,363,364,365,366,367,368,369,370,371,372,373,374,375,376,377,378,379,380,381,382,383,384,385,386,387,388,389,390,391,392,393,394,395,396,397,398,399,400],\"xaxis\":\"x\",\"y\":[244376,186871,155482,149360,139655,134279,130587,122041,118030,116177,110827,107977,106894,104329,99798,99066,95532,98165,97345,92953,91646,90797,90310,88536,88406,86515,85856,85277,83932,82681,85658,82149,82127,83671,90100,93561,94046,90060,90428,91224,90147,91156,91988,90626,89511,93232,90727,90673,92822,89830,89909,90119,95431,90709,94250,92758,92817,94145,94252,94389,105331,96337,95227,97389,96715,97367,101369,101658,104100,154908,154522,132776,139144,134348,132556,133850,129649,129962,131813,129838,129351,126253,135376,125571,129406,121615,120251,120816,120807,120803,129898,118063,119860,115445,123784,117705,116736,114958,114461,111952,113849,111139,115128,107993,107088,109134,103615,103279,101778,101889,97934,99926,98223,91196,92455,92072,88189,86555,83358,86228,88622,77629,77031,75273,76757,75506,73566,71938,70077,69911,68204,66733,65356,70358,73597,72497,65564,62222,61270,59947,60193,57623,56122,53653,53785,52592,51514,50727,49617,48972,57081,48329,47517,46724,47206,46303,46818,46182,44831,45534,47552,44507,44056,42414,43024,43559,42465,41802,41376,43061,41010,40316,40289,39001,39881,42910,43847,41124,41876,43428,47861,41465,42432,41039,39543,41446,39377,39339,38048,40186,39859,38075,38214,38030,37512,35804,35239,33549,33832,34384,33935,32587,32802,32143,31548,30622,29668,29017,28288,28502,31212,27826,28303,27350,27602,27325,27454,26586,26980,27057,26071,26776,24928,23419,24733,25679,23568,22896,23173,22127,22650,21172,20854,21188,20916,20344,19740,19764,18918,18769,19815,18597,18044,17908,18120,17885,17013,17063,16520,16925,17432,15432,15660,14918,14739,14620,14074,14163,13907,13683,13419,12690,12881,12174,11933,12236,11786,11675,11263,11135,11828,10838,10794,10536,10864,10898,10271,9999,9993,9862,9890,9547,9600,9520,9466,9106,9049,9008,8697,8628,8799,8497,8575,8318,8230,8149,8005,8282,7894,8299,10245,7859,7566,7591,7495,7434,7333,7400,7317,7212,7154,6956,7106,7093,7000,6897,6701,6771,6533,6538,6352,6549,6490,6145,6361,6682,6067,5960,5908,5849,6053,5696,5711,5587,5495,5527,5252,5361,5013,5217,5187,5056,4994,4849,4801,5016,4795,4877,4676,4886,5316,4656,4583,4573,4455,4421,4474,4531,4263,4291,4808,4220,3988,4073,3916,3980,3865,3832,3894,3993,3926,3741,3734,3747,3717,4137,3676,3648,3560,3382,3517,3521,3432,3293,3434,3334,3290,3152,3238,3162,3402,3085,3039,3057,3018,2959,3151,3090,2951,3013],\"yaxis\":\"y\",\"type\":\"bar\"}],\"name\":\"2022\"}]);\n",
              "                        }).then(function(){\n",
              "                            \n",
              "var gd = document.getElementById('9784c215-b3a6-4ff8-814c-37db8090ef02');\n",
              "var x = new MutationObserver(function (mutations, observer) {{\n",
              "        var display = window.getComputedStyle(gd).display;\n",
              "        if (!display || display === 'none') {{\n",
              "            console.log([gd, 'removed!']);\n",
              "            Plotly.purge(gd);\n",
              "            observer.disconnect();\n",
              "        }}\n",
              "}});\n",
              "\n",
              "// Listen for the removal of the full notebook cells\n",
              "var notebookContainer = gd.closest('#notebook-container');\n",
              "if (notebookContainer) {{\n",
              "    x.observe(notebookContainer, {childList: true});\n",
              "}}\n",
              "\n",
              "// Listen for the clearing of the current output cell\n",
              "var outputEl = gd.closest('.output');\n",
              "if (outputEl) {{\n",
              "    x.observe(outputEl, {childList: true});\n",
              "}}\n",
              "\n",
              "                        })                };                            </script>        </div>\n",
              "</body>\n",
              "</html>"
            ]
          },
          "metadata": {}
        }
      ]
    },
    {
      "cell_type": "code",
      "source": [
        "# NOs da problemas Orange3 con los años, hay que trabajarlos.\n",
        "import datetime as td\n",
        "pd.to_datetime('2018', format='%Y')"
      ],
      "metadata": {
        "colab": {
          "base_uri": "https://localhost:8080/"
        },
        "id": "B0RrEXK1fZ8s",
        "outputId": "ec82eadb-d167-40a7-a1ea-424c6015ca20"
      },
      "execution_count": 64,
      "outputs": [
        {
          "output_type": "execute_result",
          "data": {
            "text/plain": [
              "Timestamp('2018-01-01 00:00:00')"
            ]
          },
          "metadata": {},
          "execution_count": 64
        }
      ]
    },
    {
      "cell_type": "code",
      "source": [
        "data2['year'] = pd.to_datetime(data2['year'], format='%Y')"
      ],
      "metadata": {
        "id": "1Is_F7sCgt0d"
      },
      "execution_count": 67,
      "outputs": []
    },
    {
      "cell_type": "code",
      "source": [
        "data2.head()"
      ],
      "metadata": {
        "colab": {
          "base_uri": "https://localhost:8080/",
          "height": 206
        },
        "id": "4JCcN_zlg-XZ",
        "outputId": "e9640f41-604e-4162-90b5-408e28928a21"
      },
      "execution_count": 68,
      "outputs": [
        {
          "output_type": "execute_result",
          "data": {
            "text/plain": [
              "   rank      value       year category\n",
              "0     1   29541615 2001-01-01   Salary\n",
              "1     2   72965628 2001-01-01   Salary\n",
              "2     3  118397894 2001-01-01   Salary\n",
              "3     4  149288420 2001-01-01   Salary\n",
              "4     5  187829221 2001-01-01   Salary"
            ],
            "text/html": [
              "\n",
              "  <div id=\"df-6968c1e0-fa30-4657-8d28-3b7a2bd1ccba\" class=\"colab-df-container\">\n",
              "    <div>\n",
              "<style scoped>\n",
              "    .dataframe tbody tr th:only-of-type {\n",
              "        vertical-align: middle;\n",
              "    }\n",
              "\n",
              "    .dataframe tbody tr th {\n",
              "        vertical-align: top;\n",
              "    }\n",
              "\n",
              "    .dataframe thead th {\n",
              "        text-align: right;\n",
              "    }\n",
              "</style>\n",
              "<table border=\"1\" class=\"dataframe\">\n",
              "  <thead>\n",
              "    <tr style=\"text-align: right;\">\n",
              "      <th></th>\n",
              "      <th>rank</th>\n",
              "      <th>value</th>\n",
              "      <th>year</th>\n",
              "      <th>category</th>\n",
              "    </tr>\n",
              "  </thead>\n",
              "  <tbody>\n",
              "    <tr>\n",
              "      <th>0</th>\n",
              "      <td>1</td>\n",
              "      <td>29541615</td>\n",
              "      <td>2001-01-01</td>\n",
              "      <td>Salary</td>\n",
              "    </tr>\n",
              "    <tr>\n",
              "      <th>1</th>\n",
              "      <td>2</td>\n",
              "      <td>72965628</td>\n",
              "      <td>2001-01-01</td>\n",
              "      <td>Salary</td>\n",
              "    </tr>\n",
              "    <tr>\n",
              "      <th>2</th>\n",
              "      <td>3</td>\n",
              "      <td>118397894</td>\n",
              "      <td>2001-01-01</td>\n",
              "      <td>Salary</td>\n",
              "    </tr>\n",
              "    <tr>\n",
              "      <th>3</th>\n",
              "      <td>4</td>\n",
              "      <td>149288420</td>\n",
              "      <td>2001-01-01</td>\n",
              "      <td>Salary</td>\n",
              "    </tr>\n",
              "    <tr>\n",
              "      <th>4</th>\n",
              "      <td>5</td>\n",
              "      <td>187829221</td>\n",
              "      <td>2001-01-01</td>\n",
              "      <td>Salary</td>\n",
              "    </tr>\n",
              "  </tbody>\n",
              "</table>\n",
              "</div>\n",
              "    <div class=\"colab-df-buttons\">\n",
              "\n",
              "  <div class=\"colab-df-container\">\n",
              "    <button class=\"colab-df-convert\" onclick=\"convertToInteractive('df-6968c1e0-fa30-4657-8d28-3b7a2bd1ccba')\"\n",
              "            title=\"Convert this dataframe to an interactive table.\"\n",
              "            style=\"display:none;\">\n",
              "\n",
              "  <svg xmlns=\"http://www.w3.org/2000/svg\" height=\"24px\" viewBox=\"0 -960 960 960\">\n",
              "    <path d=\"M120-120v-720h720v720H120Zm60-500h600v-160H180v160Zm220 220h160v-160H400v160Zm0 220h160v-160H400v160ZM180-400h160v-160H180v160Zm440 0h160v-160H620v160ZM180-180h160v-160H180v160Zm440 0h160v-160H620v160Z\"/>\n",
              "  </svg>\n",
              "    </button>\n",
              "\n",
              "  <style>\n",
              "    .colab-df-container {\n",
              "      display:flex;\n",
              "      gap: 12px;\n",
              "    }\n",
              "\n",
              "    .colab-df-convert {\n",
              "      background-color: #E8F0FE;\n",
              "      border: none;\n",
              "      border-radius: 50%;\n",
              "      cursor: pointer;\n",
              "      display: none;\n",
              "      fill: #1967D2;\n",
              "      height: 32px;\n",
              "      padding: 0 0 0 0;\n",
              "      width: 32px;\n",
              "    }\n",
              "\n",
              "    .colab-df-convert:hover {\n",
              "      background-color: #E2EBFA;\n",
              "      box-shadow: 0px 1px 2px rgba(60, 64, 67, 0.3), 0px 1px 3px 1px rgba(60, 64, 67, 0.15);\n",
              "      fill: #174EA6;\n",
              "    }\n",
              "\n",
              "    .colab-df-buttons div {\n",
              "      margin-bottom: 4px;\n",
              "    }\n",
              "\n",
              "    [theme=dark] .colab-df-convert {\n",
              "      background-color: #3B4455;\n",
              "      fill: #D2E3FC;\n",
              "    }\n",
              "\n",
              "    [theme=dark] .colab-df-convert:hover {\n",
              "      background-color: #434B5C;\n",
              "      box-shadow: 0px 1px 3px 1px rgba(0, 0, 0, 0.15);\n",
              "      filter: drop-shadow(0px 1px 2px rgba(0, 0, 0, 0.3));\n",
              "      fill: #FFFFFF;\n",
              "    }\n",
              "  </style>\n",
              "\n",
              "    <script>\n",
              "      const buttonEl =\n",
              "        document.querySelector('#df-6968c1e0-fa30-4657-8d28-3b7a2bd1ccba button.colab-df-convert');\n",
              "      buttonEl.style.display =\n",
              "        google.colab.kernel.accessAllowed ? 'block' : 'none';\n",
              "\n",
              "      async function convertToInteractive(key) {\n",
              "        const element = document.querySelector('#df-6968c1e0-fa30-4657-8d28-3b7a2bd1ccba');\n",
              "        const dataTable =\n",
              "          await google.colab.kernel.invokeFunction('convertToInteractive',\n",
              "                                                    [key], {});\n",
              "        if (!dataTable) return;\n",
              "\n",
              "        const docLinkHtml = 'Like what you see? Visit the ' +\n",
              "          '<a target=\"_blank\" href=https://colab.research.google.com/notebooks/data_table.ipynb>data table notebook</a>'\n",
              "          + ' to learn more about interactive tables.';\n",
              "        element.innerHTML = '';\n",
              "        dataTable['output_type'] = 'display_data';\n",
              "        await google.colab.output.renderOutput(dataTable, element);\n",
              "        const docLink = document.createElement('div');\n",
              "        docLink.innerHTML = docLinkHtml;\n",
              "        element.appendChild(docLink);\n",
              "      }\n",
              "    </script>\n",
              "  </div>\n",
              "\n",
              "\n",
              "<div id=\"df-1e4b652e-5263-445a-a1a2-54e74adf9f3c\">\n",
              "  <button class=\"colab-df-quickchart\" onclick=\"quickchart('df-1e4b652e-5263-445a-a1a2-54e74adf9f3c')\"\n",
              "            title=\"Suggest charts\"\n",
              "            style=\"display:none;\">\n",
              "\n",
              "<svg xmlns=\"http://www.w3.org/2000/svg\" height=\"24px\"viewBox=\"0 0 24 24\"\n",
              "     width=\"24px\">\n",
              "    <g>\n",
              "        <path d=\"M19 3H5c-1.1 0-2 .9-2 2v14c0 1.1.9 2 2 2h14c1.1 0 2-.9 2-2V5c0-1.1-.9-2-2-2zM9 17H7v-7h2v7zm4 0h-2V7h2v10zm4 0h-2v-4h2v4z\"/>\n",
              "    </g>\n",
              "</svg>\n",
              "  </button>\n",
              "\n",
              "<style>\n",
              "  .colab-df-quickchart {\n",
              "      --bg-color: #E8F0FE;\n",
              "      --fill-color: #1967D2;\n",
              "      --hover-bg-color: #E2EBFA;\n",
              "      --hover-fill-color: #174EA6;\n",
              "      --disabled-fill-color: #AAA;\n",
              "      --disabled-bg-color: #DDD;\n",
              "  }\n",
              "\n",
              "  [theme=dark] .colab-df-quickchart {\n",
              "      --bg-color: #3B4455;\n",
              "      --fill-color: #D2E3FC;\n",
              "      --hover-bg-color: #434B5C;\n",
              "      --hover-fill-color: #FFFFFF;\n",
              "      --disabled-bg-color: #3B4455;\n",
              "      --disabled-fill-color: #666;\n",
              "  }\n",
              "\n",
              "  .colab-df-quickchart {\n",
              "    background-color: var(--bg-color);\n",
              "    border: none;\n",
              "    border-radius: 50%;\n",
              "    cursor: pointer;\n",
              "    display: none;\n",
              "    fill: var(--fill-color);\n",
              "    height: 32px;\n",
              "    padding: 0;\n",
              "    width: 32px;\n",
              "  }\n",
              "\n",
              "  .colab-df-quickchart:hover {\n",
              "    background-color: var(--hover-bg-color);\n",
              "    box-shadow: 0 1px 2px rgba(60, 64, 67, 0.3), 0 1px 3px 1px rgba(60, 64, 67, 0.15);\n",
              "    fill: var(--button-hover-fill-color);\n",
              "  }\n",
              "\n",
              "  .colab-df-quickchart-complete:disabled,\n",
              "  .colab-df-quickchart-complete:disabled:hover {\n",
              "    background-color: var(--disabled-bg-color);\n",
              "    fill: var(--disabled-fill-color);\n",
              "    box-shadow: none;\n",
              "  }\n",
              "\n",
              "  .colab-df-spinner {\n",
              "    border: 2px solid var(--fill-color);\n",
              "    border-color: transparent;\n",
              "    border-bottom-color: var(--fill-color);\n",
              "    animation:\n",
              "      spin 1s steps(1) infinite;\n",
              "  }\n",
              "\n",
              "  @keyframes spin {\n",
              "    0% {\n",
              "      border-color: transparent;\n",
              "      border-bottom-color: var(--fill-color);\n",
              "      border-left-color: var(--fill-color);\n",
              "    }\n",
              "    20% {\n",
              "      border-color: transparent;\n",
              "      border-left-color: var(--fill-color);\n",
              "      border-top-color: var(--fill-color);\n",
              "    }\n",
              "    30% {\n",
              "      border-color: transparent;\n",
              "      border-left-color: var(--fill-color);\n",
              "      border-top-color: var(--fill-color);\n",
              "      border-right-color: var(--fill-color);\n",
              "    }\n",
              "    40% {\n",
              "      border-color: transparent;\n",
              "      border-right-color: var(--fill-color);\n",
              "      border-top-color: var(--fill-color);\n",
              "    }\n",
              "    60% {\n",
              "      border-color: transparent;\n",
              "      border-right-color: var(--fill-color);\n",
              "    }\n",
              "    80% {\n",
              "      border-color: transparent;\n",
              "      border-right-color: var(--fill-color);\n",
              "      border-bottom-color: var(--fill-color);\n",
              "    }\n",
              "    90% {\n",
              "      border-color: transparent;\n",
              "      border-bottom-color: var(--fill-color);\n",
              "    }\n",
              "  }\n",
              "</style>\n",
              "\n",
              "  <script>\n",
              "    async function quickchart(key) {\n",
              "      const quickchartButtonEl =\n",
              "        document.querySelector('#' + key + ' button');\n",
              "      quickchartButtonEl.disabled = true;  // To prevent multiple clicks.\n",
              "      quickchartButtonEl.classList.add('colab-df-spinner');\n",
              "      try {\n",
              "        const charts = await google.colab.kernel.invokeFunction(\n",
              "            'suggestCharts', [key], {});\n",
              "      } catch (error) {\n",
              "        console.error('Error during call to suggestCharts:', error);\n",
              "      }\n",
              "      quickchartButtonEl.classList.remove('colab-df-spinner');\n",
              "      quickchartButtonEl.classList.add('colab-df-quickchart-complete');\n",
              "    }\n",
              "    (() => {\n",
              "      let quickchartButtonEl =\n",
              "        document.querySelector('#df-1e4b652e-5263-445a-a1a2-54e74adf9f3c button');\n",
              "      quickchartButtonEl.style.display =\n",
              "        google.colab.kernel.accessAllowed ? 'block' : 'none';\n",
              "    })();\n",
              "  </script>\n",
              "</div>\n",
              "    </div>\n",
              "  </div>\n"
            ]
          },
          "metadata": {},
          "execution_count": 68
        }
      ]
    },
    {
      "cell_type": "code",
      "source": [
        "data2.to_csv('/content/drive/MyDrive/Colab Notebooks/BAT/salary.csv')"
      ],
      "metadata": {
        "id": "R5x1cjH-ZHnW"
      },
      "execution_count": 69,
      "outputs": []
    }
  ]
}