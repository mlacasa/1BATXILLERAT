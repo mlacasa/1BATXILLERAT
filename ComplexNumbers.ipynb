{
  "nbformat": 4,
  "nbformat_minor": 0,
  "metadata": {
    "colab": {
      "provenance": [],
      "authorship_tag": "ABX9TyNwzkZ/Bte4wH6j+txx2+/X",
      "include_colab_link": true
    },
    "kernelspec": {
      "name": "python3",
      "display_name": "Python 3"
    },
    "language_info": {
      "name": "python"
    }
  },
  "cells": [
    {
      "cell_type": "markdown",
      "metadata": {
        "id": "view-in-github",
        "colab_type": "text"
      },
      "source": [
        "<a href=\"https://colab.research.google.com/github/mlacasa/1BATXILLERAT/blob/main/ComplexNumbers.ipynb\" target=\"_parent\"><img src=\"https://colab.research.google.com/assets/colab-badge.svg\" alt=\"Open In Colab\"/></a>"
      ]
    },
    {
      "cell_type": "markdown",
      "source": [
        "# Pràctica amb nombres complexos, $\\mathbb{C}$\n",
        "\n",
        "## Propietats de la suma"
      ],
      "metadata": {
        "id": "QcPz3G6u273t"
      }
    },
    {
      "cell_type": "code",
      "execution_count": 4,
      "metadata": {
        "id": "PGXv_6MT27Lw"
      },
      "outputs": [],
      "source": [
        "# importem llibreria\n",
        "import cmath\n"
      ]
    },
    {
      "cell_type": "code",
      "source": [
        "#definim un nombre complex\n",
        "z_1 = 3+4j"
      ],
      "metadata": {
        "id": "fDiYnIYu3Lih"
      },
      "execution_count": 5,
      "outputs": []
    },
    {
      "cell_type": "code",
      "source": [
        "#avaluem les parts complex number\n",
        "z_1.real"
      ],
      "metadata": {
        "colab": {
          "base_uri": "https://localhost:8080/"
        },
        "id": "P9NTKz3u3QZW",
        "outputId": "60486fd8-85a9-4d81-bc20-421c4cac724a"
      },
      "execution_count": 6,
      "outputs": [
        {
          "output_type": "execute_result",
          "data": {
            "text/plain": [
              "3.0"
            ]
          },
          "metadata": {},
          "execution_count": 6
        }
      ]
    },
    {
      "cell_type": "code",
      "source": [
        "z_1.imag"
      ],
      "metadata": {
        "colab": {
          "base_uri": "https://localhost:8080/"
        },
        "id": "LJ1AUPkf3Tek",
        "outputId": "7e995bb7-8899-44ca-f8f4-4cf9a64d45dd"
      },
      "execution_count": 7,
      "outputs": [
        {
          "output_type": "execute_result",
          "data": {
            "text/plain": [
              "4.0"
            ]
          },
          "metadata": {},
          "execution_count": 7
        }
      ]
    },
    {
      "cell_type": "markdown",
      "source": [
        "## PROPETATS DE LA SUMA"
      ],
      "metadata": {
        "id": "iQmDz8Pp3WYm"
      }
    },
    {
      "cell_type": "code",
      "source": [
        "z_2 = 2+5j"
      ],
      "metadata": {
        "id": "fsvEHq1F3U39"
      },
      "execution_count": 8,
      "outputs": []
    },
    {
      "cell_type": "code",
      "source": [
        "# Propietat conmutativa. Comprobación.\n",
        "z_1 + z_2 == z_2 + z_1"
      ],
      "metadata": {
        "colab": {
          "base_uri": "https://localhost:8080/"
        },
        "id": "3RPO7xx23bgJ",
        "outputId": "562405bf-c34e-470c-c531-eda748e2dce9"
      },
      "execution_count": 9,
      "outputs": [
        {
          "output_type": "execute_result",
          "data": {
            "text/plain": [
              "True"
            ]
          },
          "metadata": {},
          "execution_count": 9
        }
      ]
    },
    {
      "cell_type": "code",
      "source": [
        "z_1+z_2"
      ],
      "metadata": {
        "colab": {
          "base_uri": "https://localhost:8080/"
        },
        "id": "D9EWnLK03gcG",
        "outputId": "d58412a8-e51a-4baa-a0ee-d8f58b848a5e"
      },
      "execution_count": 10,
      "outputs": [
        {
          "output_type": "execute_result",
          "data": {
            "text/plain": [
              "(5+9j)"
            ]
          },
          "metadata": {},
          "execution_count": 10
        }
      ]
    },
    {
      "cell_type": "code",
      "source": [
        "z_2+z_1"
      ],
      "metadata": {
        "colab": {
          "base_uri": "https://localhost:8080/"
        },
        "id": "9GUr7Ed33rLB",
        "outputId": "b7c4f67b-0da6-4f24-ac74-30ce7755c985"
      },
      "execution_count": 11,
      "outputs": [
        {
          "output_type": "execute_result",
          "data": {
            "text/plain": [
              "(5+9j)"
            ]
          },
          "metadata": {},
          "execution_count": 11
        }
      ]
    },
    {
      "cell_type": "code",
      "source": [
        "# Propiedad elemento inverso\n",
        "\n",
        "e =-z_1"
      ],
      "metadata": {
        "id": "xtah4See3sy5"
      },
      "execution_count": 12,
      "outputs": []
    },
    {
      "cell_type": "code",
      "source": [
        "z_1 + e"
      ],
      "metadata": {
        "colab": {
          "base_uri": "https://localhost:8080/"
        },
        "id": "c2wPtR_T32k4",
        "outputId": "c9275b6f-745e-446a-ad34-12b6ad454c34"
      },
      "execution_count": 13,
      "outputs": [
        {
          "output_type": "execute_result",
          "data": {
            "text/plain": [
              "0j"
            ]
          },
          "metadata": {},
          "execution_count": 13
        }
      ]
    },
    {
      "cell_type": "code",
      "source": [
        "# elem neutro\n",
        "n = z_1 + e"
      ],
      "metadata": {
        "id": "_boznXMD3-u5"
      },
      "execution_count": 14,
      "outputs": []
    },
    {
      "cell_type": "code",
      "source": [
        "z_1 + n"
      ],
      "metadata": {
        "colab": {
          "base_uri": "https://localhost:8080/"
        },
        "id": "eiEmX8744Ha-",
        "outputId": "dfa9be0c-2f35-43ef-8db6-a81cc6d31e9a"
      },
      "execution_count": 15,
      "outputs": [
        {
          "output_type": "execute_result",
          "data": {
            "text/plain": [
              "(3+4j)"
            ]
          },
          "metadata": {},
          "execution_count": 15
        }
      ]
    },
    {
      "cell_type": "markdown",
      "source": [
        "# Propietats del producte en $\\mathbb{C}$\n",
        "\n",
        "Elem invers seria per\n",
        "\n",
        "$\\alpha$ + $\\beta$ i\n",
        "\n",
        "element invers:\n",
        "\n",
        "$\\alpha ' = \\frac{\\alpha}{\\alpha^{2} + \\beta^2 }$\n",
        "\n",
        "$\\beta ' = \\frac{- \\beta}{\\alpha^{2} + \\beta^2 }$"
      ],
      "metadata": {
        "id": "sBGYdxIP4R8z"
      }
    },
    {
      "cell_type": "code",
      "source": [
        "z_1"
      ],
      "metadata": {
        "colab": {
          "base_uri": "https://localhost:8080/"
        },
        "id": "UUjRrXR74JKi",
        "outputId": "0861330f-2c3e-4cd3-f0c6-9e4b90133b64"
      },
      "execution_count": 16,
      "outputs": [
        {
          "output_type": "execute_result",
          "data": {
            "text/plain": [
              "(3+4j)"
            ]
          },
          "metadata": {},
          "execution_count": 16
        }
      ]
    },
    {
      "cell_type": "code",
      "source": [
        "# Propietat Conmutativa\n",
        "z_1* z_2 == z_2 * z_1"
      ],
      "metadata": {
        "colab": {
          "base_uri": "https://localhost:8080/"
        },
        "id": "uWfGf6WgGwyh",
        "outputId": "0bd44360-f3df-4186-9f81-2d2638e8d534"
      },
      "execution_count": 17,
      "outputs": [
        {
          "output_type": "execute_result",
          "data": {
            "text/plain": [
              "True"
            ]
          },
          "metadata": {},
          "execution_count": 17
        }
      ]
    },
    {
      "cell_type": "code",
      "source": [
        "z_3 = 3+1j"
      ],
      "metadata": {
        "id": "fkAivPtnG97d"
      },
      "execution_count": 25,
      "outputs": []
    },
    {
      "cell_type": "code",
      "source": [
        "# Propietat associativa\n",
        "\n",
        "z_3 * (z_1 + z_2) == z_3 * z_1 + z_3 * z_2"
      ],
      "metadata": {
        "colab": {
          "base_uri": "https://localhost:8080/"
        },
        "id": "VgjrM4gaHBh4",
        "outputId": "fec0793b-633d-4d50-9ccd-93e6870f2237"
      },
      "execution_count": 26,
      "outputs": [
        {
          "output_type": "execute_result",
          "data": {
            "text/plain": [
              "True"
            ]
          },
          "metadata": {},
          "execution_count": 26
        }
      ]
    },
    {
      "cell_type": "code",
      "source": [
        "z_1**(-1)"
      ],
      "metadata": {
        "colab": {
          "base_uri": "https://localhost:8080/"
        },
        "id": "vZQHCdQP4bQW",
        "outputId": "d3994139-cf1c-4624-958a-9d261eb3c98a"
      },
      "execution_count": 18,
      "outputs": [
        {
          "output_type": "execute_result",
          "data": {
            "text/plain": [
              "(0.12-0.16j)"
            ]
          },
          "metadata": {},
          "execution_count": 18
        }
      ]
    },
    {
      "cell_type": "code",
      "source": [
        "# Segons la fórmula\n",
        "z_1.real / (z_1.real**2 + z_1.imag**2)"
      ],
      "metadata": {
        "colab": {
          "base_uri": "https://localhost:8080/"
        },
        "id": "Br7hGk9e4gxz",
        "outputId": "e9c73979-d9fc-4e99-9bfd-1b0db474e239"
      },
      "execution_count": 19,
      "outputs": [
        {
          "output_type": "execute_result",
          "data": {
            "text/plain": [
              "0.12"
            ]
          },
          "metadata": {},
          "execution_count": 19
        }
      ]
    },
    {
      "cell_type": "code",
      "source": [
        "-z_1.imag / (z_1.real**2 + z_1.imag**2)"
      ],
      "metadata": {
        "colab": {
          "base_uri": "https://localhost:8080/"
        },
        "id": "GN4b6ZGC5iw-",
        "outputId": "9f713e63-ee53-4f53-8cb2-971b6417cf9e"
      },
      "execution_count": 20,
      "outputs": [
        {
          "output_type": "execute_result",
          "data": {
            "text/plain": [
              "-0.16"
            ]
          },
          "metadata": {},
          "execution_count": 20
        }
      ]
    },
    {
      "cell_type": "code",
      "source": [
        "# Invers complex number proof\n",
        "n = z_1 * z_1**(-1)\n",
        "\n",
        "# Llavors n és l'element neutre\n",
        "z_1  * n == z_1"
      ],
      "metadata": {
        "colab": {
          "base_uri": "https://localhost:8080/"
        },
        "id": "7LSoIgGa59_k",
        "outputId": "5be3a307-cbd6-4243-ff62-1d60bfedd52d"
      },
      "execution_count": 29,
      "outputs": [
        {
          "output_type": "execute_result",
          "data": {
            "text/plain": [
              "True"
            ]
          },
          "metadata": {},
          "execution_count": 29
        }
      ]
    },
    {
      "cell_type": "code",
      "source": [
        "# Producte (tal i com es comporta un binomi)\n",
        "z_1 * z_2"
      ],
      "metadata": {
        "colab": {
          "base_uri": "https://localhost:8080/"
        },
        "id": "krOOmaxK6DEW",
        "outputId": "4cea2255-523b-49d6-d260-54c5dda68a00"
      },
      "execution_count": 22,
      "outputs": [
        {
          "output_type": "execute_result",
          "data": {
            "text/plain": [
              "(-14+23j)"
            ]
          },
          "metadata": {},
          "execution_count": 22
        }
      ]
    },
    {
      "cell_type": "code",
      "source": [
        "z_1 , z_2"
      ],
      "metadata": {
        "colab": {
          "base_uri": "https://localhost:8080/"
        },
        "id": "6hKPof8v6_CA",
        "outputId": "a3071676-b36c-498b-fed1-6f10b8f88d74"
      },
      "execution_count": 23,
      "outputs": [
        {
          "output_type": "execute_result",
          "data": {
            "text/plain": [
              "((3+4j), (2+5j))"
            ]
          },
          "metadata": {},
          "execution_count": 23
        }
      ]
    },
    {
      "cell_type": "markdown",
      "source": [
        "## Visió general\n",
        "\n",
        "S'introdueix algunes matemàtiques elementals i trigonometria.\n",
        "\n",
        "Útils i interessants per si mateixos, aquests conceptes obtenen beneficis substancials quan s'estudien les dinàmiques generades mitjançant equacions de diferència lineal o equacions diferencials lineals.\n",
        "\n",
        "Per exemple, aquestes eines són claus per entendre els resultats aconseguits per Paul Samuelson (1939) [[Samuelson, 1939](https://python.quantecon.org/zreferences.html#id87)] al seu article clàssic sobre les interaccions\n",
        "entre l'accelerador d'inversió i la funció de consum keynesiana, la nostra\n",
        "tema a la conferència [Samuelson Multiplier Accelerator](https://python.quantecon.org/samuelson.html).\n",
        "\n",
        "A més de proporcionar les bases per al treball de Samuelson i les extensions de\n",
        "aquesta conferència es pot llegir com un recordatori ràpid autònom dels resultats clau de la trigonometria de secundària.\n",
        "\n",
        "### Nombres complexos $\\mathbb{C}$\n",
        "\n",
        "Un nombre complex té una **part real** $ x $ i una **part purament imaginària** $ y $.\n",
        "\n",
        "Les formes euclidianes, polars i trigonomètriques d'un nombre complex $ z $ són:\n",
        "\n",
        "$z$ Que habtualment es denota el nombre complex.\\\n",
        "$x + iy$ que es denota com forma binómica.\\\n",
        "$r(\\cos{\\theta} + i \\sin{\\theta})$ que es denota com forma trigonomètrica.\\\n",
        "$re^{i\\theta}$ que es denota com forma de potència euler.\n",
        "\n",
        "El complex conjugat $ \\bar z $ de $ z $ es defineix com\n",
        "\n",
        "$$\n",
        "\\bar z = x - iy = r e^{-i \\theta} = r (\\cos{\\theta} - i \\sin{\\theta} )\n",
        "$$\n",
        "\n",
        "El valor $ x $ és la part **real** de $ z $ i $ y $ és el\n",
        "part **imaginària** de $ z $.\n",
        "\n",
        "El símbol $ | z | $ = $ \\sqrt{\\bar{z}\\cdot z} = r $ representa el **mòdul** de $ z $.\n",
        "\n",
        "El valor $ r $ és la distància euclidiana del vector $ (x,y) $ des del\n",
        "origen i el coneixem com el mòdul del vector:\n",
        "\n",
        "$$\n",
        "r = |z| = \\sqrt{x^2 + y^2}\n",
        "$$\n",
        "\n",
        "El valor $ \\theta $ és l'angle (o argument) de $ (x,y) $ respecte a l'eix real.\n",
        "\n",
        "Evidentment, la tangent de $ \\theta $ és $ \\left(\\frac{y}{x}\\right) $.\n",
        "\n",
        "Per tant,\n",
        "\n",
        "$$\n",
        "\\theta = \\tan^{-1} \\Big( \\frac{y}{x} \\Big)\n",
        "$$\n",
        "\n",
        "Tres funcions trigonomètriques elementals són\n",
        "\n",
        "$$\n",
        "\\cos{\\theta} = \\frac{x}{r} = \\frac{e^{i\\theta} + e^{-i\\theta}}{2} , \\quad\n",
        "\\sin{\\theta} = \\frac{y}{r} = \\frac{e^{i\\theta} - e^{-i\\theta}}{2i} , \\quad\n",
        "\\tan{\\theta} = \\frac{y}{x}\n",
        "$$\n",
        "\n",
        "Necessitarem les següents importacions:"
      ],
      "metadata": {
        "id": "7WAzQj3qH_3C"
      }
    },
    {
      "cell_type": "code",
      "source": [
        "import matplotlib.pyplot as plt\n",
        "plt.rcParams[\"figure.figsize\"] = (11, 5)\n",
        "import numpy as np\n",
        "from sympy import (Symbol, symbols, Eq, nsolve, sqrt, cos, sin, simplify,\n",
        "                  init_printing, integrate)"
      ],
      "metadata": {
        "id": "lFOvM2UR7DZJ"
      },
      "execution_count": 30,
      "outputs": []
    },
    {
      "cell_type": "markdown",
      "source": [
        "### Un exemple\n",
        "\n",
        "Considereu el nombre complex $ z = 1 + \\sqrt{3} i $.\n",
        "\n",
        "Per a $ z = 1 + \\sqrt{3}$\n",
        "\n",
        "  $ x = 1 $ part real\n",
        "\n",
        "  $ y = \\sqrt{3} $ part imaginària.\n",
        "\n",
        "Es dedueix que $ r = 2 $ i\n",
        "$ \\theta = \\tan^{-1}(\\sqrt{3}) = \\frac{\\pi}{3} = 60^o $.\n",
        "\n",
        "Utilitzem Python per representar la forma trigonomètrica del nombre complex\n",
        "$ z = 1 + \\sqrt{3} i $."
      ],
      "metadata": {
        "id": "caKEAN9yJuvh"
      }
    },
    {
      "cell_type": "code",
      "source": [
        "\n",
        "π = np.pi # definim nombre pi.\n",
        "\n",
        "\n",
        "# Definim paràmetres\n",
        "r = 2  # mòdul\n",
        "θ = π/3 # angle\n",
        "x = r * np.cos(θ) # part real\n",
        "x_range = np.linspace(0, x, 1000)\n",
        "θ_range = np.linspace(0, θ, 1000)\n",
        "\n",
        "# Plot\n",
        "fig = plt.figure(figsize=(8, 8))  # mida figura\n",
        "ax = plt.subplot(111, projection='polar')\n",
        "\n",
        "ax.plot((0, θ), (0, r), marker='o', color='b')          # Plot r\n",
        "ax.plot(np.zeros(x_range.shape), x_range, color='b')       # Plot x\n",
        "ax.plot(θ_range, x / np.cos(θ_range), color='b')        # Plot y\n",
        "ax.plot(θ_range, np.full(θ_range.shape, 0.1), color='r')  # Plot θ\n",
        "\n",
        "ax.margins(0) # el dibuix inicia a l'origen\n",
        "\n",
        "ax.set_title(\"Representació dels nombres complexos\", va='bottom',\n",
        "    fontsize='x-large')\n",
        "\n",
        "ax.set_rmax(2)\n",
        "ax.set_rticks((0.5, 1, 1.5, 2))  # Menyx radial ticks\n",
        "ax.set_rlabel_position(-88.5)\n",
        "\n",
        "ax.text(θ, r+0.01 , r'$z =  1 + \\sqrt{3}\\, i$')   # Label z\n",
        "ax.text(θ+0.2, 1 , '$r = 2$')                             # Label r\n",
        "ax.text(0-0.2, 0.5, '$x = 1$')                            # Label x\n",
        "ax.text(0.5, 1.2, r'$y = \\sqrt{3}$')                      # Label y\n",
        "ax.text(0.25, 0.15, r'$\\theta = 60^o$')                   # Label θ\n",
        "\n",
        "ax.grid(True)\n",
        "plt.show()"
      ],
      "metadata": {
        "id": "FP-_Hrsk-FgY",
        "colab": {
          "base_uri": "https://localhost:8080/",
          "height": 734
        },
        "outputId": "1f964e0d-8f26-4870-87be-71cea185a120"
      },
      "execution_count": 33,
      "outputs": [
        {
          "output_type": "display_data",
          "data": {
            "text/plain": [
              "<Figure size 800x800 with 1 Axes>"
            ],
            "image/png": "[encoded data removed]"
          },
          "metadata": {}
        }
      ]
    },
    {
      "cell_type": "markdown",
      "source": [
        "## Teorema de De Moivre\n",
        "\n",
        "El teorema de Moivre diu que:\n",
        "\n",
        "$$\n",
        "(r(\\cos{\\theta} + i \\sin{\\theta}))^n =\n",
        "r^n e^{in\\theta} =\n",
        "r^n(\\cos{n\\theta} + i \\sin{n\\theta})\n",
        "$$\n",
        "\n",
        "Per demostrar el teorema de Moivre, tingueu en compte que\n",
        "\n",
        "$$\n",
        "(r(\\cos{\\theta} + i \\sin{\\theta}))^n = \\big( re^{i\\theta} \\big)^n\n",
        "$$\n",
        "\n",
        "i calcular."
      ],
      "metadata": {
        "id": "U1kaQ2R4KkaB"
      }
    },
    {
      "cell_type": "markdown",
      "source": [
        "### Exemple 1\n",
        "\n",
        "Podem utilitzar el teorema de De Moivre per demostrar-ho\n",
        "$ r = \\sqrt{x^2 + y^2} $ que és el mòdul.\n",
        "\n",
        "Tenim\n",
        "\n",
        "$$\n",
        "\\begin{aligned}\n",
        "1 &= e^{i\\theta} e^{-i\\theta} \\\\\n",
        "&= (\\cos{\\theta} + i \\sin{\\theta})(\\cos{(\\text{-}\\theta)} + i \\sin{(\\text{-}\\theta)}) \\\\\n",
        "&= (\\cos{\\theta} + i \\sin{\\theta})(\\cos{\\theta} - i \\sin{\\theta}) \\\\\n",
        "&= \\cos^2{\\theta} + \\sin^2{\\theta} \\\\\n",
        "&= \\frac{x^2}{r^2} + \\frac{y^2}{r^2}\n",
        "\\end{aligned}\n",
        "$$\n",
        "\n",
        "i per tant\n",
        "\n",
        "$$\n",
        "x^2 + y^2 = r^2\n",
        "$$\n",
        "\n",
        "Ho reconeixem com un teorema de **Pitàgores**.\n",
        "\n",
        "\n"
      ],
      "metadata": {
        "id": "9OQMnN0GKvPE"
      }
    },
    {
      "cell_type": "markdown",
      "source": [
        "### Identitats trigonomètriques\n",
        "\n",
        "Podem obtenir un conjunt complet d'identitats trigonomètriques mitjançant\n",
        "manipular adequadament les formes polars de nombres complexos.\n",
        "\n",
        "Aconseguirem molts d'ells deduint implicacions de la igualtat\n",
        "\n",
        "$$\n",
        "e^{i(\\omega + \\theta)} = e^{i\\omega} e^{i\\theta}\n",
        "$$\n",
        "\n",
        "For example, we’ll calculate identities for\n",
        "\n",
        "$ \\cos{(\\omega + \\theta)} $ and $ \\sin{(\\omega + \\theta)} $.\n",
        "\n",
        "Utilitzant les fórmules sinus i cosinus presentades al principi d'aquesta\n",
        "conferència, tenim:\n",
        "\n",
        "$$\n",
        "\\begin{aligned}\n",
        "\\cos{(\\omega + \\theta)} = \\frac{e^{i(\\omega + \\theta)} + e^{-i(\\omega + \\theta)}}{2} \\\\\n",
        "\\sin{(\\omega + \\theta)} = \\frac{e^{i(\\omega + \\theta)} - e^{-i(\\omega + \\theta)}}{2i}\n",
        "\\end{aligned}\n",
        "$$\n",
        "\n",
        "També podem obtenir les identitats trigonomètriques de la següent manera:\n",
        "\n",
        "$$\n",
        "\\begin{aligned}\n",
        "\\cos{(\\omega + \\theta)} + i \\sin{(\\omega + \\theta)}\n",
        "&= e^{i(\\omega + \\theta)} \\\\\n",
        "&= e^{i\\omega} e^{i\\theta} \\\\\n",
        "&= (\\cos{\\omega} + i \\sin{\\omega})(\\cos{\\theta} + i \\sin{\\theta}) \\\\\n",
        "&= (\\cos{\\omega}\\cos{\\theta} - \\sin{\\omega}\\sin{\\theta}) +\n",
        "i (\\cos{\\omega}\\sin{\\theta} + \\sin{\\omega}\\cos{\\theta})\n",
        "\\end{aligned}\n",
        "$$\n",
        "\n",
        "Ja que les parts reals i imaginàries de la fórmula anterior haurien de ser\n",
        "iguals, obtenim:\n",
        "\n",
        "$$\n",
        "\\begin{aligned}\n",
        "\\cos{(\\omega + \\theta)} = \\cos{\\omega}\\cos{\\theta} - \\sin{\\omega}\\sin{\\theta} \\\\\n",
        "\\sin{(\\omega + \\theta)} = \\cos{\\omega}\\sin{\\theta} + \\sin{\\omega}\\cos{\\theta}\n",
        "\\end{aligned}\n",
        "$$\n",
        "\n",
        "Les equacions anteriors també es coneixen com a **identitats de suma d'angles**. Nosaltres\n",
        "pot verificar les equacions utilitzant la funció \"simplificar\" al fitxer\n",
        "paquet \"sympy\":"
      ],
      "metadata": {
        "id": "KT7qF6hXLt7I"
      }
    },
    {
      "cell_type": "code",
      "source": [
        "# Definim els símbols\n",
        "ω, θ = symbols('ω θ', real=True)\n",
        "\n",
        "# Verificació\n",
        "print(\"cos(ω)cos(θ) - sin(ω)sin(θ) =\",\n",
        "    simplify(cos(ω)*cos(θ) - sin(ω) * sin(θ))) # estudiar la funció simplify\n",
        "print(\"cos(ω)sin(θ) + sin(ω)cos(θ) =\",\n",
        "    simplify(cos(ω)*sin(θ) + sin(ω) * cos(θ)))"
      ],
      "metadata": {
        "colab": {
          "base_uri": "https://localhost:8080/"
        },
        "id": "JD5ONAyCMEI9",
        "outputId": "2e4477ef-d07c-4fbd-c53c-c13934e0fa4f"
      },
      "execution_count": 35,
      "outputs": [
        {
          "output_type": "stream",
          "name": "stdout",
          "text": [
            "cos(ω)cos(θ) - sin(ω)sin(θ) = cos(θ + ω)\n",
            "cos(ω)sin(θ) + sin(ω)cos(θ) = sin(θ + ω)\n"
          ]
        }
      ]
    }
  ]
}